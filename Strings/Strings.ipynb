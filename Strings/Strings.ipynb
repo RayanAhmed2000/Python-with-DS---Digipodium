{
 "cells": [
  {
   "cell_type": "markdown",
   "metadata": {},
   "source": [
    "# Concatenation"
   ]
  },
  {
   "cell_type": "code",
   "execution_count": 1,
   "metadata": {},
   "outputs": [
    {
     "name": "stdout",
     "output_type": "stream",
     "text": [
      "applejuice\n",
      "applejuice\n"
     ]
    }
   ],
   "source": [
    "a='apple'\n",
    "b='juice'\n",
    "ab =a+b\n",
    "print (ab)           #print ab\n",
    "print(a+b)"
   ]
  },
  {
   "cell_type": "code",
   "execution_count": 2,
   "metadata": {},
   "outputs": [
    {
     "name": "stdout",
     "output_type": "stream",
     "text": [
      "ThisisAwesome\n",
      "This is Awesome\n"
     ]
    }
   ],
   "source": [
    "w1 = 'This'\n",
    "w2 = 'is'\n",
    "w3 = 'Awesome'\n",
    "msg = w1+w2+w3\n",
    "print(msg)   \n",
    "\n",
    "msg=w1+' '+w2+' '+w3        #adding spaces in between\n",
    "print(msg)   \n",
    "\n",
    "\n",
    "\n"
   ]
  },
  {
   "cell_type": "markdown",
   "metadata": {},
   "source": [
    "# Duplication\n",
    "in python we can multiply a string with an integer to give a sequence of duplocate strings"
   ]
  },
  {
   "cell_type": "code",
   "execution_count": 3,
   "metadata": {},
   "outputs": [
    {
     "name": "stdout",
     "output_type": "stream",
     "text": [
      "Hi Hi Hi Hi \n"
     ]
    }
   ],
   "source": [
    "word = 'Hi '\n",
    "print(4 * word)"
   ]
  },
  {
   "cell_type": "markdown",
   "metadata": {},
   "source": [
    "# Pattern Printing\n",
    "using concept of duplication we can print patterns of strings"
   ]
  },
  {
   "cell_type": "code",
   "execution_count": 4,
   "metadata": {},
   "outputs": [
    {
     "name": "stdout",
     "output_type": "stream",
     "text": [
      "# \n",
      "# # \n",
      "# # # \n",
      "# # # # \n",
      "# # # # # \n"
     ]
    }
   ],
   "source": [
    "for i in range(1,6):\n",
    "    print(i * '# ')"
   ]
  },
  {
   "cell_type": "code",
   "execution_count": 5,
   "metadata": {},
   "outputs": [
    {
     "name": "stdout",
     "output_type": "stream",
     "text": [
      "# # # # # # \n",
      "# # # # # \n",
      "# # # # \n",
      "# # # \n",
      "# # \n",
      "# \n"
     ]
    }
   ],
   "source": [
    "for i in range(6,0,-1):\n",
    "    print(i * '# ')"
   ]
  },
  {
   "cell_type": "markdown",
   "metadata": {},
   "source": [
    "# String Functions"
   ]
  },
  {
   "cell_type": "code",
   "execution_count": 6,
   "metadata": {},
   "outputs": [],
   "source": [
    "name = \"Alex Mason\"\n",
    "age = 50\n",
    "items= ['cherry', 'banana', 'apple']\n"
   ]
  },
  {
   "cell_type": "markdown",
   "metadata": {},
   "source": [
    "# Formatting Functions"
   ]
  },
  {
   "cell_type": "code",
   "execution_count": 7,
   "metadata": {},
   "outputs": [],
   "source": [
    "msg='This is a message from VERY imporTANT person.'"
   ]
  },
  {
   "cell_type": "code",
   "execution_count": 8,
   "metadata": {},
   "outputs": [
    {
     "name": "stdout",
     "output_type": "stream",
     "text": [
      "THIS IS A MESSAGE FROM VERY IMPORTANT PERSON.\n",
      "this is a message from very important person.\n",
      "This Is A Message From Very Important Person.\n",
      "This is a message from very important person.\n",
      "this is a message from very important person.\n",
      "tHIS IS A MESSAGE FROM very IMPORtant PERSON.\n"
     ]
    }
   ],
   "source": [
    "print(msg.upper())\n",
    "print(msg.lower())\n",
    "print(msg.title())\n",
    "print(msg.capitalize())\n",
    "print(msg.casefold())   # same as lower()\n",
    "print(msg.swapcase())\n"
   ]
  },
  {
   "cell_type": "markdown",
   "metadata": {},
   "source": [
    "## Alignment"
   ]
  },
  {
   "cell_type": "code",
   "execution_count": 9,
   "metadata": {},
   "outputs": [
    {
     "name": "stdout",
     "output_type": "stream",
     "text": [
      "This is a message from VERY imporTANT person.\n"
     ]
    }
   ],
   "source": [
    "print(msg)"
   ]
  },
  {
   "cell_type": "code",
   "execution_count": 13,
   "metadata": {},
   "outputs": [
    {
     "name": "stdout",
     "output_type": "stream",
     "text": [
      "This is a message from VERY imporTANT person.                                                       \n"
     ]
    }
   ],
   "source": [
    "print(msg.ljust(100)) #align content left side"
   ]
  },
  {
   "cell_type": "code",
   "execution_count": 12,
   "metadata": {},
   "outputs": [
    {
     "name": "stdout",
     "output_type": "stream",
     "text": [
      "                                                       This is a message from VERY imporTANT person.\n"
     ]
    }
   ],
   "source": [
    "print(msg.rjust(100)) #align content right side"
   ]
  },
  {
   "cell_type": "code",
   "execution_count": 14,
   "metadata": {},
   "outputs": [
    {
     "name": "stdout",
     "output_type": "stream",
     "text": [
      "                 This is a message from VERY imporTANT person.                  \n"
     ]
    }
   ],
   "source": [
    "print(msg.center(80)) #align center    "
   ]
  },
  {
   "cell_type": "markdown",
   "metadata": {},
   "source": [
    "# Split Function"
   ]
  },
  {
   "cell_type": "code",
   "execution_count": 2,
   "metadata": {},
   "outputs": [],
   "source": [
    "longmsg='''\n",
    "Before downloading, please take a moment to review the Hardware and Software requirements section of the User Handbook.\n",
    "Select one of the packages below and follow the download instructions.\n",
    "Once a Jenkins package has been downloaded, proceed to the Installing Jenkins section of the User Handbook.\n",
    "You may also want to verify the package you downloaded. Learn more about verifying Jenkins downloads.\n",
    "'''"
   ]
  },
  {
   "cell_type": "code",
   "execution_count": 3,
   "metadata": {},
   "outputs": [
    {
     "data": {
      "text/plain": [
       "'\\nBefore downloading, please take a moment to review the Hardware and Software requirements section of the User Handbook.\\nSelect one of the packages below and follow the download instructions.\\nOnce a Jenkins package has been downloaded, proceed to the Installing Jenkins section of the User Handbook.\\nYou may also want to verify the package you downloaded. Learn more about verifying Jenkins downloads.\\n'"
      ]
     },
     "execution_count": 3,
     "metadata": {},
     "output_type": "execute_result"
    }
   ],
   "source": [
    "longmsg"
   ]
  },
  {
   "cell_type": "code",
   "execution_count": 29,
   "metadata": {},
   "outputs": [
    {
     "data": {
      "text/plain": [
       "['Before',\n",
       " 'downloading,',\n",
       " 'please',\n",
       " 'take',\n",
       " 'a',\n",
       " 'moment',\n",
       " 'to',\n",
       " 'review',\n",
       " 'the',\n",
       " 'Hardware',\n",
       " 'and',\n",
       " 'Software',\n",
       " 'requirements',\n",
       " 'section',\n",
       " 'of',\n",
       " 'the',\n",
       " 'User',\n",
       " 'Handbook.',\n",
       " 'Select',\n",
       " 'one',\n",
       " 'of',\n",
       " 'the',\n",
       " 'packages',\n",
       " 'below',\n",
       " 'and',\n",
       " 'follow',\n",
       " 'the',\n",
       " 'download',\n",
       " 'instructions.',\n",
       " 'Once',\n",
       " 'a',\n",
       " 'Jenkins',\n",
       " 'package',\n",
       " 'has',\n",
       " 'been',\n",
       " 'downloaded,',\n",
       " 'proceed',\n",
       " 'to',\n",
       " 'the',\n",
       " 'Installing',\n",
       " 'Jenkins',\n",
       " 'section',\n",
       " 'of',\n",
       " 'the',\n",
       " 'User',\n",
       " 'Handbook.',\n",
       " 'You',\n",
       " 'may',\n",
       " 'also',\n",
       " 'want',\n",
       " 'to',\n",
       " 'verify',\n",
       " 'the',\n",
       " 'package',\n",
       " 'you',\n",
       " 'downloaded.',\n",
       " 'Learn',\n",
       " 'more',\n",
       " 'about',\n",
       " 'verifying',\n",
       " 'Jenkins',\n",
       " 'downloads.']"
      ]
     },
     "execution_count": 29,
     "metadata": {},
     "output_type": "execute_result"
    }
   ],
   "source": [
    "longmsg.split() #by default it splits whitespaces"
   ]
  },
  {
   "cell_type": "code",
   "execution_count": 34,
   "metadata": {},
   "outputs": [
    {
     "data": {
      "text/plain": [
       "['Before',\n",
       " 'downloading,',\n",
       " 'please',\n",
       " 'take',\n",
       " 'a',\n",
       " 'moment',\n",
       " 'to review the Hardware and Software requirements section of the User Handbook.\\nSelect one of the packages below and follow the download instructions.\\nOnce a Jenkins package has been downloaded, proceed to the Installing Jenkins section of the User Handbook.\\nYou may also want to verify the package you downloaded. Learn more about verifying Jenkins downloads.\\n']"
      ]
     },
     "execution_count": 34,
     "metadata": {},
     "output_type": "execute_result"
    }
   ],
   "source": [
    "longmsg.split(maxsplit=6)    #after 6 splits left will be in one oart"
   ]
  },
  {
   "cell_type": "code",
   "execution_count": 31,
   "metadata": {},
   "outputs": [
    {
     "data": {
      "text/plain": [
       "['\\nB',\n",
       " 'for',\n",
       " ' downloading, pl',\n",
       " 'as',\n",
       " ' tak',\n",
       " ' a mom',\n",
       " 'nt to r',\n",
       " 'vi',\n",
       " 'w th',\n",
       " ' Hardwar',\n",
       " ' and Softwar',\n",
       " ' r',\n",
       " 'quir',\n",
       " 'm',\n",
       " 'nts s',\n",
       " 'ction of th',\n",
       " ' Us',\n",
       " 'r Handbook.\\nS',\n",
       " 'l',\n",
       " 'ct on',\n",
       " ' of th',\n",
       " ' packag',\n",
       " 's b',\n",
       " 'low and follow th',\n",
       " ' download instructions.\\nOnc',\n",
       " ' a J',\n",
       " 'nkins packag',\n",
       " ' has b',\n",
       " '',\n",
       " 'n download',\n",
       " 'd, proc',\n",
       " '',\n",
       " 'd to th',\n",
       " ' Installing J',\n",
       " 'nkins s',\n",
       " 'ction of th',\n",
       " ' Us',\n",
       " 'r Handbook.\\nYou may also want to v',\n",
       " 'rify th',\n",
       " ' packag',\n",
       " ' you download',\n",
       " 'd. L',\n",
       " 'arn mor',\n",
       " ' about v',\n",
       " 'rifying J',\n",
       " 'nkins downloads.\\n']"
      ]
     },
     "execution_count": 31,
     "metadata": {},
     "output_type": "execute_result"
    }
   ],
   "source": [
    "longmsg.split('e') #splits where e is encountered"
   ]
  },
  {
   "cell_type": "code",
   "execution_count": 32,
   "metadata": {},
   "outputs": [
    {
     "data": {
      "text/plain": [
       "['',\n",
       " 'Before downloading, please take a moment to review the Hardware and Software requirements section of the User Handbook.',\n",
       " 'Select one of the packages below and follow the download instructions.',\n",
       " 'Once a Jenkins package has been downloaded, proceed to the Installing Jenkins section of the User Handbook.',\n",
       " 'You may also want to verify the package you downloaded. Learn more about verifying Jenkins downloads.',\n",
       " '']"
      ]
     },
     "execution_count": 32,
     "metadata": {},
     "output_type": "execute_result"
    }
   ],
   "source": [
    "longmsg.split('\\n')"
   ]
  },
  {
   "cell_type": "code",
   "execution_count": 35,
   "metadata": {},
   "outputs": [
    {
     "name": "stdout",
     "output_type": "stream",
     "text": [
      "\n",
      "Before downloading, please take a moment to review the Hardware and Software requirements section of the User Handbook.\n",
      "Select one of the packages below and follow the download instructions.\n",
      "Once a Jenkins package has been downloaded, proceed to the Installing Jenkins section of the User Handbook.\n",
      "You may also want to verify the package you downloaded. Learn more about verifying Jenkins downloads.\n",
      "\n",
      "\n",
      "Before downloading, please take a moment to review the Hardware and Software requirements section of the User Handbook.\n",
      "Select one of the packages below and follow the download instructions.\n",
      "Once a Jenkins package has been downloaded, proceed to the Installing Jenkins section of the User Handbook.\n",
      "You may also want to verify the package you downloaded. Learn more about verifying Jenkins downloads.\n",
      "\n",
      "\n",
      "Before downloading, please take a moment to review the Hardware and Software requirements section of the User Handbook.\n",
      "Select one of the packages below and follow the download instructions.\n",
      "Once a Jenkins package has been downloaded, proceed to the Installing Jenkins section of the User Handbook.\n",
      "You may also want to verify the package you downloaded. Learn more about verifying Jenkins downloads.\n",
      "\n",
      "\n",
      "Before downloading, please take a moment to review the Hardware and Software requirements section of the User Handbook.\n",
      "Select one of the packages below and follow the download instructions.\n",
      "Once a Jenkins package has been downloaded, proceed to the Installing Jenkins section of the User Handbook.\n",
      "You may also want to verify the package you downloaded. Learn more about verifying Jenkins downloads.\n",
      "\n",
      "\n",
      "Before downloading, please take a moment to review the Hardware and Software requirements section of the User Handbook.\n",
      "Select one of the packages below and follow the download instructions.\n",
      "Once a Jenkins package has been downloaded, proceed to the Installing Jenkins section of the User Handbook.\n",
      "You may also want to verify the package you downloaded. Learn more about verifying Jenkins downloads.\n",
      "\n",
      "\n",
      "Before downloading, please take a moment to review the Hardware and Software requirements section of the User Handbook.\n",
      "Select one of the packages below and follow the download instructions.\n",
      "Once a Jenkins package has been downloaded, proceed to the Installing Jenkins section of the User Handbook.\n",
      "You may also want to verify the package you downloaded. Learn more about verifying Jenkins downloads.\n",
      "\n"
     ]
    }
   ],
   "source": [
    "for i in longmsg.split('\\n'):\n",
    "    print(longmsg.rjust(100))"
   ]
  },
  {
   "cell_type": "markdown",
   "metadata": {},
   "source": [
    "# Strip"
   ]
  },
  {
   "cell_type": "code",
   "execution_count": 37,
   "metadata": {},
   "outputs": [
    {
     "name": "stdout",
     "output_type": "stream",
     "text": [
      "10      RAYAN\n",
      "5 RAYAN\n"
     ]
    }
   ],
   "source": [
    "name = input(\"What is ur name\")     #if we input spaces it will be calculated in lenght\n",
    "print(len(name),name)\n",
    "name=name.strip()                   #remove leading and trailing spaces\n",
    "print(len(name),name)"
   ]
  },
  {
   "cell_type": "code",
   "execution_count": 38,
   "metadata": {},
   "outputs": [
    {
     "data": {
      "text/plain": [
       "'OLA'"
      ]
     },
     "execution_count": 38,
     "metadata": {},
     "output_type": "execute_result"
    }
   ],
   "source": [
    "data = \"000000000000000OLA000000000000000\"    #extra 0's are present\n",
    "data.strip('0')                                #removing 0's by strip function"
   ]
  },
  {
   "cell_type": "code",
   "execution_count": 39,
   "metadata": {},
   "outputs": [
    {
     "data": {
      "text/plain": [
       "'this------------is-----------me'"
      ]
     },
     "execution_count": 39,
     "metadata": {},
     "output_type": "execute_result"
    }
   ],
   "source": [
    "data = \"----------------this------------is-----------me----------\"\n",
    "data.strip('-')"
   ]
  },
  {
   "cell_type": "code",
   "execution_count": 40,
   "metadata": {},
   "outputs": [
    {
     "name": "stdout",
     "output_type": "stream",
     "text": [
      "this------------is-----------me\n",
      "this------------is-----------me----------\n",
      "----------------this------------is-----------me\n"
     ]
    }
   ],
   "source": [
    "print(data.strip('-'))\n",
    "print(data.lstrip('-'))     #only removes left trailing\n",
    "print(data.rstrip('-'))     #only removes right trailing"
   ]
  },
  {
   "cell_type": "markdown",
   "metadata": {},
   "source": [
    "# Replacing alphabets by using replace function"
   ]
  },
  {
   "cell_type": "code",
   "execution_count": 41,
   "metadata": {},
   "outputs": [
    {
     "name": "stdout",
     "output_type": "stream",
     "text": [
      "\n",
      "Before downloading, please take a moment to review the Hardware and Software requirements section of the User Handbook.\n",
      "Select one of the packages below and follow the download instructions.\n",
      "Once a Jenkins package has been downloaded, proceed to the Installing Jenkins section of the User Handbook.\n",
      "You may also want to verify the package you downloaded. Learn more about verifying Jenkins downloads.\n",
      "\n",
      "updated-------------\n",
      "\n",
      "Before downloadong, please take a moment to revoew the Hardware and Software requorements sectoon of the User Handbook.\n",
      "Select one of the packages below and follow the download onstructoons.\n",
      "Once a Jenkons package has been downloaded, proceed to the Installong Jenkons sectoon of the User Handbook.\n",
      "You may also want to verofy the package you downloaded. Learn more about verofyong Jenkons downloads.\n",
      "\n"
     ]
    }
   ],
   "source": [
    "print(longmsg)\n",
    "print('updated-------------')\n",
    "print(longmsg.replace('i','o'))"
   ]
  },
  {
   "cell_type": "markdown",
   "metadata": {},
   "source": [
    "# Count"
   ]
  },
  {
   "cell_type": "code",
   "execution_count": 6,
   "metadata": {},
   "outputs": [
    {
     "name": "stdout",
     "output_type": "stream",
     "text": [
      "7\n"
     ]
    }
   ],
   "source": [
    "print(longmsg.count('the'))"
   ]
  },
  {
   "cell_type": "markdown",
   "metadata": {},
   "source": [
    "# Find\n",
    "return first index of first item found"
   ]
  },
  {
   "cell_type": "code",
   "execution_count": 4,
   "metadata": {},
   "outputs": [
    {
     "data": {
      "text/plain": [
       "-1"
      ]
     },
     "execution_count": 4,
     "metadata": {},
     "output_type": "execute_result"
    }
   ],
   "source": [
    "longmsg.find('this')"
   ]
  },
  {
   "cell_type": "code",
   "execution_count": 5,
   "metadata": {},
   "outputs": [
    {
     "data": {
      "text/plain": [
       "52"
      ]
     },
     "execution_count": 5,
     "metadata": {},
     "output_type": "execute_result"
    }
   ],
   "source": [
    "longmsg.find('the')"
   ]
  },
  {
   "cell_type": "code",
   "execution_count": 7,
   "metadata": {},
   "outputs": [
    {
     "data": {
      "text/plain": [
       "328"
      ]
     },
     "execution_count": 7,
     "metadata": {},
     "output_type": "execute_result"
    }
   ],
   "source": [
    "longmsg.rfind('the')   #find from back"
   ]
  },
  {
   "cell_type": "markdown",
   "metadata": {},
   "source": [
    "## Search All occurences of substr and display"
   ]
  },
  {
   "cell_type": "code",
   "execution_count": 10,
   "metadata": {},
   "outputs": [
    {
     "name": "stdout",
     "output_type": "stream",
     "text": [
      "52\n",
      "102\n",
      "135\n",
      "165\n",
      "247\n",
      "281\n",
      "328\n"
     ]
    }
   ],
   "source": [
    "q='the'        #search charecter   \n",
    "start = 0      #start searching from 0\n",
    "while True:\n",
    "    pos = longmsg.find(q,start)      #find has two arguments q(saerch letter) and start(where to start from)\n",
    "    start = pos +1\n",
    "    if pos == -1:\n",
    "        break\n",
    "    print(pos)"
   ]
  },
  {
   "cell_type": "markdown",
   "metadata": {},
   "source": [
    "## Search occurences of all vowels"
   ]
  },
  {
   "cell_type": "code",
   "execution_count": 15,
   "metadata": {},
   "outputs": [
    {
     "name": "stdout",
     "output_type": "stream",
     "text": [
      "vowel a:14\n",
      "vowel a:24\n",
      "vowel a:29\n",
      "vowel a:33\n",
      "vowel a:57\n",
      "vowel a:61\n",
      "vowel a:65\n",
      "vowel a:74\n",
      "vowel a:112\n",
      "vowel a:140\n",
      "vowel a:143\n",
      "vowel a:154\n",
      "vowel a:175\n",
      "vowel a:197\n",
      "vowel a:208\n",
      "vowel a:211\n",
      "vowel a:216\n",
      "vowel a:230\n",
      "vowel a:255\n",
      "vowel a:291\n",
      "vowel a:305\n",
      "vowel a:308\n",
      "vowel a:314\n",
      "vowel a:333\n",
      "vowel a:336\n",
      "vowel a:350\n",
      "vowel a:358\n",
      "vowel a:367\n",
      "vowel a:397\n",
      "vowel e:2\n",
      "vowel e:6\n",
      "vowel e:23\n",
      "vowel e:26\n",
      "vowel e:31\n",
      "vowel e:38\n",
      "vowel e:46\n",
      "vowel e:49\n",
      "vowel e:54\n",
      "vowel e:63\n",
      "vowel e:76\n",
      "vowel e:79\n",
      "vowel e:84\n",
      "vowel e:86\n",
      "vowel e:92\n",
      "vowel e:104\n",
      "vowel e:108\n",
      "vowel e:122\n",
      "vowel e:124\n",
      "vowel e:130\n",
      "vowel e:137\n",
      "vowel e:145\n",
      "vowel e:149\n",
      "vowel e:167\n",
      "vowel e:195\n",
      "vowel e:200\n",
      "vowel e:213\n",
      "vowel e:220\n",
      "vowel e:221\n",
      "vowel e:232\n",
      "vowel e:240\n",
      "vowel e:241\n",
      "vowel e:249\n",
      "vowel e:263\n",
      "vowel e:271\n",
      "vowel e:283\n",
      "vowel e:287\n",
      "vowel e:322\n",
      "vowel e:330\n",
      "vowel e:338\n",
      "vowel e:352\n",
      "vowel e:357\n",
      "vowel e:365\n",
      "vowel e:374\n",
      "vowel e:384\n",
      "vowel i:16\n",
      "vowel i:48\n",
      "vowel i:82\n",
      "vowel i:95\n",
      "vowel i:178\n",
      "vowel i:186\n",
      "vowel i:203\n",
      "vowel i:258\n",
      "vowel i:266\n",
      "vowel i:274\n",
      "vowel i:324\n",
      "vowel i:376\n",
      "vowel i:379\n",
      "vowel i:387\n",
      "vowel o:4\n",
      "vowel o:9\n",
      "vowel o:13\n",
      "vowel o:36\n",
      "vowel o:43\n",
      "vowel o:70\n",
      "vowel o:96\n",
      "vowel o:99\n",
      "vowel o:116\n",
      "vowel o:117\n",
      "vowel o:128\n",
      "vowel o:132\n",
      "vowel o:151\n",
      "vowel o:159\n",
      "vowel o:162\n",
      "vowel o:170\n",
      "vowel o:174\n",
      "vowel o:187\n",
      "vowel o:225\n",
      "vowel o:229\n",
      "vowel o:238\n",
      "vowel o:245\n",
      "vowel o:275\n",
      "vowel o:278\n",
      "vowel o:295\n",
      "vowel o:296\n",
      "vowel o:301\n",
      "vowel o:311\n",
      "vowel o:319\n",
      "vowel o:341\n",
      "vowel o:345\n",
      "vowel o:349\n",
      "vowel o:363\n",
      "vowel o:369\n",
      "vowel o:392\n",
      "vowel o:396\n",
      "vowel u:81\n",
      "vowel u:183\n",
      "vowel u:302\n",
      "vowel u:342\n",
      "vowel u:370\n"
     ]
    }
   ],
   "source": [
    "for vowel in 'aeiou':\n",
    "    start = 0                          #start searching from 0\n",
    "    while True:\n",
    "        pos = longmsg.find(vowel,start)      #find has two arguments q(saerch letter) and start(where to start from)\n",
    "        start = pos +1\n",
    "        if pos == -1:\n",
    "            break\n",
    "        print(f\"vowel {vowel}:{pos}\")"
   ]
  },
  {
   "cell_type": "code",
   "execution_count": 21,
   "metadata": {},
   "outputs": [
    {
     "name": "stdout",
     "output_type": "stream",
     "text": [
      "5\n",
      "numeric True\n",
      "alphabet False\n",
      "alphanumeric True\n",
      "only spaces False\n",
      "only upper case False\n",
      "only lower case False\n",
      "capatilized False\n",
      "Decimal Numbers True\n"
     ]
    }
   ],
   "source": [
    "msg = input(\"enter anything\")\n",
    "print(msg)\n",
    "print(\"numeric\",msg.isnumeric())\n",
    "print(\"alphabet\",msg.isalpha())\n",
    "print(\"alphanumeric\",msg.isalnum())\n",
    "print(\"only spaces\",msg.isspace())\n",
    "print(\"only upper case\",msg.isupper())\n",
    "print(\"only lower case\",msg.islower())\n",
    "print(\"capatilized\",msg.istitle())\n",
    "print(\"Decimal Numbers\",msg.isdecimal())"
   ]
  },
  {
   "cell_type": "markdown",
   "metadata": {},
   "source": [
    "## Count the number of vowels"
   ]
  },
  {
   "cell_type": "code",
   "execution_count": 42,
   "metadata": {},
   "outputs": [
    {
     "name": "stdout",
     "output_type": "stream",
     "text": [
      "29\n",
      "45\n",
      "14\n",
      "36\n",
      "5\n"
     ]
    }
   ],
   "source": [
    "vowels =\"aeiou\"\n",
    "for v in vowels:\n",
    "    c= longmsg.count(v)\n",
    "    print(c)"
   ]
  },
  {
   "cell_type": "markdown",
   "metadata": {},
   "source": [
    "## Remove Vowels"
   ]
  },
  {
   "cell_type": "markdown",
   "metadata": {},
   "source": [
    "## "
   ]
  },
  {
   "cell_type": "code",
   "execution_count": 44,
   "metadata": {},
   "outputs": [
    {
     "name": "stdout",
     "output_type": "stream",
     "text": [
      "hll thr\n"
     ]
    }
   ],
   "source": [
    "str = \"hello there\"\n",
    "vowels = 'aeiouAEIOU'\n",
    "for v in vowels:\n",
    "    str=str.replace(v,'')\n",
    "\n",
    "print(str)\n"
   ]
  },
  {
   "cell_type": "markdown",
   "metadata": {},
   "source": [
    "# First  n Words"
   ]
  },
  {
   "cell_type": "code",
   "execution_count": 45,
   "metadata": {},
   "outputs": [
    {
     "name": "stdout",
     "output_type": "stream",
     "text": [
      "['Before', 'downloading,', 'please', 'take', 'a', 'moment']\n"
     ]
    }
   ],
   "source": [
    "wordcount= int(input(\"How many words\"))\n",
    "words = longmsg.split()[:wordcount]\n",
    "print(words)\n"
   ]
  },
  {
   "cell_type": "markdown",
   "metadata": {},
   "source": [
    "## Display size of each word"
   ]
  },
  {
   "cell_type": "code",
   "execution_count": 5,
   "metadata": {},
   "outputs": [
    {
     "name": "stdout",
     "output_type": "stream",
     "text": [
      "Before 6\n",
      "downloading, 12\n",
      "please 6\n",
      "take 4\n",
      "a 1\n",
      "moment 6\n",
      "to 2\n",
      "review 6\n",
      "the 3\n",
      "Hardware 8\n",
      "and 3\n",
      "Software 8\n",
      "requirements 12\n",
      "section 7\n",
      "of 2\n",
      "the 3\n",
      "User 4\n",
      "Handbook. 9\n",
      "Select 6\n",
      "one 3\n",
      "of 2\n",
      "the 3\n",
      "packages 8\n",
      "below 5\n",
      "and 3\n",
      "follow 6\n",
      "the 3\n",
      "download 8\n",
      "instructions. 13\n",
      "Once 4\n",
      "a 1\n",
      "Jenkins 7\n",
      "package 7\n",
      "has 3\n",
      "been 4\n",
      "downloaded, 11\n",
      "proceed 7\n",
      "to 2\n",
      "the 3\n",
      "Installing 10\n",
      "Jenkins 7\n",
      "section 7\n",
      "of 2\n",
      "the 3\n",
      "User 4\n",
      "Handbook. 9\n",
      "You 3\n",
      "may 3\n",
      "also 4\n",
      "want 4\n",
      "to 2\n",
      "verify 6\n",
      "the 3\n",
      "package 7\n",
      "you 3\n",
      "downloaded. 11\n",
      "Learn 5\n",
      "more 4\n",
      "about 5\n",
      "verifying 9\n",
      "Jenkins 7\n",
      "downloads. 10\n",
      "biggest word is instructions. with 13 charecters\n"
     ]
    }
   ],
   "source": [
    "m= 0\n",
    "w=0\n",
    "for word in longmsg.split():\n",
    "    print(word,len(word))\n",
    "    if len(word)>m:\n",
    "        m=len(word)\n",
    "        w= word\n",
    "\n",
    "print(f'biggest word is {w} with {m} charecters')"
   ]
  },
  {
   "cell_type": "code",
   "execution_count": null,
   "metadata": {},
   "outputs": [],
   "source": []
  }
 ],
 "metadata": {
  "kernelspec": {
   "display_name": "Python 3.9.12 ('base')",
   "language": "python",
   "name": "python3"
  },
  "language_info": {
   "codemirror_mode": {
    "name": "ipython",
    "version": 3
   },
   "file_extension": ".py",
   "mimetype": "text/x-python",
   "name": "python",
   "nbconvert_exporter": "python",
   "pygments_lexer": "ipython3",
   "version": "3.9.12"
  },
  "orig_nbformat": 4,
  "vscode": {
   "interpreter": {
    "hash": "10bd505096551c50069a3dbdaed0ac86691ac343b612943e6011bfc2aef8ecb4"
   }
  }
 },
 "nbformat": 4,
 "nbformat_minor": 2
}
