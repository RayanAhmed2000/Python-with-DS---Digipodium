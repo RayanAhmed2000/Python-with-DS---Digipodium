{
 "cells": [
  {
   "cell_type": "markdown",
   "metadata": {},
   "source": [
    "# Concatenation"
   ]
  },
  {
   "cell_type": "code",
   "execution_count": 1,
   "metadata": {},
   "outputs": [
    {
     "name": "stdout",
     "output_type": "stream",
     "text": [
      "applejuice\n",
      "applejuice\n"
     ]
    }
   ],
   "source": [
    "a='apple'\n",
    "b='juice'\n",
    "ab =a+b\n",
    "print (ab)           #print ab\n",
    "print(a+b)"
   ]
  },
  {
   "cell_type": "code",
   "execution_count": 2,
   "metadata": {},
   "outputs": [
    {
     "name": "stdout",
     "output_type": "stream",
     "text": [
      "ThisisAwesome\n",
      "This is Awesome\n"
     ]
    }
   ],
   "source": [
    "w1 = 'This'\n",
    "w2 = 'is'\n",
    "w3 = 'Awesome'\n",
    "msg = w1+w2+w3\n",
    "print(msg)   \n",
    "\n",
    "msg=w1+' '+w2+' '+w3        #adding spaces in between\n",
    "print(msg)   \n",
    "\n",
    "\n",
    "\n"
   ]
  },
  {
   "cell_type": "markdown",
   "metadata": {},
   "source": [
    "# Duplication\n",
    "in python we can multiply a string with an integer to give a sequence of duplocate strings"
   ]
  },
  {
   "cell_type": "code",
   "execution_count": 3,
   "metadata": {},
   "outputs": [
    {
     "name": "stdout",
     "output_type": "stream",
     "text": [
      "Hi Hi Hi Hi \n"
     ]
    }
   ],
   "source": [
    "word = 'Hi '\n",
    "print(4 * word)"
   ]
  },
  {
   "cell_type": "markdown",
   "metadata": {},
   "source": [
    "# Pattern Printing\n",
    "using concept of duplication we can print patterns of strings"
   ]
  },
  {
   "cell_type": "code",
   "execution_count": 4,
   "metadata": {},
   "outputs": [
    {
     "name": "stdout",
     "output_type": "stream",
     "text": [
      "# \n",
      "# # \n",
      "# # # \n",
      "# # # # \n",
      "# # # # # \n"
     ]
    }
   ],
   "source": [
    "for i in range(1,6):\n",
    "    print(i * '# ')"
   ]
  },
  {
   "cell_type": "code",
   "execution_count": 5,
   "metadata": {},
   "outputs": [
    {
     "name": "stdout",
     "output_type": "stream",
     "text": [
      "# # # # # # \n",
      "# # # # # \n",
      "# # # # \n",
      "# # # \n",
      "# # \n",
      "# \n"
     ]
    }
   ],
   "source": [
    "for i in range(6,0,-1):\n",
    "    print(i * '# ')"
   ]
  },
  {
   "cell_type": "markdown",
   "metadata": {},
   "source": [
    "# String Functions"
   ]
  },
  {
   "cell_type": "code",
   "execution_count": 6,
   "metadata": {},
   "outputs": [],
   "source": [
    "name = \"Alex Mason\"\n",
    "age = 50\n",
    "items= ['cherry', 'banana', 'apple']\n"
   ]
  },
  {
   "cell_type": "markdown",
   "metadata": {},
   "source": [
    "# Formatting Functions"
   ]
  },
  {
   "cell_type": "code",
   "execution_count": 7,
   "metadata": {},
   "outputs": [],
   "source": [
    "msg='This is a message from VERY imporTANT person.'"
   ]
  },
  {
   "cell_type": "code",
   "execution_count": 8,
   "metadata": {},
   "outputs": [
    {
     "name": "stdout",
     "output_type": "stream",
     "text": [
      "THIS IS A MESSAGE FROM VERY IMPORTANT PERSON.\n",
      "this is a message from very important person.\n",
      "This Is A Message From Very Important Person.\n",
      "This is a message from very important person.\n",
      "this is a message from very important person.\n",
      "tHIS IS A MESSAGE FROM very IMPORtant PERSON.\n"
     ]
    }
   ],
   "source": [
    "print(msg.upper())\n",
    "print(msg.lower())\n",
    "print(msg.title())\n",
    "print(msg.capitalize())\n",
    "print(msg.casefold())   # same as lower()\n",
    "print(msg.swapcase())\n"
   ]
  },
  {
   "cell_type": "markdown",
   "metadata": {},
   "source": [
    "## Alignment"
   ]
  },
  {
   "cell_type": "code",
   "execution_count": 9,
   "metadata": {},
   "outputs": [
    {
     "name": "stdout",
     "output_type": "stream",
     "text": [
      "This is a message from VERY imporTANT person.\n"
     ]
    }
   ],
   "source": [
    "print(msg)"
   ]
  },
  {
   "cell_type": "code",
   "execution_count": 13,
   "metadata": {},
   "outputs": [
    {
     "name": "stdout",
     "output_type": "stream",
     "text": [
      "This is a message from VERY imporTANT person.                                                       \n"
     ]
    }
   ],
   "source": [
    "print(msg.ljust(100)) #align content left side"
   ]
  },
  {
   "cell_type": "code",
   "execution_count": 12,
   "metadata": {},
   "outputs": [
    {
     "name": "stdout",
     "output_type": "stream",
     "text": [
      "                                                       This is a message from VERY imporTANT person.\n"
     ]
    }
   ],
   "source": [
    "print(msg.rjust(100)) #align content right side"
   ]
  },
  {
   "cell_type": "code",
   "execution_count": 14,
   "metadata": {},
   "outputs": [
    {
     "name": "stdout",
     "output_type": "stream",
     "text": [
      "                 This is a message from VERY imporTANT person.                  \n"
     ]
    }
   ],
   "source": [
    "print(msg.center(80)) #align center    "
   ]
  },
  {
   "cell_type": "markdown",
   "metadata": {},
   "source": [
    "# Split Function"
   ]
  },
  {
   "cell_type": "code",
   "execution_count": 26,
   "metadata": {},
   "outputs": [],
   "source": [
    "longmsg='''\n",
    "Before downloading, please take a moment to review the Hardware and Software requirements section of the User Handbook.\n",
    "Select one of the packages below and follow the download instructions.\n",
    "Once a Jenkins package has been downloaded, proceed to the Installing Jenkins section of the User Handbook.\n",
    "You may also want to verify the package you downloaded. Learn more about verifying Jenkins downloads.\n",
    "'''"
   ]
  },
  {
   "cell_type": "code",
   "execution_count": 27,
   "metadata": {},
   "outputs": [
    {
     "data": {
      "text/plain": [
       "'\\nBefore downloading, please take a moment to review the Hardware and Software requirements section of the User Handbook.\\nSelect one of the packages below and follow the download instructions.\\nOnce a Jenkins package has been downloaded, proceed to the Installing Jenkins section of the User Handbook.\\nYou may also want to verify the package you downloaded. Learn more about verifying Jenkins downloads.\\n'"
      ]
     },
     "execution_count": 27,
     "metadata": {},
     "output_type": "execute_result"
    }
   ],
   "source": [
    "longmsg"
   ]
  },
  {
   "cell_type": "code",
   "execution_count": 29,
   "metadata": {},
   "outputs": [
    {
     "data": {
      "text/plain": [
       "['Before',\n",
       " 'downloading,',\n",
       " 'please',\n",
       " 'take',\n",
       " 'a',\n",
       " 'moment',\n",
       " 'to',\n",
       " 'review',\n",
       " 'the',\n",
       " 'Hardware',\n",
       " 'and',\n",
       " 'Software',\n",
       " 'requirements',\n",
       " 'section',\n",
       " 'of',\n",
       " 'the',\n",
       " 'User',\n",
       " 'Handbook.',\n",
       " 'Select',\n",
       " 'one',\n",
       " 'of',\n",
       " 'the',\n",
       " 'packages',\n",
       " 'below',\n",
       " 'and',\n",
       " 'follow',\n",
       " 'the',\n",
       " 'download',\n",
       " 'instructions.',\n",
       " 'Once',\n",
       " 'a',\n",
       " 'Jenkins',\n",
       " 'package',\n",
       " 'has',\n",
       " 'been',\n",
       " 'downloaded,',\n",
       " 'proceed',\n",
       " 'to',\n",
       " 'the',\n",
       " 'Installing',\n",
       " 'Jenkins',\n",
       " 'section',\n",
       " 'of',\n",
       " 'the',\n",
       " 'User',\n",
       " 'Handbook.',\n",
       " 'You',\n",
       " 'may',\n",
       " 'also',\n",
       " 'want',\n",
       " 'to',\n",
       " 'verify',\n",
       " 'the',\n",
       " 'package',\n",
       " 'you',\n",
       " 'downloaded.',\n",
       " 'Learn',\n",
       " 'more',\n",
       " 'about',\n",
       " 'verifying',\n",
       " 'Jenkins',\n",
       " 'downloads.']"
      ]
     },
     "execution_count": 29,
     "metadata": {},
     "output_type": "execute_result"
    }
   ],
   "source": [
    "longmsg.split() #by default it splits whitespaces"
   ]
  },
  {
   "cell_type": "code",
   "execution_count": 34,
   "metadata": {},
   "outputs": [
    {
     "data": {
      "text/plain": [
       "['Before',\n",
       " 'downloading,',\n",
       " 'please',\n",
       " 'take',\n",
       " 'a',\n",
       " 'moment',\n",
       " 'to review the Hardware and Software requirements section of the User Handbook.\\nSelect one of the packages below and follow the download instructions.\\nOnce a Jenkins package has been downloaded, proceed to the Installing Jenkins section of the User Handbook.\\nYou may also want to verify the package you downloaded. Learn more about verifying Jenkins downloads.\\n']"
      ]
     },
     "execution_count": 34,
     "metadata": {},
     "output_type": "execute_result"
    }
   ],
   "source": [
    "longmsg.split(maxsplit=6)    #after 6 splits left will be in one oart"
   ]
  },
  {
   "cell_type": "code",
   "execution_count": 31,
   "metadata": {},
   "outputs": [
    {
     "data": {
      "text/plain": [
       "['\\nB',\n",
       " 'for',\n",
       " ' downloading, pl',\n",
       " 'as',\n",
       " ' tak',\n",
       " ' a mom',\n",
       " 'nt to r',\n",
       " 'vi',\n",
       " 'w th',\n",
       " ' Hardwar',\n",
       " ' and Softwar',\n",
       " ' r',\n",
       " 'quir',\n",
       " 'm',\n",
       " 'nts s',\n",
       " 'ction of th',\n",
       " ' Us',\n",
       " 'r Handbook.\\nS',\n",
       " 'l',\n",
       " 'ct on',\n",
       " ' of th',\n",
       " ' packag',\n",
       " 's b',\n",
       " 'low and follow th',\n",
       " ' download instructions.\\nOnc',\n",
       " ' a J',\n",
       " 'nkins packag',\n",
       " ' has b',\n",
       " '',\n",
       " 'n download',\n",
       " 'd, proc',\n",
       " '',\n",
       " 'd to th',\n",
       " ' Installing J',\n",
       " 'nkins s',\n",
       " 'ction of th',\n",
       " ' Us',\n",
       " 'r Handbook.\\nYou may also want to v',\n",
       " 'rify th',\n",
       " ' packag',\n",
       " ' you download',\n",
       " 'd. L',\n",
       " 'arn mor',\n",
       " ' about v',\n",
       " 'rifying J',\n",
       " 'nkins downloads.\\n']"
      ]
     },
     "execution_count": 31,
     "metadata": {},
     "output_type": "execute_result"
    }
   ],
   "source": [
    "longmsg.split('e') #splits where e is encountered"
   ]
  },
  {
   "cell_type": "code",
   "execution_count": 32,
   "metadata": {},
   "outputs": [
    {
     "data": {
      "text/plain": [
       "['',\n",
       " 'Before downloading, please take a moment to review the Hardware and Software requirements section of the User Handbook.',\n",
       " 'Select one of the packages below and follow the download instructions.',\n",
       " 'Once a Jenkins package has been downloaded, proceed to the Installing Jenkins section of the User Handbook.',\n",
       " 'You may also want to verify the package you downloaded. Learn more about verifying Jenkins downloads.',\n",
       " '']"
      ]
     },
     "execution_count": 32,
     "metadata": {},
     "output_type": "execute_result"
    }
   ],
   "source": [
    "longmsg.split('\\n')"
   ]
  },
  {
   "cell_type": "code",
   "execution_count": 35,
   "metadata": {},
   "outputs": [
    {
     "name": "stdout",
     "output_type": "stream",
     "text": [
      "\n",
      "Before downloading, please take a moment to review the Hardware and Software requirements section of the User Handbook.\n",
      "Select one of the packages below and follow the download instructions.\n",
      "Once a Jenkins package has been downloaded, proceed to the Installing Jenkins section of the User Handbook.\n",
      "You may also want to verify the package you downloaded. Learn more about verifying Jenkins downloads.\n",
      "\n",
      "\n",
      "Before downloading, please take a moment to review the Hardware and Software requirements section of the User Handbook.\n",
      "Select one of the packages below and follow the download instructions.\n",
      "Once a Jenkins package has been downloaded, proceed to the Installing Jenkins section of the User Handbook.\n",
      "You may also want to verify the package you downloaded. Learn more about verifying Jenkins downloads.\n",
      "\n",
      "\n",
      "Before downloading, please take a moment to review the Hardware and Software requirements section of the User Handbook.\n",
      "Select one of the packages below and follow the download instructions.\n",
      "Once a Jenkins package has been downloaded, proceed to the Installing Jenkins section of the User Handbook.\n",
      "You may also want to verify the package you downloaded. Learn more about verifying Jenkins downloads.\n",
      "\n",
      "\n",
      "Before downloading, please take a moment to review the Hardware and Software requirements section of the User Handbook.\n",
      "Select one of the packages below and follow the download instructions.\n",
      "Once a Jenkins package has been downloaded, proceed to the Installing Jenkins section of the User Handbook.\n",
      "You may also want to verify the package you downloaded. Learn more about verifying Jenkins downloads.\n",
      "\n",
      "\n",
      "Before downloading, please take a moment to review the Hardware and Software requirements section of the User Handbook.\n",
      "Select one of the packages below and follow the download instructions.\n",
      "Once a Jenkins package has been downloaded, proceed to the Installing Jenkins section of the User Handbook.\n",
      "You may also want to verify the package you downloaded. Learn more about verifying Jenkins downloads.\n",
      "\n",
      "\n",
      "Before downloading, please take a moment to review the Hardware and Software requirements section of the User Handbook.\n",
      "Select one of the packages below and follow the download instructions.\n",
      "Once a Jenkins package has been downloaded, proceed to the Installing Jenkins section of the User Handbook.\n",
      "You may also want to verify the package you downloaded. Learn more about verifying Jenkins downloads.\n",
      "\n"
     ]
    }
   ],
   "source": [
    "for i in longmsg.split('\\n'):\n",
    "    print(longmsg.rjust(100))"
   ]
  },
  {
   "cell_type": "code",
   "execution_count": 37,
   "metadata": {},
   "outputs": [
    {
     "name": "stdout",
     "output_type": "stream",
     "text": [
      "10      RAYAN\n",
      "5 RAYAN\n"
     ]
    }
   ],
   "source": [
    "name = input(\"What is ur name\")     #if we input spaces it will be calculated in lenght\n",
    "print(len(name),name)\n",
    "name=name.strip()                   #remove leading and trailing spaces\n",
    "print(len(name),name)"
   ]
  },
  {
   "cell_type": "code",
   "execution_count": 38,
   "metadata": {},
   "outputs": [
    {
     "data": {
      "text/plain": [
       "'OLA'"
      ]
     },
     "execution_count": 38,
     "metadata": {},
     "output_type": "execute_result"
    }
   ],
   "source": [
    "data = \"000000000000000OLA000000000000000\"    #extra 0's are present\n",
    "data.strip('0')                                #removing 0's by strip function"
   ]
  },
  {
   "cell_type": "code",
   "execution_count": 39,
   "metadata": {},
   "outputs": [
    {
     "data": {
      "text/plain": [
       "'this------------is-----------me'"
      ]
     },
     "execution_count": 39,
     "metadata": {},
     "output_type": "execute_result"
    }
   ],
   "source": [
    "data = \"----------------this------------is-----------me----------\"\n",
    "data.strip('-')"
   ]
  },
  {
   "cell_type": "code",
   "execution_count": 40,
   "metadata": {},
   "outputs": [
    {
     "name": "stdout",
     "output_type": "stream",
     "text": [
      "this------------is-----------me\n",
      "this------------is-----------me----------\n",
      "----------------this------------is-----------me\n"
     ]
    }
   ],
   "source": [
    "print(data.strip('-'))\n",
    "print(data.lstrip('-'))     #only removes left trailing\n",
    "print(data.rstrip('-'))     #only removes right trailing"
   ]
  },
  {
   "cell_type": "markdown",
   "metadata": {},
   "source": [
    "# Replacing alphabets by using replace function"
   ]
  },
  {
   "cell_type": "code",
   "execution_count": 41,
   "metadata": {},
   "outputs": [
    {
     "name": "stdout",
     "output_type": "stream",
     "text": [
      "\n",
      "Before downloading, please take a moment to review the Hardware and Software requirements section of the User Handbook.\n",
      "Select one of the packages below and follow the download instructions.\n",
      "Once a Jenkins package has been downloaded, proceed to the Installing Jenkins section of the User Handbook.\n",
      "You may also want to verify the package you downloaded. Learn more about verifying Jenkins downloads.\n",
      "\n",
      "updated-------------\n",
      "\n",
      "Before downloadong, please take a moment to revoew the Hardware and Software requorements sectoon of the User Handbook.\n",
      "Select one of the packages below and follow the download onstructoons.\n",
      "Once a Jenkons package has been downloaded, proceed to the Installong Jenkons sectoon of the User Handbook.\n",
      "You may also want to verofy the package you downloaded. Learn more about verofyong Jenkons downloads.\n",
      "\n"
     ]
    }
   ],
   "source": [
    "print(longmsg)\n",
    "print('updated-------------')\n",
    "print(longmsg.replace('i','o'))"
   ]
  },
  {
   "cell_type": "markdown",
   "metadata": {},
   "source": [
    "# Count"
   ]
  },
  {
   "cell_type": "markdown",
   "metadata": {},
   "source": []
  }
 ],
 "metadata": {
  "kernelspec": {
   "display_name": "Python 3.9.12 ('base')",
   "language": "python",
   "name": "python3"
  },
  "language_info": {
   "codemirror_mode": {
    "name": "ipython",
    "version": 3
   },
   "file_extension": ".py",
   "mimetype": "text/x-python",
   "name": "python",
   "nbconvert_exporter": "python",
   "pygments_lexer": "ipython3",
   "version": "3.9.12"
  },
  "orig_nbformat": 4,
  "vscode": {
   "interpreter": {
    "hash": "10bd505096551c50069a3dbdaed0ac86691ac343b612943e6011bfc2aef8ecb4"
   }
  }
 },
 "nbformat": 4,
 "nbformat_minor": 2
}
