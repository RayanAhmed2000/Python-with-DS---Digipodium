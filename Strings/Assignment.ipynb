{
 "cells": [
  {
   "cell_type": "markdown",
   "metadata": {},
   "source": [
    "# PYTHON STRINGS\n",
    ">## Answer each question with a code solution.\n",
    "1. Create a string and print it.\n",
    "1. Take a string input and print it's length.\n",
    "1. Print the last word of the string `Python is great` using slices.\n",
    "1. Print the each word in different line of string `python is everywhere`.\n",
    "1. Print the string `Hello World!` in reverse.\n",
    "1. Convert the string `How are you?` in uppercase.\n",
    "1. Convert the string `How Is It Going?` in lowercase.\n",
    "1. Join the following list by spaces(` `) and print the result.\n",
    "    ```py\n",
    "    words = ['Python', 'is', 'easy', 'to', 'learn']\n",
    "    ```\n",
    "1. Print a multiline string using a single `print`\n",
    "1. Print this string `to move to newline '\\n' is used.` (results should look exactly like the provided string)\n",
    "1. Print a variable with some text using a single print function, output should look like following.\n",
    "    ```\n",
    "    the variable is 15\n",
    "    ```\n",
    "1. concatenate the following strings and print the result\n",
    "    ```py\n",
    "    s1 = 'python '\n",
    "    s2 = 'is '\n",
    "    s3 = 'great.'\n",
    "    ```\n",
    "1. Print `#` 20 times without using a loop\n",
    "1. Print numbers from 1 to 9, each on a seperate line, followed by a dot, output should look like the following-\n",
    "    ```\n",
    "    1.\n",
    "    2.\n",
    "    3.\n",
    "\n",
    "    ```\n",
    "1. Ask user to input a sentence and print each word on a different line.\n",
    "1. Ask user to input a string and check if the string ends with '?'\n",
    "1. Ask user to input a string and print how many times `e` appeared in the string\n",
    "1. Check if the user input is a number.\n",
    "1. Remove the extra spaces in beginning and in the end of the following string-\n",
    "    ```py\n",
    "    text = '   this is not a good string           '\n",
    "    ```\n",
    "1. Ask user to input string, print `found` if any of the character is upper case.\n",
    "1. Extract names from the following string and store them in a list.\n",
    "    ```py\n",
    "    names = 'Joe, David, Mark, Tom, Chris, Robert'\n",
    "    ```\n",
    "1. In the following string, add `aye` in the end of every word and print the results.\n",
    "    ```py\n",
    "    text = 'this is some text'\n",
    "    ```\n",
    "1. ask user to enter a string and check if the string contains `fyi`\n",
    "1. Remove all the special characters and numbers from the following string\n",
    "    ```py\n",
    "    text = '%p34@y!*-*!t68h#&on404'\n",
    "    ```\n",
    "1. calculate the average word length of the following paragraph.\n",
    "    ```\n",
    "    this is a paragraph which is written just for the purpose of providing content to let the average word length be calculated\n",
    "    ```"
   ]
  },
  {
   "cell_type": "markdown",
   "metadata": {},
   "source": [
    "# Answer 1\n",
    "Create a string and print it"
   ]
  },
  {
   "cell_type": "code",
   "execution_count": 1,
   "metadata": {},
   "outputs": [
    {
     "data": {
      "text/plain": [
       "'Hello world'"
      ]
     },
     "execution_count": 1,
     "metadata": {},
     "output_type": "execute_result"
    }
   ],
   "source": [
    "sample_string = \"Hello world\"\n",
    "sample_string"
   ]
  },
  {
   "cell_type": "markdown",
   "metadata": {},
   "source": [
    "# Answer 2\n",
    "Take a string input and print it's length.\n"
   ]
  },
  {
   "cell_type": "code",
   "execution_count": 3,
   "metadata": {},
   "outputs": [
    {
     "name": "stdout",
     "output_type": "stream",
     "text": [
      "1\n"
     ]
    }
   ],
   "source": [
    "sample_string2 = input(\"enter string\")\n",
    "print(len(sample_string2))\n"
   ]
  },
  {
   "cell_type": "markdown",
   "metadata": {},
   "source": [
    "# Answer 3\n",
    "Print the last word of the string Python is great using slices."
   ]
  },
  {
   "cell_type": "code",
   "execution_count": 22,
   "metadata": {},
   "outputs": [
    {
     "data": {
      "text/plain": [
       "'great'"
      ]
     },
     "execution_count": 22,
     "metadata": {},
     "output_type": "execute_result"
    }
   ],
   "source": [
    "sample_string3 = \"Python is great\"\n",
    "                 #012345678901234\n",
    "sample_string3[10:]"
   ]
  },
  {
   "cell_type": "markdown",
   "metadata": {},
   "source": [
    "# Answer 4\n",
    "Print the each word in different line of string python is everywhere.\n"
   ]
  },
  {
   "cell_type": "code",
   "execution_count": 15,
   "metadata": {},
   "outputs": [
    {
     "name": "stdout",
     "output_type": "stream",
     "text": [
      "Python\n",
      "\n",
      "is\n",
      "\n",
      "everywhere"
     ]
    }
   ],
   "source": [
    "sample_string4 = \"Python is everywhere\"\n",
    "for i in sample_string4:\n",
    "    if i== ' ':\n",
    "        print('\\n')\n",
    "    else :\n",
    "        print(i,end='')"
   ]
  },
  {
   "cell_type": "markdown",
   "metadata": {},
   "source": [
    "# Answer 5\n",
    "Print the string Hello World! in reverse.\n"
   ]
  },
  {
   "cell_type": "code",
   "execution_count": 16,
   "metadata": {},
   "outputs": [
    {
     "data": {
      "text/plain": [
       "'Hello world'"
      ]
     },
     "execution_count": 16,
     "metadata": {},
     "output_type": "execute_result"
    }
   ],
   "source": [
    "sample_string"
   ]
  },
  {
   "cell_type": "code",
   "execution_count": 39,
   "metadata": {},
   "outputs": [
    {
     "name": "stdout",
     "output_type": "stream",
     "text": [
      "dlrow olleH"
     ]
    }
   ],
   "source": [
    "for i in range(10,-1,-1):\n",
    "    print(sample_string[i],end='')"
   ]
  },
  {
   "cell_type": "markdown",
   "metadata": {},
   "source": [
    "# Answer 6\n",
    "Convert the string How are you? in uppercase."
   ]
  },
  {
   "cell_type": "code",
   "execution_count": 40,
   "metadata": {},
   "outputs": [
    {
     "name": "stdout",
     "output_type": "stream",
     "text": [
      "HOW ARE YOU?\n"
     ]
    }
   ],
   "source": [
    "sample_string5 = \"How are you?\"\n",
    "sample_string5 = sample_string5.upper()\n",
    "print(sample_string5)"
   ]
  },
  {
   "cell_type": "markdown",
   "metadata": {},
   "source": [
    "# Answer 7\n",
    "Convert the string How Is It Going? in lowercase.\n"
   ]
  },
  {
   "cell_type": "code",
   "execution_count": 41,
   "metadata": {},
   "outputs": [
    {
     "name": "stdout",
     "output_type": "stream",
     "text": [
      "how is it going?\n"
     ]
    }
   ],
   "source": [
    "sample_string6 = \"How is it Going?\"\n",
    "sample_string6=sample_string6.lower()\n",
    "print(sample_string6)"
   ]
  },
  {
   "cell_type": "markdown",
   "metadata": {},
   "source": [
    "# Answer 8\n",
    "- Join the following list by spaces( ) and print the result.\n",
    "- words = ['Python', 'is', 'easy', 'to', 'learn']"
   ]
  },
  {
   "cell_type": "code",
   "execution_count": 50,
   "metadata": {},
   "outputs": [],
   "source": [
    "words = ['Python', 'is', 'easy', 'to', 'learn']"
   ]
  },
  {
   "cell_type": "code",
   "execution_count": 53,
   "metadata": {},
   "outputs": [
    {
     "name": "stdout",
     "output_type": "stream",
     "text": [
      "Python is easy to learn \n"
     ]
    }
   ],
   "source": [
    "for i in words:\n",
    "    words2= words2 +i+\" \"\n",
    "print(words2)"
   ]
  },
  {
   "cell_type": "markdown",
   "metadata": {},
   "source": [
    "# Answer 9\n",
    "Print a multiline string using a single print"
   ]
  },
  {
   "cell_type": "code",
   "execution_count": 55,
   "metadata": {},
   "outputs": [
    {
     "name": "stdout",
     "output_type": "stream",
     "text": [
      " \n",
      "Hello\n",
      "This\n",
      "is \n",
      "a \n",
      "Multiline\n",
      "String\n",
      "😁\n",
      "\n"
     ]
    }
   ],
   "source": [
    "print(''' \n",
    "Hello\n",
    "This\n",
    "is \n",
    "a \n",
    "Multiline\n",
    "String\n",
    "😁\n",
    "''')"
   ]
  },
  {
   "cell_type": "markdown",
   "metadata": {},
   "source": [
    "# Answer 10\n",
    "Print this string to move to newline '\\n' is used. (results should look exactly like the provided string)\n"
   ]
  },
  {
   "cell_type": "code",
   "execution_count": 58,
   "metadata": {},
   "outputs": [
    {
     "data": {
      "text/plain": [
       "\"to move to newline '\\n' is used\""
      ]
     },
     "execution_count": 58,
     "metadata": {},
     "output_type": "execute_result"
    }
   ],
   "source": [
    "sample_string7 = \"to move to newline '\\n' is used\"\n",
    "sample_string7"
   ]
  },
  {
   "cell_type": "markdown",
   "metadata": {},
   "source": [
    "# Answer 11\n",
    "- Print a variable with some text using a single print function, output should look like following.\n",
    "- the variable is 15"
   ]
  },
  {
   "cell_type": "code",
   "execution_count": 59,
   "metadata": {},
   "outputs": [
    {
     "name": "stdout",
     "output_type": "stream",
     "text": [
      "the variable is 15\n"
     ]
    }
   ],
   "source": [
    "print(\"the variable is\",15)"
   ]
  },
  {
   "cell_type": "markdown",
   "metadata": {},
   "source": [
    "# Answer 12\n",
    "- concatenate the following strings and print the result\n",
    "- s1 = 'python '\n",
    "- s2 = 'is '\n",
    "- s3 = 'great.'"
   ]
  },
  {
   "cell_type": "code",
   "execution_count": 63,
   "metadata": {},
   "outputs": [
    {
     "name": "stdout",
     "output_type": "stream",
     "text": [
      "python is great.\n"
     ]
    }
   ],
   "source": [
    "s1 = 'python '\n",
    "s2 = 'is '\n",
    "s3 = 'great.'\n",
    "s4 = s1+s2+s3\n",
    "print(s4)"
   ]
  },
  {
   "cell_type": "markdown",
   "metadata": {},
   "source": [
    "# Answer 13\n",
    "Print # 20 times without using a loop\n"
   ]
  },
  {
   "cell_type": "code",
   "execution_count": 64,
   "metadata": {},
   "outputs": [
    {
     "name": "stdout",
     "output_type": "stream",
     "text": [
      "####################\n"
     ]
    }
   ],
   "source": [
    "print('#'*20)"
   ]
  },
  {
   "cell_type": "markdown",
   "metadata": {},
   "source": [
    "# Answer 14\n",
    "- Print numbers from 1 to 9, each on a seperate line, followed by a dot, output should look like the following-\n",
    "```\n",
    "1.\n",
    "2.\n",
    "3.\n",
    "```"
   ]
  },
  {
   "cell_type": "code",
   "execution_count": 67,
   "metadata": {},
   "outputs": [
    {
     "name": "stdout",
     "output_type": "stream",
     "text": [
      "1 .\n",
      "\n",
      "2 .\n",
      "\n",
      "3 .\n",
      "\n",
      "4 .\n",
      "\n",
      "5 .\n",
      "\n",
      "6 .\n",
      "\n",
      "7 .\n",
      "\n",
      "8 .\n",
      "\n",
      "9 .\n",
      "\n",
      "10 .\n",
      "\n"
     ]
    }
   ],
   "source": [
    "for i in range(1,11):\n",
    "    print(i,\".\\n\")"
   ]
  },
  {
   "cell_type": "markdown",
   "metadata": {},
   "source": [
    "# Answer 15\n",
    "Ask user to input a sentence and print each word on a different line.\n"
   ]
  },
  {
   "cell_type": "code",
   "execution_count": 69,
   "metadata": {},
   "outputs": [
    {
     "name": "stdout",
     "output_type": "stream",
     "text": [
      "Hello\n",
      "\n",
      "There\n",
      "\n",
      "How\n",
      "\n",
      "are\n",
      "\n",
      "you"
     ]
    }
   ],
   "source": [
    "sample_string8 = input()\n",
    "for i in sample_string8:\n",
    "    if i==' ':\n",
    "        print('\\n')\n",
    "    else:\n",
    "         print (i,end='')"
   ]
  },
  {
   "cell_type": "markdown",
   "metadata": {},
   "source": [
    "# Answer 16\n",
    "Ask user to input a string and check if the string ends with '?'\n"
   ]
  },
  {
   "cell_type": "code",
   "execution_count": 74,
   "metadata": {},
   "outputs": [
    {
     "name": "stdout",
     "output_type": "stream",
     "text": [
      "Yes it ends with a question mark\n"
     ]
    }
   ],
   "source": [
    "sample_string9 = input()\n",
    "if sample_string9[-1]=='?':\n",
    "    print(\"Yes it ends with a question mark\")\n",
    "else:\n",
    "    print(\"No it does not end with a question mark\")"
   ]
  },
  {
   "cell_type": "markdown",
   "metadata": {},
   "source": [
    "# Answer 17\n",
    "Ask user to input a string and print how many times e appeared in the string\n"
   ]
  },
  {
   "cell_type": "code",
   "execution_count": 77,
   "metadata": {},
   "outputs": [
    {
     "name": "stdout",
     "output_type": "stream",
     "text": [
      "5\n"
     ]
    }
   ],
   "source": [
    "sample_string10 = input()\n",
    "count = 0\n",
    "for i in sample_string10:\n",
    "    if i == 'e':\n",
    "        count = count+1\n",
    "print(count)"
   ]
  },
  {
   "cell_type": "markdown",
   "metadata": {},
   "source": [
    "# Answer 18 \n",
    "Check if the user input is a number."
   ]
  },
  {
   "cell_type": "code",
   "execution_count": 106,
   "metadata": {},
   "outputs": [
    {
     "name": "stdout",
     "output_type": "stream",
     "text": [
      "true\n"
     ]
    }
   ],
   "source": [
    "var = input()\n",
    "if var.isnumeric():\n",
    "    print (\"true\")"
   ]
  },
  {
   "cell_type": "markdown",
   "metadata": {},
   "source": [
    "# Answer 19\n",
    "Remove the extra spaces in beginning and in the end of the following string-\n",
    "```\n",
    "text = '   this is not a good string           '\n",
    "```\n"
   ]
  },
  {
   "cell_type": "code",
   "execution_count": 107,
   "metadata": {},
   "outputs": [
    {
     "data": {
      "text/plain": [
       "'this is not a good string'"
      ]
     },
     "execution_count": 107,
     "metadata": {},
     "output_type": "execute_result"
    }
   ],
   "source": [
    "text = '   this is not a good string           '\n",
    "text=text.strip()\n",
    "text"
   ]
  },
  {
   "cell_type": "markdown",
   "metadata": {},
   "source": [
    "# Answer 20\n",
    "Ask user to input string, print found if any of the character is upper case.\n"
   ]
  },
  {
   "cell_type": "code",
   "execution_count": 111,
   "metadata": {},
   "outputs": [
    {
     "name": "stdout",
     "output_type": "stream",
     "text": [
      "Found\n"
     ]
    }
   ],
   "source": [
    "sample_string11 = input()\n",
    "for i in sample_string11:\n",
    "    if i.isupper():\n",
    "        print(\"Found\")\n",
    "        break"
   ]
  },
  {
   "cell_type": "markdown",
   "metadata": {},
   "source": [
    "# Answer 21\n",
    "Extract names from the following string and store them in a list.\n",
    "```\n",
    "names = 'Joe, David, Mark, Tom, Chris, Robert'\n",
    "```\n"
   ]
  },
  {
   "cell_type": "code",
   "execution_count": 114,
   "metadata": {},
   "outputs": [
    {
     "data": {
      "text/plain": [
       "['Joe', ' David', ' Mark', ' Tom', ' Chris', ' Robert']"
      ]
     },
     "execution_count": 114,
     "metadata": {},
     "output_type": "execute_result"
    }
   ],
   "source": [
    "names = 'Joe, David, Mark, Tom, Chris, Robert'\n",
    "L = names.split(',')\n",
    "L"
   ]
  },
  {
   "cell_type": "markdown",
   "metadata": {},
   "source": [
    "# Answer 22\n",
    "In the following string, add aye in the end of every word and print the results.\n",
    "```\n",
    "text = 'this is some text'\n",
    "```"
   ]
  },
  {
   "cell_type": "code",
   "execution_count": 151,
   "metadata": {},
   "outputs": [
    {
     "name": "stdout",
     "output_type": "stream",
     "text": [
      "thisaye isaye someaye textaye \n"
     ]
    }
   ],
   "source": [
    "text = 'this is some text'\n",
    "L2 = text.split()\n",
    "text2 = \"\"\n",
    "for i in range(0,len(L2)):\n",
    "        text2=text2+L2[i]+\"aye \"\n",
    "text=text2\n",
    "print(text)"
   ]
  },
  {
   "cell_type": "markdown",
   "metadata": {},
   "source": [
    "# Answer 23\n",
    "ask user to enter a string and check if the string contains fyi\n"
   ]
  },
  {
   "cell_type": "code",
   "execution_count": 118,
   "metadata": {},
   "outputs": [
    {
     "name": "stdout",
     "output_type": "stream",
     "text": [
      "Present\n"
     ]
    }
   ],
   "source": [
    "sample_string12 = \"hellofyi\"\n",
    "if \"fyi\" in sample_string12:\n",
    "    print(\"Present\")\n",
    "else:\n",
    "    print(\"Not present\")"
   ]
  },
  {
   "cell_type": "markdown",
   "metadata": {},
   "source": [
    "# Answer 24\n",
    "Remove all the special characters and numbers from the following string\n",
    "```\n",
    "text = '%p34@y!*-*!t68h#&on404'\n",
    "\n",
    "```"
   ]
  },
  {
   "cell_type": "code",
   "execution_count": 128,
   "metadata": {},
   "outputs": [
    {
     "data": {
      "text/plain": [
       "'python'"
      ]
     },
     "execution_count": 128,
     "metadata": {},
     "output_type": "execute_result"
    }
   ],
   "source": [
    "text = '%p34@y!*-*!t68h#&on404'\n",
    "special_charecters = \"!-1234567890@#$%^&*\"\n",
    "for s in special_charecters:\n",
    "    text=text.replace(s,\"\")\n",
    "text"
   ]
  },
  {
   "cell_type": "markdown",
   "metadata": {},
   "source": [
    "# Answer 25\n",
    "calculate the average word length of the following paragraph.\n",
    "```\n",
    "this is a paragraph which is written just for the purpose of providing content to let the average word length be calculated\n",
    "```"
   ]
  },
  {
   "cell_type": "code",
   "execution_count": 144,
   "metadata": {},
   "outputs": [
    {
     "data": {
      "text/plain": [
       "4.636363636363637"
      ]
     },
     "execution_count": 144,
     "metadata": {},
     "output_type": "execute_result"
    }
   ],
   "source": [
    "para = \"this is a paragraph which is written just for the purpose of providing content to let the average word length be calculated\"\n",
    "count=0\n",
    "L=para.split()\n",
    "Length=len(L)\n",
    "for i in para:\n",
    "    count=count+1\n",
    "avr = (count-len(L)+1)/len(L)\n",
    "avr\n"
   ]
  }
 ],
 "metadata": {
  "kernelspec": {
   "display_name": "Python 3.9.12 ('base')",
   "language": "python",
   "name": "python3"
  },
  "language_info": {
   "codemirror_mode": {
    "name": "ipython",
    "version": 3
   },
   "file_extension": ".py",
   "mimetype": "text/x-python",
   "name": "python",
   "nbconvert_exporter": "python",
   "pygments_lexer": "ipython3",
   "version": "3.9.12"
  },
  "orig_nbformat": 4,
  "vscode": {
   "interpreter": {
    "hash": "10bd505096551c50069a3dbdaed0ac86691ac343b612943e6011bfc2aef8ecb4"
   }
  }
 },
 "nbformat": 4,
 "nbformat_minor": 2
}
