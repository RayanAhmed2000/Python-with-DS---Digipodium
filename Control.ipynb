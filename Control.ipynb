{
 "cells": [
  {
   "cell_type": "markdown",
   "metadata": {},
   "source": [
    "### Use of If-else"
   ]
  },
  {
   "cell_type": "code",
   "execution_count": 4,
   "metadata": {},
   "outputs": [
    {
     "name": "stdout",
     "output_type": "stream",
     "text": [
      "even\n"
     ]
    }
   ],
   "source": [
    "x=int(input(\"enter a number\"))\n",
    "if x%2==0:\n",
    "    print(\"even\")\n",
    "else:\n",
    "    print(\"odd\")"
   ]
  },
  {
   "cell_type": "markdown",
   "metadata": {},
   "source": [
    "#### Taking input from user then checking if int value was entered or not"
   ]
  },
  {
   "cell_type": "code",
   "execution_count": 11,
   "metadata": {},
   "outputs": [
    {
     "name": "stdout",
     "output_type": "stream",
     "text": [
      "Bad input\n"
     ]
    }
   ],
   "source": [
    "num= input(\"enter a number\")\n",
    "if num.isnumeric():\n",
    "    print(\"well done\")\n",
    "    num=int(num)\n",
    "  \n",
    "else:\n",
    "    print(\"Bad input\")"
   ]
  },
  {
   "cell_type": "markdown",
   "metadata": {},
   "source": [
    "### Nested if - else"
   ]
  },
  {
   "cell_type": "code",
   "execution_count": 15,
   "metadata": {},
   "outputs": [
    {
     "name": "stdout",
     "output_type": "stream",
     "text": [
      "wrong username\n"
     ]
    }
   ],
   "source": [
    "username= input(\"enter username\")\n",
    "email = input(\"enter email\")\n",
    "password= input(\"enter password\")\n",
    "\n",
    "if username=='Rayan Ahmed':\n",
    "    if email=='rayanahmed4334@gmail.com':\n",
    "        if password== 'hello123':\n",
    "            print(\"authentication successful\")\n",
    "        else :\n",
    "            print(\"Incorrect Password\")\n",
    "    else:\n",
    "        print(\"wrong email address\")\n",
    "else :\n",
    "    print(\"wrong username\")\n",
    "    \n"
   ]
  },
  {
   "cell_type": "markdown",
   "metadata": {},
   "source": [
    "#### The above code can be reduced to one statement by using Logical operators However nested if-else can also be used in situations where you want to give a detailed output to user"
   ]
  },
  {
   "cell_type": "code",
   "execution_count": 19,
   "metadata": {},
   "outputs": [
    {
     "name": "stdout",
     "output_type": "stream",
     "text": [
      "authentication successful 👌\n"
     ]
    }
   ],
   "source": [
    "username= input(\"enter username\")\n",
    "email = input(\"enter email\")\n",
    "password= input(\"enter password\")\n",
    "\n",
    "if username=='Rayan Ahmed' and email=='rayanahmed4334@gmail.com' and password== 'hello123':\n",
    "    print(\"authentication successful 👌\")\n",
    "else :\n",
    "    print(\"Invalid Credentials 😒\") #Just one output doesn't specify which value was entered incorrectly"
   ]
  },
  {
   "cell_type": "markdown",
   "metadata": {},
   "source": [
    "### Using elif"
   ]
  },
  {
   "cell_type": "code",
   "execution_count": 21,
   "metadata": {},
   "outputs": [
    {
     "name": "stdout",
     "output_type": "stream",
     "text": [
      "Authentication successful\n"
     ]
    }
   ],
   "source": [
    "username= input(\"enter username\")\n",
    "email = input(\"enter email\")\n",
    "password= input(\"enter password\")\n",
    "\n",
    "if username != 'Rayan Ahmed':\n",
    "    print(\"Wrong username 😒\")\n",
    "elif email !='rayanahmed4334@gmail.com':\n",
    "    print(\"Wrong email\")\n",
    "elif password !='hello123':\n",
    "    print(\"Wrong Password\")\n",
    "else:\n",
    "    print(\"Authentication successful\")\n"
   ]
  },
  {
   "cell_type": "code",
   "execution_count": 35,
   "metadata": {},
   "outputs": [
    {
     "name": "stdout",
     "output_type": "stream",
     "text": [
      "grade= D\n"
     ]
    }
   ],
   "source": [
    "marks=input(\"enter marks of student\")\n",
    "if not marks.isnumeric():\n",
    "    print(\"Invalid\")\n",
    "else:\n",
    "    marks=int(marks)\n",
    "if marks>=90:\n",
    "    grade='A'\n",
    "elif marks>=80:\n",
    "    grade='B'\n",
    "elif marks>=70 :\n",
    "    grade='C'\n",
    "elif marks>=60 :\n",
    "    grade='D'\n",
    "else:\n",
    "    grade='F'\n",
    "print(\"grade=\",grade)"
   ]
  },
  {
   "cell_type": "code",
   "execution_count": null,
   "metadata": {},
   "outputs": [],
   "source": []
  }
 ],
 "metadata": {
  "kernelspec": {
   "display_name": "Python 3.9.12 ('base')",
   "language": "python",
   "name": "python3"
  },
  "language_info": {
   "codemirror_mode": {
    "name": "ipython",
    "version": 3
   },
   "file_extension": ".py",
   "mimetype": "text/x-python",
   "name": "python",
   "nbconvert_exporter": "python",
   "pygments_lexer": "ipython3",
   "version": "3.9.12"
  },
  "orig_nbformat": 4,
  "vscode": {
   "interpreter": {
    "hash": "10bd505096551c50069a3dbdaed0ac86691ac343b612943e6011bfc2aef8ecb4"
   }
  }
 },
 "nbformat": 4,
 "nbformat_minor": 2
}
