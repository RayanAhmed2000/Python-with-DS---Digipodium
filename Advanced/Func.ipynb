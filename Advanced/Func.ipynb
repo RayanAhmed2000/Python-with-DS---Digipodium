{
 "cells": [
  {
   "cell_type": "markdown",
   "metadata": {},
   "source": [
    "# Creating a Function"
   ]
  },
  {
   "cell_type": "code",
   "execution_count": 2,
   "metadata": {},
   "outputs": [
    {
     "name": "stdout",
     "output_type": "stream",
     "text": [
      "Hello Im outside the function\n"
     ]
    }
   ],
   "source": [
    "def hello():\n",
    "    print('this is a function')\n",
    "    print('this is not a good function')\n",
    "    print('Forget that this function exists')\n",
    "    print('Bye!')\n",
    "\n",
    "print('Hello Im outside the function')"
   ]
  },
  {
   "cell_type": "markdown",
   "metadata": {},
   "source": [
    "# Using our function"
   ]
  },
  {
   "cell_type": "code",
   "execution_count": 3,
   "metadata": {},
   "outputs": [
    {
     "name": "stdout",
     "output_type": "stream",
     "text": [
      "this is a function\n",
      "this is not a good function\n",
      "Forget that this function exists\n",
      "Bye!\n"
     ]
    }
   ],
   "source": [
    "hello()"
   ]
  },
  {
   "cell_type": "markdown",
   "metadata": {},
   "source": [
    "# Creating a funcion to calculate Area"
   ]
  },
  {
   "cell_type": "code",
   "execution_count": 6,
   "metadata": {},
   "outputs": [],
   "source": [
    "def area():\n",
    "    pass        # pass keyword is used to declare a function [optional]"
   ]
  },
  {
   "cell_type": "code",
   "execution_count": 7,
   "metadata": {},
   "outputs": [],
   "source": [
    "def area(length,breath):        # Defining our function                   \n",
    "    ans = length * breath\n",
    "    return ans"
   ]
  },
  {
   "cell_type": "code",
   "execution_count": 8,
   "metadata": {},
   "outputs": [
    {
     "data": {
      "text/plain": [
       "81"
      ]
     },
     "execution_count": 8,
     "metadata": {},
     "output_type": "execute_result"
    }
   ],
   "source": [
    "area(9,9)               # Calling our function"
   ]
  },
  {
   "cell_type": "markdown",
   "metadata": {},
   "source": [
    "# Function can be used within other functions"
   ]
  },
  {
   "cell_type": "code",
   "execution_count": 9,
   "metadata": {},
   "outputs": [
    {
     "name": "stdout",
     "output_type": "stream",
     "text": [
      "The area is 12\n"
     ]
    }
   ],
   "source": [
    "print('The area is',area(4,3))"
   ]
  },
  {
   "cell_type": "markdown",
   "metadata": {},
   "source": [
    "# Values of functions can be stored in variables"
   ]
  },
  {
   "cell_type": "code",
   "execution_count": 13,
   "metadata": {},
   "outputs": [
    {
     "data": {
      "text/plain": [
       "(49, 64)"
      ]
     },
     "execution_count": 13,
     "metadata": {},
     "output_type": "execute_result"
    }
   ],
   "source": [
    "a = area(7,7)\n",
    "b = area(8,8)\n",
    "a,b"
   ]
  },
  {
   "cell_type": "markdown",
   "metadata": {},
   "source": [
    "# Functions can be used in expressions"
   ]
  },
  {
   "cell_type": "code",
   "execution_count": 15,
   "metadata": {},
   "outputs": [
    {
     "data": {
      "text/plain": [
       "190"
      ]
     },
     "execution_count": 15,
     "metadata": {},
     "output_type": "execute_result"
    }
   ],
   "source": [
    "big_area = area(9,10) + area(10,10)\n",
    "big_area"
   ]
  },
  {
   "cell_type": "markdown",
   "metadata": {},
   "source": [
    "# Professionally creating a Function\n",
    "- We can define the datatyoe of arguments of functions (But it is just for the sake of knowledge of user in reality any values can be passed)\n",
    "- after start of function anything within triple quotes will count as function documentation"
   ]
  },
  {
   "cell_type": "code",
   "execution_count": 24,
   "metadata": {},
   "outputs": [],
   "source": [
    "def fib(start:int, size:int):\n",
    "    '''                                         \n",
    "    # This is fibonacci function\n",
    "    - start : pass a number for the start of fibonacci series\n",
    "    - returns list of fibonacci series\n",
    "    '''\n",
    "    # hover the cursor over the function name to view details\n",
    "\n",
    "    out = [start,start+1] #list with 2 initial values\n",
    "    for i in range(size-2):\n",
    "        out.append(out[-1] +out[-2])\n",
    "    return out"
   ]
  },
  {
   "cell_type": "code",
   "execution_count": 25,
   "metadata": {},
   "outputs": [
    {
     "name": "stdout",
     "output_type": "stream",
     "text": [
      "[0, 1, 1, 2, 3, 5, 8, 13, 21, 34, 55, 89, 144, 233, 377, 610, 987, 1597, 2584, 4181, 6765, 10946, 17711, 28657, 46368]\n"
     ]
    }
   ],
   "source": [
    "print(fib(0,25))"
   ]
  },
  {
   "cell_type": "markdown",
   "metadata": {},
   "source": [
    "# Create a function to calculate SI and amount and return"
   ]
  },
  {
   "cell_type": "code",
   "execution_count": 40,
   "metadata": {},
   "outputs": [],
   "source": [
    "def interest(p,r,t):\n",
    "    SI = p*r*t/100\n",
    "    amount = p+SI\n",
    "    return SI,amount"
   ]
  },
  {
   "cell_type": "code",
   "execution_count": null,
   "metadata": {},
   "outputs": [],
   "source": [
    "print(interest(1000,5,10))\n",
    "\n",
    "# OR you can store return values in variables\n",
    "\n",
    "si,amt = print(interest(1000,5,10))\n",
    "print(si,amt)"
   ]
  },
  {
   "cell_type": "markdown",
   "metadata": {},
   "source": [
    "# Importing Our utils file "
   ]
  },
  {
   "cell_type": "code",
   "execution_count": 1,
   "metadata": {},
   "outputs": [],
   "source": [
    "import utils"
   ]
  },
  {
   "cell_type": "code",
   "execution_count": 2,
   "metadata": {},
   "outputs": [],
   "source": [
    "s = 'This is that, that is this , why is what and what is why'"
   ]
  },
  {
   "cell_type": "code",
   "execution_count": 3,
   "metadata": {},
   "outputs": [
    {
     "name": "stdout",
     "output_type": "stream",
     "text": [
      "s 6\n",
      "h 8\n",
      "  13\n",
      "y 2\n",
      "i 6\n",
      "t 7\n",
      ", 2\n",
      "n 1\n",
      "a 5\n",
      "T 1\n",
      "w 4\n",
      "d 1\n"
     ]
    },
    {
     "data": {
      "text/plain": [
       "{'s': 6,\n",
       " 'h': 8,\n",
       " ' ': 13,\n",
       " 'y': 2,\n",
       " 'i': 6,\n",
       " 't': 7,\n",
       " ',': 2,\n",
       " 'n': 1,\n",
       " 'a': 5,\n",
       " 'T': 1,\n",
       " 'w': 4,\n",
       " 'd': 1}"
      ]
     },
     "execution_count": 3,
     "metadata": {},
     "output_type": "execute_result"
    }
   ],
   "source": [
    "utils.char_counter(s)"
   ]
  },
  {
   "cell_type": "code",
   "execution_count": 4,
   "metadata": {},
   "outputs": [
    {
     "data": {
      "text/plain": [
       "{'is': 4,\n",
       " 'this': 1,\n",
       " 'This': 1,\n",
       " ',': 1,\n",
       " 'why': 2,\n",
       " 'that,': 1,\n",
       " 'what': 2,\n",
       " 'that': 1,\n",
       " 'and': 1}"
      ]
     },
     "execution_count": 4,
     "metadata": {},
     "output_type": "execute_result"
    }
   ],
   "source": [
    "utils.word_counter(s)"
   ]
  },
  {
   "cell_type": "code",
   "execution_count": null,
   "metadata": {},
   "outputs": [],
   "source": []
  }
 ],
 "metadata": {
  "kernelspec": {
   "display_name": "Python 3.9.12 ('base')",
   "language": "python",
   "name": "python3"
  },
  "language_info": {
   "codemirror_mode": {
    "name": "ipython",
    "version": 3
   },
   "file_extension": ".py",
   "mimetype": "text/x-python",
   "name": "python",
   "nbconvert_exporter": "python",
   "pygments_lexer": "ipython3",
   "version": "3.9.12"
  },
  "orig_nbformat": 4,
  "vscode": {
   "interpreter": {
    "hash": "10bd505096551c50069a3dbdaed0ac86691ac343b612943e6011bfc2aef8ecb4"
   }
  }
 },
 "nbformat": 4,
 "nbformat_minor": 2
}
