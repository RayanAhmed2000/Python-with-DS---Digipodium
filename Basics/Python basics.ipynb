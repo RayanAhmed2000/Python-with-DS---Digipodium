{
 "cells": [
  {
   "cell_type": "markdown",
   "metadata": {},
   "source": [
    "## Raw output only for developers"
   ]
  },
  {
   "cell_type": "code",
   "execution_count": 5,
   "metadata": {},
   "outputs": [
    {
     "name": "stdout",
     "output_type": "stream",
     "text": [
      "this is an apple it is a fruit i dont like apples\n"
     ]
    }
   ],
   "source": [
    "print('this is an apple', 'it is a fruit', 'i dont like apples' )"
   ]
  },
  {
   "cell_type": "code",
   "execution_count": 6,
   "metadata": {},
   "outputs": [
    {
     "name": "stdout",
     "output_type": "stream",
     "text": [
      "1 2 3 4 5\n"
     ]
    }
   ],
   "source": [
    "print(1,2,3,4,5)"
   ]
  },
  {
   "cell_type": "code",
   "execution_count": 7,
   "metadata": {},
   "outputs": [
    {
     "name": "stdout",
     "output_type": "stream",
     "text": [
      "this is python data science\n",
      "we are going to code\n",
      "and learn secrets of python\n"
     ]
    }
   ],
   "source": [
    "print('this is python data science')\n",
    "print('we are going to code')\n",
    "print('and learn secrets of python')"
   ]
  },
  {
   "cell_type": "markdown",
   "metadata": {},
   "source": [
    "### Multiple print statements will be executed in new lines"
   ]
  },
  {
   "cell_type": "code",
   "execution_count": 9,
   "metadata": {},
   "outputs": [
    {
     "name": "stdout",
     "output_type": "stream",
     "text": [
      "this is python data science\n",
      "we are going to code\n"
     ]
    }
   ],
   "source": [
    "print('this is python data science\\nwe are going to code')"
   ]
  },
  {
   "cell_type": "markdown",
   "metadata": {},
   "source": [
    "### If we want to change line in single print statement use \\n"
   ]
  },
  {
   "cell_type": "code",
   "execution_count": 10,
   "metadata": {},
   "outputs": [
    {
     "name": "stdout",
     "output_type": "stream",
     "text": [
      "The Zen of Python, by Tim Peters\n",
      "\n",
      "Beautiful is better than ugly.\n",
      "Explicit is better than implicit.\n",
      "Simple is better than complex.\n",
      "Complex is better than complicated.\n",
      "Flat is better than nested.\n",
      "Sparse is better than dense.\n",
      "Readability counts.\n",
      "Special cases aren't special enough to break the rules.\n",
      "Although practicality beats purity.\n",
      "Errors should never pass silently.\n",
      "Unless explicitly silenced.\n",
      "In the face of ambiguity, refuse the temptation to guess.\n",
      "There should be one-- and preferably only one --obvious way to do it.\n",
      "Although that way may not be obvious at first unless you're Dutch.\n",
      "Now is better than never.\n",
      "Although never is often better than *right* now.\n",
      "If the implementation is hard to explain, it's a bad idea.\n",
      "If the implementation is easy to explain, it may be a good idea.\n",
      "Namespaces are one honking great idea -- let's do more of those!\n"
     ]
    }
   ],
   "source": [
    "import this"
   ]
  },
  {
   "cell_type": "markdown",
   "metadata": {},
   "source": [
    "### If we add three single inverted commas in print it will be printed as it is"
   ]
  },
  {
   "cell_type": "code",
   "execution_count": 11,
   "metadata": {},
   "outputs": [
    {
     "name": "stdout",
     "output_type": "stream",
     "text": [
      "\n",
      "hello\n",
      "this is python \n",
      "with data science\n",
      "\n"
     ]
    }
   ],
   "source": [
    "print('''\n",
    "hello\n",
    "this is python \n",
    "with data science\n",
    "''')"
   ]
  },
  {
   "cell_type": "markdown",
   "metadata": {},
   "source": [
    "### Using 'sep' and 'end' with print"
   ]
  },
  {
   "cell_type": "code",
   "execution_count": 15,
   "metadata": {},
   "outputs": [
    {
     "name": "stdout",
     "output_type": "stream",
     "text": [
      "1❤️2❤️3❤️4❤️5❤️6❤️7❤️8\n"
     ]
    }
   ],
   "source": [
    "print(1,2,3,4,5,6,7,8,sep='❤️')"
   ]
  },
  {
   "cell_type": "code",
   "execution_count": 19,
   "metadata": {},
   "outputs": [
    {
     "name": "stdout",
     "output_type": "stream",
     "text": [
      "This is"
     ]
    }
   ],
   "source": [
    "print('This',end=' ')\n",
    "print('is',end='')"
   ]
  },
  {
   "cell_type": "markdown",
   "metadata": {},
   "source": [
    "## Data types and variables"
   ]
  },
  {
   "cell_type": "code",
   "execution_count": 25,
   "metadata": {},
   "outputs": [],
   "source": [
    "age = 18\n",
    "name = 'bob'\n",
    "color2 = 'orange'\n",
    "is_sleeping = False"
   ]
  },
  {
   "cell_type": "markdown",
   "metadata": {},
   "source": [
    "### Datatype can be changed by changing the value of variable"
   ]
  },
  {
   "cell_type": "code",
   "execution_count": 34,
   "metadata": {},
   "outputs": [],
   "source": [
    "name = 'oggy'\n",
    "color2 = 12"
   ]
  },
  {
   "cell_type": "markdown",
   "metadata": {},
   "source": [
    "### Integer datatypes"
   ]
  },
  {
   "cell_type": "code",
   "execution_count": 35,
   "metadata": {},
   "outputs": [],
   "source": [
    "x=12\n",
    "x2=429034905859593\n",
    "y=45.554093450934\n",
    "z=-7489494"
   ]
  },
  {
   "cell_type": "markdown",
   "metadata": {},
   "source": [
    "### Float Datatypes"
   ]
  },
  {
   "cell_type": "code",
   "execution_count": 40,
   "metadata": {},
   "outputs": [],
   "source": [
    "x= 1.10\n",
    "y=9.0\n",
    "z=-67.88\n",
    "z2=87.8e100"
   ]
  },
  {
   "cell_type": "markdown",
   "metadata": {},
   "source": [
    "### Strings"
   ]
  },
  {
   "cell_type": "code",
   "execution_count": 38,
   "metadata": {},
   "outputs": [],
   "source": [
    "name = \"bruce wayne 01\"\n",
    "color = 'yellow'\n",
    "institute = 'digipodium'"
   ]
  },
  {
   "cell_type": "markdown",
   "metadata": {},
   "source": [
    "### Deleting variable from memory"
   ]
  },
  {
   "cell_type": "code",
   "execution_count": 39,
   "metadata": {},
   "outputs": [],
   "source": [
    "del x"
   ]
  },
  {
   "cell_type": "markdown",
   "metadata": {},
   "source": [
    "### Boolen datatypes"
   ]
  },
  {
   "cell_type": "code",
   "execution_count": 41,
   "metadata": {},
   "outputs": [],
   "source": [
    "is_coding = True\n",
    "is_fun  = True\n",
    "are_you_bored = False"
   ]
  },
  {
   "cell_type": "markdown",
   "metadata": {},
   "source": [
    "### When you don't want to store somethong but want to create an empty variable"
   ]
  },
  {
   "cell_type": "code",
   "execution_count": 43,
   "metadata": {},
   "outputs": [],
   "source": [
    "a = None"
   ]
  },
  {
   "cell_type": "markdown",
   "metadata": {},
   "source": [
    "## Lists\n",
    "* ordered sequence\n",
    "* within square brackets \n",
    "* comma separated values\n",
    "* any number of values\n",
    "* repetable items allowed\n",
    "* mutable i.e. can be changed"
   ]
  },
  {
   "cell_type": "code",
   "execution_count": 45,
   "metadata": {},
   "outputs": [],
   "source": [
    "a= [5,6,3,6.5,6,7]\n",
    "val=[2,'python']\n"
   ]
  },
  {
   "cell_type": "markdown",
   "metadata": {},
   "source": [
    "## Tuples\n",
    "* Same as List \n",
    "* only difference is that it is immutable\n",
    "* values within paranthesis"
   ]
  },
  {
   "cell_type": "code",
   "execution_count": 46,
   "metadata": {},
   "outputs": [],
   "source": [
    "t = (1,2,3,5)"
   ]
  },
  {
   "cell_type": "markdown",
   "metadata": {},
   "source": [
    "# Sets\n",
    "* unordered collection (doesn't maintain order of elements as they were entered)\n",
    "* they eliminate duplicates\n",
    "* values within braces"
   ]
  },
  {
   "cell_type": "code",
   "execution_count": 50,
   "metadata": {},
   "outputs": [],
   "source": [
    "s = {1,'hello',78}"
   ]
  },
  {
   "cell_type": "markdown",
   "metadata": {},
   "source": [
    "# Dictionaries\n",
    "* ordered collection\n",
    "* huge amount of data\n",
    "* data stored in key value pair "
   ]
  },
  {
   "cell_type": "code",
   "execution_count": 51,
   "metadata": {},
   "outputs": [],
   "source": [
    "car_info ={\n",
    "    \"brand\" : \"ford\" , \n",
    "    \"model\" : \"Mustang\" , \n",
    "    \"year\" : 1964\n",
    "}"
   ]
  },
  {
   "cell_type": "markdown",
   "metadata": {},
   "source": [
    "### Taking input from user"
   ]
  },
  {
   "cell_type": "code",
   "execution_count": 52,
   "metadata": {},
   "outputs": [
    {
     "name": "stdout",
     "output_type": "stream",
     "text": [
      " you are Rayan\n",
      "and you live in Lucknow\n"
     ]
    }
   ],
   "source": [
    "name = input('what is your name')\n",
    "city = input('what city do you live in')\n",
    "print(' you are', name)\n",
    "print('and you live in',city)"
   ]
  },
  {
   "cell_type": "markdown",
   "metadata": {},
   "source": [
    "# operators\n",
    "* arithmetic operators"
   ]
  },
  {
   "cell_type": "code",
   "execution_count": 1,
   "metadata": {},
   "outputs": [
    {
     "name": "stdout",
     "output_type": "stream",
     "text": [
      "103\n",
      "97\n",
      "300\n",
      "33.333333333333336\n",
      "33\n",
      "1\n",
      "1000000\n"
     ]
    }
   ],
   "source": [
    "a= 100\n",
    "b= 3\n",
    "\n",
    "print(a+b) #add\n",
    "print(a-b) #sub\n",
    "print(a*b) #mul\n",
    "print(a/b) #float div\n",
    "print(a//b) #int div\n",
    "print(a%b) #mod remainder\n",
    "print(a**b) #exponent\n",
    " "
   ]
  },
  {
   "cell_type": "markdown",
   "metadata": {},
   "source": [
    "* assignment operators\n"
   ]
  },
  {
   "cell_type": "code",
   "execution_count": 11,
   "metadata": {},
   "outputs": [],
   "source": [
    "#assignment operators\n",
    "\n",
    "a= 10\n",
    "b= None\n",
    "\n",
    "x,y,z =10 ,20 , 30\n"
   ]
  },
  {
   "cell_type": "markdown",
   "metadata": {},
   "source": [
    "* Short hand notation / updation"
   ]
  },
  {
   "cell_type": "code",
   "execution_count": 13,
   "metadata": {},
   "outputs": [
    {
     "name": "stdout",
     "output_type": "stream",
     "text": [
      "102\n",
      "100\n",
      "200\n",
      "100\n",
      "50.0\n",
      "2500.0\n"
     ]
    }
   ],
   "source": [
    "p=100\n",
    "\n",
    "p +=2\n",
    "print(p)\n",
    "p -=2\n",
    "print(p)\n",
    "p*=2\n",
    "print(p)\n",
    "p//=2\n",
    "print(p)\n",
    "p/=2\n",
    "print(p)\n",
    "p**=2\n",
    "print(p)\n",
    "\n",
    "\n"
   ]
  },
  {
   "cell_type": "markdown",
   "metadata": {},
   "source": [
    "* Comparison operators"
   ]
  },
  {
   "cell_type": "code",
   "execution_count": 18,
   "metadata": {},
   "outputs": [
    {
     "name": "stdout",
     "output_type": "stream",
     "text": [
      "False\n",
      "True\n",
      "False\n",
      "True\n",
      "False\n",
      "True\n"
     ]
    }
   ],
   "source": [
    "f=10 \n",
    "g=20\n",
    "print(f>g)\n",
    "print(f<g)\n",
    "print(f>=g)\n",
    "print(f<=g)\n",
    "print(f==g)\n",
    "print(f!=g)"
   ]
  },
  {
   "cell_type": "markdown",
   "metadata": {},
   "source": [
    "* logical operators (**and, or, not**)"
   ]
  },
  {
   "cell_type": "code",
   "execution_count": 24,
   "metadata": {},
   "outputs": [
    {
     "name": "stdout",
     "output_type": "stream",
     "text": [
      "False\n",
      "True\n",
      "True\n",
      "False\n"
     ]
    }
   ],
   "source": [
    "a=10 \n",
    "b=20\n",
    "\n",
    "print(a>b and b<a)   #and\n",
    "print(a>b or b>a)   #or\n",
    "print (not a>b)     #not\n",
    "\n",
    "print(not a and not b and not c) #c is not created hence result will be false "
   ]
  },
  {
   "cell_type": "markdown",
   "metadata": {},
   "source": [
    "* membership operators (used to find items)"
   ]
  },
  {
   "cell_type": "code",
   "execution_count": 30,
   "metadata": {},
   "outputs": [
    {
     "name": "stdout",
     "output_type": "stream",
     "text": [
      "True\n",
      "False\n",
      "False\n",
      "True\n",
      "True\n",
      "False\n",
      "True\n"
     ]
    }
   ],
   "source": [
    "#searching in list using membership operator i.e. in\n",
    "\n",
    "colors= ['red','green','blue','purple'] #list of colors\n",
    "\n",
    "print('red' in colors)   \n",
    "print('Red' in colors)\n",
    "print('Orange' in colors)\n",
    "print('green' in colors)\n",
    "\n",
    "#searching in string\n",
    "\n",
    "msg='Its the journey that matters'\n",
    "\n",
    "print('journey' in msg)\n",
    "print('destination' in msg)\n",
    "print('that' in msg)"
   ]
  },
  {
   "cell_type": "markdown",
   "metadata": {},
   "source": [
    "**is** operator\n",
    "* is operator is used to check wether objects belong to same memory location or not"
   ]
  },
  {
   "cell_type": "markdown",
   "metadata": {},
   "source": [
    "## Questions"
   ]
  },
  {
   "cell_type": "code",
   "execution_count": 43,
   "metadata": {},
   "outputs": [
    {
     "name": "stdout",
     "output_type": "stream",
     "text": [
      "78.5\n"
     ]
    }
   ],
   "source": [
    "#area of circle\n",
    "\n",
    "r=5\n",
    "area= 3.14*r**2\n",
    "print(area)"
   ]
  },
  {
   "cell_type": "code",
   "execution_count": 40,
   "metadata": {},
   "outputs": [
    {
     "name": "stdout",
     "output_type": "stream",
     "text": [
      "15\n"
     ]
    }
   ],
   "source": [
    "l=3\n",
    "b=5\n",
    "area= l*b\n",
    "print(area)"
   ]
  },
  {
   "cell_type": "code",
   "execution_count": 42,
   "metadata": {},
   "outputs": [
    {
     "name": "stdout",
     "output_type": "stream",
     "text": [
      "25.0\n"
     ]
    }
   ],
   "source": [
    "b=5\n",
    "h=10\n",
    "area=0.5*b*h\n",
    "print(area)"
   ]
  },
  {
   "cell_type": "markdown",
   "metadata": {},
   "source": [
    "### By default input by user is treated as **string**"
   ]
  },
  {
   "cell_type": "markdown",
   "metadata": {},
   "source": [
    "### So we need to cast it to int or float to use in our calculations"
   ]
  },
  {
   "cell_type": "code",
   "execution_count": 45,
   "metadata": {},
   "outputs": [
    {
     "name": "stdout",
     "output_type": "stream",
     "text": [
      "78.5\n"
     ]
    }
   ],
   "source": [
    "#area of circle by taking user input\n",
    "\n",
    "radius =  int(input('enter radius'))\n",
    "area = 3.14*r**2\n",
    "print(area)"
   ]
  },
  {
   "cell_type": "code",
   "execution_count": 46,
   "metadata": {},
   "outputs": [
    {
     "name": "stdout",
     "output_type": "stream",
     "text": [
      "9\n"
     ]
    }
   ],
   "source": [
    "#area of rectangle by taking user input\n",
    "\n",
    "length =int(input('enter length'))\n",
    "breadth =int(input('enter breadth'))\n",
    "area = length * breadth\n",
    "print(area)"
   ]
  },
  {
   "cell_type": "markdown",
   "metadata": {},
   "source": [
    "### Using Modules i.e Libraries"
   ]
  },
  {
   "cell_type": "code",
   "execution_count": 47,
   "metadata": {},
   "outputs": [],
   "source": [
    "import math"
   ]
  },
  {
   "cell_type": "code",
   "execution_count": 50,
   "metadata": {},
   "outputs": [
    {
     "name": "stdout",
     "output_type": "stream",
     "text": [
      "hypotneus is 3.6055512754639896\n"
     ]
    }
   ],
   "source": [
    "#Using hypot math function\n",
    "\n",
    "p=float(input('enter perpendicular'))\n",
    "b=float(input('enter base'))\n",
    "h=math.hypot(p,b)\n",
    "print('hypotneus is',h)"
   ]
  },
  {
   "cell_type": "code",
   "execution_count": 53,
   "metadata": {},
   "outputs": [
    {
     "name": "stdout",
     "output_type": "stream",
     "text": [
      "3628800\n"
     ]
    }
   ],
   "source": [
    "#using factorial math function\n",
    "\n",
    "print(math.factorial(10))"
   ]
  },
  {
   "cell_type": "code",
   "execution_count": 54,
   "metadata": {},
   "outputs": [
    {
     "name": "stdout",
     "output_type": "stream",
     "text": [
      "['__doc__', '__loader__', '__name__', '__package__', '__spec__', 'acos', 'acosh', 'asin', 'asinh', 'atan', 'atan2', 'atanh', 'ceil', 'comb', 'copysign', 'cos', 'cosh', 'degrees', 'dist', 'e', 'erf', 'erfc', 'exp', 'expm1', 'fabs', 'factorial', 'floor', 'fmod', 'frexp', 'fsum', 'gamma', 'gcd', 'hypot', 'inf', 'isclose', 'isfinite', 'isinf', 'isnan', 'isqrt', 'lcm', 'ldexp', 'lgamma', 'log', 'log10', 'log1p', 'log2', 'modf', 'nan', 'nextafter', 'perm', 'pi', 'pow', 'prod', 'radians', 'remainder', 'sin', 'sinh', 'sqrt', 'tan', 'tanh', 'tau', 'trunc', 'ulp']\n"
     ]
    }
   ],
   "source": [
    "print(dir(math))"
   ]
  },
  {
   "cell_type": "code",
   "execution_count": 56,
   "metadata": {},
   "outputs": [
    {
     "name": "stdout",
     "output_type": "stream",
     "text": [
      "Compund Interest is 357.5974359375\n"
     ]
    }
   ],
   "source": [
    "#Program for compound intrest\n",
    "#A is amount \n",
    "#P is the principal amount \n",
    "#R is the rate and \n",
    "#T is the time span \n",
    "\n",
    "principle= float(input('enter principal'))\n",
    "R= float(input('enter rate'))\n",
    "T= float(input('enter time'))\n",
    "A =principle * (pow((1 + R / 100), T))\n",
    "CI= A - principle\n",
    "print ('Compund Interest is', CI)\n",
    "\n"
   ]
  }
 ],
 "metadata": {
  "kernelspec": {
   "display_name": "Python 3.9.12 ('base')",
   "language": "python",
   "name": "python3"
  },
  "language_info": {
   "codemirror_mode": {
    "name": "ipython",
    "version": 3
   },
   "file_extension": ".py",
   "mimetype": "text/x-python",
   "name": "python",
   "nbconvert_exporter": "python",
   "pygments_lexer": "ipython3",
   "version": "3.9.12"
  },
  "orig_nbformat": 4,
  "vscode": {
   "interpreter": {
    "hash": "10bd505096551c50069a3dbdaed0ac86691ac343b612943e6011bfc2aef8ecb4"
   }
  }
 },
 "nbformat": 4,
 "nbformat_minor": 2
}
