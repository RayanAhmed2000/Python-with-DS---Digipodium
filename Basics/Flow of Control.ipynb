{
 "cells": [
  {
   "cell_type": "markdown",
   "metadata": {},
   "source": [
    "### Use of If-else"
   ]
  },
  {
   "cell_type": "code",
   "execution_count": 4,
   "metadata": {},
   "outputs": [
    {
     "name": "stdout",
     "output_type": "stream",
     "text": [
      "even\n"
     ]
    }
   ],
   "source": [
    "x=int(input(\"enter a number\"))\n",
    "if x%2==0:\n",
    "    print(\"even\")\n",
    "else:\n",
    "    print(\"odd\")"
   ]
  },
  {
   "cell_type": "markdown",
   "metadata": {},
   "source": [
    "#### Taking input from user then checking if int value was entered or not"
   ]
  },
  {
   "cell_type": "code",
   "execution_count": 11,
   "metadata": {},
   "outputs": [
    {
     "name": "stdout",
     "output_type": "stream",
     "text": [
      "Bad input\n"
     ]
    }
   ],
   "source": [
    "num= input(\"enter a number\")\n",
    "if num.isnumeric():\n",
    "    print(\"well done\")\n",
    "    num=int(num)\n",
    "  \n",
    "else:\n",
    "    print(\"Bad input\")"
   ]
  },
  {
   "cell_type": "markdown",
   "metadata": {},
   "source": [
    "### Nested if - else"
   ]
  },
  {
   "cell_type": "code",
   "execution_count": 15,
   "metadata": {},
   "outputs": [
    {
     "name": "stdout",
     "output_type": "stream",
     "text": [
      "wrong username\n"
     ]
    }
   ],
   "source": [
    "username= input(\"enter username\")\n",
    "email = input(\"enter email\")\n",
    "password= input(\"enter password\")\n",
    "\n",
    "if username=='Rayan Ahmed':\n",
    "    if email=='rayanahmed4334@gmail.com':\n",
    "        if password== 'hello123':\n",
    "            print(\"authentication successful\")\n",
    "        else :\n",
    "            print(\"Incorrect Password\")\n",
    "    else:\n",
    "        print(\"wrong email address\")\n",
    "else :\n",
    "    print(\"wrong username\")\n",
    "    \n"
   ]
  },
  {
   "cell_type": "markdown",
   "metadata": {},
   "source": [
    "#### The above code can be reduced to one statement by using Logical operators However nested if-else can also be used in situations where you want to give a detailed output to user"
   ]
  },
  {
   "cell_type": "code",
   "execution_count": 19,
   "metadata": {},
   "outputs": [
    {
     "name": "stdout",
     "output_type": "stream",
     "text": [
      "authentication successful 👌\n"
     ]
    }
   ],
   "source": [
    "username= input(\"enter username\")\n",
    "email = input(\"enter email\")\n",
    "password= input(\"enter password\")\n",
    "\n",
    "if username=='Rayan Ahmed' and email=='rayanahmed4334@gmail.com' and password== 'hello123':\n",
    "    print(\"authentication successful 👌\")\n",
    "else :\n",
    "    print(\"Invalid Credentials 😒\") #Just one output doesn't specify which value was entered incorrectly"
   ]
  },
  {
   "cell_type": "markdown",
   "metadata": {},
   "source": [
    "### Using elif"
   ]
  },
  {
   "cell_type": "code",
   "execution_count": 21,
   "metadata": {},
   "outputs": [
    {
     "name": "stdout",
     "output_type": "stream",
     "text": [
      "Authentication successful\n"
     ]
    }
   ],
   "source": [
    "username= input(\"enter username\")\n",
    "email = input(\"enter email\")\n",
    "password= input(\"enter password\")\n",
    "\n",
    "if username != 'Rayan Ahmed':\n",
    "    print(\"Wrong username 😒\")\n",
    "elif email !='rayanahmed4334@gmail.com':\n",
    "    print(\"Wrong email\")\n",
    "elif password !='hello123':\n",
    "    print(\"Wrong Password\")\n",
    "else:\n",
    "    print(\"Authentication successful\")\n"
   ]
  },
  {
   "cell_type": "code",
   "execution_count": 35,
   "metadata": {},
   "outputs": [
    {
     "name": "stdout",
     "output_type": "stream",
     "text": [
      "grade= D\n"
     ]
    }
   ],
   "source": [
    "marks=input(\"enter marks of student\")\n",
    "if not marks.isnumeric():\n",
    "    print(\"Invalid\")\n",
    "else:\n",
    "    marks=int(marks)\n",
    "if marks>=90:\n",
    "    grade='A'\n",
    "elif marks>=80:\n",
    "    grade='B'\n",
    "elif marks>=70 :\n",
    "    grade='C'\n",
    "elif marks>=60 :\n",
    "    grade='D'\n",
    "else:\n",
    "    grade='F'\n",
    "print(\"grade=\",grade)"
   ]
  },
  {
   "cell_type": "markdown",
   "metadata": {},
   "source": [
    "### Loops in Python"
   ]
  },
  {
   "cell_type": "markdown",
   "metadata": {},
   "source": [
    "### for loop"
   ]
  },
  {
   "cell_type": "markdown",
   "metadata": {},
   "source": [
    "### for var in iterable:\n",
    "  syntax\n",
    "  for <variable> in <sequence>:\n",
    "    statement 1\n",
    "    statement 2\n",
    "    statement 3\n",
    "    ....\n",
    "    statement n\n"
   ]
  },
  {
   "cell_type": "code",
   "execution_count": 3,
   "metadata": {},
   "outputs": [
    {
     "name": "stdout",
     "output_type": "stream",
     "text": [
      "P\n",
      "Y\n",
      "T\n",
      "H\n",
      "O\n",
      "N\n"
     ]
    }
   ],
   "source": [
    "x='PYTHON'    #basic loop\n",
    "for i in x:\n",
    "    print(i)"
   ]
  },
  {
   "cell_type": "markdown",
   "metadata": {},
   "source": [
    "### using range() function in for loop : the range function has 3 argumnets\n",
    "- START - which number to start from\n",
    "- END - which number to end at : it ends at a number less than the specified value\n",
    "- GAP - how much gap to keep between numbers"
   ]
  },
  {
   "cell_type": "code",
   "execution_count": 21,
   "metadata": {},
   "outputs": [
    {
     "name": "stdout",
     "output_type": "stream",
     "text": [
      "level 1\n",
      "level 4\n",
      "level 7\n"
     ]
    }
   ],
   "source": [
    "for num in range (1,10,3):\n",
    "    print('level',num)"
   ]
  },
  {
   "cell_type": "code",
   "execution_count": 23,
   "metadata": {},
   "outputs": [
    {
     "name": "stdout",
     "output_type": "stream",
     "text": [
      "10\n",
      "9\n",
      "8\n",
      "7\n",
      "6\n"
     ]
    }
   ],
   "source": [
    "for num in range(10,5,-1):  #you can also generate numbers in reverse order by using - sign\n",
    "    print(num)"
   ]
  },
  {
   "cell_type": "code",
   "execution_count": 24,
   "metadata": {},
   "outputs": [
    {
     "name": "stdout",
     "output_type": "stream",
     "text": [
      "\n",
      "Na\n",
      "NaNa\n",
      "NaNaNa\n",
      "NaNaNaNa\n",
      "NaNaNaNaNa\n",
      "NaNaNaNaNaNa\n",
      "NaNaNaNaNaNaNa\n",
      "NaNaNaNaNaNaNaNa\n",
      "NaNaNaNaNaNaNaNaNa\n"
     ]
    }
   ],
   "source": [
    "for i in range(10):\n",
    "    print(i * 'Na')"
   ]
  },
  {
   "cell_type": "code",
   "execution_count": 19,
   "metadata": {},
   "outputs": [
    {
     "name": "stdout",
     "output_type": "stream",
     "text": [
      "tou got point 0\n",
      "tou got point 1\n",
      "tou got point 2\n",
      "tou got point 3\n",
      "tou got point 4\n",
      "tou got point 5\n"
     ]
    }
   ],
   "source": [
    "for i in range(6):        #for loop using range function\n",
    "    print(\"you got point\",i)"
   ]
  },
  {
   "cell_type": "code",
   "execution_count": 2,
   "metadata": {},
   "outputs": [
    {
     "data": {
      "text/plain": [
       "9"
      ]
     },
     "execution_count": 2,
     "metadata": {},
     "output_type": "execute_result"
    }
   ],
   "source": [
    "word='Volkwagen'\n",
    "len(word)"
   ]
  },
  {
   "cell_type": "markdown",
   "metadata": {},
   "source": [
    "### String settings \n",
    "- r = raw strings (for traeting string as raw ignoring all escape sequences)\n",
    "- f = formatted strings (allows to put variables in string)\n",
    "- b = byte string"
   ]
  },
  {
   "cell_type": "code",
   "execution_count": 9,
   "metadata": {},
   "outputs": [
    {
     "ename": "SyntaxError",
     "evalue": "unexpected character after line continuation character (1637863574.py, line 1)",
     "output_type": "error",
     "traceback": [
      "\u001b[1;36m  Input \u001b[1;32mIn [9]\u001b[1;36m\u001b[0m\n\u001b[1;33m    C:\\Users\\mcups\\Desktop\\coding\\Python with DS - Digipodium\\Star using turtle.py\u001b[0m\n\u001b[1;37m       ^\u001b[0m\n\u001b[1;31mSyntaxError\u001b[0m\u001b[1;31m:\u001b[0m unexpected character after line continuation character\n"
     ]
    }
   ],
   "source": [
    "\"C:\\Users\\mcups\\Desktop\\coding\\Python with DS - Digipodium\\Star using turtle.py\"\n",
    "#it will give error"
   ]
  },
  {
   "cell_type": "code",
   "execution_count": 11,
   "metadata": {},
   "outputs": [
    {
     "data": {
      "text/plain": [
       "'C:\\\\Users\\\\mcups\\\\Desktop\\\\coding\\\\Python with DS - Digipodium\\\\Star using turtle.py'"
      ]
     },
     "execution_count": 11,
     "metadata": {},
     "output_type": "execute_result"
    }
   ],
   "source": [
    "r\"C:\\Users\\mcups\\Desktop\\coding\\Python with DS - Digipodium\\Star using turtle.py\"\n",
    "#using r "
   ]
  },
  {
   "cell_type": "code",
   "execution_count": 13,
   "metadata": {},
   "outputs": [
    {
     "name": "stdout",
     "output_type": "stream",
     "text": [
      "i have count 10 birds on tree\n"
     ]
    }
   ],
   "source": [
    "a = 10\n",
    "b= 'birds'\n",
    "print ('i have count',a,b,'on tree')\n",
    "#without f we have to put values outside separated by comma"
   ]
  },
  {
   "cell_type": "code",
   "execution_count": 15,
   "metadata": {},
   "outputs": [
    {
     "name": "stdout",
     "output_type": "stream",
     "text": [
      "i have 10 birds on tree\n"
     ]
    }
   ],
   "source": [
    "a = 10\n",
    "b = 'birds'\n",
    "print(f'i have {a} {b} on tree')\n",
    "#using f we can keep variables inside inverted commas"
   ]
  },
  {
   "cell_type": "code",
   "execution_count": 8,
   "metadata": {},
   "outputs": [
    {
     "name": "stdout",
     "output_type": "stream",
     "text": [
      "i have apple\n",
      "i have banana\n",
      "i have lemon\n"
     ]
    }
   ],
   "source": [
    "fruits = ['apple','banana','lemon']    #another example of f\n",
    "for item in fruits:\n",
    "    print(f'i have {item}')"
   ]
  },
  {
   "cell_type": "markdown",
   "metadata": {},
   "source": [
    "## Coming back to for loop"
   ]
  },
  {
   "cell_type": "markdown",
   "metadata": {},
   "source": [
    "### some extra settings for **for loop**\n",
    "- enumerate\n",
    "- zip"
   ]
  },
  {
   "cell_type": "markdown",
   "metadata": {},
   "source": [
    "## enumerate"
   ]
  },
  {
   "cell_type": "code",
   "execution_count": 25,
   "metadata": {},
   "outputs": [
    {
     "name": "stdout",
     "output_type": "stream",
     "text": [
      "apple\n",
      "banana\n",
      "mango\n",
      "kiwi\n",
      "lemon\n",
      "cherry\n"
     ]
    }
   ],
   "source": [
    "fruits = ['apple','banana','mango','kiwi','lemon','cherry']  #consider a simple loop\n",
    "for i in fruits:\n",
    "    print (i)"
   ]
  },
  {
   "cell_type": "code",
   "execution_count": 27,
   "metadata": {},
   "outputs": [
    {
     "name": "stdout",
     "output_type": "stream",
     "text": [
      "(0, 'apple')\n",
      "(1, 'banana')\n",
      "(2, 'mango')\n",
      "(3, 'kiwi')\n",
      "(4, 'lemon')\n",
      "(5, 'cherry')\n"
     ]
    }
   ],
   "source": [
    "fruits = ['apple','banana','mango','kiwi','lemon','cherry']  #it will extract index and value from fruits and store in F\n",
    "for F in enumerate(fruits):\n",
    "    print (F)"
   ]
  },
  {
   "cell_type": "code",
   "execution_count": 30,
   "metadata": {},
   "outputs": [
    {
     "name": "stdout",
     "output_type": "stream",
     "text": [
      "0 apple\n",
      "1 banana\n",
      "2 mango\n",
      "3 kiwi\n",
      "4 lemon\n",
      "5 cherry\n"
     ]
    }
   ],
   "source": [
    "fruits = ['apple','banana','mango','kiwi','lemon','cherry']  #it will extract index and value from fruits \n",
    "for i,F in enumerate(fruits):                                #it will store index in i\n",
    "    print (i,F)                                              #and value in fruit"
   ]
  },
  {
   "cell_type": "markdown",
   "metadata": {},
   "source": [
    "### Zip"
   ]
  },
  {
   "cell_type": "code",
   "execution_count": 32,
   "metadata": {},
   "outputs": [],
   "source": [
    "prices = [10,20,30,40,50,60]"
   ]
  },
  {
   "cell_type": "code",
   "execution_count": 34,
   "metadata": {},
   "outputs": [
    {
     "name": "stdout",
     "output_type": "stream",
     "text": [
      "apple => 10\n",
      "banana => 20\n",
      "mango => 30\n",
      "kiwi => 40\n",
      "lemon => 50\n",
      "cherry => 60\n"
     ]
    }
   ],
   "source": [
    "for f,p in zip(fruits,prices): #zip takes two lists in argument\n",
    "    print(f,'=>',p)            #stores fruit list value in f and prices list value in p"
   ]
  },
  {
   "cell_type": "code",
   "execution_count": 35,
   "metadata": {},
   "outputs": [],
   "source": [
    "qty = [2,3,4,6,7,8]"
   ]
  },
  {
   "cell_type": "code",
   "execution_count": 39,
   "metadata": {},
   "outputs": [
    {
     "name": "stdout",
     "output_type": "stream",
     "text": [
      "apple => 2 kg for 10\n",
      "banana => 3 kg for 20\n",
      "mango => 4 kg for 30\n",
      "kiwi => 6 kg for 40\n",
      "lemon => 7 kg for 50\n",
      "cherry => 8 kg for 60\n"
     ]
    }
   ],
   "source": [
    "for f,p,q in zip(fruits,prices,qty):   #zip takes two lists in argument\n",
    "    print(f,'=>',q,'kg for',p)            #stores fruit list value in f ,prices list value in p and qty list value in q"
   ]
  },
  {
   "cell_type": "code",
   "execution_count": null,
   "metadata": {},
   "outputs": [],
   "source": []
  }
 ],
 "metadata": {
  "kernelspec": {
   "display_name": "Python 3.9.12 ('base')",
   "language": "python",
   "name": "python3"
  },
  "language_info": {
   "codemirror_mode": {
    "name": "ipython",
    "version": 3
   },
   "file_extension": ".py",
   "mimetype": "text/x-python",
   "name": "python",
   "nbconvert_exporter": "python",
   "pygments_lexer": "ipython3",
   "version": "3.9.12"
  },
  "orig_nbformat": 4,
  "vscode": {
   "interpreter": {
    "hash": "10bd505096551c50069a3dbdaed0ac86691ac343b612943e6011bfc2aef8ecb4"
   }
  }
 },
 "nbformat": 4,
 "nbformat_minor": 2
}
