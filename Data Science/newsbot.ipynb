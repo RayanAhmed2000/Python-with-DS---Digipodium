{
 "cells": [
  {
   "cell_type": "markdown",
   "metadata": {},
   "source": [
    "# NDTV Website"
   ]
  },
  {
   "cell_type": "code",
   "execution_count": 1,
   "metadata": {},
   "outputs": [],
   "source": [
    "import requests                         # collects the webpage data object\n",
    "from bs4 import BeautifulSoup           # class that converts object into readable object"
   ]
  },
  {
   "cell_type": "code",
   "execution_count": 2,
   "metadata": {},
   "outputs": [],
   "source": [
    "def get_soup(url):\n",
    "    page = requests.get(url)\n",
    "    return BeautifulSoup(page.text)"
   ]
  },
  {
   "cell_type": "code",
   "execution_count": 4,
   "metadata": {},
   "outputs": [],
   "source": [
    "soup = get_soup('https://www.ndtv.com/latest')"
   ]
  },
  {
   "cell_type": "markdown",
   "metadata": {},
   "source": [
    "# We will extract info from a particular section"
   ]
  },
  {
   "cell_type": "code",
   "execution_count": 6,
   "metadata": {},
   "outputs": [],
   "source": [
    "target = soup.find('div',attrs= {'class':'lisingNews'})"
   ]
  },
  {
   "cell_type": "code",
   "execution_count": 10,
   "metadata": {},
   "outputs": [
    {
     "name": "stdout",
     "output_type": "stream",
     "text": [
      "17\n"
     ]
    }
   ],
   "source": [
    "news_list = target.find_all('div',attrs= {'class': 'news_Itm'})\n",
    "print(len(news_list))"
   ]
  },
  {
   "cell_type": "code",
   "execution_count": 11,
   "metadata": {},
   "outputs": [
    {
     "name": "stdout",
     "output_type": "stream",
     "text": [
      "Queen Elizabeth Updates: Charles To Be Proclaimed King Today\n",
      "Australia vs New Zealand: Marcus Stoinis, David Warner Out Of 3rd ODI\n",
      "\"Will Be Five Kilos Less\": On Virat Kohli's Ton, Ex-India Coach Ravi Shastri's Out Of The Box Take\n"
     ]
    },
    {
     "ename": "AttributeError",
     "evalue": "'NoneType' object has no attribute 'text'",
     "output_type": "error",
     "traceback": [
      "\u001b[1;31m---------------------------------------------------------------------------\u001b[0m",
      "\u001b[1;31mAttributeError\u001b[0m                            Traceback (most recent call last)",
      "\u001b[1;32mc:\\Users\\mcups\\Desktop\\coding\\Python with DS - Digipodium\\Data Science\\newsbot.ipynb Cell 8\u001b[0m in \u001b[0;36m<cell line: 1>\u001b[1;34m()\u001b[0m\n\u001b[0;32m      <a href='vscode-notebook-cell:/c%3A/Users/mcups/Desktop/coding/Python%20with%20DS%20-%20Digipodium/Data%20Science/newsbot.ipynb#X11sZmlsZQ%3D%3D?line=0'>1</a>\u001b[0m \u001b[39mfor\u001b[39;00m news \u001b[39min\u001b[39;00m news_list:\n\u001b[0;32m      <a href='vscode-notebook-cell:/c%3A/Users/mcups/Desktop/coding/Python%20with%20DS%20-%20Digipodium/Data%20Science/newsbot.ipynb#X11sZmlsZQ%3D%3D?line=1'>2</a>\u001b[0m     title \u001b[39m=\u001b[39m news\u001b[39m.\u001b[39mfind(\u001b[39m'\u001b[39m\u001b[39mh2\u001b[39m\u001b[39m'\u001b[39m,attrs\u001b[39m=\u001b[39m{\u001b[39m'\u001b[39m\u001b[39mclass\u001b[39m\u001b[39m'\u001b[39m:\u001b[39m'\u001b[39m\u001b[39mnewsHdng\u001b[39m\u001b[39m'\u001b[39m})\n\u001b[1;32m----> <a href='vscode-notebook-cell:/c%3A/Users/mcups/Desktop/coding/Python%20with%20DS%20-%20Digipodium/Data%20Science/newsbot.ipynb#X11sZmlsZQ%3D%3D?line=2'>3</a>\u001b[0m     \u001b[39mprint\u001b[39m(title\u001b[39m.\u001b[39;49mtext)\n",
      "\u001b[1;31mAttributeError\u001b[0m: 'NoneType' object has no attribute 'text'"
     ]
    }
   ],
   "source": [
    "for news in news_list:\n",
    "    title = news.find('h2',attrs={'class':'newsHdng'})\n",
    "    print(title.text)"
   ]
  },
  {
   "cell_type": "markdown",
   "metadata": {},
   "source": [
    "# There is no tilte is some news on the website hence we are getting NoneType error after 3 news"
   ]
  },
  {
   "cell_type": "markdown",
   "metadata": {},
   "source": [
    "## Lets put a condition that if there is title only then print"
   ]
  },
  {
   "cell_type": "code",
   "execution_count": 12,
   "metadata": {},
   "outputs": [
    {
     "name": "stdout",
     "output_type": "stream",
     "text": [
      "Queen Elizabeth Updates: Charles To Be Proclaimed King Today\n",
      "Australia vs New Zealand: Marcus Stoinis, David Warner Out Of 3rd ODI\n",
      "\"Will Be Five Kilos Less\": On Virat Kohli's Ton, Ex-India Coach Ravi Shastri's Out Of The Box Take\n",
      "\"Maharani Elizabeth ko...\": British Envoy Mourns Queen's Death In Hindi\n",
      "How Shilpa Shetty Wished Birthday To Husband Raj Kundra\n",
      "Assam Chief Minister's Rahul Gandhi Cartoon Gets A Counter From 2010\n",
      "JEECUP 2022 Counselling: Round 1 Seat Allotment Result Today; Details Here\n",
      "Queen Elizabeth To Remain On Canadian Currency \"For Years To Come\"\n",
      "Deepening Tokyo Olympics Bribery Scandal Casts Shadow Over 2030 Bid\n",
      "India Logs 5,554 New COVID-19 Cases Today, Active Cases Decline To 48,850\n",
      "Charles To Be Proclaimed King Today After Vowing \"Lifelong Service\"\n",
      "\"T20 Cricket Needs To Explore...\": Ex-India Batter On Toss Playing Crucial Role in Asia Cup\n",
      "World Suicide Prevention Day 2022: Theme, Significance, How To Identify If Someone Is Suicidal & What Can You Do\n",
      "CUET UG 2022 Answer Key: Last Date To Raise Objections Today At Cuet.samarth.ac.in\n",
      "\"King Is Back, They're Saying. But...\": Chennai Super Kings' Tweet On Virat Kohli's Ton Goes Viral\n"
     ]
    }
   ],
   "source": [
    "for news in news_list:\n",
    "    title = news.find('h2',attrs={'class':'newsHdng'})\n",
    "    if title:\n",
    "        print(title.text)"
   ]
  },
  {
   "cell_type": "code",
   "execution_count": 13,
   "metadata": {},
   "outputs": [
    {
     "name": "stdout",
     "output_type": "stream",
     "text": [
      "-->HEADLINES --------------------------------------------------------------------------------\n",
      "Queen Elizabeth Updates: Charles To Be Proclaimed King Today\n",
      "Britain's Charles III will officially be proclaimed king in a ceremony on Saturday, a day after he vowed in his first speech to mourning subjects that he would emulate his \"darling mama\", Queen Elizabeth II.\n",
      "Edited by NDTV News Desk  | Saturday September 10, 2022\n",
      "-->HEADLINES --------------------------------------------------------------------------------\n",
      "Australia vs New Zealand: Marcus Stoinis, David Warner Out Of 3rd ODI\n",
      "Injured all-rounder Marcus Stoinis was Saturday ruled out of Australia's final one-day international against New Zealand, while David Warner was released from the squad to rest.\n",
      "Agence France-Presse   | Saturday September 10, 2022\n",
      "-->HEADLINES --------------------------------------------------------------------------------\n",
      "\"Will Be Five Kilos Less\": On Virat Kohli's Ton, Ex-India Coach Ravi Shastri's Out Of The Box Take\n",
      "After Virat Kohli's ton on Thursday, former India coach Ravi Shastri was asked about Kohli reaching the triple-figure mark after 1020 days, and he gave his insight on it.\n",
      "NDTV Sports Desk   | Saturday September 10, 2022\n",
      "-->HEADLINES --------------------------------------------------------------------------------\n",
      "\"Maharani Elizabeth ko...\": British Envoy Mourns Queen's Death In Hindi\n",
      "British High Commissioner to India Alex Ellis mourned the death of Queen Elizabeth on Friday and as he spoke of her \"life dedicated to service\", he decided to begin doing so in Hindi.\n",
      "Edited by Supriti David  | Saturday September 10, 2022, New Delhi\n",
      "-->HEADLINES --------------------------------------------------------------------------------\n",
      "How Shilpa Shetty Wished Birthday To Husband Raj Kundra\n",
      "\"I'm thankful that you're my bestest friend, the father of my children, my love, and my strength,\" wrote Shilpa Shetty\n",
      "Written by Jyothi Jha  | Saturday September 10, 2022, New Delhi\n",
      "-->HEADLINES --------------------------------------------------------------------------------\n",
      "Assam Chief Minister's Rahul Gandhi Cartoon Gets A Counter From 2010\n",
      "The Congress has dug up a 12-year-old tweet of Assam Chief Minister Himanta Biswa Sarma praising Rahul Gandhi, hours after he posted a parody video mocking him.\n",
      "Reported by Sunil Prabhu, Edited by Shatabdi Chowdhury  | Saturday September 10, 2022, New Delhi\n",
      "-->HEADLINES --------------------------------------------------------------------------------\n",
      "JEECUP 2022 Counselling: Round 1 Seat Allotment Result Today; Details Here\n",
      "JEECUP 2022 Counselling: The candidates can select the freeze/float option and appear for document verification from September 11 to 13. Download round 1 seat allotment list at jeecup.nic.in\n",
      "Edited by Arnab Mitra  | Saturday September 10, 2022\n",
      "-->HEADLINES --------------------------------------------------------------------------------\n",
      "Queen Elizabeth To Remain On Canadian Currency \"For Years To Come\"\n",
      "Canada, a former British colony, has a new head of state. But the face of Queen Elizabeth II will continue to appear on its currency.\n",
      "By Stephen Wicary, Bloomberg   | Saturday September 10, 2022, Ottawa\n",
      "-->HEADLINES --------------------------------------------------------------------------------\n",
      "Deepening Tokyo Olympics Bribery Scandal Casts Shadow Over 2030 Bid\n",
      "A bribery scandal engulfing last summer's pandemic-delayed Tokyo Games has thrown a dark cloud over Sapporo's 2030 bid and raised fresh questions in Japan about hosting the Olympics again.\n",
      "Agence France-Presse   | Saturday September 10, 2022\n",
      "-->HEADLINES --------------------------------------------------------------------------------\n",
      "India Logs 5,554 New COVID-19 Cases Today, Active Cases Decline To 48,850\n",
      "India logged 5,554 new coronavirus infections which raised the tally to 4,44,90,283 while the active cases further declined to 48,850, the Union Health Ministry said on Saturday.\n",
      "Press Trust of India   | Saturday September 10, 2022, New Delhi\n",
      "-->HEADLINES --------------------------------------------------------------------------------\n",
      "Charles To Be Proclaimed King Today After Vowing \"Lifelong Service\"\n",
      "Britain's Charles III will officially be proclaimed king in a ceremony on Saturday, a day after he vowed in his first speech to mourning subjects that he would emulate his \"darling mama\", Queen Elizabeth II.\n",
      "Agence France-Presse   | Saturday September 10, 2022\n",
      "-->HEADLINES --------------------------------------------------------------------------------\n",
      "\"T20 Cricket Needs To Explore...\": Ex-India Batter On Toss Playing Crucial Role in Asia Cup\n",
      "Sanjay Manjrekar has now highlighted how toss played a big role in the Asia Cup. He also highlighted that India lost tosses in their three Super 4 games while Afghanistan lost two.\n",
      "NDTV Sports Desk   | Saturday September 10, 2022\n",
      "-->HEADLINES --------------------------------------------------------------------------------\n",
      "World Suicide Prevention Day 2022: Theme, Significance, How To Identify If Someone Is Suicidal & What Can You Do\n",
      "World Suicide Prevention Day 2022: WSPD is celebrated to help raise awareness towards suicide cases and help lower the rates of suicide.\n",
      "Manya Singh   | Saturday September 10, 2022\n",
      "-->HEADLINES --------------------------------------------------------------------------------\n",
      "CUET UG 2022 Answer Key: Last Date To Raise Objections Today At Cuet.samarth.ac.in\n",
      "CUET UG 2022 Answer Key: The CUET UG 2022 answer key objection window for all the six phases is available online till 11:50 PM today. Download answer key at cuet.samarth.ac.in\n",
      "Edited by Arnab Mitra  | Saturday September 10, 2022\n",
      "-->HEADLINES --------------------------------------------------------------------------------\n",
      "\"King Is Back, They're Saying. But...\": Chennai Super Kings' Tweet On Virat Kohli's Ton Goes Viral\n",
      "Chennai Super Kings also paid a special tribute to Kohli after his 122* off 61 balls against Afghanistan with a twitter thread.\n",
      "NDTV Sports Desk   | Saturday September 10, 2022\n"
     ]
    }
   ],
   "source": [
    "for news in news_list:\n",
    "    title = news.find('h2',attrs={'class':'newsHdng'})\n",
    "    details = news.find('span',attrs = {'class': 'posted-by'})\n",
    "    content  = news.find('p',attrs= {'class' : 'newsCont'})\n",
    "    if title and details and content:\n",
    "        print('-->HEADLINES','--'*40)\n",
    "        print(title.text)\n",
    "        print(content.text.strip())\n",
    "        print(details.text.strip())"
   ]
  },
  {
   "cell_type": "markdown",
   "metadata": {},
   "source": [
    "# Lets save the data in a list of Dictionaries"
   ]
  },
  {
   "cell_type": "code",
   "execution_count": 14,
   "metadata": {},
   "outputs": [],
   "source": [
    "data = []\n",
    "for news in news_list:\n",
    "    title = news.find('h2',attrs={'class':'newsHdng'})\n",
    "    details = news.find('span',attrs = {'class': 'posted-by'})\n",
    "    content  = news.find('p',attrs= {'class' : 'newsCont'})\n",
    "    if title and details and content:\n",
    "        data.append({\n",
    "            'title':title.text.strip(),\n",
    "            'details':details.text.strip(),\n",
    "            'content': content.text.strip()\n",
    "        })"
   ]
  },
  {
   "cell_type": "code",
   "execution_count": 15,
   "metadata": {},
   "outputs": [
    {
     "data": {
      "text/plain": [
       "[{'title': 'Queen Elizabeth Updates: Charles To Be Proclaimed King Today',\n",
       "  'details': 'Edited by NDTV News Desk  | Saturday September 10, 2022',\n",
       "  'content': 'Britain\\'s Charles III will officially be proclaimed king in a ceremony on Saturday, a day after he vowed in his first speech to mourning subjects that he would emulate his \"darling mama\", Queen Elizabeth II.'},\n",
       " {'title': 'Australia vs New Zealand: Marcus Stoinis, David Warner Out Of 3rd ODI',\n",
       "  'details': 'Agence France-Presse   | Saturday September 10, 2022',\n",
       "  'content': \"Injured all-rounder Marcus Stoinis was Saturday ruled out of Australia's final one-day international against New Zealand, while David Warner was released from the squad to rest.\"},\n",
       " {'title': '\"Will Be Five Kilos Less\": On Virat Kohli\\'s Ton, Ex-India Coach Ravi Shastri\\'s Out Of The Box Take',\n",
       "  'details': 'NDTV Sports Desk   | Saturday September 10, 2022',\n",
       "  'content': \"After Virat Kohli's ton on Thursday, former India coach Ravi Shastri was asked about Kohli reaching the triple-figure mark after 1020 days, and he gave his insight on it.\"},\n",
       " {'title': '\"Maharani Elizabeth ko...\": British Envoy Mourns Queen\\'s Death In Hindi',\n",
       "  'details': 'Edited by Supriti David  | Saturday September 10, 2022, New Delhi',\n",
       "  'content': 'British High Commissioner to India Alex Ellis mourned the death of Queen Elizabeth on Friday and as he spoke of her \"life dedicated to service\", he decided to begin doing so in Hindi.'},\n",
       " {'title': 'How Shilpa Shetty Wished Birthday To Husband Raj Kundra',\n",
       "  'details': 'Written by Jyothi Jha  | Saturday September 10, 2022, New Delhi',\n",
       "  'content': '\"I\\'m thankful that you\\'re my bestest friend, the father of my children, my love, and my strength,\" wrote Shilpa Shetty'},\n",
       " {'title': \"Assam Chief Minister's Rahul Gandhi Cartoon Gets A Counter From 2010\",\n",
       "  'details': 'Reported by Sunil Prabhu, Edited by Shatabdi Chowdhury  | Saturday September 10, 2022, New Delhi',\n",
       "  'content': 'The Congress has dug up a 12-year-old tweet of Assam Chief Minister Himanta Biswa Sarma praising Rahul Gandhi, hours after he posted a parody video mocking him.'},\n",
       " {'title': 'JEECUP 2022 Counselling: Round 1 Seat Allotment Result Today; Details Here',\n",
       "  'details': 'Edited by Arnab Mitra  | Saturday September 10, 2022',\n",
       "  'content': 'JEECUP 2022 Counselling: The candidates can select the freeze/float option and appear for document verification from September 11 to 13. Download round 1 seat allotment list at jeecup.nic.in'},\n",
       " {'title': 'Queen Elizabeth To Remain On Canadian Currency \"For Years To Come\"',\n",
       "  'details': 'By Stephen Wicary, Bloomberg   | Saturday September 10, 2022, Ottawa',\n",
       "  'content': 'Canada, a former British colony, has a new head of state. But the face of Queen Elizabeth II will continue to appear on its currency.'},\n",
       " {'title': 'Deepening Tokyo Olympics Bribery Scandal Casts Shadow Over 2030 Bid',\n",
       "  'details': 'Agence France-Presse   | Saturday September 10, 2022',\n",
       "  'content': \"A bribery scandal engulfing last summer's pandemic-delayed Tokyo Games has thrown a dark cloud over Sapporo's 2030 bid and raised fresh questions in Japan about hosting the Olympics again.\"},\n",
       " {'title': 'India Logs 5,554 New COVID-19 Cases Today, Active Cases Decline To 48,850',\n",
       "  'details': 'Press Trust of India   | Saturday September 10, 2022, New Delhi',\n",
       "  'content': 'India logged 5,554 new coronavirus infections which raised the tally to 4,44,90,283 while the active cases further declined to 48,850, the Union Health Ministry said on Saturday.'},\n",
       " {'title': 'Charles To Be Proclaimed King Today After Vowing \"Lifelong Service\"',\n",
       "  'details': 'Agence France-Presse   | Saturday September 10, 2022',\n",
       "  'content': 'Britain\\'s Charles III will officially be proclaimed king in a ceremony on Saturday, a day after he vowed in his first speech to mourning subjects that he would emulate his \"darling mama\", Queen Elizabeth II.'},\n",
       " {'title': '\"T20 Cricket Needs To Explore...\": Ex-India Batter On Toss Playing Crucial Role in Asia Cup',\n",
       "  'details': 'NDTV Sports Desk   | Saturday September 10, 2022',\n",
       "  'content': 'Sanjay Manjrekar has now highlighted how toss played a big role in the Asia Cup. He also highlighted that India lost tosses in their three Super 4 games while Afghanistan lost two.'},\n",
       " {'title': 'World Suicide Prevention Day 2022: Theme, Significance, How To Identify If Someone Is Suicidal & What Can You Do',\n",
       "  'details': 'Manya Singh   | Saturday September 10, 2022',\n",
       "  'content': 'World Suicide Prevention Day 2022: WSPD is celebrated to help raise awareness towards suicide cases and help lower the rates of suicide.'},\n",
       " {'title': 'CUET UG 2022 Answer Key: Last Date To Raise Objections Today At Cuet.samarth.ac.in',\n",
       "  'details': 'Edited by Arnab Mitra  | Saturday September 10, 2022',\n",
       "  'content': 'CUET UG 2022 Answer Key: The CUET UG 2022 answer key objection window for all the six phases is available online till 11:50 PM today. Download answer key at cuet.samarth.ac.in'},\n",
       " {'title': '\"King Is Back, They\\'re Saying. But...\": Chennai Super Kings\\' Tweet On Virat Kohli\\'s Ton Goes Viral',\n",
       "  'details': 'NDTV Sports Desk   | Saturday September 10, 2022',\n",
       "  'content': 'Chennai Super Kings also paid a special tribute to Kohli after his 122* off 61 balls against Afghanistan with a twitter thread.'}]"
      ]
     },
     "execution_count": 15,
     "metadata": {},
     "output_type": "execute_result"
    }
   ],
   "source": [
    "data"
   ]
  },
  {
   "cell_type": "code",
   "execution_count": 17,
   "metadata": {},
   "outputs": [],
   "source": [
    "import pandas as pd"
   ]
  },
  {
   "cell_type": "code",
   "execution_count": 18,
   "metadata": {},
   "outputs": [],
   "source": [
    "pd.DataFrame(data).to_csv('headlines.csv')"
   ]
  },
  {
   "cell_type": "code",
   "execution_count": null,
   "metadata": {},
   "outputs": [],
   "source": []
  }
 ],
 "metadata": {
  "kernelspec": {
   "display_name": "Python 3.9.12 ('base')",
   "language": "python",
   "name": "python3"
  },
  "language_info": {
   "codemirror_mode": {
    "name": "ipython",
    "version": 3
   },
   "file_extension": ".py",
   "mimetype": "text/x-python",
   "name": "python",
   "nbconvert_exporter": "python",
   "pygments_lexer": "ipython3",
   "version": "3.9.12"
  },
  "orig_nbformat": 4,
  "vscode": {
   "interpreter": {
    "hash": "10bd505096551c50069a3dbdaed0ac86691ac343b612943e6011bfc2aef8ecb4"
   }
  }
 },
 "nbformat": 4,
 "nbformat_minor": 2
}
