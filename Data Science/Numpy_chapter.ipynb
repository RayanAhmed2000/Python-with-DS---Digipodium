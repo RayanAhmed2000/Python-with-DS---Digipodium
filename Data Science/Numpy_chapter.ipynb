{
 "cells": [
  {
   "cell_type": "markdown",
   "metadata": {},
   "source": [
    "# Numpy - Library we will use for data Analysis"
   ]
  },
  {
   "cell_type": "code",
   "execution_count": 2,
   "metadata": {},
   "outputs": [],
   "source": [
    "import numpy as np"
   ]
  },
  {
   "cell_type": "markdown",
   "metadata": {},
   "source": [
    "# Creation of Numpy array"
   ]
  },
  {
   "cell_type": "code",
   "execution_count": 3,
   "metadata": {},
   "outputs": [
    {
     "name": "stdout",
     "output_type": "stream",
     "text": [
      "[1 2 3 4 5]\n",
      "<class 'numpy.ndarray'>\n"
     ]
    }
   ],
   "source": [
    "x = np.array([1,2,3,4,5])\n",
    "print(x)\n",
    "print(type(x)) # is is an ndarray"
   ]
  },
  {
   "cell_type": "markdown",
   "metadata": {},
   "source": [
    "# Properties of numpy"
   ]
  },
  {
   "cell_type": "code",
   "execution_count": 5,
   "metadata": {},
   "outputs": [
    {
     "name": "stdout",
     "output_type": "stream",
     "text": [
      "5\n",
      "(5,)\n",
      "dimenstions 1\n"
     ]
    }
   ],
   "source": [
    "# shape and size\n",
    "print(x.size)   # total number of elements\n",
    "print(x.shape)  # dimensions wise elements\n",
    "print(\"dimenstions\",x.ndim)     # number of dimensions"
   ]
  },
  {
   "cell_type": "code",
   "execution_count": 7,
   "metadata": {},
   "outputs": [
    {
     "name": "stdout",
     "output_type": "stream",
     "text": [
      "[[1 2 3]\n",
      " [4 5 6]]\n",
      "6\n",
      "(2, 3)\n",
      "dimenstions 2\n"
     ]
    }
   ],
   "source": [
    "x2d = np.array([[1,2,3],[4,5,6]])\n",
    "print(x2d)\n",
    "\n",
    "print(x2d.size)   # total number of elements\n",
    "print(x2d.shape)  # dimensions wise elements\n",
    "print(\"dimenstions\",x2d.ndim)\n"
   ]
  },
  {
   "cell_type": "markdown",
   "metadata": {},
   "source": [
    "# Shortcut to create an array full of random numbers"
   ]
  },
  {
   "cell_type": "markdown",
   "metadata": {},
   "source": [
    "### random is a function specifiacally for arrays"
   ]
  },
  {
   "cell_type": "code",
   "execution_count": 9,
   "metadata": {},
   "outputs": [
    {
     "name": "stdout",
     "output_type": "stream",
     "text": [
      "[[98 53 31 65 92]\n",
      " [90 67 60 29 32]\n",
      " [ 3 95 97  9 53]\n",
      " [ 5 35 13 91 41]\n",
      " [97 53 35 50 59]]\n"
     ]
    }
   ],
   "source": [
    "x25 = np.random.randint(1,100,(5,5)) # 5 X 5 array with numbers ranging from 1 to 99\n",
    "print(x25)"
   ]
  },
  {
   "cell_type": "markdown",
   "metadata": {},
   "source": [
    "# 1D array using arrange"
   ]
  },
  {
   "cell_type": "code",
   "execution_count": 13,
   "metadata": {},
   "outputs": [
    {
     "name": "stdout",
     "output_type": "stream",
     "text": [
      "1D array\n",
      "[ 1  5  9 13 17 21 25 29 33 37 41 45 49 53 57 61 65 69 73 77 81 85 89 93\n",
      " 97]\n",
      "25\n",
      "1D array reshaped to 2d\n",
      "[[ 1  5  9 13 17]\n",
      " [21 25 29 33 37]\n",
      " [41 45 49 53 57]\n",
      " [61 65 69 73 77]\n",
      " [81 85 89 93 97]]\n"
     ]
    }
   ],
   "source": [
    "xseq1 = np.arange(1,101,4)\n",
    "print(\"1D array\")\n",
    "print(xseq1)\n",
    "print(xseq1.size)\n",
    "\n",
    "\n",
    "\n",
    "print(\"1D array reshaped to 2d\")\n",
    "print(xseq1.reshape(5,5))\n"
   ]
  },
  {
   "cell_type": "markdown",
   "metadata": {},
   "source": [
    "## In linspace in 3rd argument we define how much elements we want it will generate that amoiunt of numbers with linear spacing"
   ]
  },
  {
   "cell_type": "code",
   "execution_count": 20,
   "metadata": {},
   "outputs": [
    {
     "name": "stdout",
     "output_type": "stream",
     "text": [
      "1D array\n",
      "[  1.           3.04081633   5.08163265   7.12244898   9.16326531\n",
      "  11.20408163  13.24489796  15.28571429  17.32653061  19.36734694\n",
      "  21.40816327  23.44897959  25.48979592  27.53061224  29.57142857\n",
      "  31.6122449   33.65306122  35.69387755  37.73469388  39.7755102\n",
      "  41.81632653  43.85714286  45.89795918  47.93877551  49.97959184\n",
      "  52.02040816  54.06122449  56.10204082  58.14285714  60.18367347\n",
      "  62.2244898   64.26530612  66.30612245  68.34693878  70.3877551\n",
      "  72.42857143  74.46938776  76.51020408  78.55102041  80.59183673\n",
      "  82.63265306  84.67346939  86.71428571  88.75510204  90.79591837\n",
      "  92.83673469  94.87755102  96.91836735  98.95918367 101.        ]\n",
      "50\n",
      "1D array reshaped to 2d\n",
      "[[  1.           3.04081633   5.08163265   7.12244898   9.16326531]\n",
      " [ 11.20408163  13.24489796  15.28571429  17.32653061  19.36734694]\n",
      " [ 21.40816327  23.44897959  25.48979592  27.53061224  29.57142857]\n",
      " [ 31.6122449   33.65306122  35.69387755  37.73469388  39.7755102 ]\n",
      " [ 41.81632653  43.85714286  45.89795918  47.93877551  49.97959184]\n",
      " [ 52.02040816  54.06122449  56.10204082  58.14285714  60.18367347]\n",
      " [ 62.2244898   64.26530612  66.30612245  68.34693878  70.3877551 ]\n",
      " [ 72.42857143  74.46938776  76.51020408  78.55102041  80.59183673]\n",
      " [ 82.63265306  84.67346939  86.71428571  88.75510204  90.79591837]\n",
      " [ 92.83673469  94.87755102  96.91836735  98.95918367 101.        ]]\n"
     ]
    }
   ],
   "source": [
    "xseq2d = np.linspace(1,101,50)\n",
    "print(\"1D array\")\n",
    "print(xseq2d)\n",
    "print(xseq2d.size)\n",
    "\n",
    "\n",
    "\n",
    "print(\"1D array reshaped to 2d\")\n",
    "print(xseq2d.reshape(10,5))"
   ]
  },
  {
   "cell_type": "code",
   "execution_count": 22,
   "metadata": {},
   "outputs": [
    {
     "name": "stdout",
     "output_type": "stream",
     "text": [
      "[[  1.           3.04081633   5.08163265   7.12244898   9.16326531]\n",
      " [ 11.20408163  13.24489796  15.28571429  17.32653061  19.36734694]\n",
      " [ 21.40816327  23.44897959  25.48979592  27.53061224  29.57142857]\n",
      " [ 31.6122449   33.65306122  35.69387755  37.73469388  39.7755102 ]\n",
      " [ 41.81632653  43.85714286  45.89795918  47.93877551  49.97959184]\n",
      " [ 52.02040816  54.06122449  56.10204082  58.14285714  60.18367347]\n",
      " [ 62.2244898   64.26530612  66.30612245  68.34693878  70.3877551 ]\n",
      " [ 72.42857143  74.46938776  76.51020408  78.55102041  80.59183673]\n",
      " [ 82.63265306  84.67346939  86.71428571  88.75510204  90.79591837]\n",
      " [ 92.83673469  94.87755102  96.91836735  98.95918367 101.        ]]\n"
     ]
    }
   ],
   "source": [
    "xseq2d = xseq2d.reshape(10,5)\n",
    "print(xseq2d)"
   ]
  },
  {
   "cell_type": "markdown",
   "metadata": {},
   "source": [
    "# Creating array full of a particular number using ones"
   ]
  },
  {
   "cell_type": "code",
   "execution_count": 24,
   "metadata": {},
   "outputs": [
    {
     "data": {
      "text/plain": [
       "array([[1, 1, 1, 1, 1],\n",
       "       [1, 1, 1, 1, 1],\n",
       "       [1, 1, 1, 1, 1],\n",
       "       [1, 1, 1, 1, 1],\n",
       "       [1, 1, 1, 1, 1]])"
      ]
     },
     "execution_count": 24,
     "metadata": {},
     "output_type": "execute_result"
    }
   ],
   "source": [
    "# by deafualt it will take float \n",
    "\n",
    "one_arr = np.ones ((5,5), dtype = 'int')\n",
    "one_arr\n"
   ]
  },
  {
   "cell_type": "markdown",
   "metadata": {},
   "source": [
    "# Next\n",
    "- indexing and slicing\n",
    "- boolean filter\n",
    "- maths and stats\n",
    "- methods"
   ]
  },
  {
   "cell_type": "code",
   "execution_count": 25,
   "metadata": {},
   "outputs": [
    {
     "data": {
      "text/plain": [
       "array([[98, 53, 31, 65, 92],\n",
       "       [90, 67, 60, 29, 32],\n",
       "       [ 3, 95, 97,  9, 53],\n",
       "       [ 5, 35, 13, 91, 41],\n",
       "       [97, 53, 35, 50, 59]])"
      ]
     },
     "execution_count": 25,
     "metadata": {},
     "output_type": "execute_result"
    }
   ],
   "source": [
    "x25"
   ]
  },
  {
   "cell_type": "markdown",
   "metadata": {},
   "source": [
    "# if we want to extract 1st row amd last row"
   ]
  },
  {
   "cell_type": "code",
   "execution_count": 28,
   "metadata": {},
   "outputs": [
    {
     "name": "stdout",
     "output_type": "stream",
     "text": [
      "[98 53 31 65 92]\n",
      "[97 53 35 50 59]\n"
     ]
    }
   ],
   "source": [
    "print(x25[0]) #first\n",
    "print(x25[-1]) #last"
   ]
  },
  {
   "cell_type": "markdown",
   "metadata": {},
   "source": [
    "# Extracting a particular element "
   ]
  },
  {
   "cell_type": "code",
   "execution_count": 29,
   "metadata": {},
   "outputs": [
    {
     "name": "stdout",
     "output_type": "stream",
     "text": [
      "53\n"
     ]
    }
   ],
   "source": [
    "print(x25[0,1]) # same as print(x25[0][1])"
   ]
  },
  {
   "cell_type": "markdown",
   "metadata": {},
   "source": [
    "# Extracting 1st column from ndarray"
   ]
  },
  {
   "cell_type": "code",
   "execution_count": 30,
   "metadata": {},
   "outputs": [
    {
     "name": "stdout",
     "output_type": "stream",
     "text": [
      "[53 67 95 35 53]\n"
     ]
    }
   ],
   "source": [
    "print(x25[:,0])     # first column"
   ]
  },
  {
   "cell_type": "code",
   "execution_count": 32,
   "metadata": {},
   "outputs": [
    {
     "name": "stdout",
     "output_type": "stream",
     "text": [
      "[92 32 53 41 59]\n"
     ]
    }
   ],
   "source": [
    "print(x25[:,-1])    # last column"
   ]
  },
  {
   "cell_type": "markdown",
   "metadata": {},
   "source": [
    "# Extracting multiple columns"
   ]
  },
  {
   "cell_type": "code",
   "execution_count": 37,
   "metadata": {},
   "outputs": [
    {
     "name": "stdout",
     "output_type": "stream",
     "text": [
      "[[98 53 31]\n",
      " [90 67 60]\n",
      " [ 3 95 97]\n",
      " [ 5 35 13]\n",
      " [97 53 35]]\n",
      "[[98 53 31]\n",
      " [90 67 60]\n",
      " [ 3 95 97]\n",
      " [ 5 35 13]\n",
      " [97 53 35]]\n"
     ]
    }
   ],
   "source": [
    "print(x25 [:,[0,1,2]])\n",
    "# column 0 1 and 2\n",
    "\n",
    "#same as above\n",
    "print(x25[:, :3])\n",
    "\n",
    "\n"
   ]
  },
  {
   "cell_type": "markdown",
   "metadata": {},
   "source": [
    "# Boolean Filter"
   ]
  },
  {
   "cell_type": "code",
   "execution_count": 38,
   "metadata": {},
   "outputs": [
    {
     "data": {
      "text/plain": [
       "array([[98, 53, 31, 65, 92],\n",
       "       [90, 67, 60, 29, 32],\n",
       "       [ 3, 95, 97,  9, 53],\n",
       "       [ 5, 35, 13, 91, 41],\n",
       "       [97, 53, 35, 50, 59]])"
      ]
     },
     "execution_count": 38,
     "metadata": {},
     "output_type": "execute_result"
    }
   ],
   "source": [
    "x25"
   ]
  },
  {
   "cell_type": "code",
   "execution_count": 41,
   "metadata": {},
   "outputs": [
    {
     "name": "stdout",
     "output_type": "stream",
     "text": [
      "[98 53 31 65 92]\n",
      "[90 67 60 29 32]\n",
      "[ 3 95 97  9 53]\n",
      "[ 5 35 13 91 41]\n",
      "[97 53 35 50 59]\n"
     ]
    }
   ],
   "source": [
    "for i in x25: # traverse in 2d form\n",
    "    print (i)"
   ]
  },
  {
   "cell_type": "code",
   "execution_count": 43,
   "metadata": {},
   "outputs": [
    {
     "name": "stdout",
     "output_type": "stream",
     "text": [
      "98\n",
      "53\n",
      "31\n",
      "65\n",
      "92\n",
      "90\n",
      "67\n",
      "60\n",
      "29\n",
      "32\n",
      "3\n",
      "95\n",
      "97\n",
      "9\n",
      "53\n",
      "5\n",
      "35\n",
      "13\n",
      "91\n",
      "41\n",
      "97\n",
      "53\n",
      "35\n",
      "50\n",
      "59\n"
     ]
    }
   ],
   "source": [
    "for i in x25: # traverse in 1d form\n",
    "    for j in i:     # i is a full row\n",
    "        print(j)    # j is one element in i"
   ]
  },
  {
   "cell_type": "markdown",
   "metadata": {},
   "source": [
    "# Normal Filtering"
   ]
  },
  {
   "cell_type": "code",
   "execution_count": 47,
   "metadata": {},
   "outputs": [
    {
     "name": "stdout",
     "output_type": "stream",
     "text": [
      "3\n",
      "9\n",
      "5\n",
      "13\n"
     ]
    }
   ],
   "source": [
    "for i in x25: # traverse in 1d form\n",
    "    for j in i: \n",
    "        if j<20:\n",
    "            print(j)   "
   ]
  },
  {
   "cell_type": "markdown",
   "metadata": {},
   "source": [
    "# Boolean Filtering"
   ]
  },
  {
   "cell_type": "code",
   "execution_count": 45,
   "metadata": {},
   "outputs": [
    {
     "data": {
      "text/plain": [
       "array([[False, False, False, False, False],\n",
       "       [False, False, False, False, False],\n",
       "       [ True, False, False,  True, False],\n",
       "       [ True, False,  True, False, False],\n",
       "       [False, False, False, False, False]])"
      ]
     },
     "execution_count": 45,
     "metadata": {},
     "output_type": "execute_result"
    }
   ],
   "source": [
    "x25<=20         # new mask array will be created"
   ]
  },
  {
   "cell_type": "code",
   "execution_count": 56,
   "metadata": {},
   "outputs": [
    {
     "data": {
      "text/plain": [
       "array([ 3,  9,  5, 13])"
      ]
     },
     "execution_count": 56,
     "metadata": {},
     "output_type": "execute_result"
    }
   ],
   "source": [
    "x25[x25<=20]"
   ]
  },
  {
   "cell_type": "code",
   "execution_count": 49,
   "metadata": {},
   "outputs": [
    {
     "data": {
      "text/plain": [
       "array([98, 53, 65, 92, 90, 67, 60, 95, 97, 53, 91, 97, 53, 59])"
      ]
     },
     "execution_count": 49,
     "metadata": {},
     "output_type": "execute_result"
    }
   ],
   "source": [
    "x25[x25>50]"
   ]
  },
  {
   "cell_type": "code",
   "execution_count": 54,
   "metadata": {},
   "outputs": [
    {
     "data": {
      "text/plain": [
       "array([[False,  True,  True,  True, False],\n",
       "       [False,  True,  True,  True,  True],\n",
       "       [False, False, False, False,  True],\n",
       "       [False,  True, False, False,  True],\n",
       "       [False,  True,  True,  True,  True]])"
      ]
     },
     "execution_count": 54,
     "metadata": {},
     "output_type": "execute_result"
    }
   ],
   "source": [
    "(x25 >20) & (x25<70)"
   ]
  },
  {
   "cell_type": "code",
   "execution_count": 55,
   "metadata": {},
   "outputs": [
    {
     "data": {
      "text/plain": [
       "array([53, 31, 65, 67, 60, 29, 32, 53, 35, 41, 53, 35, 50, 59])"
      ]
     },
     "execution_count": 55,
     "metadata": {},
     "output_type": "execute_result"
    }
   ],
   "source": [
    "x25[(x25 >20) & (x25<70)]"
   ]
  },
  {
   "cell_type": "markdown",
   "metadata": {},
   "source": [
    "## some fuctions of numpy are directly applicable to variables while some need to be applied like numpy.append in our case np.append"
   ]
  },
  {
   "cell_type": "code",
   "execution_count": 63,
   "metadata": {},
   "outputs": [
    {
     "data": {
      "text/plain": [
       "array([[98, 53, 31, 65, 92],\n",
       "       [90, 67, 60, 29, 32],\n",
       "       [ 3, 95, 97,  9, 53],\n",
       "       [ 5, 35, 13, 91, 41],\n",
       "       [97, 53, 35, 50, 59],\n",
       "       [ 1,  2,  3,  4,  5]])"
      ]
     },
     "execution_count": 63,
     "metadata": {},
     "output_type": "execute_result"
    }
   ],
   "source": [
    "np.append(x25, np.array([[1,2,3,4,5]]),axis = 0)"
   ]
  },
  {
   "cell_type": "code",
   "execution_count": 64,
   "metadata": {},
   "outputs": [
    {
     "data": {
      "text/plain": [
       "array([[98, 53, 31, 65, 92],\n",
       "       [90, 67, 60, 29, 32],\n",
       "       [ 3, 95, 97,  9, 53],\n",
       "       [ 5, 35, 13, 91, 41],\n",
       "       [97, 53, 35, 50, 59]])"
      ]
     },
     "execution_count": 64,
     "metadata": {},
     "output_type": "execute_result"
    }
   ],
   "source": [
    "x25"
   ]
  },
  {
   "cell_type": "markdown",
   "metadata": {},
   "source": [
    "# Arrays 2X3 amd 3X2"
   ]
  },
  {
   "cell_type": "code",
   "execution_count": 71,
   "metadata": {},
   "outputs": [],
   "source": [
    "arr1 = np.array([[1,2,3],[4,5,6]])\n"
   ]
  },
  {
   "cell_type": "code",
   "execution_count": 74,
   "metadata": {},
   "outputs": [],
   "source": [
    "arr2 = np.array([[1,2],[2,3],[3,4]])"
   ]
  },
  {
   "cell_type": "markdown",
   "metadata": {},
   "source": [
    "## Now we will stack arr2 with arr1 -\n",
    "- but both are of different shapes\n",
    "- we will transpose arr2"
   ]
  },
  {
   "cell_type": "code",
   "execution_count": 75,
   "metadata": {},
   "outputs": [
    {
     "data": {
      "text/plain": [
       "array([[1, 2, 3],\n",
       "       [2, 3, 4]])"
      ]
     },
     "execution_count": 75,
     "metadata": {},
     "output_type": "execute_result"
    }
   ],
   "source": [
    "arr2.T"
   ]
  },
  {
   "cell_type": "code",
   "execution_count": 78,
   "metadata": {},
   "outputs": [
    {
     "name": "stdout",
     "output_type": "stream",
     "text": [
      "[[1 2 3 1 2 3]\n",
      " [4 5 6 2 3 4]]\n"
     ]
    }
   ],
   "source": [
    "print(np.hstack((arr1,arr2.T))) # horizontal stack"
   ]
  },
  {
   "cell_type": "code",
   "execution_count": 79,
   "metadata": {},
   "outputs": [
    {
     "name": "stdout",
     "output_type": "stream",
     "text": [
      "[[1 2 3]\n",
      " [4 5 6]\n",
      " [1 2 3]\n",
      " [2 3 4]]\n"
     ]
    }
   ],
   "source": [
    "print(np.vstack((arr1,arr2.T))) # vertical stack"
   ]
  },
  {
   "cell_type": "code",
   "execution_count": 4,
   "metadata": {},
   "outputs": [
    {
     "name": "stdout",
     "output_type": "stream",
     "text": [
      "[[7 3 4]\n",
      " [1 2 2]\n",
      " [3 9 4]]\n",
      "[[9 3 9]\n",
      " [6 3 3]\n",
      " [9 5 7]]\n"
     ]
    }
   ],
   "source": [
    "x = np.random.randint(1,10, (3,3))\n",
    "y = np.random.randint(1,10, (3,3))\n",
    "print(x)\n",
    "print(y)"
   ]
  },
  {
   "cell_type": "markdown",
   "metadata": {},
   "source": [
    "# Numpy allows easy element wise operations like we have in matrices"
   ]
  },
  {
   "cell_type": "code",
   "execution_count": 11,
   "metadata": {},
   "outputs": [
    {
     "name": "stdout",
     "output_type": "stream",
     "text": [
      "[[7 3 4]\n",
      " [1 2 2]\n",
      " [3 9 4]]\n",
      "[[9 3 9]\n",
      " [6 3 3]\n",
      " [9 5 7]]\n"
     ]
    }
   ],
   "source": [
    "print(x)\n",
    "print(y)\n"
   ]
  },
  {
   "cell_type": "code",
   "execution_count": 5,
   "metadata": {},
   "outputs": [
    {
     "name": "stdout",
     "output_type": "stream",
     "text": [
      "[[16  6 13]\n",
      " [ 7  5  5]\n",
      " [12 14 11]]\n",
      "[[-2  0 -5]\n",
      " [-5 -1 -1]\n",
      " [-6  4 -3]]\n",
      "[[0.77777778 1.         0.44444444]\n",
      " [0.16666667 0.66666667 0.66666667]\n",
      " [0.33333333 1.8        0.57142857]]\n",
      "[[7 0 4]\n",
      " [1 2 2]\n",
      " [3 4 4]]\n",
      "[[63  9 36]\n",
      " [ 6  6  6]\n",
      " [27 45 28]]\n"
     ]
    }
   ],
   "source": [
    "print(x+y) #addition\n",
    "print(x-y) #susbstraction\n",
    "print(x/y) #divide\n",
    "print(x%y) #element wise multipication\n",
    "print(x*y) #element wise multiplication"
   ]
  },
  {
   "cell_type": "code",
   "execution_count": 7,
   "metadata": {},
   "outputs": [
    {
     "name": "stdout",
     "output_type": "stream",
     "text": [
      "[[117  50 100]\n",
      " [ 39  19  29]\n",
      " [117  56  82]]\n",
      "\n"
     ]
    }
   ],
   "source": [
    "print(x.dot(y))\n",
    "print()"
   ]
  },
  {
   "cell_type": "code",
   "execution_count": 8,
   "metadata": {},
   "outputs": [
    {
     "data": {
      "text/plain": [
       "35"
      ]
     },
     "execution_count": 8,
     "metadata": {},
     "output_type": "execute_result"
    }
   ],
   "source": [
    "x.sum() # sum of all elements"
   ]
  },
  {
   "cell_type": "code",
   "execution_count": 12,
   "metadata": {},
   "outputs": [
    {
     "data": {
      "text/plain": [
       "array([11, 14, 10])"
      ]
     },
     "execution_count": 12,
     "metadata": {},
     "output_type": "execute_result"
    }
   ],
   "source": [
    "x.sum(axis=0)   #row wise sum 0 means row 1 means column"
   ]
  },
  {
   "cell_type": "code",
   "execution_count": 13,
   "metadata": {},
   "outputs": [
    {
     "data": {
      "text/plain": [
       "array([14,  5, 16])"
      ]
     },
     "execution_count": 13,
     "metadata": {},
     "output_type": "execute_result"
    }
   ],
   "source": [
    "x.sum(axis=1)   #row wise sum 0 means row 1 means column"
   ]
  },
  {
   "cell_type": "code",
   "execution_count": 15,
   "metadata": {},
   "outputs": [
    {
     "name": "stdout",
     "output_type": "stream",
     "text": [
      "3.888888888888889\n",
      "[3.66666667 4.66666667 3.33333333]\n",
      "[4.66666667 1.66666667 5.33333333]\n"
     ]
    }
   ],
   "source": [
    "print(x.mean())        # mean\n",
    "print(x.mean(axis=0))  # row wise mean\n",
    "print(x.mean(axis=1))  # column wise mean"
   ]
  },
  {
   "cell_type": "code",
   "execution_count": 16,
   "metadata": {},
   "outputs": [
    {
     "name": "stdout",
     "output_type": "stream",
     "text": [
      "9\n",
      "1\n",
      "7\n",
      "3\n"
     ]
    }
   ],
   "source": [
    "print(x.max())      # max value\n",
    "print(x.min())      # min value\n",
    "print(x.argmax())   # index of max value\n",
    "print(x.argmin())   # index of min value"
   ]
  },
  {
   "cell_type": "code",
   "execution_count": 19,
   "metadata": {},
   "outputs": [
    {
     "name": "stdout",
     "output_type": "stream",
     "text": [
      "3.0\n",
      "3.888888888888889\n"
     ]
    }
   ],
   "source": [
    "print(np.median(x))\n",
    "print(np.mean(x))"
   ]
  },
  {
   "cell_type": "markdown",
   "metadata": {},
   "source": [
    "# Pandas library\n",
    "- data read\n",
    "- data load\n",
    "- data analysis \n",
    "- data visualization\n"
   ]
  },
  {
   "cell_type": "code",
   "execution_count": null,
   "metadata": {},
   "outputs": [],
   "source": []
  }
 ],
 "metadata": {
  "kernelspec": {
   "display_name": "Python 3.9.12 ('base')",
   "language": "python",
   "name": "python3"
  },
  "language_info": {
   "codemirror_mode": {
    "name": "ipython",
    "version": 3
   },
   "file_extension": ".py",
   "mimetype": "text/x-python",
   "name": "python",
   "nbconvert_exporter": "python",
   "pygments_lexer": "ipython3",
   "version": "3.9.12"
  },
  "orig_nbformat": 4,
  "vscode": {
   "interpreter": {
    "hash": "10bd505096551c50069a3dbdaed0ac86691ac343b612943e6011bfc2aef8ecb4"
   }
  }
 },
 "nbformat": 4,
 "nbformat_minor": 2
}
