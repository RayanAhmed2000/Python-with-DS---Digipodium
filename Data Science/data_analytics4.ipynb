{
 "cells": [
  {
   "cell_type": "code",
   "execution_count": 1,
   "metadata": {},
   "outputs": [],
   "source": [
    "import pandas as pd\n",
    "import numpy as np\n",
    "import matplotlib.pyplot as plt"
   ]
  },
  {
   "cell_type": "markdown",
   "metadata": {},
   "source": [
    "# Load the data"
   ]
  },
  {
   "cell_type": "code",
   "execution_count": 2,
   "metadata": {},
   "outputs": [
    {
     "data": {
      "text/html": [
       "<div>\n",
       "<style scoped>\n",
       "    .dataframe tbody tr th:only-of-type {\n",
       "        vertical-align: middle;\n",
       "    }\n",
       "\n",
       "    .dataframe tbody tr th {\n",
       "        vertical-align: top;\n",
       "    }\n",
       "\n",
       "    .dataframe thead th {\n",
       "        text-align: right;\n",
       "    }\n",
       "</style>\n",
       "<table border=\"1\" class=\"dataframe\">\n",
       "  <thead>\n",
       "    <tr style=\"text-align: right;\">\n",
       "      <th></th>\n",
       "      <th>Type</th>\n",
       "      <th>Coverage</th>\n",
       "      <th>OdName</th>\n",
       "      <th>AREA</th>\n",
       "      <th>AreaName</th>\n",
       "      <th>REG</th>\n",
       "      <th>RegName</th>\n",
       "      <th>DEV</th>\n",
       "      <th>DevName</th>\n",
       "      <th>1980</th>\n",
       "      <th>...</th>\n",
       "      <th>2004</th>\n",
       "      <th>2005</th>\n",
       "      <th>2006</th>\n",
       "      <th>2007</th>\n",
       "      <th>2008</th>\n",
       "      <th>2009</th>\n",
       "      <th>2010</th>\n",
       "      <th>2011</th>\n",
       "      <th>2012</th>\n",
       "      <th>2013</th>\n",
       "    </tr>\n",
       "  </thead>\n",
       "  <tbody>\n",
       "    <tr>\n",
       "      <th>0</th>\n",
       "      <td>Immigrants</td>\n",
       "      <td>Foreigners</td>\n",
       "      <td>Afghanistan</td>\n",
       "      <td>935</td>\n",
       "      <td>Asia</td>\n",
       "      <td>5501</td>\n",
       "      <td>Southern Asia</td>\n",
       "      <td>902</td>\n",
       "      <td>Developing regions</td>\n",
       "      <td>16</td>\n",
       "      <td>...</td>\n",
       "      <td>2978</td>\n",
       "      <td>3436</td>\n",
       "      <td>3009</td>\n",
       "      <td>2652</td>\n",
       "      <td>2111</td>\n",
       "      <td>1746</td>\n",
       "      <td>1758</td>\n",
       "      <td>2203</td>\n",
       "      <td>2635</td>\n",
       "      <td>2004</td>\n",
       "    </tr>\n",
       "    <tr>\n",
       "      <th>1</th>\n",
       "      <td>Immigrants</td>\n",
       "      <td>Foreigners</td>\n",
       "      <td>Albania</td>\n",
       "      <td>908</td>\n",
       "      <td>Europe</td>\n",
       "      <td>925</td>\n",
       "      <td>Southern Europe</td>\n",
       "      <td>901</td>\n",
       "      <td>Developed regions</td>\n",
       "      <td>1</td>\n",
       "      <td>...</td>\n",
       "      <td>1450</td>\n",
       "      <td>1223</td>\n",
       "      <td>856</td>\n",
       "      <td>702</td>\n",
       "      <td>560</td>\n",
       "      <td>716</td>\n",
       "      <td>561</td>\n",
       "      <td>539</td>\n",
       "      <td>620</td>\n",
       "      <td>603</td>\n",
       "    </tr>\n",
       "    <tr>\n",
       "      <th>2</th>\n",
       "      <td>Immigrants</td>\n",
       "      <td>Foreigners</td>\n",
       "      <td>Algeria</td>\n",
       "      <td>903</td>\n",
       "      <td>Africa</td>\n",
       "      <td>912</td>\n",
       "      <td>Northern Africa</td>\n",
       "      <td>902</td>\n",
       "      <td>Developing regions</td>\n",
       "      <td>80</td>\n",
       "      <td>...</td>\n",
       "      <td>3616</td>\n",
       "      <td>3626</td>\n",
       "      <td>4807</td>\n",
       "      <td>3623</td>\n",
       "      <td>4005</td>\n",
       "      <td>5393</td>\n",
       "      <td>4752</td>\n",
       "      <td>4325</td>\n",
       "      <td>3774</td>\n",
       "      <td>4331</td>\n",
       "    </tr>\n",
       "    <tr>\n",
       "      <th>3</th>\n",
       "      <td>Immigrants</td>\n",
       "      <td>Foreigners</td>\n",
       "      <td>American Samoa</td>\n",
       "      <td>909</td>\n",
       "      <td>Oceania</td>\n",
       "      <td>957</td>\n",
       "      <td>Polynesia</td>\n",
       "      <td>902</td>\n",
       "      <td>Developing regions</td>\n",
       "      <td>0</td>\n",
       "      <td>...</td>\n",
       "      <td>0</td>\n",
       "      <td>0</td>\n",
       "      <td>1</td>\n",
       "      <td>0</td>\n",
       "      <td>0</td>\n",
       "      <td>0</td>\n",
       "      <td>0</td>\n",
       "      <td>0</td>\n",
       "      <td>0</td>\n",
       "      <td>0</td>\n",
       "    </tr>\n",
       "    <tr>\n",
       "      <th>4</th>\n",
       "      <td>Immigrants</td>\n",
       "      <td>Foreigners</td>\n",
       "      <td>Andorra</td>\n",
       "      <td>908</td>\n",
       "      <td>Europe</td>\n",
       "      <td>925</td>\n",
       "      <td>Southern Europe</td>\n",
       "      <td>901</td>\n",
       "      <td>Developed regions</td>\n",
       "      <td>0</td>\n",
       "      <td>...</td>\n",
       "      <td>0</td>\n",
       "      <td>0</td>\n",
       "      <td>1</td>\n",
       "      <td>1</td>\n",
       "      <td>0</td>\n",
       "      <td>0</td>\n",
       "      <td>0</td>\n",
       "      <td>0</td>\n",
       "      <td>1</td>\n",
       "      <td>1</td>\n",
       "    </tr>\n",
       "  </tbody>\n",
       "</table>\n",
       "<p>5 rows × 43 columns</p>\n",
       "</div>"
      ],
      "text/plain": [
       "         Type    Coverage          OdName  AREA AreaName   REG  \\\n",
       "0  Immigrants  Foreigners     Afghanistan   935     Asia  5501   \n",
       "1  Immigrants  Foreigners         Albania   908   Europe   925   \n",
       "2  Immigrants  Foreigners         Algeria   903   Africa   912   \n",
       "3  Immigrants  Foreigners  American Samoa   909  Oceania   957   \n",
       "4  Immigrants  Foreigners         Andorra   908   Europe   925   \n",
       "\n",
       "           RegName  DEV             DevName  1980  ...  2004  2005  2006  \\\n",
       "0    Southern Asia  902  Developing regions    16  ...  2978  3436  3009   \n",
       "1  Southern Europe  901   Developed regions     1  ...  1450  1223   856   \n",
       "2  Northern Africa  902  Developing regions    80  ...  3616  3626  4807   \n",
       "3        Polynesia  902  Developing regions     0  ...     0     0     1   \n",
       "4  Southern Europe  901   Developed regions     0  ...     0     0     1   \n",
       "\n",
       "   2007  2008  2009  2010  2011  2012  2013  \n",
       "0  2652  2111  1746  1758  2203  2635  2004  \n",
       "1   702   560   716   561   539   620   603  \n",
       "2  3623  4005  5393  4752  4325  3774  4331  \n",
       "3     0     0     0     0     0     0     0  \n",
       "4     1     0     0     0     0     1     1  \n",
       "\n",
       "[5 rows x 43 columns]"
      ]
     },
     "execution_count": 2,
     "metadata": {},
     "output_type": "execute_result"
    }
   ],
   "source": [
    "df = pd.read_excel('Canada.xlsx', sheet_name = 'Canada by Citizenship', skiprows = 20, skipfooter =2)\n",
    "df.head()"
   ]
  },
  {
   "cell_type": "markdown",
   "metadata": {},
   "source": [
    "## Pre processing of data according to need"
   ]
  },
  {
   "cell_type": "code",
   "execution_count": 3,
   "metadata": {},
   "outputs": [
    {
     "name": "stdout",
     "output_type": "stream",
     "text": [
      "['Type', 'Coverage', 'OdName', 'AREA', 'AreaName', 'REG', 'RegName', 'DEV', 'DevName', 1980, 1981, 1982, 1983, 1984, 1985, 1986, 1987, 1988, 1989, 1990, 1991, 1992, 1993, 1994, 1995, 1996, 1997, 1998, 1999, 2000, 2001, 2002, 2003, 2004, 2005, 2006, 2007, 2008, 2009, 2010, 2011, 2012, 2013]\n"
     ]
    }
   ],
   "source": [
    "print(df.columns.tolist())"
   ]
  },
  {
   "cell_type": "code",
   "execution_count": 4,
   "metadata": {},
   "outputs": [],
   "source": [
    "df.rename({\n",
    "    'OdName':'country',\n",
    "    'AreaName':'continent',\n",
    "    'RegName': 'region',\n",
    "    'DevName':'country_status'\n",
    "}, axis = 1,inplace = True) "
   ]
  },
  {
   "cell_type": "code",
   "execution_count": 5,
   "metadata": {},
   "outputs": [
    {
     "data": {
      "text/html": [
       "<div>\n",
       "<style scoped>\n",
       "    .dataframe tbody tr th:only-of-type {\n",
       "        vertical-align: middle;\n",
       "    }\n",
       "\n",
       "    .dataframe tbody tr th {\n",
       "        vertical-align: top;\n",
       "    }\n",
       "\n",
       "    .dataframe thead th {\n",
       "        text-align: right;\n",
       "    }\n",
       "</style>\n",
       "<table border=\"1\" class=\"dataframe\">\n",
       "  <thead>\n",
       "    <tr style=\"text-align: right;\">\n",
       "      <th></th>\n",
       "      <th>Type</th>\n",
       "      <th>Coverage</th>\n",
       "      <th>country</th>\n",
       "      <th>AREA</th>\n",
       "      <th>continent</th>\n",
       "      <th>REG</th>\n",
       "      <th>region</th>\n",
       "      <th>DEV</th>\n",
       "      <th>country_status</th>\n",
       "      <th>1980</th>\n",
       "      <th>...</th>\n",
       "      <th>2004</th>\n",
       "      <th>2005</th>\n",
       "      <th>2006</th>\n",
       "      <th>2007</th>\n",
       "      <th>2008</th>\n",
       "      <th>2009</th>\n",
       "      <th>2010</th>\n",
       "      <th>2011</th>\n",
       "      <th>2012</th>\n",
       "      <th>2013</th>\n",
       "    </tr>\n",
       "  </thead>\n",
       "  <tbody>\n",
       "    <tr>\n",
       "      <th>0</th>\n",
       "      <td>Immigrants</td>\n",
       "      <td>Foreigners</td>\n",
       "      <td>Afghanistan</td>\n",
       "      <td>935</td>\n",
       "      <td>Asia</td>\n",
       "      <td>5501</td>\n",
       "      <td>Southern Asia</td>\n",
       "      <td>902</td>\n",
       "      <td>Developing regions</td>\n",
       "      <td>16</td>\n",
       "      <td>...</td>\n",
       "      <td>2978</td>\n",
       "      <td>3436</td>\n",
       "      <td>3009</td>\n",
       "      <td>2652</td>\n",
       "      <td>2111</td>\n",
       "      <td>1746</td>\n",
       "      <td>1758</td>\n",
       "      <td>2203</td>\n",
       "      <td>2635</td>\n",
       "      <td>2004</td>\n",
       "    </tr>\n",
       "    <tr>\n",
       "      <th>1</th>\n",
       "      <td>Immigrants</td>\n",
       "      <td>Foreigners</td>\n",
       "      <td>Albania</td>\n",
       "      <td>908</td>\n",
       "      <td>Europe</td>\n",
       "      <td>925</td>\n",
       "      <td>Southern Europe</td>\n",
       "      <td>901</td>\n",
       "      <td>Developed regions</td>\n",
       "      <td>1</td>\n",
       "      <td>...</td>\n",
       "      <td>1450</td>\n",
       "      <td>1223</td>\n",
       "      <td>856</td>\n",
       "      <td>702</td>\n",
       "      <td>560</td>\n",
       "      <td>716</td>\n",
       "      <td>561</td>\n",
       "      <td>539</td>\n",
       "      <td>620</td>\n",
       "      <td>603</td>\n",
       "    </tr>\n",
       "    <tr>\n",
       "      <th>2</th>\n",
       "      <td>Immigrants</td>\n",
       "      <td>Foreigners</td>\n",
       "      <td>Algeria</td>\n",
       "      <td>903</td>\n",
       "      <td>Africa</td>\n",
       "      <td>912</td>\n",
       "      <td>Northern Africa</td>\n",
       "      <td>902</td>\n",
       "      <td>Developing regions</td>\n",
       "      <td>80</td>\n",
       "      <td>...</td>\n",
       "      <td>3616</td>\n",
       "      <td>3626</td>\n",
       "      <td>4807</td>\n",
       "      <td>3623</td>\n",
       "      <td>4005</td>\n",
       "      <td>5393</td>\n",
       "      <td>4752</td>\n",
       "      <td>4325</td>\n",
       "      <td>3774</td>\n",
       "      <td>4331</td>\n",
       "    </tr>\n",
       "    <tr>\n",
       "      <th>3</th>\n",
       "      <td>Immigrants</td>\n",
       "      <td>Foreigners</td>\n",
       "      <td>American Samoa</td>\n",
       "      <td>909</td>\n",
       "      <td>Oceania</td>\n",
       "      <td>957</td>\n",
       "      <td>Polynesia</td>\n",
       "      <td>902</td>\n",
       "      <td>Developing regions</td>\n",
       "      <td>0</td>\n",
       "      <td>...</td>\n",
       "      <td>0</td>\n",
       "      <td>0</td>\n",
       "      <td>1</td>\n",
       "      <td>0</td>\n",
       "      <td>0</td>\n",
       "      <td>0</td>\n",
       "      <td>0</td>\n",
       "      <td>0</td>\n",
       "      <td>0</td>\n",
       "      <td>0</td>\n",
       "    </tr>\n",
       "    <tr>\n",
       "      <th>4</th>\n",
       "      <td>Immigrants</td>\n",
       "      <td>Foreigners</td>\n",
       "      <td>Andorra</td>\n",
       "      <td>908</td>\n",
       "      <td>Europe</td>\n",
       "      <td>925</td>\n",
       "      <td>Southern Europe</td>\n",
       "      <td>901</td>\n",
       "      <td>Developed regions</td>\n",
       "      <td>0</td>\n",
       "      <td>...</td>\n",
       "      <td>0</td>\n",
       "      <td>0</td>\n",
       "      <td>1</td>\n",
       "      <td>1</td>\n",
       "      <td>0</td>\n",
       "      <td>0</td>\n",
       "      <td>0</td>\n",
       "      <td>0</td>\n",
       "      <td>1</td>\n",
       "      <td>1</td>\n",
       "    </tr>\n",
       "  </tbody>\n",
       "</table>\n",
       "<p>5 rows × 43 columns</p>\n",
       "</div>"
      ],
      "text/plain": [
       "         Type    Coverage         country  AREA continent   REG  \\\n",
       "0  Immigrants  Foreigners     Afghanistan   935      Asia  5501   \n",
       "1  Immigrants  Foreigners         Albania   908    Europe   925   \n",
       "2  Immigrants  Foreigners         Algeria   903    Africa   912   \n",
       "3  Immigrants  Foreigners  American Samoa   909   Oceania   957   \n",
       "4  Immigrants  Foreigners         Andorra   908    Europe   925   \n",
       "\n",
       "            region  DEV      country_status  1980  ...  2004  2005  2006  \\\n",
       "0    Southern Asia  902  Developing regions    16  ...  2978  3436  3009   \n",
       "1  Southern Europe  901   Developed regions     1  ...  1450  1223   856   \n",
       "2  Northern Africa  902  Developing regions    80  ...  3616  3626  4807   \n",
       "3        Polynesia  902  Developing regions     0  ...     0     0     1   \n",
       "4  Southern Europe  901   Developed regions     0  ...     0     0     1   \n",
       "\n",
       "   2007  2008  2009  2010  2011  2012  2013  \n",
       "0  2652  2111  1746  1758  2203  2635  2004  \n",
       "1   702   560   716   561   539   620   603  \n",
       "2  3623  4005  5393  4752  4325  3774  4331  \n",
       "3     0     0     0     0     0     0     0  \n",
       "4     1     0     0     0     0     1     1  \n",
       "\n",
       "[5 rows x 43 columns]"
      ]
     },
     "execution_count": 5,
     "metadata": {},
     "output_type": "execute_result"
    }
   ],
   "source": [
    "df.head()"
   ]
  },
  {
   "cell_type": "code",
   "execution_count": 6,
   "metadata": {},
   "outputs": [],
   "source": [
    "cols_to_drop = ['Type','Coverage','AREA','REG','DEV']"
   ]
  },
  {
   "cell_type": "markdown",
   "metadata": {},
   "source": [
    "### If any column has single value you can remove it **To see unique values** 👉🏻 (df.desc | df['Type'].value_counts())\n"
   ]
  },
  {
   "cell_type": "code",
   "execution_count": 7,
   "metadata": {},
   "outputs": [
    {
     "data": {
      "text/html": [
       "<div>\n",
       "<style scoped>\n",
       "    .dataframe tbody tr th:only-of-type {\n",
       "        vertical-align: middle;\n",
       "    }\n",
       "\n",
       "    .dataframe tbody tr th {\n",
       "        vertical-align: top;\n",
       "    }\n",
       "\n",
       "    .dataframe thead th {\n",
       "        text-align: right;\n",
       "    }\n",
       "</style>\n",
       "<table border=\"1\" class=\"dataframe\">\n",
       "  <thead>\n",
       "    <tr style=\"text-align: right;\">\n",
       "      <th></th>\n",
       "      <th>Type</th>\n",
       "      <th>Coverage</th>\n",
       "      <th>country</th>\n",
       "      <th>continent</th>\n",
       "      <th>region</th>\n",
       "      <th>country_status</th>\n",
       "    </tr>\n",
       "  </thead>\n",
       "  <tbody>\n",
       "    <tr>\n",
       "      <th>count</th>\n",
       "      <td>195</td>\n",
       "      <td>195</td>\n",
       "      <td>195</td>\n",
       "      <td>195</td>\n",
       "      <td>195</td>\n",
       "      <td>195</td>\n",
       "    </tr>\n",
       "    <tr>\n",
       "      <th>unique</th>\n",
       "      <td>1</td>\n",
       "      <td>2</td>\n",
       "      <td>195</td>\n",
       "      <td>6</td>\n",
       "      <td>22</td>\n",
       "      <td>2</td>\n",
       "    </tr>\n",
       "    <tr>\n",
       "      <th>top</th>\n",
       "      <td>Immigrants</td>\n",
       "      <td>Foreigners</td>\n",
       "      <td>Afghanistan</td>\n",
       "      <td>Africa</td>\n",
       "      <td>Western Asia</td>\n",
       "      <td>Developing regions</td>\n",
       "    </tr>\n",
       "    <tr>\n",
       "      <th>freq</th>\n",
       "      <td>195</td>\n",
       "      <td>194</td>\n",
       "      <td>1</td>\n",
       "      <td>54</td>\n",
       "      <td>18</td>\n",
       "      <td>147</td>\n",
       "    </tr>\n",
       "  </tbody>\n",
       "</table>\n",
       "</div>"
      ],
      "text/plain": [
       "              Type    Coverage      country continent        region  \\\n",
       "count          195         195          195       195           195   \n",
       "unique           1           2          195         6            22   \n",
       "top     Immigrants  Foreigners  Afghanistan    Africa  Western Asia   \n",
       "freq           195         194            1        54            18   \n",
       "\n",
       "            country_status  \n",
       "count                  195  \n",
       "unique                   2  \n",
       "top     Developing regions  \n",
       "freq                   147  "
      ]
     },
     "execution_count": 7,
     "metadata": {},
     "output_type": "execute_result"
    }
   ],
   "source": [
    "df.describe(include='object') # It will show that Type will have only 1 unique value"
   ]
  },
  {
   "cell_type": "code",
   "execution_count": 8,
   "metadata": {},
   "outputs": [
    {
     "data": {
      "text/plain": [
       "Immigrants    195\n",
       "Name: Type, dtype: int64"
      ]
     },
     "execution_count": 8,
     "metadata": {},
     "output_type": "execute_result"
    }
   ],
   "source": [
    "df['Type'].value_counts()"
   ]
  },
  {
   "cell_type": "code",
   "execution_count": 9,
   "metadata": {},
   "outputs": [],
   "source": [
    "df.drop(columns = cols_to_drop , inplace=True) # Columns with no useful data are dropped"
   ]
  },
  {
   "cell_type": "code",
   "execution_count": 10,
   "metadata": {},
   "outputs": [
    {
     "data": {
      "text/html": [
       "<div>\n",
       "<style scoped>\n",
       "    .dataframe tbody tr th:only-of-type {\n",
       "        vertical-align: middle;\n",
       "    }\n",
       "\n",
       "    .dataframe tbody tr th {\n",
       "        vertical-align: top;\n",
       "    }\n",
       "\n",
       "    .dataframe thead th {\n",
       "        text-align: right;\n",
       "    }\n",
       "</style>\n",
       "<table border=\"1\" class=\"dataframe\">\n",
       "  <thead>\n",
       "    <tr style=\"text-align: right;\">\n",
       "      <th></th>\n",
       "      <th>country</th>\n",
       "      <th>continent</th>\n",
       "      <th>region</th>\n",
       "      <th>country_status</th>\n",
       "      <th>1980</th>\n",
       "      <th>1981</th>\n",
       "      <th>1982</th>\n",
       "      <th>1983</th>\n",
       "      <th>1984</th>\n",
       "      <th>1985</th>\n",
       "      <th>...</th>\n",
       "      <th>2004</th>\n",
       "      <th>2005</th>\n",
       "      <th>2006</th>\n",
       "      <th>2007</th>\n",
       "      <th>2008</th>\n",
       "      <th>2009</th>\n",
       "      <th>2010</th>\n",
       "      <th>2011</th>\n",
       "      <th>2012</th>\n",
       "      <th>2013</th>\n",
       "    </tr>\n",
       "  </thead>\n",
       "  <tbody>\n",
       "    <tr>\n",
       "      <th>0</th>\n",
       "      <td>Afghanistan</td>\n",
       "      <td>Asia</td>\n",
       "      <td>Southern Asia</td>\n",
       "      <td>Developing regions</td>\n",
       "      <td>16</td>\n",
       "      <td>39</td>\n",
       "      <td>39</td>\n",
       "      <td>47</td>\n",
       "      <td>71</td>\n",
       "      <td>340</td>\n",
       "      <td>...</td>\n",
       "      <td>2978</td>\n",
       "      <td>3436</td>\n",
       "      <td>3009</td>\n",
       "      <td>2652</td>\n",
       "      <td>2111</td>\n",
       "      <td>1746</td>\n",
       "      <td>1758</td>\n",
       "      <td>2203</td>\n",
       "      <td>2635</td>\n",
       "      <td>2004</td>\n",
       "    </tr>\n",
       "    <tr>\n",
       "      <th>1</th>\n",
       "      <td>Albania</td>\n",
       "      <td>Europe</td>\n",
       "      <td>Southern Europe</td>\n",
       "      <td>Developed regions</td>\n",
       "      <td>1</td>\n",
       "      <td>0</td>\n",
       "      <td>0</td>\n",
       "      <td>0</td>\n",
       "      <td>0</td>\n",
       "      <td>0</td>\n",
       "      <td>...</td>\n",
       "      <td>1450</td>\n",
       "      <td>1223</td>\n",
       "      <td>856</td>\n",
       "      <td>702</td>\n",
       "      <td>560</td>\n",
       "      <td>716</td>\n",
       "      <td>561</td>\n",
       "      <td>539</td>\n",
       "      <td>620</td>\n",
       "      <td>603</td>\n",
       "    </tr>\n",
       "    <tr>\n",
       "      <th>2</th>\n",
       "      <td>Algeria</td>\n",
       "      <td>Africa</td>\n",
       "      <td>Northern Africa</td>\n",
       "      <td>Developing regions</td>\n",
       "      <td>80</td>\n",
       "      <td>67</td>\n",
       "      <td>71</td>\n",
       "      <td>69</td>\n",
       "      <td>63</td>\n",
       "      <td>44</td>\n",
       "      <td>...</td>\n",
       "      <td>3616</td>\n",
       "      <td>3626</td>\n",
       "      <td>4807</td>\n",
       "      <td>3623</td>\n",
       "      <td>4005</td>\n",
       "      <td>5393</td>\n",
       "      <td>4752</td>\n",
       "      <td>4325</td>\n",
       "      <td>3774</td>\n",
       "      <td>4331</td>\n",
       "    </tr>\n",
       "    <tr>\n",
       "      <th>3</th>\n",
       "      <td>American Samoa</td>\n",
       "      <td>Oceania</td>\n",
       "      <td>Polynesia</td>\n",
       "      <td>Developing regions</td>\n",
       "      <td>0</td>\n",
       "      <td>1</td>\n",
       "      <td>0</td>\n",
       "      <td>0</td>\n",
       "      <td>0</td>\n",
       "      <td>0</td>\n",
       "      <td>...</td>\n",
       "      <td>0</td>\n",
       "      <td>0</td>\n",
       "      <td>1</td>\n",
       "      <td>0</td>\n",
       "      <td>0</td>\n",
       "      <td>0</td>\n",
       "      <td>0</td>\n",
       "      <td>0</td>\n",
       "      <td>0</td>\n",
       "      <td>0</td>\n",
       "    </tr>\n",
       "    <tr>\n",
       "      <th>4</th>\n",
       "      <td>Andorra</td>\n",
       "      <td>Europe</td>\n",
       "      <td>Southern Europe</td>\n",
       "      <td>Developed regions</td>\n",
       "      <td>0</td>\n",
       "      <td>0</td>\n",
       "      <td>0</td>\n",
       "      <td>0</td>\n",
       "      <td>0</td>\n",
       "      <td>0</td>\n",
       "      <td>...</td>\n",
       "      <td>0</td>\n",
       "      <td>0</td>\n",
       "      <td>1</td>\n",
       "      <td>1</td>\n",
       "      <td>0</td>\n",
       "      <td>0</td>\n",
       "      <td>0</td>\n",
       "      <td>0</td>\n",
       "      <td>1</td>\n",
       "      <td>1</td>\n",
       "    </tr>\n",
       "    <tr>\n",
       "      <th>...</th>\n",
       "      <td>...</td>\n",
       "      <td>...</td>\n",
       "      <td>...</td>\n",
       "      <td>...</td>\n",
       "      <td>...</td>\n",
       "      <td>...</td>\n",
       "      <td>...</td>\n",
       "      <td>...</td>\n",
       "      <td>...</td>\n",
       "      <td>...</td>\n",
       "      <td>...</td>\n",
       "      <td>...</td>\n",
       "      <td>...</td>\n",
       "      <td>...</td>\n",
       "      <td>...</td>\n",
       "      <td>...</td>\n",
       "      <td>...</td>\n",
       "      <td>...</td>\n",
       "      <td>...</td>\n",
       "      <td>...</td>\n",
       "      <td>...</td>\n",
       "    </tr>\n",
       "    <tr>\n",
       "      <th>190</th>\n",
       "      <td>Viet Nam</td>\n",
       "      <td>Asia</td>\n",
       "      <td>South-Eastern Asia</td>\n",
       "      <td>Developing regions</td>\n",
       "      <td>1191</td>\n",
       "      <td>1829</td>\n",
       "      <td>2162</td>\n",
       "      <td>3404</td>\n",
       "      <td>7583</td>\n",
       "      <td>5907</td>\n",
       "      <td>...</td>\n",
       "      <td>1816</td>\n",
       "      <td>1852</td>\n",
       "      <td>3153</td>\n",
       "      <td>2574</td>\n",
       "      <td>1784</td>\n",
       "      <td>2171</td>\n",
       "      <td>1942</td>\n",
       "      <td>1723</td>\n",
       "      <td>1731</td>\n",
       "      <td>2112</td>\n",
       "    </tr>\n",
       "    <tr>\n",
       "      <th>191</th>\n",
       "      <td>Western Sahara</td>\n",
       "      <td>Africa</td>\n",
       "      <td>Northern Africa</td>\n",
       "      <td>Developing regions</td>\n",
       "      <td>0</td>\n",
       "      <td>0</td>\n",
       "      <td>0</td>\n",
       "      <td>0</td>\n",
       "      <td>0</td>\n",
       "      <td>0</td>\n",
       "      <td>...</td>\n",
       "      <td>0</td>\n",
       "      <td>0</td>\n",
       "      <td>1</td>\n",
       "      <td>0</td>\n",
       "      <td>0</td>\n",
       "      <td>0</td>\n",
       "      <td>0</td>\n",
       "      <td>0</td>\n",
       "      <td>0</td>\n",
       "      <td>0</td>\n",
       "    </tr>\n",
       "    <tr>\n",
       "      <th>192</th>\n",
       "      <td>Yemen</td>\n",
       "      <td>Asia</td>\n",
       "      <td>Western Asia</td>\n",
       "      <td>Developing regions</td>\n",
       "      <td>1</td>\n",
       "      <td>2</td>\n",
       "      <td>1</td>\n",
       "      <td>6</td>\n",
       "      <td>0</td>\n",
       "      <td>18</td>\n",
       "      <td>...</td>\n",
       "      <td>124</td>\n",
       "      <td>161</td>\n",
       "      <td>140</td>\n",
       "      <td>122</td>\n",
       "      <td>133</td>\n",
       "      <td>128</td>\n",
       "      <td>211</td>\n",
       "      <td>160</td>\n",
       "      <td>174</td>\n",
       "      <td>217</td>\n",
       "    </tr>\n",
       "    <tr>\n",
       "      <th>193</th>\n",
       "      <td>Zambia</td>\n",
       "      <td>Africa</td>\n",
       "      <td>Eastern Africa</td>\n",
       "      <td>Developing regions</td>\n",
       "      <td>11</td>\n",
       "      <td>17</td>\n",
       "      <td>11</td>\n",
       "      <td>7</td>\n",
       "      <td>16</td>\n",
       "      <td>9</td>\n",
       "      <td>...</td>\n",
       "      <td>56</td>\n",
       "      <td>91</td>\n",
       "      <td>77</td>\n",
       "      <td>71</td>\n",
       "      <td>64</td>\n",
       "      <td>60</td>\n",
       "      <td>102</td>\n",
       "      <td>69</td>\n",
       "      <td>46</td>\n",
       "      <td>59</td>\n",
       "    </tr>\n",
       "    <tr>\n",
       "      <th>194</th>\n",
       "      <td>Zimbabwe</td>\n",
       "      <td>Africa</td>\n",
       "      <td>Eastern Africa</td>\n",
       "      <td>Developing regions</td>\n",
       "      <td>72</td>\n",
       "      <td>114</td>\n",
       "      <td>102</td>\n",
       "      <td>44</td>\n",
       "      <td>32</td>\n",
       "      <td>29</td>\n",
       "      <td>...</td>\n",
       "      <td>1450</td>\n",
       "      <td>615</td>\n",
       "      <td>454</td>\n",
       "      <td>663</td>\n",
       "      <td>611</td>\n",
       "      <td>508</td>\n",
       "      <td>494</td>\n",
       "      <td>434</td>\n",
       "      <td>437</td>\n",
       "      <td>407</td>\n",
       "    </tr>\n",
       "  </tbody>\n",
       "</table>\n",
       "<p>195 rows × 38 columns</p>\n",
       "</div>"
      ],
      "text/plain": [
       "            country continent              region      country_status  1980  \\\n",
       "0       Afghanistan      Asia       Southern Asia  Developing regions    16   \n",
       "1           Albania    Europe     Southern Europe   Developed regions     1   \n",
       "2           Algeria    Africa     Northern Africa  Developing regions    80   \n",
       "3    American Samoa   Oceania           Polynesia  Developing regions     0   \n",
       "4           Andorra    Europe     Southern Europe   Developed regions     0   \n",
       "..              ...       ...                 ...                 ...   ...   \n",
       "190        Viet Nam      Asia  South-Eastern Asia  Developing regions  1191   \n",
       "191  Western Sahara    Africa     Northern Africa  Developing regions     0   \n",
       "192           Yemen      Asia        Western Asia  Developing regions     1   \n",
       "193          Zambia    Africa      Eastern Africa  Developing regions    11   \n",
       "194        Zimbabwe    Africa      Eastern Africa  Developing regions    72   \n",
       "\n",
       "     1981  1982  1983  1984  1985  ...  2004  2005  2006  2007  2008  2009  \\\n",
       "0      39    39    47    71   340  ...  2978  3436  3009  2652  2111  1746   \n",
       "1       0     0     0     0     0  ...  1450  1223   856   702   560   716   \n",
       "2      67    71    69    63    44  ...  3616  3626  4807  3623  4005  5393   \n",
       "3       1     0     0     0     0  ...     0     0     1     0     0     0   \n",
       "4       0     0     0     0     0  ...     0     0     1     1     0     0   \n",
       "..    ...   ...   ...   ...   ...  ...   ...   ...   ...   ...   ...   ...   \n",
       "190  1829  2162  3404  7583  5907  ...  1816  1852  3153  2574  1784  2171   \n",
       "191     0     0     0     0     0  ...     0     0     1     0     0     0   \n",
       "192     2     1     6     0    18  ...   124   161   140   122   133   128   \n",
       "193    17    11     7    16     9  ...    56    91    77    71    64    60   \n",
       "194   114   102    44    32    29  ...  1450   615   454   663   611   508   \n",
       "\n",
       "     2010  2011  2012  2013  \n",
       "0    1758  2203  2635  2004  \n",
       "1     561   539   620   603  \n",
       "2    4752  4325  3774  4331  \n",
       "3       0     0     0     0  \n",
       "4       0     0     1     1  \n",
       "..    ...   ...   ...   ...  \n",
       "190  1942  1723  1731  2112  \n",
       "191     0     0     0     0  \n",
       "192   211   160   174   217  \n",
       "193   102    69    46    59  \n",
       "194   494   434   437   407  \n",
       "\n",
       "[195 rows x 38 columns]"
      ]
     },
     "execution_count": 10,
     "metadata": {},
     "output_type": "execute_result"
    }
   ],
   "source": [
    "df"
   ]
  },
  {
   "cell_type": "markdown",
   "metadata": {},
   "source": [
    "## Making a column as index"
   ]
  },
  {
   "cell_type": "code",
   "execution_count": 11,
   "metadata": {},
   "outputs": [],
   "source": [
    "df.set_index('country', inplace= True) # set column country as index"
   ]
  },
  {
   "cell_type": "code",
   "execution_count": 12,
   "metadata": {},
   "outputs": [
    {
     "data": {
      "text/html": [
       "<div>\n",
       "<style scoped>\n",
       "    .dataframe tbody tr th:only-of-type {\n",
       "        vertical-align: middle;\n",
       "    }\n",
       "\n",
       "    .dataframe tbody tr th {\n",
       "        vertical-align: top;\n",
       "    }\n",
       "\n",
       "    .dataframe thead th {\n",
       "        text-align: right;\n",
       "    }\n",
       "</style>\n",
       "<table border=\"1\" class=\"dataframe\">\n",
       "  <thead>\n",
       "    <tr style=\"text-align: right;\">\n",
       "      <th></th>\n",
       "      <th>continent</th>\n",
       "      <th>region</th>\n",
       "      <th>country_status</th>\n",
       "      <th>1980</th>\n",
       "      <th>1981</th>\n",
       "      <th>1982</th>\n",
       "      <th>1983</th>\n",
       "      <th>1984</th>\n",
       "      <th>1985</th>\n",
       "      <th>1986</th>\n",
       "      <th>...</th>\n",
       "      <th>2005</th>\n",
       "      <th>2006</th>\n",
       "      <th>2007</th>\n",
       "      <th>2008</th>\n",
       "      <th>2009</th>\n",
       "      <th>2010</th>\n",
       "      <th>2011</th>\n",
       "      <th>2012</th>\n",
       "      <th>2013</th>\n",
       "      <th>total</th>\n",
       "    </tr>\n",
       "    <tr>\n",
       "      <th>country</th>\n",
       "      <th></th>\n",
       "      <th></th>\n",
       "      <th></th>\n",
       "      <th></th>\n",
       "      <th></th>\n",
       "      <th></th>\n",
       "      <th></th>\n",
       "      <th></th>\n",
       "      <th></th>\n",
       "      <th></th>\n",
       "      <th></th>\n",
       "      <th></th>\n",
       "      <th></th>\n",
       "      <th></th>\n",
       "      <th></th>\n",
       "      <th></th>\n",
       "      <th></th>\n",
       "      <th></th>\n",
       "      <th></th>\n",
       "      <th></th>\n",
       "      <th></th>\n",
       "    </tr>\n",
       "  </thead>\n",
       "  <tbody>\n",
       "    <tr>\n",
       "      <th>Afghanistan</th>\n",
       "      <td>Asia</td>\n",
       "      <td>Southern Asia</td>\n",
       "      <td>Developing regions</td>\n",
       "      <td>16</td>\n",
       "      <td>39</td>\n",
       "      <td>39</td>\n",
       "      <td>47</td>\n",
       "      <td>71</td>\n",
       "      <td>340</td>\n",
       "      <td>496</td>\n",
       "      <td>...</td>\n",
       "      <td>3436</td>\n",
       "      <td>3009</td>\n",
       "      <td>2652</td>\n",
       "      <td>2111</td>\n",
       "      <td>1746</td>\n",
       "      <td>1758</td>\n",
       "      <td>2203</td>\n",
       "      <td>2635</td>\n",
       "      <td>2004</td>\n",
       "      <td>58639</td>\n",
       "    </tr>\n",
       "    <tr>\n",
       "      <th>Albania</th>\n",
       "      <td>Europe</td>\n",
       "      <td>Southern Europe</td>\n",
       "      <td>Developed regions</td>\n",
       "      <td>1</td>\n",
       "      <td>0</td>\n",
       "      <td>0</td>\n",
       "      <td>0</td>\n",
       "      <td>0</td>\n",
       "      <td>0</td>\n",
       "      <td>1</td>\n",
       "      <td>...</td>\n",
       "      <td>1223</td>\n",
       "      <td>856</td>\n",
       "      <td>702</td>\n",
       "      <td>560</td>\n",
       "      <td>716</td>\n",
       "      <td>561</td>\n",
       "      <td>539</td>\n",
       "      <td>620</td>\n",
       "      <td>603</td>\n",
       "      <td>15699</td>\n",
       "    </tr>\n",
       "    <tr>\n",
       "      <th>Algeria</th>\n",
       "      <td>Africa</td>\n",
       "      <td>Northern Africa</td>\n",
       "      <td>Developing regions</td>\n",
       "      <td>80</td>\n",
       "      <td>67</td>\n",
       "      <td>71</td>\n",
       "      <td>69</td>\n",
       "      <td>63</td>\n",
       "      <td>44</td>\n",
       "      <td>69</td>\n",
       "      <td>...</td>\n",
       "      <td>3626</td>\n",
       "      <td>4807</td>\n",
       "      <td>3623</td>\n",
       "      <td>4005</td>\n",
       "      <td>5393</td>\n",
       "      <td>4752</td>\n",
       "      <td>4325</td>\n",
       "      <td>3774</td>\n",
       "      <td>4331</td>\n",
       "      <td>69439</td>\n",
       "    </tr>\n",
       "  </tbody>\n",
       "</table>\n",
       "<p>3 rows × 38 columns</p>\n",
       "</div>"
      ],
      "text/plain": [
       "            continent           region      country_status  1980  1981  1982  \\\n",
       "country                                                                        \n",
       "Afghanistan      Asia    Southern Asia  Developing regions    16    39    39   \n",
       "Albania        Europe  Southern Europe   Developed regions     1     0     0   \n",
       "Algeria        Africa  Northern Africa  Developing regions    80    67    71   \n",
       "\n",
       "             1983  1984  1985  1986  ...  2005  2006  2007  2008  2009  2010  \\\n",
       "country                              ...                                       \n",
       "Afghanistan    47    71   340   496  ...  3436  3009  2652  2111  1746  1758   \n",
       "Albania         0     0     0     1  ...  1223   856   702   560   716   561   \n",
       "Algeria        69    63    44    69  ...  3626  4807  3623  4005  5393  4752   \n",
       "\n",
       "             2011  2012  2013  total  \n",
       "country                               \n",
       "Afghanistan  2203  2635  2004  58639  \n",
       "Albania       539   620   603  15699  \n",
       "Algeria      4325  3774  4331  69439  \n",
       "\n",
       "[3 rows x 38 columns]"
      ]
     },
     "execution_count": 12,
     "metadata": {},
     "output_type": "execute_result"
    }
   ],
   "source": [
    "years = list(range(1980,2014))\n",
    "df['total']=df[years].sum(axis=1)\n",
    "df.head(3)"
   ]
  },
  {
   "cell_type": "markdown",
   "metadata": {},
   "source": [
    "# Making country status to binary"
   ]
  },
  {
   "cell_type": "code",
   "execution_count": 13,
   "metadata": {},
   "outputs": [],
   "source": [
    "def binarize(val):\n",
    "    if val == 'Devloping regions':\n",
    "        return 0\n",
    "    else:\n",
    "        return 1\n",
    "df['country_status']=df['country_status'].apply(binarize)"
   ]
  },
  {
   "cell_type": "code",
   "execution_count": 14,
   "metadata": {},
   "outputs": [
    {
     "data": {
      "text/html": [
       "<div>\n",
       "<style scoped>\n",
       "    .dataframe tbody tr th:only-of-type {\n",
       "        vertical-align: middle;\n",
       "    }\n",
       "\n",
       "    .dataframe tbody tr th {\n",
       "        vertical-align: top;\n",
       "    }\n",
       "\n",
       "    .dataframe thead th {\n",
       "        text-align: right;\n",
       "    }\n",
       "</style>\n",
       "<table border=\"1\" class=\"dataframe\">\n",
       "  <thead>\n",
       "    <tr style=\"text-align: right;\">\n",
       "      <th></th>\n",
       "      <th>continent</th>\n",
       "      <th>region</th>\n",
       "      <th>country_status</th>\n",
       "      <th>1980</th>\n",
       "      <th>1981</th>\n",
       "      <th>1982</th>\n",
       "      <th>1983</th>\n",
       "      <th>1984</th>\n",
       "      <th>1985</th>\n",
       "      <th>1986</th>\n",
       "      <th>...</th>\n",
       "      <th>2005</th>\n",
       "      <th>2006</th>\n",
       "      <th>2007</th>\n",
       "      <th>2008</th>\n",
       "      <th>2009</th>\n",
       "      <th>2010</th>\n",
       "      <th>2011</th>\n",
       "      <th>2012</th>\n",
       "      <th>2013</th>\n",
       "      <th>total</th>\n",
       "    </tr>\n",
       "    <tr>\n",
       "      <th>country</th>\n",
       "      <th></th>\n",
       "      <th></th>\n",
       "      <th></th>\n",
       "      <th></th>\n",
       "      <th></th>\n",
       "      <th></th>\n",
       "      <th></th>\n",
       "      <th></th>\n",
       "      <th></th>\n",
       "      <th></th>\n",
       "      <th></th>\n",
       "      <th></th>\n",
       "      <th></th>\n",
       "      <th></th>\n",
       "      <th></th>\n",
       "      <th></th>\n",
       "      <th></th>\n",
       "      <th></th>\n",
       "      <th></th>\n",
       "      <th></th>\n",
       "      <th></th>\n",
       "    </tr>\n",
       "  </thead>\n",
       "  <tbody>\n",
       "    <tr>\n",
       "      <th>Afghanistan</th>\n",
       "      <td>Asia</td>\n",
       "      <td>Southern Asia</td>\n",
       "      <td>1</td>\n",
       "      <td>16</td>\n",
       "      <td>39</td>\n",
       "      <td>39</td>\n",
       "      <td>47</td>\n",
       "      <td>71</td>\n",
       "      <td>340</td>\n",
       "      <td>496</td>\n",
       "      <td>...</td>\n",
       "      <td>3436</td>\n",
       "      <td>3009</td>\n",
       "      <td>2652</td>\n",
       "      <td>2111</td>\n",
       "      <td>1746</td>\n",
       "      <td>1758</td>\n",
       "      <td>2203</td>\n",
       "      <td>2635</td>\n",
       "      <td>2004</td>\n",
       "      <td>58639</td>\n",
       "    </tr>\n",
       "    <tr>\n",
       "      <th>Albania</th>\n",
       "      <td>Europe</td>\n",
       "      <td>Southern Europe</td>\n",
       "      <td>1</td>\n",
       "      <td>1</td>\n",
       "      <td>0</td>\n",
       "      <td>0</td>\n",
       "      <td>0</td>\n",
       "      <td>0</td>\n",
       "      <td>0</td>\n",
       "      <td>1</td>\n",
       "      <td>...</td>\n",
       "      <td>1223</td>\n",
       "      <td>856</td>\n",
       "      <td>702</td>\n",
       "      <td>560</td>\n",
       "      <td>716</td>\n",
       "      <td>561</td>\n",
       "      <td>539</td>\n",
       "      <td>620</td>\n",
       "      <td>603</td>\n",
       "      <td>15699</td>\n",
       "    </tr>\n",
       "    <tr>\n",
       "      <th>Algeria</th>\n",
       "      <td>Africa</td>\n",
       "      <td>Northern Africa</td>\n",
       "      <td>1</td>\n",
       "      <td>80</td>\n",
       "      <td>67</td>\n",
       "      <td>71</td>\n",
       "      <td>69</td>\n",
       "      <td>63</td>\n",
       "      <td>44</td>\n",
       "      <td>69</td>\n",
       "      <td>...</td>\n",
       "      <td>3626</td>\n",
       "      <td>4807</td>\n",
       "      <td>3623</td>\n",
       "      <td>4005</td>\n",
       "      <td>5393</td>\n",
       "      <td>4752</td>\n",
       "      <td>4325</td>\n",
       "      <td>3774</td>\n",
       "      <td>4331</td>\n",
       "      <td>69439</td>\n",
       "    </tr>\n",
       "    <tr>\n",
       "      <th>American Samoa</th>\n",
       "      <td>Oceania</td>\n",
       "      <td>Polynesia</td>\n",
       "      <td>1</td>\n",
       "      <td>0</td>\n",
       "      <td>1</td>\n",
       "      <td>0</td>\n",
       "      <td>0</td>\n",
       "      <td>0</td>\n",
       "      <td>0</td>\n",
       "      <td>0</td>\n",
       "      <td>...</td>\n",
       "      <td>0</td>\n",
       "      <td>1</td>\n",
       "      <td>0</td>\n",
       "      <td>0</td>\n",
       "      <td>0</td>\n",
       "      <td>0</td>\n",
       "      <td>0</td>\n",
       "      <td>0</td>\n",
       "      <td>0</td>\n",
       "      <td>6</td>\n",
       "    </tr>\n",
       "    <tr>\n",
       "      <th>Andorra</th>\n",
       "      <td>Europe</td>\n",
       "      <td>Southern Europe</td>\n",
       "      <td>1</td>\n",
       "      <td>0</td>\n",
       "      <td>0</td>\n",
       "      <td>0</td>\n",
       "      <td>0</td>\n",
       "      <td>0</td>\n",
       "      <td>0</td>\n",
       "      <td>2</td>\n",
       "      <td>...</td>\n",
       "      <td>0</td>\n",
       "      <td>1</td>\n",
       "      <td>1</td>\n",
       "      <td>0</td>\n",
       "      <td>0</td>\n",
       "      <td>0</td>\n",
       "      <td>0</td>\n",
       "      <td>1</td>\n",
       "      <td>1</td>\n",
       "      <td>15</td>\n",
       "    </tr>\n",
       "  </tbody>\n",
       "</table>\n",
       "<p>5 rows × 38 columns</p>\n",
       "</div>"
      ],
      "text/plain": [
       "               continent           region  country_status  1980  1981  1982  \\\n",
       "country                                                                       \n",
       "Afghanistan         Asia    Southern Asia               1    16    39    39   \n",
       "Albania           Europe  Southern Europe               1     1     0     0   \n",
       "Algeria           Africa  Northern Africa               1    80    67    71   \n",
       "American Samoa   Oceania        Polynesia               1     0     1     0   \n",
       "Andorra           Europe  Southern Europe               1     0     0     0   \n",
       "\n",
       "                1983  1984  1985  1986  ...  2005  2006  2007  2008  2009  \\\n",
       "country                                 ...                                 \n",
       "Afghanistan       47    71   340   496  ...  3436  3009  2652  2111  1746   \n",
       "Albania            0     0     0     1  ...  1223   856   702   560   716   \n",
       "Algeria           69    63    44    69  ...  3626  4807  3623  4005  5393   \n",
       "American Samoa     0     0     0     0  ...     0     1     0     0     0   \n",
       "Andorra            0     0     0     2  ...     0     1     1     0     0   \n",
       "\n",
       "                2010  2011  2012  2013  total  \n",
       "country                                        \n",
       "Afghanistan     1758  2203  2635  2004  58639  \n",
       "Albania          561   539   620   603  15699  \n",
       "Algeria         4752  4325  3774  4331  69439  \n",
       "American Samoa     0     0     0     0      6  \n",
       "Andorra            0     0     1     1     15  \n",
       "\n",
       "[5 rows x 38 columns]"
      ]
     },
     "execution_count": 14,
     "metadata": {},
     "output_type": "execute_result"
    }
   ],
   "source": [
    "df.head()"
   ]
  },
  {
   "cell_type": "code",
   "execution_count": 15,
   "metadata": {},
   "outputs": [
    {
     "data": {
      "text/html": [
       "<div>\n",
       "<style scoped>\n",
       "    .dataframe tbody tr th:only-of-type {\n",
       "        vertical-align: middle;\n",
       "    }\n",
       "\n",
       "    .dataframe tbody tr th {\n",
       "        vertical-align: top;\n",
       "    }\n",
       "\n",
       "    .dataframe thead th {\n",
       "        text-align: right;\n",
       "    }\n",
       "</style>\n",
       "<table border=\"1\" class=\"dataframe\">\n",
       "  <thead>\n",
       "    <tr style=\"text-align: right;\">\n",
       "      <th></th>\n",
       "      <th>continent</th>\n",
       "      <th>region</th>\n",
       "      <th>country_status</th>\n",
       "      <th>1980</th>\n",
       "      <th>1981</th>\n",
       "      <th>1982</th>\n",
       "      <th>1983</th>\n",
       "      <th>1984</th>\n",
       "      <th>1985</th>\n",
       "      <th>1986</th>\n",
       "      <th>...</th>\n",
       "      <th>2005</th>\n",
       "      <th>2006</th>\n",
       "      <th>2007</th>\n",
       "      <th>2008</th>\n",
       "      <th>2009</th>\n",
       "      <th>2010</th>\n",
       "      <th>2011</th>\n",
       "      <th>2012</th>\n",
       "      <th>2013</th>\n",
       "      <th>total</th>\n",
       "    </tr>\n",
       "    <tr>\n",
       "      <th>country</th>\n",
       "      <th></th>\n",
       "      <th></th>\n",
       "      <th></th>\n",
       "      <th></th>\n",
       "      <th></th>\n",
       "      <th></th>\n",
       "      <th></th>\n",
       "      <th></th>\n",
       "      <th></th>\n",
       "      <th></th>\n",
       "      <th></th>\n",
       "      <th></th>\n",
       "      <th></th>\n",
       "      <th></th>\n",
       "      <th></th>\n",
       "      <th></th>\n",
       "      <th></th>\n",
       "      <th></th>\n",
       "      <th></th>\n",
       "      <th></th>\n",
       "      <th></th>\n",
       "    </tr>\n",
       "  </thead>\n",
       "  <tbody>\n",
       "    <tr>\n",
       "      <th>India</th>\n",
       "      <td>Asia</td>\n",
       "      <td>Southern Asia</td>\n",
       "      <td>1</td>\n",
       "      <td>8880</td>\n",
       "      <td>8670</td>\n",
       "      <td>8147</td>\n",
       "      <td>7338</td>\n",
       "      <td>5704</td>\n",
       "      <td>4211</td>\n",
       "      <td>7150</td>\n",
       "      <td>...</td>\n",
       "      <td>36210</td>\n",
       "      <td>33848</td>\n",
       "      <td>28742</td>\n",
       "      <td>28261</td>\n",
       "      <td>29456</td>\n",
       "      <td>34235</td>\n",
       "      <td>27509</td>\n",
       "      <td>30933</td>\n",
       "      <td>33087</td>\n",
       "      <td>691904</td>\n",
       "    </tr>\n",
       "    <tr>\n",
       "      <th>China</th>\n",
       "      <td>Asia</td>\n",
       "      <td>Eastern Asia</td>\n",
       "      <td>1</td>\n",
       "      <td>5123</td>\n",
       "      <td>6682</td>\n",
       "      <td>3308</td>\n",
       "      <td>1863</td>\n",
       "      <td>1527</td>\n",
       "      <td>1816</td>\n",
       "      <td>1960</td>\n",
       "      <td>...</td>\n",
       "      <td>42584</td>\n",
       "      <td>33518</td>\n",
       "      <td>27642</td>\n",
       "      <td>30037</td>\n",
       "      <td>29622</td>\n",
       "      <td>30391</td>\n",
       "      <td>28502</td>\n",
       "      <td>33024</td>\n",
       "      <td>34129</td>\n",
       "      <td>659962</td>\n",
       "    </tr>\n",
       "    <tr>\n",
       "      <th>United Kingdom of Great Britain and Northern Ireland</th>\n",
       "      <td>Europe</td>\n",
       "      <td>Northern Europe</td>\n",
       "      <td>1</td>\n",
       "      <td>22045</td>\n",
       "      <td>24796</td>\n",
       "      <td>20620</td>\n",
       "      <td>10015</td>\n",
       "      <td>10170</td>\n",
       "      <td>9564</td>\n",
       "      <td>9470</td>\n",
       "      <td>...</td>\n",
       "      <td>7258</td>\n",
       "      <td>7140</td>\n",
       "      <td>8216</td>\n",
       "      <td>8979</td>\n",
       "      <td>8876</td>\n",
       "      <td>8724</td>\n",
       "      <td>6204</td>\n",
       "      <td>6195</td>\n",
       "      <td>5827</td>\n",
       "      <td>551500</td>\n",
       "    </tr>\n",
       "    <tr>\n",
       "      <th>Philippines</th>\n",
       "      <td>Asia</td>\n",
       "      <td>South-Eastern Asia</td>\n",
       "      <td>1</td>\n",
       "      <td>6051</td>\n",
       "      <td>5921</td>\n",
       "      <td>5249</td>\n",
       "      <td>4562</td>\n",
       "      <td>3801</td>\n",
       "      <td>3150</td>\n",
       "      <td>4166</td>\n",
       "      <td>...</td>\n",
       "      <td>18139</td>\n",
       "      <td>18400</td>\n",
       "      <td>19837</td>\n",
       "      <td>24887</td>\n",
       "      <td>28573</td>\n",
       "      <td>38617</td>\n",
       "      <td>36765</td>\n",
       "      <td>34315</td>\n",
       "      <td>29544</td>\n",
       "      <td>511391</td>\n",
       "    </tr>\n",
       "    <tr>\n",
       "      <th>Pakistan</th>\n",
       "      <td>Asia</td>\n",
       "      <td>Southern Asia</td>\n",
       "      <td>1</td>\n",
       "      <td>978</td>\n",
       "      <td>972</td>\n",
       "      <td>1201</td>\n",
       "      <td>900</td>\n",
       "      <td>668</td>\n",
       "      <td>514</td>\n",
       "      <td>691</td>\n",
       "      <td>...</td>\n",
       "      <td>14314</td>\n",
       "      <td>13127</td>\n",
       "      <td>10124</td>\n",
       "      <td>8994</td>\n",
       "      <td>7217</td>\n",
       "      <td>6811</td>\n",
       "      <td>7468</td>\n",
       "      <td>11227</td>\n",
       "      <td>12603</td>\n",
       "      <td>241600</td>\n",
       "    </tr>\n",
       "  </tbody>\n",
       "</table>\n",
       "<p>5 rows × 38 columns</p>\n",
       "</div>"
      ],
      "text/plain": [
       "                                                   continent  \\\n",
       "country                                                        \n",
       "India                                                   Asia   \n",
       "China                                                   Asia   \n",
       "United Kingdom of Great Britain and Northern Ir...    Europe   \n",
       "Philippines                                             Asia   \n",
       "Pakistan                                                Asia   \n",
       "\n",
       "                                                                region  \\\n",
       "country                                                                  \n",
       "India                                                    Southern Asia   \n",
       "China                                                     Eastern Asia   \n",
       "United Kingdom of Great Britain and Northern Ir...     Northern Europe   \n",
       "Philippines                                         South-Eastern Asia   \n",
       "Pakistan                                                 Southern Asia   \n",
       "\n",
       "                                                    country_status   1980  \\\n",
       "country                                                                     \n",
       "India                                                            1   8880   \n",
       "China                                                            1   5123   \n",
       "United Kingdom of Great Britain and Northern Ir...               1  22045   \n",
       "Philippines                                                      1   6051   \n",
       "Pakistan                                                         1    978   \n",
       "\n",
       "                                                     1981   1982   1983  \\\n",
       "country                                                                   \n",
       "India                                                8670   8147   7338   \n",
       "China                                                6682   3308   1863   \n",
       "United Kingdom of Great Britain and Northern Ir...  24796  20620  10015   \n",
       "Philippines                                          5921   5249   4562   \n",
       "Pakistan                                              972   1201    900   \n",
       "\n",
       "                                                     1984  1985  1986  ...  \\\n",
       "country                                                                ...   \n",
       "India                                                5704  4211  7150  ...   \n",
       "China                                                1527  1816  1960  ...   \n",
       "United Kingdom of Great Britain and Northern Ir...  10170  9564  9470  ...   \n",
       "Philippines                                          3801  3150  4166  ...   \n",
       "Pakistan                                              668   514   691  ...   \n",
       "\n",
       "                                                     2005   2006   2007  \\\n",
       "country                                                                   \n",
       "India                                               36210  33848  28742   \n",
       "China                                               42584  33518  27642   \n",
       "United Kingdom of Great Britain and Northern Ir...   7258   7140   8216   \n",
       "Philippines                                         18139  18400  19837   \n",
       "Pakistan                                            14314  13127  10124   \n",
       "\n",
       "                                                     2008   2009   2010  \\\n",
       "country                                                                   \n",
       "India                                               28261  29456  34235   \n",
       "China                                               30037  29622  30391   \n",
       "United Kingdom of Great Britain and Northern Ir...   8979   8876   8724   \n",
       "Philippines                                         24887  28573  38617   \n",
       "Pakistan                                             8994   7217   6811   \n",
       "\n",
       "                                                     2011   2012   2013  \\\n",
       "country                                                                   \n",
       "India                                               27509  30933  33087   \n",
       "China                                               28502  33024  34129   \n",
       "United Kingdom of Great Britain and Northern Ir...   6204   6195   5827   \n",
       "Philippines                                         36765  34315  29544   \n",
       "Pakistan                                             7468  11227  12603   \n",
       "\n",
       "                                                     total  \n",
       "country                                                     \n",
       "India                                               691904  \n",
       "China                                               659962  \n",
       "United Kingdom of Great Britain and Northern Ir...  551500  \n",
       "Philippines                                         511391  \n",
       "Pakistan                                            241600  \n",
       "\n",
       "[5 rows x 38 columns]"
      ]
     },
     "execution_count": 15,
     "metadata": {},
     "output_type": "execute_result"
    }
   ],
   "source": [
    "df.sort_values(by = 'total',ascending = False, inplace =True)\n",
    "df.head()"
   ]
  },
  {
   "cell_type": "markdown",
   "metadata": {},
   "source": [
    "### Just for the situation , we have a 40 something columns and as we can see them, we will change pandas display options to show all columns"
   ]
  },
  {
   "cell_type": "code",
   "execution_count": 16,
   "metadata": {},
   "outputs": [
    {
     "name": "stdout",
     "output_type": "stream",
     "text": [
      "['India', 'China', 'United Kingdom of Great Britain and Northern Ireland', 'Philippines', 'Pakistan', 'United States of America', 'Iran (Islamic Republic of)', 'Sri Lanka', 'Republic of Korea', 'Poland', 'Lebanon', 'France', 'Jamaica', 'Viet Nam', 'Romania', 'Haiti', 'Guyana', 'Portugal', 'Egypt', 'Morocco', 'Colombia', 'Iraq', 'Algeria', 'Israel', 'Bangladesh', 'Germany', 'Russian Federation', 'Mexico', 'Afghanistan', 'El Salvador', 'Ukraine', 'Trinidad and Tobago', 'Somalia', 'South Africa', 'Nigeria', 'Jordan', 'Ethiopia', 'Peru', 'Turkey', 'Syrian Arab Republic', 'Brazil', 'Japan', 'Netherlands', 'Ghana', 'Democratic Republic of the Congo', 'Malaysia', 'Australia', 'Bulgaria', 'Italy', 'Bosnia and Herzegovina', 'Chile', 'Venezuela (Bolivarian Republic of)', 'Fiji', 'Cuba', 'Argentina', 'Guatemala', 'Sudan', 'Tunisia', 'Kenya', 'Ireland', 'Hungary', 'Cameroon', 'Albania', 'Mauritius', 'Switzerland', 'Republic of Moldova', 'Singapore', 'Indonesia', 'United Republic of Tanzania', 'Greece', 'Ecuador', 'Nicaragua', 'Dominican Republic', 'Belgium', 'Eritrea', 'New Zealand', 'Nepal', 'Saint Vincent and the Grenadines', 'China, Hong Kong Special Administrative Region', 'Myanmar', 'Thailand', 'Grenada', 'Zimbabwe', 'Kazakhstan', \"Côte d'Ivoire\", 'Burundi', 'Croatia', 'Belarus', 'Honduras', 'Senegal', 'Barbados', 'Rwanda', 'Cambodia', 'State of Palestine', 'Slovakia', 'Bhutan', 'Sweden', 'Spain', 'Austria', 'Libya', 'Guinea', 'Saint Lucia', 'Uruguay', 'The former Yugoslav Republic of Macedonia', 'Costa Rica', 'Czech Republic', 'Denmark', 'Togo', 'Uganda', 'Saudi Arabia', 'Uzbekistan', 'Sierra Leone', 'Armenia', 'Bolivia (Plurinational State of)', 'Panama', 'Yemen', 'Benin', 'Finland', 'Liberia', 'Azerbaijan', 'Dominica', 'Lithuania', 'Kyrgyzstan', 'Norway', 'Latvia', 'Madagascar', 'Mali', 'Angola', 'Georgia', 'Burkina Faso', 'Kuwait', 'Paraguay', 'Serbia', 'Congo', 'Zambia', 'Chad', 'Djibouti', 'Malta', 'Seychelles', 'Cyprus', \"Lao People's Democratic Republic\", 'Belize', 'Mauritania', 'Antigua and Barbuda', 'Niger', 'Mongolia', 'Gabon', 'Estonia', 'United Arab Emirates', 'Bahamas', 'Suriname', 'Saint Kitts and Nevis', 'Gambia', 'Brunei Darussalam', 'Iceland', 'Central African Republic', 'Slovenia', 'Tajikistan', 'Bahrain', 'Botswana', \"Democratic People's Republic of Korea\", 'Namibia', 'Turkmenistan', 'Malawi', 'China, Macao Special Administrative Region', 'Oman', 'Luxembourg', 'Cabo Verde', 'Comoros', 'Swaziland', 'Mozambique', 'Qatar', 'Tonga', 'Lesotho', 'Montenegro', 'Guinea-Bissau', 'Samoa', 'Papua New Guinea', 'Equatorial Guinea', 'Liechtenstein', 'Maldives', 'Monaco', 'Canada', 'Nauru', 'Andorra', 'Kiribati', 'Vanuatu', 'Sao Tome and Principe', 'Tuvalu', 'American Samoa', 'San Marino', 'New Caledonia', 'Marshall Islands', 'Western Sahara', 'Palau']\n"
     ]
    }
   ],
   "source": [
    "print(df.index.tolist())"
   ]
  },
  {
   "cell_type": "markdown",
   "metadata": {},
   "source": [
    "### Making lenthy names shorter"
   ]
  },
  {
   "cell_type": "code",
   "execution_count": 17,
   "metadata": {},
   "outputs": [
    {
     "data": {
      "text/html": [
       "<div>\n",
       "<style scoped>\n",
       "    .dataframe tbody tr th:only-of-type {\n",
       "        vertical-align: middle;\n",
       "    }\n",
       "\n",
       "    .dataframe tbody tr th {\n",
       "        vertical-align: top;\n",
       "    }\n",
       "\n",
       "    .dataframe thead th {\n",
       "        text-align: right;\n",
       "    }\n",
       "</style>\n",
       "<table border=\"1\" class=\"dataframe\">\n",
       "  <thead>\n",
       "    <tr style=\"text-align: right;\">\n",
       "      <th></th>\n",
       "      <th>continent</th>\n",
       "      <th>region</th>\n",
       "      <th>country_status</th>\n",
       "      <th>1980</th>\n",
       "      <th>1981</th>\n",
       "      <th>1982</th>\n",
       "      <th>1983</th>\n",
       "      <th>1984</th>\n",
       "      <th>1985</th>\n",
       "      <th>1986</th>\n",
       "      <th>...</th>\n",
       "      <th>2005</th>\n",
       "      <th>2006</th>\n",
       "      <th>2007</th>\n",
       "      <th>2008</th>\n",
       "      <th>2009</th>\n",
       "      <th>2010</th>\n",
       "      <th>2011</th>\n",
       "      <th>2012</th>\n",
       "      <th>2013</th>\n",
       "      <th>total</th>\n",
       "    </tr>\n",
       "    <tr>\n",
       "      <th>country</th>\n",
       "      <th></th>\n",
       "      <th></th>\n",
       "      <th></th>\n",
       "      <th></th>\n",
       "      <th></th>\n",
       "      <th></th>\n",
       "      <th></th>\n",
       "      <th></th>\n",
       "      <th></th>\n",
       "      <th></th>\n",
       "      <th></th>\n",
       "      <th></th>\n",
       "      <th></th>\n",
       "      <th></th>\n",
       "      <th></th>\n",
       "      <th></th>\n",
       "      <th></th>\n",
       "      <th></th>\n",
       "      <th></th>\n",
       "      <th></th>\n",
       "      <th></th>\n",
       "    </tr>\n",
       "  </thead>\n",
       "  <tbody>\n",
       "    <tr>\n",
       "      <th>India</th>\n",
       "      <td>Asia</td>\n",
       "      <td>Southern Asia</td>\n",
       "      <td>1</td>\n",
       "      <td>8880</td>\n",
       "      <td>8670</td>\n",
       "      <td>8147</td>\n",
       "      <td>7338</td>\n",
       "      <td>5704</td>\n",
       "      <td>4211</td>\n",
       "      <td>7150</td>\n",
       "      <td>...</td>\n",
       "      <td>36210</td>\n",
       "      <td>33848</td>\n",
       "      <td>28742</td>\n",
       "      <td>28261</td>\n",
       "      <td>29456</td>\n",
       "      <td>34235</td>\n",
       "      <td>27509</td>\n",
       "      <td>30933</td>\n",
       "      <td>33087</td>\n",
       "      <td>691904</td>\n",
       "    </tr>\n",
       "    <tr>\n",
       "      <th>China</th>\n",
       "      <td>Asia</td>\n",
       "      <td>Eastern Asia</td>\n",
       "      <td>1</td>\n",
       "      <td>5123</td>\n",
       "      <td>6682</td>\n",
       "      <td>3308</td>\n",
       "      <td>1863</td>\n",
       "      <td>1527</td>\n",
       "      <td>1816</td>\n",
       "      <td>1960</td>\n",
       "      <td>...</td>\n",
       "      <td>42584</td>\n",
       "      <td>33518</td>\n",
       "      <td>27642</td>\n",
       "      <td>30037</td>\n",
       "      <td>29622</td>\n",
       "      <td>30391</td>\n",
       "      <td>28502</td>\n",
       "      <td>33024</td>\n",
       "      <td>34129</td>\n",
       "      <td>659962</td>\n",
       "    </tr>\n",
       "    <tr>\n",
       "      <th>United Kingdom</th>\n",
       "      <td>Europe</td>\n",
       "      <td>Northern Europe</td>\n",
       "      <td>1</td>\n",
       "      <td>22045</td>\n",
       "      <td>24796</td>\n",
       "      <td>20620</td>\n",
       "      <td>10015</td>\n",
       "      <td>10170</td>\n",
       "      <td>9564</td>\n",
       "      <td>9470</td>\n",
       "      <td>...</td>\n",
       "      <td>7258</td>\n",
       "      <td>7140</td>\n",
       "      <td>8216</td>\n",
       "      <td>8979</td>\n",
       "      <td>8876</td>\n",
       "      <td>8724</td>\n",
       "      <td>6204</td>\n",
       "      <td>6195</td>\n",
       "      <td>5827</td>\n",
       "      <td>551500</td>\n",
       "    </tr>\n",
       "    <tr>\n",
       "      <th>Philippines</th>\n",
       "      <td>Asia</td>\n",
       "      <td>South-Eastern Asia</td>\n",
       "      <td>1</td>\n",
       "      <td>6051</td>\n",
       "      <td>5921</td>\n",
       "      <td>5249</td>\n",
       "      <td>4562</td>\n",
       "      <td>3801</td>\n",
       "      <td>3150</td>\n",
       "      <td>4166</td>\n",
       "      <td>...</td>\n",
       "      <td>18139</td>\n",
       "      <td>18400</td>\n",
       "      <td>19837</td>\n",
       "      <td>24887</td>\n",
       "      <td>28573</td>\n",
       "      <td>38617</td>\n",
       "      <td>36765</td>\n",
       "      <td>34315</td>\n",
       "      <td>29544</td>\n",
       "      <td>511391</td>\n",
       "    </tr>\n",
       "    <tr>\n",
       "      <th>Pakistan</th>\n",
       "      <td>Asia</td>\n",
       "      <td>Southern Asia</td>\n",
       "      <td>1</td>\n",
       "      <td>978</td>\n",
       "      <td>972</td>\n",
       "      <td>1201</td>\n",
       "      <td>900</td>\n",
       "      <td>668</td>\n",
       "      <td>514</td>\n",
       "      <td>691</td>\n",
       "      <td>...</td>\n",
       "      <td>14314</td>\n",
       "      <td>13127</td>\n",
       "      <td>10124</td>\n",
       "      <td>8994</td>\n",
       "      <td>7217</td>\n",
       "      <td>6811</td>\n",
       "      <td>7468</td>\n",
       "      <td>11227</td>\n",
       "      <td>12603</td>\n",
       "      <td>241600</td>\n",
       "    </tr>\n",
       "    <tr>\n",
       "      <th>...</th>\n",
       "      <td>...</td>\n",
       "      <td>...</td>\n",
       "      <td>...</td>\n",
       "      <td>...</td>\n",
       "      <td>...</td>\n",
       "      <td>...</td>\n",
       "      <td>...</td>\n",
       "      <td>...</td>\n",
       "      <td>...</td>\n",
       "      <td>...</td>\n",
       "      <td>...</td>\n",
       "      <td>...</td>\n",
       "      <td>...</td>\n",
       "      <td>...</td>\n",
       "      <td>...</td>\n",
       "      <td>...</td>\n",
       "      <td>...</td>\n",
       "      <td>...</td>\n",
       "      <td>...</td>\n",
       "      <td>...</td>\n",
       "      <td>...</td>\n",
       "    </tr>\n",
       "    <tr>\n",
       "      <th>San Marino</th>\n",
       "      <td>Europe</td>\n",
       "      <td>Southern Europe</td>\n",
       "      <td>1</td>\n",
       "      <td>1</td>\n",
       "      <td>0</td>\n",
       "      <td>0</td>\n",
       "      <td>0</td>\n",
       "      <td>0</td>\n",
       "      <td>0</td>\n",
       "      <td>1</td>\n",
       "      <td>...</td>\n",
       "      <td>0</td>\n",
       "      <td>0</td>\n",
       "      <td>0</td>\n",
       "      <td>0</td>\n",
       "      <td>0</td>\n",
       "      <td>1</td>\n",
       "      <td>0</td>\n",
       "      <td>0</td>\n",
       "      <td>0</td>\n",
       "      <td>5</td>\n",
       "    </tr>\n",
       "    <tr>\n",
       "      <th>New Caledonia</th>\n",
       "      <td>Oceania</td>\n",
       "      <td>Melanesia</td>\n",
       "      <td>1</td>\n",
       "      <td>0</td>\n",
       "      <td>0</td>\n",
       "      <td>0</td>\n",
       "      <td>0</td>\n",
       "      <td>0</td>\n",
       "      <td>0</td>\n",
       "      <td>0</td>\n",
       "      <td>...</td>\n",
       "      <td>0</td>\n",
       "      <td>0</td>\n",
       "      <td>0</td>\n",
       "      <td>1</td>\n",
       "      <td>0</td>\n",
       "      <td>0</td>\n",
       "      <td>0</td>\n",
       "      <td>0</td>\n",
       "      <td>2</td>\n",
       "      <td>5</td>\n",
       "    </tr>\n",
       "    <tr>\n",
       "      <th>Marshall Islands</th>\n",
       "      <td>Oceania</td>\n",
       "      <td>Micronesia</td>\n",
       "      <td>1</td>\n",
       "      <td>0</td>\n",
       "      <td>0</td>\n",
       "      <td>0</td>\n",
       "      <td>0</td>\n",
       "      <td>0</td>\n",
       "      <td>0</td>\n",
       "      <td>0</td>\n",
       "      <td>...</td>\n",
       "      <td>0</td>\n",
       "      <td>0</td>\n",
       "      <td>2</td>\n",
       "      <td>0</td>\n",
       "      <td>0</td>\n",
       "      <td>0</td>\n",
       "      <td>0</td>\n",
       "      <td>0</td>\n",
       "      <td>0</td>\n",
       "      <td>2</td>\n",
       "    </tr>\n",
       "    <tr>\n",
       "      <th>Western Sahara</th>\n",
       "      <td>Africa</td>\n",
       "      <td>Northern Africa</td>\n",
       "      <td>1</td>\n",
       "      <td>0</td>\n",
       "      <td>0</td>\n",
       "      <td>0</td>\n",
       "      <td>0</td>\n",
       "      <td>0</td>\n",
       "      <td>0</td>\n",
       "      <td>0</td>\n",
       "      <td>...</td>\n",
       "      <td>0</td>\n",
       "      <td>1</td>\n",
       "      <td>0</td>\n",
       "      <td>0</td>\n",
       "      <td>0</td>\n",
       "      <td>0</td>\n",
       "      <td>0</td>\n",
       "      <td>0</td>\n",
       "      <td>0</td>\n",
       "      <td>2</td>\n",
       "    </tr>\n",
       "    <tr>\n",
       "      <th>Palau</th>\n",
       "      <td>Oceania</td>\n",
       "      <td>Micronesia</td>\n",
       "      <td>1</td>\n",
       "      <td>0</td>\n",
       "      <td>0</td>\n",
       "      <td>0</td>\n",
       "      <td>0</td>\n",
       "      <td>0</td>\n",
       "      <td>0</td>\n",
       "      <td>0</td>\n",
       "      <td>...</td>\n",
       "      <td>0</td>\n",
       "      <td>0</td>\n",
       "      <td>1</td>\n",
       "      <td>0</td>\n",
       "      <td>0</td>\n",
       "      <td>0</td>\n",
       "      <td>0</td>\n",
       "      <td>0</td>\n",
       "      <td>0</td>\n",
       "      <td>1</td>\n",
       "    </tr>\n",
       "  </tbody>\n",
       "</table>\n",
       "<p>195 rows × 38 columns</p>\n",
       "</div>"
      ],
      "text/plain": [
       "                 continent              region  country_status   1980   1981  \\\n",
       "country                                                                        \n",
       "India                 Asia       Southern Asia               1   8880   8670   \n",
       "China                 Asia        Eastern Asia               1   5123   6682   \n",
       "United Kingdom      Europe     Northern Europe               1  22045  24796   \n",
       "Philippines           Asia  South-Eastern Asia               1   6051   5921   \n",
       "Pakistan              Asia       Southern Asia               1    978    972   \n",
       "...                    ...                 ...             ...    ...    ...   \n",
       "San Marino          Europe     Southern Europe               1      1      0   \n",
       "New Caledonia      Oceania           Melanesia               1      0      0   \n",
       "Marshall Islands   Oceania          Micronesia               1      0      0   \n",
       "Western Sahara      Africa     Northern Africa               1      0      0   \n",
       "Palau              Oceania          Micronesia               1      0      0   \n",
       "\n",
       "                   1982   1983   1984  1985  1986  ...   2005   2006   2007  \\\n",
       "country                                            ...                        \n",
       "India              8147   7338   5704  4211  7150  ...  36210  33848  28742   \n",
       "China              3308   1863   1527  1816  1960  ...  42584  33518  27642   \n",
       "United Kingdom    20620  10015  10170  9564  9470  ...   7258   7140   8216   \n",
       "Philippines        5249   4562   3801  3150  4166  ...  18139  18400  19837   \n",
       "Pakistan           1201    900    668   514   691  ...  14314  13127  10124   \n",
       "...                 ...    ...    ...   ...   ...  ...    ...    ...    ...   \n",
       "San Marino            0      0      0     0     1  ...      0      0      0   \n",
       "New Caledonia         0      0      0     0     0  ...      0      0      0   \n",
       "Marshall Islands      0      0      0     0     0  ...      0      0      2   \n",
       "Western Sahara        0      0      0     0     0  ...      0      1      0   \n",
       "Palau                 0      0      0     0     0  ...      0      0      1   \n",
       "\n",
       "                   2008   2009   2010   2011   2012   2013   total  \n",
       "country                                                             \n",
       "India             28261  29456  34235  27509  30933  33087  691904  \n",
       "China             30037  29622  30391  28502  33024  34129  659962  \n",
       "United Kingdom     8979   8876   8724   6204   6195   5827  551500  \n",
       "Philippines       24887  28573  38617  36765  34315  29544  511391  \n",
       "Pakistan           8994   7217   6811   7468  11227  12603  241600  \n",
       "...                 ...    ...    ...    ...    ...    ...     ...  \n",
       "San Marino            0      0      1      0      0      0       5  \n",
       "New Caledonia         1      0      0      0      0      2       5  \n",
       "Marshall Islands      0      0      0      0      0      0       2  \n",
       "Western Sahara        0      0      0      0      0      0       2  \n",
       "Palau                 0      0      0      0      0      0       1  \n",
       "\n",
       "[195 rows x 38 columns]"
      ]
     },
     "execution_count": 17,
     "metadata": {},
     "output_type": "execute_result"
    }
   ],
   "source": [
    "df.rename({\n",
    "    'United Kingdom of Great Britain and Northern Ireland':'United Kingdom'\n",
    "    \n",
    "})"
   ]
  },
  {
   "cell_type": "markdown",
   "metadata": {},
   "source": [
    "## Changing Plot Theme"
   ]
  },
  {
   "cell_type": "code",
   "execution_count": 18,
   "metadata": {},
   "outputs": [
    {
     "name": "stdout",
     "output_type": "stream",
     "text": [
      "['Solarize_Light2', '_classic_test_patch', '_mpl-gallery', '_mpl-gallery-nogrid', 'bmh', 'classic', 'dark_background', 'fast', 'fivethirtyeight', 'ggplot', 'grayscale', 'seaborn-v0_8', 'seaborn-v0_8-bright', 'seaborn-v0_8-colorblind', 'seaborn-v0_8-dark', 'seaborn-v0_8-dark-palette', 'seaborn-v0_8-darkgrid', 'seaborn-v0_8-deep', 'seaborn-v0_8-muted', 'seaborn-v0_8-notebook', 'seaborn-v0_8-paper', 'seaborn-v0_8-pastel', 'seaborn-v0_8-poster', 'seaborn-v0_8-talk', 'seaborn-v0_8-ticks', 'seaborn-v0_8-white', 'seaborn-v0_8-whitegrid', 'tableau-colorblind10']\n"
     ]
    }
   ],
   "source": [
    "print(plt.style.available)\n",
    "plt.style.use('tableau-colorblind10')"
   ]
  },
  {
   "cell_type": "code",
   "execution_count": 19,
   "metadata": {},
   "outputs": [
    {
     "data": {
      "text/plain": [
       "<AxesSubplot: >"
      ]
     },
     "execution_count": 19,
     "metadata": {},
     "output_type": "execute_result"
    },
    {
     "data": {
      "image/png": "[encoded data removed]",
      "text/plain": [
       "<Figure size 1440x432 with 1 Axes>"
      ]
     },
     "metadata": {
      "needs_background": "light"
     },
     "output_type": "display_data"
    }
   ],
   "source": [
    "df.loc['Japan',years].plot(kind='line',figsize=(20,6))"
   ]
  },
  {
   "cell_type": "markdown",
   "metadata": {},
   "source": [
    "# Add pandas styling\n",
    "- recommended when data size is small"
   ]
  },
  {
   "cell_type": "code",
   "execution_count": 20,
   "metadata": {},
   "outputs": [],
   "source": [
    "continent_df = df.groupby('continent')[years].sum()"
   ]
  },
  {
   "cell_type": "code",
   "execution_count": 21,
   "metadata": {},
   "outputs": [
    {
     "data": {
      "text/html": [
       "<style type=\"text/css\">\n",
       "#T_55305_row0_col0, #T_55305_row0_col1, #T_55305_row0_col2, #T_55305_row0_col3, #T_55305_row0_col4, #T_55305_row0_col5, #T_55305_row0_col6, #T_55305_row4_col8, #T_55305_row4_col9, #T_55305_row4_col10, #T_55305_row4_col11, #T_55305_row4_col12, #T_55305_row4_col13, #T_55305_row4_col14, #T_55305_row4_col15, #T_55305_row4_col16, #T_55305_row4_col17, #T_55305_row4_col18, #T_55305_row4_col19, #T_55305_row4_col20, #T_55305_row4_col21, #T_55305_row4_col22, #T_55305_row4_col23, #T_55305_row4_col24, #T_55305_row4_col25, #T_55305_row4_col26, #T_55305_row4_col27, #T_55305_row4_col28, #T_55305_row4_col29, #T_55305_row4_col30, #T_55305_row4_col31, #T_55305_row4_col32, #T_55305_row4_col33, #T_55305_row5_col0, #T_55305_row5_col1, #T_55305_row5_col2, #T_55305_row5_col3, #T_55305_row5_col4, #T_55305_row5_col5, #T_55305_row5_col6, #T_55305_row5_col7, #T_55305_row5_col8, #T_55305_row5_col9, #T_55305_row5_col10, #T_55305_row5_col11, #T_55305_row5_col12, #T_55305_row5_col13, #T_55305_row5_col14, #T_55305_row5_col15, #T_55305_row5_col16, #T_55305_row5_col17, #T_55305_row5_col18, #T_55305_row5_col19, #T_55305_row5_col20, #T_55305_row5_col21, #T_55305_row5_col22, #T_55305_row5_col23, #T_55305_row5_col24, #T_55305_row5_col25, #T_55305_row5_col26, #T_55305_row5_col27, #T_55305_row5_col28, #T_55305_row5_col29, #T_55305_row5_col30, #T_55305_row5_col31, #T_55305_row5_col32, #T_55305_row5_col33 {\n",
       "  background-color: #fbb4ae;\n",
       "  color: #000000;\n",
       "}\n",
       "#T_55305_row0_col7, #T_55305_row0_col8, #T_55305_row0_col9, #T_55305_row0_col10, #T_55305_row0_col11, #T_55305_row0_col12, #T_55305_row0_col13, #T_55305_row0_col14, #T_55305_row0_col15, #T_55305_row0_col16, #T_55305_row0_col17, #T_55305_row0_col18, #T_55305_row0_col19, #T_55305_row0_col20, #T_55305_row0_col21, #T_55305_row0_col22, #T_55305_row0_col23, #T_55305_row0_col24, #T_55305_row0_col25, #T_55305_row0_col26, #T_55305_row0_col27, #T_55305_row0_col28, #T_55305_row2_col25, #T_55305_row2_col26, #T_55305_row2_col30, #T_55305_row2_col31, #T_55305_row2_col32, #T_55305_row2_col33, #T_55305_row3_col15, #T_55305_row3_col16, #T_55305_row3_col17, #T_55305_row3_col18, #T_55305_row3_col19, #T_55305_row3_col20, #T_55305_row3_col21, #T_55305_row3_col22, #T_55305_row3_col23, #T_55305_row3_col24, #T_55305_row3_col25, #T_55305_row3_col26, #T_55305_row3_col27, #T_55305_row3_col28, #T_55305_row3_col29, #T_55305_row3_col30, #T_55305_row3_col31, #T_55305_row3_col32, #T_55305_row3_col33, #T_55305_row4_col0, #T_55305_row4_col1, #T_55305_row4_col2, #T_55305_row4_col4, #T_55305_row4_col6, #T_55305_row4_col7 {\n",
       "  background-color: #b3cde3;\n",
       "  color: #000000;\n",
       "}\n",
       "#T_55305_row0_col29, #T_55305_row0_col30, #T_55305_row0_col31, #T_55305_row0_col32, #T_55305_row0_col33, #T_55305_row2_col19, #T_55305_row2_col20, #T_55305_row2_col21, #T_55305_row2_col22, #T_55305_row2_col23, #T_55305_row2_col24, #T_55305_row2_col27, #T_55305_row2_col28, #T_55305_row2_col29, #T_55305_row3_col0, #T_55305_row3_col1, #T_55305_row3_col13, #T_55305_row3_col14, #T_55305_row4_col3, #T_55305_row4_col5 {\n",
       "  background-color: #ccebc5;\n",
       "  color: #000000;\n",
       "}\n",
       "#T_55305_row1_col0, #T_55305_row1_col1, #T_55305_row1_col2, #T_55305_row2_col12, #T_55305_row2_col14, #T_55305_row3_col6 {\n",
       "  background-color: #e5d8bd;\n",
       "  color: #000000;\n",
       "}\n",
       "#T_55305_row1_col3, #T_55305_row1_col4, #T_55305_row1_col5, #T_55305_row1_col6, #T_55305_row1_col7, #T_55305_row1_col9, #T_55305_row1_col10, #T_55305_row1_col11, #T_55305_row1_col12, #T_55305_row1_col13, #T_55305_row1_col14, #T_55305_row1_col15, #T_55305_row1_col16, #T_55305_row1_col17, #T_55305_row1_col18, #T_55305_row1_col19, #T_55305_row1_col20, #T_55305_row1_col21, #T_55305_row1_col22, #T_55305_row1_col23, #T_55305_row1_col24, #T_55305_row1_col25, #T_55305_row1_col26, #T_55305_row1_col27, #T_55305_row1_col28, #T_55305_row1_col29, #T_55305_row1_col30, #T_55305_row1_col31, #T_55305_row1_col32, #T_55305_row1_col33, #T_55305_row2_col0, #T_55305_row2_col1, #T_55305_row2_col2, #T_55305_row2_col3, #T_55305_row2_col7, #T_55305_row2_col8, #T_55305_row2_col9, #T_55305_row2_col10 {\n",
       "  background-color: #f2f2f2;\n",
       "  color: #000000;\n",
       "}\n",
       "#T_55305_row1_col8, #T_55305_row2_col4, #T_55305_row2_col5, #T_55305_row2_col6 {\n",
       "  background-color: #fddaec;\n",
       "  color: #000000;\n",
       "}\n",
       "#T_55305_row2_col11, #T_55305_row2_col13, #T_55305_row2_col15, #T_55305_row3_col3, #T_55305_row3_col5, #T_55305_row3_col7 {\n",
       "  background-color: #ffffcc;\n",
       "  color: #000000;\n",
       "}\n",
       "#T_55305_row2_col16, #T_55305_row2_col17, #T_55305_row3_col4 {\n",
       "  background-color: #fed9a6;\n",
       "  color: #000000;\n",
       "}\n",
       "#T_55305_row2_col18, #T_55305_row3_col2, #T_55305_row3_col8, #T_55305_row3_col9, #T_55305_row3_col10, #T_55305_row3_col11, #T_55305_row3_col12 {\n",
       "  background-color: #decbe4;\n",
       "  color: #000000;\n",
       "}\n",
       "</style>\n",
       "<table id=\"T_55305\">\n",
       "  <thead>\n",
       "    <tr>\n",
       "      <th class=\"blank level0\" >&nbsp;</th>\n",
       "      <th id=\"T_55305_level0_col0\" class=\"col_heading level0 col0\" >1980</th>\n",
       "      <th id=\"T_55305_level0_col1\" class=\"col_heading level0 col1\" >1981</th>\n",
       "      <th id=\"T_55305_level0_col2\" class=\"col_heading level0 col2\" >1982</th>\n",
       "      <th id=\"T_55305_level0_col3\" class=\"col_heading level0 col3\" >1983</th>\n",
       "      <th id=\"T_55305_level0_col4\" class=\"col_heading level0 col4\" >1984</th>\n",
       "      <th id=\"T_55305_level0_col5\" class=\"col_heading level0 col5\" >1985</th>\n",
       "      <th id=\"T_55305_level0_col6\" class=\"col_heading level0 col6\" >1986</th>\n",
       "      <th id=\"T_55305_level0_col7\" class=\"col_heading level0 col7\" >1987</th>\n",
       "      <th id=\"T_55305_level0_col8\" class=\"col_heading level0 col8\" >1988</th>\n",
       "      <th id=\"T_55305_level0_col9\" class=\"col_heading level0 col9\" >1989</th>\n",
       "      <th id=\"T_55305_level0_col10\" class=\"col_heading level0 col10\" >1990</th>\n",
       "      <th id=\"T_55305_level0_col11\" class=\"col_heading level0 col11\" >1991</th>\n",
       "      <th id=\"T_55305_level0_col12\" class=\"col_heading level0 col12\" >1992</th>\n",
       "      <th id=\"T_55305_level0_col13\" class=\"col_heading level0 col13\" >1993</th>\n",
       "      <th id=\"T_55305_level0_col14\" class=\"col_heading level0 col14\" >1994</th>\n",
       "      <th id=\"T_55305_level0_col15\" class=\"col_heading level0 col15\" >1995</th>\n",
       "      <th id=\"T_55305_level0_col16\" class=\"col_heading level0 col16\" >1996</th>\n",
       "      <th id=\"T_55305_level0_col17\" class=\"col_heading level0 col17\" >1997</th>\n",
       "      <th id=\"T_55305_level0_col18\" class=\"col_heading level0 col18\" >1998</th>\n",
       "      <th id=\"T_55305_level0_col19\" class=\"col_heading level0 col19\" >1999</th>\n",
       "      <th id=\"T_55305_level0_col20\" class=\"col_heading level0 col20\" >2000</th>\n",
       "      <th id=\"T_55305_level0_col21\" class=\"col_heading level0 col21\" >2001</th>\n",
       "      <th id=\"T_55305_level0_col22\" class=\"col_heading level0 col22\" >2002</th>\n",
       "      <th id=\"T_55305_level0_col23\" class=\"col_heading level0 col23\" >2003</th>\n",
       "      <th id=\"T_55305_level0_col24\" class=\"col_heading level0 col24\" >2004</th>\n",
       "      <th id=\"T_55305_level0_col25\" class=\"col_heading level0 col25\" >2005</th>\n",
       "      <th id=\"T_55305_level0_col26\" class=\"col_heading level0 col26\" >2006</th>\n",
       "      <th id=\"T_55305_level0_col27\" class=\"col_heading level0 col27\" >2007</th>\n",
       "      <th id=\"T_55305_level0_col28\" class=\"col_heading level0 col28\" >2008</th>\n",
       "      <th id=\"T_55305_level0_col29\" class=\"col_heading level0 col29\" >2009</th>\n",
       "      <th id=\"T_55305_level0_col30\" class=\"col_heading level0 col30\" >2010</th>\n",
       "      <th id=\"T_55305_level0_col31\" class=\"col_heading level0 col31\" >2011</th>\n",
       "      <th id=\"T_55305_level0_col32\" class=\"col_heading level0 col32\" >2012</th>\n",
       "      <th id=\"T_55305_level0_col33\" class=\"col_heading level0 col33\" >2013</th>\n",
       "    </tr>\n",
       "    <tr>\n",
       "      <th class=\"index_name level0\" >continent</th>\n",
       "      <th class=\"blank col0\" >&nbsp;</th>\n",
       "      <th class=\"blank col1\" >&nbsp;</th>\n",
       "      <th class=\"blank col2\" >&nbsp;</th>\n",
       "      <th class=\"blank col3\" >&nbsp;</th>\n",
       "      <th class=\"blank col4\" >&nbsp;</th>\n",
       "      <th class=\"blank col5\" >&nbsp;</th>\n",
       "      <th class=\"blank col6\" >&nbsp;</th>\n",
       "      <th class=\"blank col7\" >&nbsp;</th>\n",
       "      <th class=\"blank col8\" >&nbsp;</th>\n",
       "      <th class=\"blank col9\" >&nbsp;</th>\n",
       "      <th class=\"blank col10\" >&nbsp;</th>\n",
       "      <th class=\"blank col11\" >&nbsp;</th>\n",
       "      <th class=\"blank col12\" >&nbsp;</th>\n",
       "      <th class=\"blank col13\" >&nbsp;</th>\n",
       "      <th class=\"blank col14\" >&nbsp;</th>\n",
       "      <th class=\"blank col15\" >&nbsp;</th>\n",
       "      <th class=\"blank col16\" >&nbsp;</th>\n",
       "      <th class=\"blank col17\" >&nbsp;</th>\n",
       "      <th class=\"blank col18\" >&nbsp;</th>\n",
       "      <th class=\"blank col19\" >&nbsp;</th>\n",
       "      <th class=\"blank col20\" >&nbsp;</th>\n",
       "      <th class=\"blank col21\" >&nbsp;</th>\n",
       "      <th class=\"blank col22\" >&nbsp;</th>\n",
       "      <th class=\"blank col23\" >&nbsp;</th>\n",
       "      <th class=\"blank col24\" >&nbsp;</th>\n",
       "      <th class=\"blank col25\" >&nbsp;</th>\n",
       "      <th class=\"blank col26\" >&nbsp;</th>\n",
       "      <th class=\"blank col27\" >&nbsp;</th>\n",
       "      <th class=\"blank col28\" >&nbsp;</th>\n",
       "      <th class=\"blank col29\" >&nbsp;</th>\n",
       "      <th class=\"blank col30\" >&nbsp;</th>\n",
       "      <th class=\"blank col31\" >&nbsp;</th>\n",
       "      <th class=\"blank col32\" >&nbsp;</th>\n",
       "      <th class=\"blank col33\" >&nbsp;</th>\n",
       "    </tr>\n",
       "  </thead>\n",
       "  <tbody>\n",
       "    <tr>\n",
       "      <th id=\"T_55305_level0_row0\" class=\"row_heading level0 row0\" >Africa</th>\n",
       "      <td id=\"T_55305_row0_col0\" class=\"data row0 col0\" >3951</td>\n",
       "      <td id=\"T_55305_row0_col1\" class=\"data row0 col1\" >4363</td>\n",
       "      <td id=\"T_55305_row0_col2\" class=\"data row0 col2\" >3819</td>\n",
       "      <td id=\"T_55305_row0_col3\" class=\"data row0 col3\" >2671</td>\n",
       "      <td id=\"T_55305_row0_col4\" class=\"data row0 col4\" >2639</td>\n",
       "      <td id=\"T_55305_row0_col5\" class=\"data row0 col5\" >2650</td>\n",
       "      <td id=\"T_55305_row0_col6\" class=\"data row0 col6\" >3782</td>\n",
       "      <td id=\"T_55305_row0_col7\" class=\"data row0 col7\" >7494</td>\n",
       "      <td id=\"T_55305_row0_col8\" class=\"data row0 col8\" >7552</td>\n",
       "      <td id=\"T_55305_row0_col9\" class=\"data row0 col9\" >9894</td>\n",
       "      <td id=\"T_55305_row0_col10\" class=\"data row0 col10\" >11012</td>\n",
       "      <td id=\"T_55305_row0_col11\" class=\"data row0 col11\" >14228</td>\n",
       "      <td id=\"T_55305_row0_col12\" class=\"data row0 col12\" >19242</td>\n",
       "      <td id=\"T_55305_row0_col13\" class=\"data row0 col13\" >16531</td>\n",
       "      <td id=\"T_55305_row0_col14\" class=\"data row0 col14\" >13072</td>\n",
       "      <td id=\"T_55305_row0_col15\" class=\"data row0 col15\" >14806</td>\n",
       "      <td id=\"T_55305_row0_col16\" class=\"data row0 col16\" >15700</td>\n",
       "      <td id=\"T_55305_row0_col17\" class=\"data row0 col17\" >14471</td>\n",
       "      <td id=\"T_55305_row0_col18\" class=\"data row0 col18\" >13791</td>\n",
       "      <td id=\"T_55305_row0_col19\" class=\"data row0 col19\" >15996</td>\n",
       "      <td id=\"T_55305_row0_col20\" class=\"data row0 col20\" >20346</td>\n",
       "      <td id=\"T_55305_row0_col21\" class=\"data row0 col21\" >24292</td>\n",
       "      <td id=\"T_55305_row0_col22\" class=\"data row0 col22\" >22710</td>\n",
       "      <td id=\"T_55305_row0_col23\" class=\"data row0 col23\" >23366</td>\n",
       "      <td id=\"T_55305_row0_col24\" class=\"data row0 col24\" >28192</td>\n",
       "      <td id=\"T_55305_row0_col25\" class=\"data row0 col25\" >27523</td>\n",
       "      <td id=\"T_55305_row0_col26\" class=\"data row0 col26\" >29188</td>\n",
       "      <td id=\"T_55305_row0_col27\" class=\"data row0 col27\" >28284</td>\n",
       "      <td id=\"T_55305_row0_col28\" class=\"data row0 col28\" >29890</td>\n",
       "      <td id=\"T_55305_row0_col29\" class=\"data row0 col29\" >34534</td>\n",
       "      <td id=\"T_55305_row0_col30\" class=\"data row0 col30\" >40892</td>\n",
       "      <td id=\"T_55305_row0_col31\" class=\"data row0 col31\" >35441</td>\n",
       "      <td id=\"T_55305_row0_col32\" class=\"data row0 col32\" >38083</td>\n",
       "      <td id=\"T_55305_row0_col33\" class=\"data row0 col33\" >38543</td>\n",
       "    </tr>\n",
       "    <tr>\n",
       "      <th id=\"T_55305_level0_row1\" class=\"row_heading level0 row1\" >Asia</th>\n",
       "      <td id=\"T_55305_row1_col0\" class=\"data row1 col0\" >31025</td>\n",
       "      <td id=\"T_55305_row1_col1\" class=\"data row1 col1\" >34314</td>\n",
       "      <td id=\"T_55305_row1_col2\" class=\"data row1 col2\" >30214</td>\n",
       "      <td id=\"T_55305_row1_col3\" class=\"data row1 col3\" >24696</td>\n",
       "      <td id=\"T_55305_row1_col4\" class=\"data row1 col4\" >27274</td>\n",
       "      <td id=\"T_55305_row1_col5\" class=\"data row1 col5\" >23850</td>\n",
       "      <td id=\"T_55305_row1_col6\" class=\"data row1 col6\" >28739</td>\n",
       "      <td id=\"T_55305_row1_col7\" class=\"data row1 col7\" >43203</td>\n",
       "      <td id=\"T_55305_row1_col8\" class=\"data row1 col8\" >47454</td>\n",
       "      <td id=\"T_55305_row1_col9\" class=\"data row1 col9\" >60256</td>\n",
       "      <td id=\"T_55305_row1_col10\" class=\"data row1 col10\" >72829</td>\n",
       "      <td id=\"T_55305_row1_col11\" class=\"data row1 col11\" >89964</td>\n",
       "      <td id=\"T_55305_row1_col12\" class=\"data row1 col12\" >90752</td>\n",
       "      <td id=\"T_55305_row1_col13\" class=\"data row1 col13\" >98737</td>\n",
       "      <td id=\"T_55305_row1_col14\" class=\"data row1 col14\" >88852</td>\n",
       "      <td id=\"T_55305_row1_col15\" class=\"data row1 col15\" >90424</td>\n",
       "      <td id=\"T_55305_row1_col16\" class=\"data row1 col16\" >103030</td>\n",
       "      <td id=\"T_55305_row1_col17\" class=\"data row1 col17\" >106383</td>\n",
       "      <td id=\"T_55305_row1_col18\" class=\"data row1 col18\" >90929</td>\n",
       "      <td id=\"T_55305_row1_col19\" class=\"data row1 col19\" >106844</td>\n",
       "      <td id=\"T_55305_row1_col20\" class=\"data row1 col20\" >134544</td>\n",
       "      <td id=\"T_55305_row1_col21\" class=\"data row1 col21\" >148083</td>\n",
       "      <td id=\"T_55305_row1_col22\" class=\"data row1 col22\" >137653</td>\n",
       "      <td id=\"T_55305_row1_col23\" class=\"data row1 col23\" >131769</td>\n",
       "      <td id=\"T_55305_row1_col24\" class=\"data row1 col24\" >134850</td>\n",
       "      <td id=\"T_55305_row1_col25\" class=\"data row1 col25\" >159253</td>\n",
       "      <td id=\"T_55305_row1_col26\" class=\"data row1 col26\" >149054</td>\n",
       "      <td id=\"T_55305_row1_col27\" class=\"data row1 col27\" >133459</td>\n",
       "      <td id=\"T_55305_row1_col28\" class=\"data row1 col28\" >139894</td>\n",
       "      <td id=\"T_55305_row1_col29\" class=\"data row1 col29\" >141434</td>\n",
       "      <td id=\"T_55305_row1_col30\" class=\"data row1 col30\" >163845</td>\n",
       "      <td id=\"T_55305_row1_col31\" class=\"data row1 col31\" >146894</td>\n",
       "      <td id=\"T_55305_row1_col32\" class=\"data row1 col32\" >152218</td>\n",
       "      <td id=\"T_55305_row1_col33\" class=\"data row1 col33\" >155075</td>\n",
       "    </tr>\n",
       "    <tr>\n",
       "      <th id=\"T_55305_level0_row2\" class=\"row_heading level0 row2\" >Europe</th>\n",
       "      <td id=\"T_55305_row2_col0\" class=\"data row2 col0\" >39760</td>\n",
       "      <td id=\"T_55305_row2_col1\" class=\"data row2 col1\" >44802</td>\n",
       "      <td id=\"T_55305_row2_col2\" class=\"data row2 col2\" >42720</td>\n",
       "      <td id=\"T_55305_row2_col3\" class=\"data row2 col3\" >24638</td>\n",
       "      <td id=\"T_55305_row2_col4\" class=\"data row2 col4\" >22287</td>\n",
       "      <td id=\"T_55305_row2_col5\" class=\"data row2 col5\" >20844</td>\n",
       "      <td id=\"T_55305_row2_col6\" class=\"data row2 col6\" >24370</td>\n",
       "      <td id=\"T_55305_row2_col7\" class=\"data row2 col7\" >46698</td>\n",
       "      <td id=\"T_55305_row2_col8\" class=\"data row2 col8\" >54726</td>\n",
       "      <td id=\"T_55305_row2_col9\" class=\"data row2 col9\" >60893</td>\n",
       "      <td id=\"T_55305_row2_col10\" class=\"data row2 col10\" >68301</td>\n",
       "      <td id=\"T_55305_row2_col11\" class=\"data row2 col11\" >57938</td>\n",
       "      <td id=\"T_55305_row2_col12\" class=\"data row2 col12\" >64123</td>\n",
       "      <td id=\"T_55305_row2_col13\" class=\"data row2 col13\" >62937</td>\n",
       "      <td id=\"T_55305_row2_col14\" class=\"data row2 col14\" >62531</td>\n",
       "      <td id=\"T_55305_row2_col15\" class=\"data row2 col15\" >55764</td>\n",
       "      <td id=\"T_55305_row2_col16\" class=\"data row2 col16\" >55642</td>\n",
       "      <td id=\"T_55305_row2_col17\" class=\"data row2 col17\" >48841</td>\n",
       "      <td id=\"T_55305_row2_col18\" class=\"data row2 col18\" >36719</td>\n",
       "      <td id=\"T_55305_row2_col19\" class=\"data row2 col19\" >35639</td>\n",
       "      <td id=\"T_55305_row2_col20\" class=\"data row2 col20\" >38215</td>\n",
       "      <td id=\"T_55305_row2_col21\" class=\"data row2 col21\" >42779</td>\n",
       "      <td id=\"T_55305_row2_col22\" class=\"data row2 col22\" >36798</td>\n",
       "      <td id=\"T_55305_row2_col23\" class=\"data row2 col23\" >34556</td>\n",
       "      <td id=\"T_55305_row2_col24\" class=\"data row2 col24\" >38082</td>\n",
       "      <td id=\"T_55305_row2_col25\" class=\"data row2 col25\" >35955</td>\n",
       "      <td id=\"T_55305_row2_col26\" class=\"data row2 col26\" >33053</td>\n",
       "      <td id=\"T_55305_row2_col27\" class=\"data row2 col27\" >33495</td>\n",
       "      <td id=\"T_55305_row2_col28\" class=\"data row2 col28\" >34692</td>\n",
       "      <td id=\"T_55305_row2_col29\" class=\"data row2 col29\" >35078</td>\n",
       "      <td id=\"T_55305_row2_col30\" class=\"data row2 col30\" >33425</td>\n",
       "      <td id=\"T_55305_row2_col31\" class=\"data row2 col31\" >26778</td>\n",
       "      <td id=\"T_55305_row2_col32\" class=\"data row2 col32\" >29177</td>\n",
       "      <td id=\"T_55305_row2_col33\" class=\"data row2 col33\" >28691</td>\n",
       "    </tr>\n",
       "    <tr>\n",
       "      <th id=\"T_55305_level0_row3\" class=\"row_heading level0 row3\" >Latin America and the Caribbean</th>\n",
       "      <td id=\"T_55305_row3_col0\" class=\"data row3 col0\" >13081</td>\n",
       "      <td id=\"T_55305_row3_col1\" class=\"data row3 col1\" >15215</td>\n",
       "      <td id=\"T_55305_row3_col2\" class=\"data row3 col2\" >16769</td>\n",
       "      <td id=\"T_55305_row3_col3\" class=\"data row3 col3\" >15427</td>\n",
       "      <td id=\"T_55305_row3_col4\" class=\"data row3 col4\" >13678</td>\n",
       "      <td id=\"T_55305_row3_col5\" class=\"data row3 col5\" >15171</td>\n",
       "      <td id=\"T_55305_row3_col6\" class=\"data row3 col6\" >21179</td>\n",
       "      <td id=\"T_55305_row3_col7\" class=\"data row3 col7\" >28471</td>\n",
       "      <td id=\"T_55305_row3_col8\" class=\"data row3 col8\" >21924</td>\n",
       "      <td id=\"T_55305_row3_col9\" class=\"data row3 col9\" >25060</td>\n",
       "      <td id=\"T_55305_row3_col10\" class=\"data row3 col10\" >27942</td>\n",
       "      <td id=\"T_55305_row3_col11\" class=\"data row3 col11\" >36827</td>\n",
       "      <td id=\"T_55305_row3_col12\" class=\"data row3 col12\" >37853</td>\n",
       "      <td id=\"T_55305_row3_col13\" class=\"data row3 col13\" >33840</td>\n",
       "      <td id=\"T_55305_row3_col14\" class=\"data row3 col14\" >21341</td>\n",
       "      <td id=\"T_55305_row3_col15\" class=\"data row3 col15\" >20262</td>\n",
       "      <td id=\"T_55305_row3_col16\" class=\"data row3 col16\" >18645</td>\n",
       "      <td id=\"T_55305_row3_col17\" class=\"data row3 col17\" >17174</td>\n",
       "      <td id=\"T_55305_row3_col18\" class=\"data row3 col18\" >13830</td>\n",
       "      <td id=\"T_55305_row3_col19\" class=\"data row3 col19\" >15088</td>\n",
       "      <td id=\"T_55305_row3_col20\" class=\"data row3 col20\" >16898</td>\n",
       "      <td id=\"T_55305_row3_col21\" class=\"data row3 col21\" >20067</td>\n",
       "      <td id=\"T_55305_row3_col22\" class=\"data row3 col22\" >19317</td>\n",
       "      <td id=\"T_55305_row3_col23\" class=\"data row3 col23\" >20263</td>\n",
       "      <td id=\"T_55305_row3_col24\" class=\"data row3 col24\" >22181</td>\n",
       "      <td id=\"T_55305_row3_col25\" class=\"data row3 col25\" >24747</td>\n",
       "      <td id=\"T_55305_row3_col26\" class=\"data row3 col26\" >24676</td>\n",
       "      <td id=\"T_55305_row3_col27\" class=\"data row3 col27\" >26011</td>\n",
       "      <td id=\"T_55305_row3_col28\" class=\"data row3 col28\" >26547</td>\n",
       "      <td id=\"T_55305_row3_col29\" class=\"data row3 col29\" >26867</td>\n",
       "      <td id=\"T_55305_row3_col30\" class=\"data row3 col30\" >28818</td>\n",
       "      <td id=\"T_55305_row3_col31\" class=\"data row3 col31\" >27856</td>\n",
       "      <td id=\"T_55305_row3_col32\" class=\"data row3 col32\" >27173</td>\n",
       "      <td id=\"T_55305_row3_col33\" class=\"data row3 col33\" >24950</td>\n",
       "    </tr>\n",
       "    <tr>\n",
       "      <th id=\"T_55305_level0_row4\" class=\"row_heading level0 row4\" >Northern America</th>\n",
       "      <td id=\"T_55305_row4_col0\" class=\"data row4 col0\" >9378</td>\n",
       "      <td id=\"T_55305_row4_col1\" class=\"data row4 col1\" >10030</td>\n",
       "      <td id=\"T_55305_row4_col2\" class=\"data row4 col2\" >9074</td>\n",
       "      <td id=\"T_55305_row4_col3\" class=\"data row4 col3\" >7100</td>\n",
       "      <td id=\"T_55305_row4_col4\" class=\"data row4 col4\" >6661</td>\n",
       "      <td id=\"T_55305_row4_col5\" class=\"data row4 col5\" >6543</td>\n",
       "      <td id=\"T_55305_row4_col6\" class=\"data row4 col6\" >7074</td>\n",
       "      <td id=\"T_55305_row4_col7\" class=\"data row4 col7\" >7705</td>\n",
       "      <td id=\"T_55305_row4_col8\" class=\"data row4 col8\" >6469</td>\n",
       "      <td id=\"T_55305_row4_col9\" class=\"data row4 col9\" >6790</td>\n",
       "      <td id=\"T_55305_row4_col10\" class=\"data row4 col10\" >5895</td>\n",
       "      <td id=\"T_55305_row4_col11\" class=\"data row4 col11\" >6057</td>\n",
       "      <td id=\"T_55305_row4_col12\" class=\"data row4 col12\" >6846</td>\n",
       "      <td id=\"T_55305_row4_col13\" class=\"data row4 col13\" >7438</td>\n",
       "      <td id=\"T_55305_row4_col14\" class=\"data row4 col14\" >5902</td>\n",
       "      <td id=\"T_55305_row4_col15\" class=\"data row4 col15\" >4891</td>\n",
       "      <td id=\"T_55305_row4_col16\" class=\"data row4 col16\" >5516</td>\n",
       "      <td id=\"T_55305_row4_col17\" class=\"data row4 col17\" >4753</td>\n",
       "      <td id=\"T_55305_row4_col18\" class=\"data row4 col18\" >4437</td>\n",
       "      <td id=\"T_55305_row4_col19\" class=\"data row4 col19\" >5196</td>\n",
       "      <td id=\"T_55305_row4_col20\" class=\"data row4 col20\" >5433</td>\n",
       "      <td id=\"T_55305_row4_col21\" class=\"data row4 col21\" >5604</td>\n",
       "      <td id=\"T_55305_row4_col22\" class=\"data row4 col22\" >4948</td>\n",
       "      <td id=\"T_55305_row4_col23\" class=\"data row4 col23\" >5543</td>\n",
       "      <td id=\"T_55305_row4_col24\" class=\"data row4 col24\" >6990</td>\n",
       "      <td id=\"T_55305_row4_col25\" class=\"data row4 col25\" >8394</td>\n",
       "      <td id=\"T_55305_row4_col26\" class=\"data row4 col26\" >9613</td>\n",
       "      <td id=\"T_55305_row4_col27\" class=\"data row4 col27\" >9463</td>\n",
       "      <td id=\"T_55305_row4_col28\" class=\"data row4 col28\" >10190</td>\n",
       "      <td id=\"T_55305_row4_col29\" class=\"data row4 col29\" >8995</td>\n",
       "      <td id=\"T_55305_row4_col30\" class=\"data row4 col30\" >8142</td>\n",
       "      <td id=\"T_55305_row4_col31\" class=\"data row4 col31\" >7677</td>\n",
       "      <td id=\"T_55305_row4_col32\" class=\"data row4 col32\" >7892</td>\n",
       "      <td id=\"T_55305_row4_col33\" class=\"data row4 col33\" >8503</td>\n",
       "    </tr>\n",
       "    <tr>\n",
       "      <th id=\"T_55305_level0_row5\" class=\"row_heading level0 row5\" >Oceania</th>\n",
       "      <td id=\"T_55305_row5_col0\" class=\"data row5 col0\" >1942</td>\n",
       "      <td id=\"T_55305_row5_col1\" class=\"data row5 col1\" >1839</td>\n",
       "      <td id=\"T_55305_row5_col2\" class=\"data row5 col2\" >1675</td>\n",
       "      <td id=\"T_55305_row5_col3\" class=\"data row5 col3\" >1018</td>\n",
       "      <td id=\"T_55305_row5_col4\" class=\"data row5 col4\" >878</td>\n",
       "      <td id=\"T_55305_row5_col5\" class=\"data row5 col5\" >920</td>\n",
       "      <td id=\"T_55305_row5_col6\" class=\"data row5 col6\" >904</td>\n",
       "      <td id=\"T_55305_row5_col7\" class=\"data row5 col7\" >1200</td>\n",
       "      <td id=\"T_55305_row5_col8\" class=\"data row5 col8\" >1181</td>\n",
       "      <td id=\"T_55305_row5_col9\" class=\"data row5 col9\" >1539</td>\n",
       "      <td id=\"T_55305_row5_col10\" class=\"data row5 col10\" >2075</td>\n",
       "      <td id=\"T_55305_row5_col11\" class=\"data row5 col11\" >2495</td>\n",
       "      <td id=\"T_55305_row5_col12\" class=\"data row5 col12\" >2871</td>\n",
       "      <td id=\"T_55305_row5_col13\" class=\"data row5 col13\" >2566</td>\n",
       "      <td id=\"T_55305_row5_col14\" class=\"data row5 col14\" >1967</td>\n",
       "      <td id=\"T_55305_row5_col15\" class=\"data row5 col15\" >1565</td>\n",
       "      <td id=\"T_55305_row5_col16\" class=\"data row5 col16\" >1552</td>\n",
       "      <td id=\"T_55305_row5_col17\" class=\"data row5 col17\" >1263</td>\n",
       "      <td id=\"T_55305_row5_col18\" class=\"data row5 col18\" >1021</td>\n",
       "      <td id=\"T_55305_row5_col19\" class=\"data row5 col19\" >1055</td>\n",
       "      <td id=\"T_55305_row5_col20\" class=\"data row5 col20\" >1276</td>\n",
       "      <td id=\"T_55305_row5_col21\" class=\"data row5 col21\" >1818</td>\n",
       "      <td id=\"T_55305_row5_col22\" class=\"data row5 col22\" >1685</td>\n",
       "      <td id=\"T_55305_row5_col23\" class=\"data row5 col23\" >1800</td>\n",
       "      <td id=\"T_55305_row5_col24\" class=\"data row5 col24\" >1788</td>\n",
       "      <td id=\"T_55305_row5_col25\" class=\"data row5 col25\" >1585</td>\n",
       "      <td id=\"T_55305_row5_col26\" class=\"data row5 col26\" >1473</td>\n",
       "      <td id=\"T_55305_row5_col27\" class=\"data row5 col27\" >1693</td>\n",
       "      <td id=\"T_55305_row5_col28\" class=\"data row5 col28\" >1834</td>\n",
       "      <td id=\"T_55305_row5_col29\" class=\"data row5 col29\" >1860</td>\n",
       "      <td id=\"T_55305_row5_col30\" class=\"data row5 col30\" >1834</td>\n",
       "      <td id=\"T_55305_row5_col31\" class=\"data row5 col31\" >1548</td>\n",
       "      <td id=\"T_55305_row5_col32\" class=\"data row5 col32\" >1679</td>\n",
       "      <td id=\"T_55305_row5_col33\" class=\"data row5 col33\" >1775</td>\n",
       "    </tr>\n",
       "  </tbody>\n",
       "</table>\n"
      ],
      "text/plain": [
       "<pandas.io.formats.style.Styler at 0x229d755a970>"
      ]
     },
     "execution_count": 21,
     "metadata": {},
     "output_type": "execute_result"
    }
   ],
   "source": [
    "continent_df.style.background_gradient(cmap='Pastel1')"
   ]
  },
  {
   "cell_type": "code",
   "execution_count": 22,
   "metadata": {},
   "outputs": [
    {
     "data": {
      "text/html": [
       "<style type=\"text/css\">\n",
       "#T_16eb0_row0_col0 {\n",
       "  width: 10em;\n",
       "  background: linear-gradient(90deg, hotpink 9.9%, transparent 9.9%);\n",
       "}\n",
       "#T_16eb0_row0_col1, #T_16eb0_row0_col4 {\n",
       "  width: 10em;\n",
       "  background: linear-gradient(90deg, hotpink 9.7%, transparent 9.7%);\n",
       "}\n",
       "#T_16eb0_row0_col2 {\n",
       "  width: 10em;\n",
       "  background: linear-gradient(90deg, hotpink 8.9%, transparent 8.9%);\n",
       "}\n",
       "#T_16eb0_row0_col3 {\n",
       "  width: 10em;\n",
       "  background: linear-gradient(90deg, hotpink 10.8%, transparent 10.8%);\n",
       "}\n",
       "#T_16eb0_row0_col5 {\n",
       "  width: 10em;\n",
       "  background: linear-gradient(90deg, hotpink 11.1%, transparent 11.1%);\n",
       "}\n",
       "#T_16eb0_row0_col6 {\n",
       "  width: 10em;\n",
       "  background: linear-gradient(90deg, hotpink 13.2%, transparent 13.2%);\n",
       "}\n",
       "#T_16eb0_row0_col7 {\n",
       "  width: 10em;\n",
       "  background: linear-gradient(90deg, hotpink 16.0%, transparent 16.0%);\n",
       "}\n",
       "#T_16eb0_row0_col8 {\n",
       "  width: 10em;\n",
       "  background: linear-gradient(90deg, hotpink 13.8%, transparent 13.8%);\n",
       "}\n",
       "#T_16eb0_row0_col9 {\n",
       "  width: 10em;\n",
       "  background: linear-gradient(90deg, hotpink 16.2%, transparent 16.2%);\n",
       "}\n",
       "#T_16eb0_row0_col10, #T_16eb0_row0_col20 {\n",
       "  width: 10em;\n",
       "  background: linear-gradient(90deg, hotpink 15.1%, transparent 15.1%);\n",
       "}\n",
       "#T_16eb0_row0_col11 {\n",
       "  width: 10em;\n",
       "  background: linear-gradient(90deg, hotpink 15.8%, transparent 15.8%);\n",
       "}\n",
       "#T_16eb0_row0_col12, #T_16eb0_row0_col27, #T_16eb0_row4_col2 {\n",
       "  width: 10em;\n",
       "  background: linear-gradient(90deg, hotpink 21.2%, transparent 21.2%);\n",
       "}\n",
       "#T_16eb0_row0_col13 {\n",
       "  width: 10em;\n",
       "  background: linear-gradient(90deg, hotpink 16.7%, transparent 16.7%);\n",
       "}\n",
       "#T_16eb0_row0_col14 {\n",
       "  width: 10em;\n",
       "  background: linear-gradient(90deg, hotpink 14.7%, transparent 14.7%);\n",
       "}\n",
       "#T_16eb0_row0_col15, #T_16eb0_row0_col21, #T_16eb0_row3_col24 {\n",
       "  width: 10em;\n",
       "  background: linear-gradient(90deg, hotpink 16.4%, transparent 16.4%);\n",
       "}\n",
       "#T_16eb0_row0_col16, #T_16eb0_row0_col18, #T_16eb0_row3_col18 {\n",
       "  width: 10em;\n",
       "  background: linear-gradient(90deg, hotpink 15.2%, transparent 15.2%);\n",
       "}\n",
       "#T_16eb0_row0_col17, #T_16eb0_row3_col21 {\n",
       "  width: 10em;\n",
       "  background: linear-gradient(90deg, hotpink 13.6%, transparent 13.6%);\n",
       "}\n",
       "#T_16eb0_row0_col19 {\n",
       "  width: 10em;\n",
       "  background: linear-gradient(90deg, hotpink 15.0%, transparent 15.0%);\n",
       "}\n",
       "#T_16eb0_row0_col22, #T_16eb0_row4_col7 {\n",
       "  width: 10em;\n",
       "  background: linear-gradient(90deg, hotpink 16.5%, transparent 16.5%);\n",
       "}\n",
       "#T_16eb0_row0_col23 {\n",
       "  width: 10em;\n",
       "  background: linear-gradient(90deg, hotpink 17.7%, transparent 17.7%);\n",
       "}\n",
       "#T_16eb0_row0_col24 {\n",
       "  width: 10em;\n",
       "  background: linear-gradient(90deg, hotpink 20.9%, transparent 20.9%);\n",
       "}\n",
       "#T_16eb0_row0_col25 {\n",
       "  width: 10em;\n",
       "  background: linear-gradient(90deg, hotpink 17.3%, transparent 17.3%);\n",
       "}\n",
       "#T_16eb0_row0_col26 {\n",
       "  width: 10em;\n",
       "  background: linear-gradient(90deg, hotpink 19.6%, transparent 19.6%);\n",
       "}\n",
       "#T_16eb0_row0_col28 {\n",
       "  width: 10em;\n",
       "  background: linear-gradient(90deg, hotpink 21.4%, transparent 21.4%);\n",
       "}\n",
       "#T_16eb0_row0_col29, #T_16eb0_row4_col4 {\n",
       "  width: 10em;\n",
       "  background: linear-gradient(90deg, hotpink 24.4%, transparent 24.4%);\n",
       "}\n",
       "#T_16eb0_row0_col30, #T_16eb0_row0_col32 {\n",
       "  width: 10em;\n",
       "  background: linear-gradient(90deg, hotpink 25.0%, transparent 25.0%);\n",
       "}\n",
       "#T_16eb0_row0_col31 {\n",
       "  width: 10em;\n",
       "  background: linear-gradient(90deg, hotpink 24.1%, transparent 24.1%);\n",
       "}\n",
       "#T_16eb0_row0_col33 {\n",
       "  width: 10em;\n",
       "  background: linear-gradient(90deg, hotpink 24.9%, transparent 24.9%);\n",
       "}\n",
       "#T_16eb0_row1_col0 {\n",
       "  width: 10em;\n",
       "  background: linear-gradient(90deg, hotpink 78.0%, transparent 78.0%);\n",
       "}\n",
       "#T_16eb0_row1_col1 {\n",
       "  width: 10em;\n",
       "  background: linear-gradient(90deg, hotpink 76.6%, transparent 76.6%);\n",
       "}\n",
       "#T_16eb0_row1_col2, #T_16eb0_row2_col12 {\n",
       "  width: 10em;\n",
       "  background: linear-gradient(90deg, hotpink 70.7%, transparent 70.7%);\n",
       "}\n",
       "#T_16eb0_row1_col3, #T_16eb0_row1_col4, #T_16eb0_row1_col5, #T_16eb0_row1_col6, #T_16eb0_row1_col10, #T_16eb0_row1_col11, #T_16eb0_row1_col12, #T_16eb0_row1_col13, #T_16eb0_row1_col14, #T_16eb0_row1_col15, #T_16eb0_row1_col16, #T_16eb0_row1_col17, #T_16eb0_row1_col18, #T_16eb0_row1_col19, #T_16eb0_row1_col20, #T_16eb0_row1_col21, #T_16eb0_row1_col22, #T_16eb0_row1_col23, #T_16eb0_row1_col24, #T_16eb0_row1_col25, #T_16eb0_row1_col26, #T_16eb0_row1_col27, #T_16eb0_row1_col28, #T_16eb0_row1_col29, #T_16eb0_row1_col30, #T_16eb0_row1_col31, #T_16eb0_row1_col32, #T_16eb0_row1_col33, #T_16eb0_row2_col0, #T_16eb0_row2_col1, #T_16eb0_row2_col2, #T_16eb0_row2_col7, #T_16eb0_row2_col8, #T_16eb0_row2_col9 {\n",
       "  width: 10em;\n",
       "  background: linear-gradient(90deg, hotpink 100.0%, transparent 100.0%);\n",
       "}\n",
       "#T_16eb0_row1_col7 {\n",
       "  width: 10em;\n",
       "  background: linear-gradient(90deg, hotpink 92.5%, transparent 92.5%);\n",
       "}\n",
       "#T_16eb0_row1_col8 {\n",
       "  width: 10em;\n",
       "  background: linear-gradient(90deg, hotpink 86.7%, transparent 86.7%);\n",
       "}\n",
       "#T_16eb0_row1_col9 {\n",
       "  width: 10em;\n",
       "  background: linear-gradient(90deg, hotpink 99.0%, transparent 99.0%);\n",
       "}\n",
       "#T_16eb0_row2_col3 {\n",
       "  width: 10em;\n",
       "  background: linear-gradient(90deg, hotpink 99.8%, transparent 99.8%);\n",
       "}\n",
       "#T_16eb0_row2_col4 {\n",
       "  width: 10em;\n",
       "  background: linear-gradient(90deg, hotpink 81.7%, transparent 81.7%);\n",
       "}\n",
       "#T_16eb0_row2_col5 {\n",
       "  width: 10em;\n",
       "  background: linear-gradient(90deg, hotpink 87.4%, transparent 87.4%);\n",
       "}\n",
       "#T_16eb0_row2_col6 {\n",
       "  width: 10em;\n",
       "  background: linear-gradient(90deg, hotpink 84.8%, transparent 84.8%);\n",
       "}\n",
       "#T_16eb0_row2_col10 {\n",
       "  width: 10em;\n",
       "  background: linear-gradient(90deg, hotpink 93.8%, transparent 93.8%);\n",
       "}\n",
       "#T_16eb0_row2_col11 {\n",
       "  width: 10em;\n",
       "  background: linear-gradient(90deg, hotpink 64.4%, transparent 64.4%);\n",
       "}\n",
       "#T_16eb0_row2_col13 {\n",
       "  width: 10em;\n",
       "  background: linear-gradient(90deg, hotpink 63.7%, transparent 63.7%);\n",
       "}\n",
       "#T_16eb0_row2_col14 {\n",
       "  width: 10em;\n",
       "  background: linear-gradient(90deg, hotpink 70.4%, transparent 70.4%);\n",
       "}\n",
       "#T_16eb0_row2_col15 {\n",
       "  width: 10em;\n",
       "  background: linear-gradient(90deg, hotpink 61.7%, transparent 61.7%);\n",
       "}\n",
       "#T_16eb0_row2_col16 {\n",
       "  width: 10em;\n",
       "  background: linear-gradient(90deg, hotpink 54.0%, transparent 54.0%);\n",
       "}\n",
       "#T_16eb0_row2_col17 {\n",
       "  width: 10em;\n",
       "  background: linear-gradient(90deg, hotpink 45.9%, transparent 45.9%);\n",
       "}\n",
       "#T_16eb0_row2_col18 {\n",
       "  width: 10em;\n",
       "  background: linear-gradient(90deg, hotpink 40.4%, transparent 40.4%);\n",
       "}\n",
       "#T_16eb0_row2_col19 {\n",
       "  width: 10em;\n",
       "  background: linear-gradient(90deg, hotpink 33.4%, transparent 33.4%);\n",
       "}\n",
       "#T_16eb0_row2_col20 {\n",
       "  width: 10em;\n",
       "  background: linear-gradient(90deg, hotpink 28.4%, transparent 28.4%);\n",
       "}\n",
       "#T_16eb0_row2_col21 {\n",
       "  width: 10em;\n",
       "  background: linear-gradient(90deg, hotpink 28.9%, transparent 28.9%);\n",
       "}\n",
       "#T_16eb0_row2_col22 {\n",
       "  width: 10em;\n",
       "  background: linear-gradient(90deg, hotpink 26.7%, transparent 26.7%);\n",
       "}\n",
       "#T_16eb0_row2_col23 {\n",
       "  width: 10em;\n",
       "  background: linear-gradient(90deg, hotpink 26.2%, transparent 26.2%);\n",
       "}\n",
       "#T_16eb0_row2_col24 {\n",
       "  width: 10em;\n",
       "  background: linear-gradient(90deg, hotpink 28.2%, transparent 28.2%);\n",
       "}\n",
       "#T_16eb0_row2_col25 {\n",
       "  width: 10em;\n",
       "  background: linear-gradient(90deg, hotpink 22.6%, transparent 22.6%);\n",
       "}\n",
       "#T_16eb0_row2_col26 {\n",
       "  width: 10em;\n",
       "  background: linear-gradient(90deg, hotpink 22.2%, transparent 22.2%);\n",
       "}\n",
       "#T_16eb0_row2_col27 {\n",
       "  width: 10em;\n",
       "  background: linear-gradient(90deg, hotpink 25.1%, transparent 25.1%);\n",
       "}\n",
       "#T_16eb0_row2_col28, #T_16eb0_row2_col29 {\n",
       "  width: 10em;\n",
       "  background: linear-gradient(90deg, hotpink 24.8%, transparent 24.8%);\n",
       "}\n",
       "#T_16eb0_row2_col30 {\n",
       "  width: 10em;\n",
       "  background: linear-gradient(90deg, hotpink 20.4%, transparent 20.4%);\n",
       "}\n",
       "#T_16eb0_row2_col31 {\n",
       "  width: 10em;\n",
       "  background: linear-gradient(90deg, hotpink 18.2%, transparent 18.2%);\n",
       "}\n",
       "#T_16eb0_row2_col32 {\n",
       "  width: 10em;\n",
       "  background: linear-gradient(90deg, hotpink 19.2%, transparent 19.2%);\n",
       "}\n",
       "#T_16eb0_row2_col33 {\n",
       "  width: 10em;\n",
       "  background: linear-gradient(90deg, hotpink 18.5%, transparent 18.5%);\n",
       "}\n",
       "#T_16eb0_row3_col0 {\n",
       "  width: 10em;\n",
       "  background: linear-gradient(90deg, hotpink 32.9%, transparent 32.9%);\n",
       "}\n",
       "#T_16eb0_row3_col1 {\n",
       "  width: 10em;\n",
       "  background: linear-gradient(90deg, hotpink 34.0%, transparent 34.0%);\n",
       "}\n",
       "#T_16eb0_row3_col2 {\n",
       "  width: 10em;\n",
       "  background: linear-gradient(90deg, hotpink 39.3%, transparent 39.3%);\n",
       "}\n",
       "#T_16eb0_row3_col3 {\n",
       "  width: 10em;\n",
       "  background: linear-gradient(90deg, hotpink 62.5%, transparent 62.5%);\n",
       "}\n",
       "#T_16eb0_row3_col4 {\n",
       "  width: 10em;\n",
       "  background: linear-gradient(90deg, hotpink 50.2%, transparent 50.2%);\n",
       "}\n",
       "#T_16eb0_row3_col5 {\n",
       "  width: 10em;\n",
       "  background: linear-gradient(90deg, hotpink 63.6%, transparent 63.6%);\n",
       "}\n",
       "#T_16eb0_row3_col6 {\n",
       "  width: 10em;\n",
       "  background: linear-gradient(90deg, hotpink 73.7%, transparent 73.7%);\n",
       "}\n",
       "#T_16eb0_row3_col7 {\n",
       "  width: 10em;\n",
       "  background: linear-gradient(90deg, hotpink 61.0%, transparent 61.0%);\n",
       "}\n",
       "#T_16eb0_row3_col8 {\n",
       "  width: 10em;\n",
       "  background: linear-gradient(90deg, hotpink 40.1%, transparent 40.1%);\n",
       "}\n",
       "#T_16eb0_row3_col9 {\n",
       "  width: 10em;\n",
       "  background: linear-gradient(90deg, hotpink 41.2%, transparent 41.2%);\n",
       "}\n",
       "#T_16eb0_row3_col10 {\n",
       "  width: 10em;\n",
       "  background: linear-gradient(90deg, hotpink 38.4%, transparent 38.4%);\n",
       "}\n",
       "#T_16eb0_row3_col11 {\n",
       "  width: 10em;\n",
       "  background: linear-gradient(90deg, hotpink 40.9%, transparent 40.9%);\n",
       "}\n",
       "#T_16eb0_row3_col12 {\n",
       "  width: 10em;\n",
       "  background: linear-gradient(90deg, hotpink 41.7%, transparent 41.7%);\n",
       "}\n",
       "#T_16eb0_row3_col13 {\n",
       "  width: 10em;\n",
       "  background: linear-gradient(90deg, hotpink 34.3%, transparent 34.3%);\n",
       "}\n",
       "#T_16eb0_row3_col14 {\n",
       "  width: 10em;\n",
       "  background: linear-gradient(90deg, hotpink 24.0%, transparent 24.0%);\n",
       "}\n",
       "#T_16eb0_row3_col15, #T_16eb0_row4_col1 {\n",
       "  width: 10em;\n",
       "  background: linear-gradient(90deg, hotpink 22.4%, transparent 22.4%);\n",
       "}\n",
       "#T_16eb0_row3_col16 {\n",
       "  width: 10em;\n",
       "  background: linear-gradient(90deg, hotpink 18.1%, transparent 18.1%);\n",
       "}\n",
       "#T_16eb0_row3_col17, #T_16eb0_row3_col33 {\n",
       "  width: 10em;\n",
       "  background: linear-gradient(90deg, hotpink 16.1%, transparent 16.1%);\n",
       "}\n",
       "#T_16eb0_row3_col19 {\n",
       "  width: 10em;\n",
       "  background: linear-gradient(90deg, hotpink 14.1%, transparent 14.1%);\n",
       "}\n",
       "#T_16eb0_row3_col20 {\n",
       "  width: 10em;\n",
       "  background: linear-gradient(90deg, hotpink 12.6%, transparent 12.6%);\n",
       "}\n",
       "#T_16eb0_row3_col22 {\n",
       "  width: 10em;\n",
       "  background: linear-gradient(90deg, hotpink 14.0%, transparent 14.0%);\n",
       "}\n",
       "#T_16eb0_row3_col23 {\n",
       "  width: 10em;\n",
       "  background: linear-gradient(90deg, hotpink 15.4%, transparent 15.4%);\n",
       "}\n",
       "#T_16eb0_row3_col25 {\n",
       "  width: 10em;\n",
       "  background: linear-gradient(90deg, hotpink 15.5%, transparent 15.5%);\n",
       "}\n",
       "#T_16eb0_row3_col26 {\n",
       "  width: 10em;\n",
       "  background: linear-gradient(90deg, hotpink 16.6%, transparent 16.6%);\n",
       "}\n",
       "#T_16eb0_row3_col27 {\n",
       "  width: 10em;\n",
       "  background: linear-gradient(90deg, hotpink 19.5%, transparent 19.5%);\n",
       "}\n",
       "#T_16eb0_row3_col28, #T_16eb0_row3_col29, #T_16eb0_row3_col31 {\n",
       "  width: 10em;\n",
       "  background: linear-gradient(90deg, hotpink 19.0%, transparent 19.0%);\n",
       "}\n",
       "#T_16eb0_row3_col30 {\n",
       "  width: 10em;\n",
       "  background: linear-gradient(90deg, hotpink 17.6%, transparent 17.6%);\n",
       "}\n",
       "#T_16eb0_row3_col32 {\n",
       "  width: 10em;\n",
       "  background: linear-gradient(90deg, hotpink 17.9%, transparent 17.9%);\n",
       "}\n",
       "#T_16eb0_row4_col0 {\n",
       "  width: 10em;\n",
       "  background: linear-gradient(90deg, hotpink 23.6%, transparent 23.6%);\n",
       "}\n",
       "#T_16eb0_row4_col3 {\n",
       "  width: 10em;\n",
       "  background: linear-gradient(90deg, hotpink 28.7%, transparent 28.7%);\n",
       "}\n",
       "#T_16eb0_row4_col5 {\n",
       "  width: 10em;\n",
       "  background: linear-gradient(90deg, hotpink 27.4%, transparent 27.4%);\n",
       "}\n",
       "#T_16eb0_row4_col6 {\n",
       "  width: 10em;\n",
       "  background: linear-gradient(90deg, hotpink 24.6%, transparent 24.6%);\n",
       "}\n",
       "#T_16eb0_row4_col8 {\n",
       "  width: 10em;\n",
       "  background: linear-gradient(90deg, hotpink 11.8%, transparent 11.8%);\n",
       "}\n",
       "#T_16eb0_row4_col9 {\n",
       "  width: 10em;\n",
       "  background: linear-gradient(90deg, hotpink 11.2%, transparent 11.2%);\n",
       "}\n",
       "#T_16eb0_row4_col10 {\n",
       "  width: 10em;\n",
       "  background: linear-gradient(90deg, hotpink 8.1%, transparent 8.1%);\n",
       "}\n",
       "#T_16eb0_row4_col11 {\n",
       "  width: 10em;\n",
       "  background: linear-gradient(90deg, hotpink 6.7%, transparent 6.7%);\n",
       "}\n",
       "#T_16eb0_row4_col12, #T_16eb0_row4_col13 {\n",
       "  width: 10em;\n",
       "  background: linear-gradient(90deg, hotpink 7.5%, transparent 7.5%);\n",
       "}\n",
       "#T_16eb0_row4_col14 {\n",
       "  width: 10em;\n",
       "  background: linear-gradient(90deg, hotpink 6.6%, transparent 6.6%);\n",
       "}\n",
       "#T_16eb0_row4_col15, #T_16eb0_row4_col16 {\n",
       "  width: 10em;\n",
       "  background: linear-gradient(90deg, hotpink 5.4%, transparent 5.4%);\n",
       "}\n",
       "#T_16eb0_row4_col17 {\n",
       "  width: 10em;\n",
       "  background: linear-gradient(90deg, hotpink 4.5%, transparent 4.5%);\n",
       "}\n",
       "#T_16eb0_row4_col18, #T_16eb0_row4_col19, #T_16eb0_row5_col0 {\n",
       "  width: 10em;\n",
       "  background: linear-gradient(90deg, hotpink 4.9%, transparent 4.9%);\n",
       "}\n",
       "#T_16eb0_row4_col20 {\n",
       "  width: 10em;\n",
       "  background: linear-gradient(90deg, hotpink 4.0%, transparent 4.0%);\n",
       "}\n",
       "#T_16eb0_row4_col21 {\n",
       "  width: 10em;\n",
       "  background: linear-gradient(90deg, hotpink 3.8%, transparent 3.8%);\n",
       "}\n",
       "#T_16eb0_row4_col22 {\n",
       "  width: 10em;\n",
       "  background: linear-gradient(90deg, hotpink 3.6%, transparent 3.6%);\n",
       "}\n",
       "#T_16eb0_row4_col23 {\n",
       "  width: 10em;\n",
       "  background: linear-gradient(90deg, hotpink 4.2%, transparent 4.2%);\n",
       "}\n",
       "#T_16eb0_row4_col24, #T_16eb0_row4_col31, #T_16eb0_row4_col32 {\n",
       "  width: 10em;\n",
       "  background: linear-gradient(90deg, hotpink 5.2%, transparent 5.2%);\n",
       "}\n",
       "#T_16eb0_row4_col25 {\n",
       "  width: 10em;\n",
       "  background: linear-gradient(90deg, hotpink 5.3%, transparent 5.3%);\n",
       "}\n",
       "#T_16eb0_row4_col26, #T_16eb0_row4_col29 {\n",
       "  width: 10em;\n",
       "  background: linear-gradient(90deg, hotpink 6.4%, transparent 6.4%);\n",
       "}\n",
       "#T_16eb0_row4_col27 {\n",
       "  width: 10em;\n",
       "  background: linear-gradient(90deg, hotpink 7.1%, transparent 7.1%);\n",
       "}\n",
       "#T_16eb0_row4_col28 {\n",
       "  width: 10em;\n",
       "  background: linear-gradient(90deg, hotpink 7.3%, transparent 7.3%);\n",
       "}\n",
       "#T_16eb0_row4_col30 {\n",
       "  width: 10em;\n",
       "  background: linear-gradient(90deg, hotpink 5.0%, transparent 5.0%);\n",
       "}\n",
       "#T_16eb0_row4_col33 {\n",
       "  width: 10em;\n",
       "  background: linear-gradient(90deg, hotpink 5.5%, transparent 5.5%);\n",
       "}\n",
       "#T_16eb0_row5_col1, #T_16eb0_row5_col3 {\n",
       "  width: 10em;\n",
       "  background: linear-gradient(90deg, hotpink 4.1%, transparent 4.1%);\n",
       "}\n",
       "#T_16eb0_row5_col2, #T_16eb0_row5_col5 {\n",
       "  width: 10em;\n",
       "  background: linear-gradient(90deg, hotpink 3.9%, transparent 3.9%);\n",
       "}\n",
       "#T_16eb0_row5_col4, #T_16eb0_row5_col12 {\n",
       "  width: 10em;\n",
       "  background: linear-gradient(90deg, hotpink 3.2%, transparent 3.2%);\n",
       "}\n",
       "#T_16eb0_row5_col6 {\n",
       "  width: 10em;\n",
       "  background: linear-gradient(90deg, hotpink 3.1%, transparent 3.1%);\n",
       "}\n",
       "#T_16eb0_row5_col7, #T_16eb0_row5_col13 {\n",
       "  width: 10em;\n",
       "  background: linear-gradient(90deg, hotpink 2.6%, transparent 2.6%);\n",
       "}\n",
       "#T_16eb0_row5_col8, #T_16eb0_row5_col14 {\n",
       "  width: 10em;\n",
       "  background: linear-gradient(90deg, hotpink 2.2%, transparent 2.2%);\n",
       "}\n",
       "#T_16eb0_row5_col9 {\n",
       "  width: 10em;\n",
       "  background: linear-gradient(90deg, hotpink 2.5%, transparent 2.5%);\n",
       "}\n",
       "#T_16eb0_row5_col10, #T_16eb0_row5_col11 {\n",
       "  width: 10em;\n",
       "  background: linear-gradient(90deg, hotpink 2.8%, transparent 2.8%);\n",
       "}\n",
       "#T_16eb0_row5_col15 {\n",
       "  width: 10em;\n",
       "  background: linear-gradient(90deg, hotpink 1.7%, transparent 1.7%);\n",
       "}\n",
       "#T_16eb0_row5_col16 {\n",
       "  width: 10em;\n",
       "  background: linear-gradient(90deg, hotpink 1.5%, transparent 1.5%);\n",
       "}\n",
       "#T_16eb0_row5_col17, #T_16eb0_row5_col21, #T_16eb0_row5_col22 {\n",
       "  width: 10em;\n",
       "  background: linear-gradient(90deg, hotpink 1.2%, transparent 1.2%);\n",
       "}\n",
       "#T_16eb0_row5_col18, #T_16eb0_row5_col30, #T_16eb0_row5_col31, #T_16eb0_row5_col32, #T_16eb0_row5_col33 {\n",
       "  width: 10em;\n",
       "  background: linear-gradient(90deg, hotpink 1.1%, transparent 1.1%);\n",
       "}\n",
       "#T_16eb0_row5_col19, #T_16eb0_row5_col25, #T_16eb0_row5_col26 {\n",
       "  width: 10em;\n",
       "  background: linear-gradient(90deg, hotpink 1.0%, transparent 1.0%);\n",
       "}\n",
       "#T_16eb0_row5_col20 {\n",
       "  width: 10em;\n",
       "  background: linear-gradient(90deg, hotpink 0.9%, transparent 0.9%);\n",
       "}\n",
       "#T_16eb0_row5_col23 {\n",
       "  width: 10em;\n",
       "  background: linear-gradient(90deg, hotpink 1.4%, transparent 1.4%);\n",
       "}\n",
       "#T_16eb0_row5_col24, #T_16eb0_row5_col27, #T_16eb0_row5_col28, #T_16eb0_row5_col29 {\n",
       "  width: 10em;\n",
       "  background: linear-gradient(90deg, hotpink 1.3%, transparent 1.3%);\n",
       "}\n",
       "</style>\n",
       "<table id=\"T_16eb0\">\n",
       "  <thead>\n",
       "    <tr>\n",
       "      <th class=\"blank level0\" >&nbsp;</th>\n",
       "      <th id=\"T_16eb0_level0_col0\" class=\"col_heading level0 col0\" >1980</th>\n",
       "      <th id=\"T_16eb0_level0_col1\" class=\"col_heading level0 col1\" >1981</th>\n",
       "      <th id=\"T_16eb0_level0_col2\" class=\"col_heading level0 col2\" >1982</th>\n",
       "      <th id=\"T_16eb0_level0_col3\" class=\"col_heading level0 col3\" >1983</th>\n",
       "      <th id=\"T_16eb0_level0_col4\" class=\"col_heading level0 col4\" >1984</th>\n",
       "      <th id=\"T_16eb0_level0_col5\" class=\"col_heading level0 col5\" >1985</th>\n",
       "      <th id=\"T_16eb0_level0_col6\" class=\"col_heading level0 col6\" >1986</th>\n",
       "      <th id=\"T_16eb0_level0_col7\" class=\"col_heading level0 col7\" >1987</th>\n",
       "      <th id=\"T_16eb0_level0_col8\" class=\"col_heading level0 col8\" >1988</th>\n",
       "      <th id=\"T_16eb0_level0_col9\" class=\"col_heading level0 col9\" >1989</th>\n",
       "      <th id=\"T_16eb0_level0_col10\" class=\"col_heading level0 col10\" >1990</th>\n",
       "      <th id=\"T_16eb0_level0_col11\" class=\"col_heading level0 col11\" >1991</th>\n",
       "      <th id=\"T_16eb0_level0_col12\" class=\"col_heading level0 col12\" >1992</th>\n",
       "      <th id=\"T_16eb0_level0_col13\" class=\"col_heading level0 col13\" >1993</th>\n",
       "      <th id=\"T_16eb0_level0_col14\" class=\"col_heading level0 col14\" >1994</th>\n",
       "      <th id=\"T_16eb0_level0_col15\" class=\"col_heading level0 col15\" >1995</th>\n",
       "      <th id=\"T_16eb0_level0_col16\" class=\"col_heading level0 col16\" >1996</th>\n",
       "      <th id=\"T_16eb0_level0_col17\" class=\"col_heading level0 col17\" >1997</th>\n",
       "      <th id=\"T_16eb0_level0_col18\" class=\"col_heading level0 col18\" >1998</th>\n",
       "      <th id=\"T_16eb0_level0_col19\" class=\"col_heading level0 col19\" >1999</th>\n",
       "      <th id=\"T_16eb0_level0_col20\" class=\"col_heading level0 col20\" >2000</th>\n",
       "      <th id=\"T_16eb0_level0_col21\" class=\"col_heading level0 col21\" >2001</th>\n",
       "      <th id=\"T_16eb0_level0_col22\" class=\"col_heading level0 col22\" >2002</th>\n",
       "      <th id=\"T_16eb0_level0_col23\" class=\"col_heading level0 col23\" >2003</th>\n",
       "      <th id=\"T_16eb0_level0_col24\" class=\"col_heading level0 col24\" >2004</th>\n",
       "      <th id=\"T_16eb0_level0_col25\" class=\"col_heading level0 col25\" >2005</th>\n",
       "      <th id=\"T_16eb0_level0_col26\" class=\"col_heading level0 col26\" >2006</th>\n",
       "      <th id=\"T_16eb0_level0_col27\" class=\"col_heading level0 col27\" >2007</th>\n",
       "      <th id=\"T_16eb0_level0_col28\" class=\"col_heading level0 col28\" >2008</th>\n",
       "      <th id=\"T_16eb0_level0_col29\" class=\"col_heading level0 col29\" >2009</th>\n",
       "      <th id=\"T_16eb0_level0_col30\" class=\"col_heading level0 col30\" >2010</th>\n",
       "      <th id=\"T_16eb0_level0_col31\" class=\"col_heading level0 col31\" >2011</th>\n",
       "      <th id=\"T_16eb0_level0_col32\" class=\"col_heading level0 col32\" >2012</th>\n",
       "      <th id=\"T_16eb0_level0_col33\" class=\"col_heading level0 col33\" >2013</th>\n",
       "    </tr>\n",
       "    <tr>\n",
       "      <th class=\"index_name level0\" >continent</th>\n",
       "      <th class=\"blank col0\" >&nbsp;</th>\n",
       "      <th class=\"blank col1\" >&nbsp;</th>\n",
       "      <th class=\"blank col2\" >&nbsp;</th>\n",
       "      <th class=\"blank col3\" >&nbsp;</th>\n",
       "      <th class=\"blank col4\" >&nbsp;</th>\n",
       "      <th class=\"blank col5\" >&nbsp;</th>\n",
       "      <th class=\"blank col6\" >&nbsp;</th>\n",
       "      <th class=\"blank col7\" >&nbsp;</th>\n",
       "      <th class=\"blank col8\" >&nbsp;</th>\n",
       "      <th class=\"blank col9\" >&nbsp;</th>\n",
       "      <th class=\"blank col10\" >&nbsp;</th>\n",
       "      <th class=\"blank col11\" >&nbsp;</th>\n",
       "      <th class=\"blank col12\" >&nbsp;</th>\n",
       "      <th class=\"blank col13\" >&nbsp;</th>\n",
       "      <th class=\"blank col14\" >&nbsp;</th>\n",
       "      <th class=\"blank col15\" >&nbsp;</th>\n",
       "      <th class=\"blank col16\" >&nbsp;</th>\n",
       "      <th class=\"blank col17\" >&nbsp;</th>\n",
       "      <th class=\"blank col18\" >&nbsp;</th>\n",
       "      <th class=\"blank col19\" >&nbsp;</th>\n",
       "      <th class=\"blank col20\" >&nbsp;</th>\n",
       "      <th class=\"blank col21\" >&nbsp;</th>\n",
       "      <th class=\"blank col22\" >&nbsp;</th>\n",
       "      <th class=\"blank col23\" >&nbsp;</th>\n",
       "      <th class=\"blank col24\" >&nbsp;</th>\n",
       "      <th class=\"blank col25\" >&nbsp;</th>\n",
       "      <th class=\"blank col26\" >&nbsp;</th>\n",
       "      <th class=\"blank col27\" >&nbsp;</th>\n",
       "      <th class=\"blank col28\" >&nbsp;</th>\n",
       "      <th class=\"blank col29\" >&nbsp;</th>\n",
       "      <th class=\"blank col30\" >&nbsp;</th>\n",
       "      <th class=\"blank col31\" >&nbsp;</th>\n",
       "      <th class=\"blank col32\" >&nbsp;</th>\n",
       "      <th class=\"blank col33\" >&nbsp;</th>\n",
       "    </tr>\n",
       "  </thead>\n",
       "  <tbody>\n",
       "    <tr>\n",
       "      <th id=\"T_16eb0_level0_row0\" class=\"row_heading level0 row0\" >Africa</th>\n",
       "      <td id=\"T_16eb0_row0_col0\" class=\"data row0 col0\" >3951</td>\n",
       "      <td id=\"T_16eb0_row0_col1\" class=\"data row0 col1\" >4363</td>\n",
       "      <td id=\"T_16eb0_row0_col2\" class=\"data row0 col2\" >3819</td>\n",
       "      <td id=\"T_16eb0_row0_col3\" class=\"data row0 col3\" >2671</td>\n",
       "      <td id=\"T_16eb0_row0_col4\" class=\"data row0 col4\" >2639</td>\n",
       "      <td id=\"T_16eb0_row0_col5\" class=\"data row0 col5\" >2650</td>\n",
       "      <td id=\"T_16eb0_row0_col6\" class=\"data row0 col6\" >3782</td>\n",
       "      <td id=\"T_16eb0_row0_col7\" class=\"data row0 col7\" >7494</td>\n",
       "      <td id=\"T_16eb0_row0_col8\" class=\"data row0 col8\" >7552</td>\n",
       "      <td id=\"T_16eb0_row0_col9\" class=\"data row0 col9\" >9894</td>\n",
       "      <td id=\"T_16eb0_row0_col10\" class=\"data row0 col10\" >11012</td>\n",
       "      <td id=\"T_16eb0_row0_col11\" class=\"data row0 col11\" >14228</td>\n",
       "      <td id=\"T_16eb0_row0_col12\" class=\"data row0 col12\" >19242</td>\n",
       "      <td id=\"T_16eb0_row0_col13\" class=\"data row0 col13\" >16531</td>\n",
       "      <td id=\"T_16eb0_row0_col14\" class=\"data row0 col14\" >13072</td>\n",
       "      <td id=\"T_16eb0_row0_col15\" class=\"data row0 col15\" >14806</td>\n",
       "      <td id=\"T_16eb0_row0_col16\" class=\"data row0 col16\" >15700</td>\n",
       "      <td id=\"T_16eb0_row0_col17\" class=\"data row0 col17\" >14471</td>\n",
       "      <td id=\"T_16eb0_row0_col18\" class=\"data row0 col18\" >13791</td>\n",
       "      <td id=\"T_16eb0_row0_col19\" class=\"data row0 col19\" >15996</td>\n",
       "      <td id=\"T_16eb0_row0_col20\" class=\"data row0 col20\" >20346</td>\n",
       "      <td id=\"T_16eb0_row0_col21\" class=\"data row0 col21\" >24292</td>\n",
       "      <td id=\"T_16eb0_row0_col22\" class=\"data row0 col22\" >22710</td>\n",
       "      <td id=\"T_16eb0_row0_col23\" class=\"data row0 col23\" >23366</td>\n",
       "      <td id=\"T_16eb0_row0_col24\" class=\"data row0 col24\" >28192</td>\n",
       "      <td id=\"T_16eb0_row0_col25\" class=\"data row0 col25\" >27523</td>\n",
       "      <td id=\"T_16eb0_row0_col26\" class=\"data row0 col26\" >29188</td>\n",
       "      <td id=\"T_16eb0_row0_col27\" class=\"data row0 col27\" >28284</td>\n",
       "      <td id=\"T_16eb0_row0_col28\" class=\"data row0 col28\" >29890</td>\n",
       "      <td id=\"T_16eb0_row0_col29\" class=\"data row0 col29\" >34534</td>\n",
       "      <td id=\"T_16eb0_row0_col30\" class=\"data row0 col30\" >40892</td>\n",
       "      <td id=\"T_16eb0_row0_col31\" class=\"data row0 col31\" >35441</td>\n",
       "      <td id=\"T_16eb0_row0_col32\" class=\"data row0 col32\" >38083</td>\n",
       "      <td id=\"T_16eb0_row0_col33\" class=\"data row0 col33\" >38543</td>\n",
       "    </tr>\n",
       "    <tr>\n",
       "      <th id=\"T_16eb0_level0_row1\" class=\"row_heading level0 row1\" >Asia</th>\n",
       "      <td id=\"T_16eb0_row1_col0\" class=\"data row1 col0\" >31025</td>\n",
       "      <td id=\"T_16eb0_row1_col1\" class=\"data row1 col1\" >34314</td>\n",
       "      <td id=\"T_16eb0_row1_col2\" class=\"data row1 col2\" >30214</td>\n",
       "      <td id=\"T_16eb0_row1_col3\" class=\"data row1 col3\" >24696</td>\n",
       "      <td id=\"T_16eb0_row1_col4\" class=\"data row1 col4\" >27274</td>\n",
       "      <td id=\"T_16eb0_row1_col5\" class=\"data row1 col5\" >23850</td>\n",
       "      <td id=\"T_16eb0_row1_col6\" class=\"data row1 col6\" >28739</td>\n",
       "      <td id=\"T_16eb0_row1_col7\" class=\"data row1 col7\" >43203</td>\n",
       "      <td id=\"T_16eb0_row1_col8\" class=\"data row1 col8\" >47454</td>\n",
       "      <td id=\"T_16eb0_row1_col9\" class=\"data row1 col9\" >60256</td>\n",
       "      <td id=\"T_16eb0_row1_col10\" class=\"data row1 col10\" >72829</td>\n",
       "      <td id=\"T_16eb0_row1_col11\" class=\"data row1 col11\" >89964</td>\n",
       "      <td id=\"T_16eb0_row1_col12\" class=\"data row1 col12\" >90752</td>\n",
       "      <td id=\"T_16eb0_row1_col13\" class=\"data row1 col13\" >98737</td>\n",
       "      <td id=\"T_16eb0_row1_col14\" class=\"data row1 col14\" >88852</td>\n",
       "      <td id=\"T_16eb0_row1_col15\" class=\"data row1 col15\" >90424</td>\n",
       "      <td id=\"T_16eb0_row1_col16\" class=\"data row1 col16\" >103030</td>\n",
       "      <td id=\"T_16eb0_row1_col17\" class=\"data row1 col17\" >106383</td>\n",
       "      <td id=\"T_16eb0_row1_col18\" class=\"data row1 col18\" >90929</td>\n",
       "      <td id=\"T_16eb0_row1_col19\" class=\"data row1 col19\" >106844</td>\n",
       "      <td id=\"T_16eb0_row1_col20\" class=\"data row1 col20\" >134544</td>\n",
       "      <td id=\"T_16eb0_row1_col21\" class=\"data row1 col21\" >148083</td>\n",
       "      <td id=\"T_16eb0_row1_col22\" class=\"data row1 col22\" >137653</td>\n",
       "      <td id=\"T_16eb0_row1_col23\" class=\"data row1 col23\" >131769</td>\n",
       "      <td id=\"T_16eb0_row1_col24\" class=\"data row1 col24\" >134850</td>\n",
       "      <td id=\"T_16eb0_row1_col25\" class=\"data row1 col25\" >159253</td>\n",
       "      <td id=\"T_16eb0_row1_col26\" class=\"data row1 col26\" >149054</td>\n",
       "      <td id=\"T_16eb0_row1_col27\" class=\"data row1 col27\" >133459</td>\n",
       "      <td id=\"T_16eb0_row1_col28\" class=\"data row1 col28\" >139894</td>\n",
       "      <td id=\"T_16eb0_row1_col29\" class=\"data row1 col29\" >141434</td>\n",
       "      <td id=\"T_16eb0_row1_col30\" class=\"data row1 col30\" >163845</td>\n",
       "      <td id=\"T_16eb0_row1_col31\" class=\"data row1 col31\" >146894</td>\n",
       "      <td id=\"T_16eb0_row1_col32\" class=\"data row1 col32\" >152218</td>\n",
       "      <td id=\"T_16eb0_row1_col33\" class=\"data row1 col33\" >155075</td>\n",
       "    </tr>\n",
       "    <tr>\n",
       "      <th id=\"T_16eb0_level0_row2\" class=\"row_heading level0 row2\" >Europe</th>\n",
       "      <td id=\"T_16eb0_row2_col0\" class=\"data row2 col0\" >39760</td>\n",
       "      <td id=\"T_16eb0_row2_col1\" class=\"data row2 col1\" >44802</td>\n",
       "      <td id=\"T_16eb0_row2_col2\" class=\"data row2 col2\" >42720</td>\n",
       "      <td id=\"T_16eb0_row2_col3\" class=\"data row2 col3\" >24638</td>\n",
       "      <td id=\"T_16eb0_row2_col4\" class=\"data row2 col4\" >22287</td>\n",
       "      <td id=\"T_16eb0_row2_col5\" class=\"data row2 col5\" >20844</td>\n",
       "      <td id=\"T_16eb0_row2_col6\" class=\"data row2 col6\" >24370</td>\n",
       "      <td id=\"T_16eb0_row2_col7\" class=\"data row2 col7\" >46698</td>\n",
       "      <td id=\"T_16eb0_row2_col8\" class=\"data row2 col8\" >54726</td>\n",
       "      <td id=\"T_16eb0_row2_col9\" class=\"data row2 col9\" >60893</td>\n",
       "      <td id=\"T_16eb0_row2_col10\" class=\"data row2 col10\" >68301</td>\n",
       "      <td id=\"T_16eb0_row2_col11\" class=\"data row2 col11\" >57938</td>\n",
       "      <td id=\"T_16eb0_row2_col12\" class=\"data row2 col12\" >64123</td>\n",
       "      <td id=\"T_16eb0_row2_col13\" class=\"data row2 col13\" >62937</td>\n",
       "      <td id=\"T_16eb0_row2_col14\" class=\"data row2 col14\" >62531</td>\n",
       "      <td id=\"T_16eb0_row2_col15\" class=\"data row2 col15\" >55764</td>\n",
       "      <td id=\"T_16eb0_row2_col16\" class=\"data row2 col16\" >55642</td>\n",
       "      <td id=\"T_16eb0_row2_col17\" class=\"data row2 col17\" >48841</td>\n",
       "      <td id=\"T_16eb0_row2_col18\" class=\"data row2 col18\" >36719</td>\n",
       "      <td id=\"T_16eb0_row2_col19\" class=\"data row2 col19\" >35639</td>\n",
       "      <td id=\"T_16eb0_row2_col20\" class=\"data row2 col20\" >38215</td>\n",
       "      <td id=\"T_16eb0_row2_col21\" class=\"data row2 col21\" >42779</td>\n",
       "      <td id=\"T_16eb0_row2_col22\" class=\"data row2 col22\" >36798</td>\n",
       "      <td id=\"T_16eb0_row2_col23\" class=\"data row2 col23\" >34556</td>\n",
       "      <td id=\"T_16eb0_row2_col24\" class=\"data row2 col24\" >38082</td>\n",
       "      <td id=\"T_16eb0_row2_col25\" class=\"data row2 col25\" >35955</td>\n",
       "      <td id=\"T_16eb0_row2_col26\" class=\"data row2 col26\" >33053</td>\n",
       "      <td id=\"T_16eb0_row2_col27\" class=\"data row2 col27\" >33495</td>\n",
       "      <td id=\"T_16eb0_row2_col28\" class=\"data row2 col28\" >34692</td>\n",
       "      <td id=\"T_16eb0_row2_col29\" class=\"data row2 col29\" >35078</td>\n",
       "      <td id=\"T_16eb0_row2_col30\" class=\"data row2 col30\" >33425</td>\n",
       "      <td id=\"T_16eb0_row2_col31\" class=\"data row2 col31\" >26778</td>\n",
       "      <td id=\"T_16eb0_row2_col32\" class=\"data row2 col32\" >29177</td>\n",
       "      <td id=\"T_16eb0_row2_col33\" class=\"data row2 col33\" >28691</td>\n",
       "    </tr>\n",
       "    <tr>\n",
       "      <th id=\"T_16eb0_level0_row3\" class=\"row_heading level0 row3\" >Latin America and the Caribbean</th>\n",
       "      <td id=\"T_16eb0_row3_col0\" class=\"data row3 col0\" >13081</td>\n",
       "      <td id=\"T_16eb0_row3_col1\" class=\"data row3 col1\" >15215</td>\n",
       "      <td id=\"T_16eb0_row3_col2\" class=\"data row3 col2\" >16769</td>\n",
       "      <td id=\"T_16eb0_row3_col3\" class=\"data row3 col3\" >15427</td>\n",
       "      <td id=\"T_16eb0_row3_col4\" class=\"data row3 col4\" >13678</td>\n",
       "      <td id=\"T_16eb0_row3_col5\" class=\"data row3 col5\" >15171</td>\n",
       "      <td id=\"T_16eb0_row3_col6\" class=\"data row3 col6\" >21179</td>\n",
       "      <td id=\"T_16eb0_row3_col7\" class=\"data row3 col7\" >28471</td>\n",
       "      <td id=\"T_16eb0_row3_col8\" class=\"data row3 col8\" >21924</td>\n",
       "      <td id=\"T_16eb0_row3_col9\" class=\"data row3 col9\" >25060</td>\n",
       "      <td id=\"T_16eb0_row3_col10\" class=\"data row3 col10\" >27942</td>\n",
       "      <td id=\"T_16eb0_row3_col11\" class=\"data row3 col11\" >36827</td>\n",
       "      <td id=\"T_16eb0_row3_col12\" class=\"data row3 col12\" >37853</td>\n",
       "      <td id=\"T_16eb0_row3_col13\" class=\"data row3 col13\" >33840</td>\n",
       "      <td id=\"T_16eb0_row3_col14\" class=\"data row3 col14\" >21341</td>\n",
       "      <td id=\"T_16eb0_row3_col15\" class=\"data row3 col15\" >20262</td>\n",
       "      <td id=\"T_16eb0_row3_col16\" class=\"data row3 col16\" >18645</td>\n",
       "      <td id=\"T_16eb0_row3_col17\" class=\"data row3 col17\" >17174</td>\n",
       "      <td id=\"T_16eb0_row3_col18\" class=\"data row3 col18\" >13830</td>\n",
       "      <td id=\"T_16eb0_row3_col19\" class=\"data row3 col19\" >15088</td>\n",
       "      <td id=\"T_16eb0_row3_col20\" class=\"data row3 col20\" >16898</td>\n",
       "      <td id=\"T_16eb0_row3_col21\" class=\"data row3 col21\" >20067</td>\n",
       "      <td id=\"T_16eb0_row3_col22\" class=\"data row3 col22\" >19317</td>\n",
       "      <td id=\"T_16eb0_row3_col23\" class=\"data row3 col23\" >20263</td>\n",
       "      <td id=\"T_16eb0_row3_col24\" class=\"data row3 col24\" >22181</td>\n",
       "      <td id=\"T_16eb0_row3_col25\" class=\"data row3 col25\" >24747</td>\n",
       "      <td id=\"T_16eb0_row3_col26\" class=\"data row3 col26\" >24676</td>\n",
       "      <td id=\"T_16eb0_row3_col27\" class=\"data row3 col27\" >26011</td>\n",
       "      <td id=\"T_16eb0_row3_col28\" class=\"data row3 col28\" >26547</td>\n",
       "      <td id=\"T_16eb0_row3_col29\" class=\"data row3 col29\" >26867</td>\n",
       "      <td id=\"T_16eb0_row3_col30\" class=\"data row3 col30\" >28818</td>\n",
       "      <td id=\"T_16eb0_row3_col31\" class=\"data row3 col31\" >27856</td>\n",
       "      <td id=\"T_16eb0_row3_col32\" class=\"data row3 col32\" >27173</td>\n",
       "      <td id=\"T_16eb0_row3_col33\" class=\"data row3 col33\" >24950</td>\n",
       "    </tr>\n",
       "    <tr>\n",
       "      <th id=\"T_16eb0_level0_row4\" class=\"row_heading level0 row4\" >Northern America</th>\n",
       "      <td id=\"T_16eb0_row4_col0\" class=\"data row4 col0\" >9378</td>\n",
       "      <td id=\"T_16eb0_row4_col1\" class=\"data row4 col1\" >10030</td>\n",
       "      <td id=\"T_16eb0_row4_col2\" class=\"data row4 col2\" >9074</td>\n",
       "      <td id=\"T_16eb0_row4_col3\" class=\"data row4 col3\" >7100</td>\n",
       "      <td id=\"T_16eb0_row4_col4\" class=\"data row4 col4\" >6661</td>\n",
       "      <td id=\"T_16eb0_row4_col5\" class=\"data row4 col5\" >6543</td>\n",
       "      <td id=\"T_16eb0_row4_col6\" class=\"data row4 col6\" >7074</td>\n",
       "      <td id=\"T_16eb0_row4_col7\" class=\"data row4 col7\" >7705</td>\n",
       "      <td id=\"T_16eb0_row4_col8\" class=\"data row4 col8\" >6469</td>\n",
       "      <td id=\"T_16eb0_row4_col9\" class=\"data row4 col9\" >6790</td>\n",
       "      <td id=\"T_16eb0_row4_col10\" class=\"data row4 col10\" >5895</td>\n",
       "      <td id=\"T_16eb0_row4_col11\" class=\"data row4 col11\" >6057</td>\n",
       "      <td id=\"T_16eb0_row4_col12\" class=\"data row4 col12\" >6846</td>\n",
       "      <td id=\"T_16eb0_row4_col13\" class=\"data row4 col13\" >7438</td>\n",
       "      <td id=\"T_16eb0_row4_col14\" class=\"data row4 col14\" >5902</td>\n",
       "      <td id=\"T_16eb0_row4_col15\" class=\"data row4 col15\" >4891</td>\n",
       "      <td id=\"T_16eb0_row4_col16\" class=\"data row4 col16\" >5516</td>\n",
       "      <td id=\"T_16eb0_row4_col17\" class=\"data row4 col17\" >4753</td>\n",
       "      <td id=\"T_16eb0_row4_col18\" class=\"data row4 col18\" >4437</td>\n",
       "      <td id=\"T_16eb0_row4_col19\" class=\"data row4 col19\" >5196</td>\n",
       "      <td id=\"T_16eb0_row4_col20\" class=\"data row4 col20\" >5433</td>\n",
       "      <td id=\"T_16eb0_row4_col21\" class=\"data row4 col21\" >5604</td>\n",
       "      <td id=\"T_16eb0_row4_col22\" class=\"data row4 col22\" >4948</td>\n",
       "      <td id=\"T_16eb0_row4_col23\" class=\"data row4 col23\" >5543</td>\n",
       "      <td id=\"T_16eb0_row4_col24\" class=\"data row4 col24\" >6990</td>\n",
       "      <td id=\"T_16eb0_row4_col25\" class=\"data row4 col25\" >8394</td>\n",
       "      <td id=\"T_16eb0_row4_col26\" class=\"data row4 col26\" >9613</td>\n",
       "      <td id=\"T_16eb0_row4_col27\" class=\"data row4 col27\" >9463</td>\n",
       "      <td id=\"T_16eb0_row4_col28\" class=\"data row4 col28\" >10190</td>\n",
       "      <td id=\"T_16eb0_row4_col29\" class=\"data row4 col29\" >8995</td>\n",
       "      <td id=\"T_16eb0_row4_col30\" class=\"data row4 col30\" >8142</td>\n",
       "      <td id=\"T_16eb0_row4_col31\" class=\"data row4 col31\" >7677</td>\n",
       "      <td id=\"T_16eb0_row4_col32\" class=\"data row4 col32\" >7892</td>\n",
       "      <td id=\"T_16eb0_row4_col33\" class=\"data row4 col33\" >8503</td>\n",
       "    </tr>\n",
       "    <tr>\n",
       "      <th id=\"T_16eb0_level0_row5\" class=\"row_heading level0 row5\" >Oceania</th>\n",
       "      <td id=\"T_16eb0_row5_col0\" class=\"data row5 col0\" >1942</td>\n",
       "      <td id=\"T_16eb0_row5_col1\" class=\"data row5 col1\" >1839</td>\n",
       "      <td id=\"T_16eb0_row5_col2\" class=\"data row5 col2\" >1675</td>\n",
       "      <td id=\"T_16eb0_row5_col3\" class=\"data row5 col3\" >1018</td>\n",
       "      <td id=\"T_16eb0_row5_col4\" class=\"data row5 col4\" >878</td>\n",
       "      <td id=\"T_16eb0_row5_col5\" class=\"data row5 col5\" >920</td>\n",
       "      <td id=\"T_16eb0_row5_col6\" class=\"data row5 col6\" >904</td>\n",
       "      <td id=\"T_16eb0_row5_col7\" class=\"data row5 col7\" >1200</td>\n",
       "      <td id=\"T_16eb0_row5_col8\" class=\"data row5 col8\" >1181</td>\n",
       "      <td id=\"T_16eb0_row5_col9\" class=\"data row5 col9\" >1539</td>\n",
       "      <td id=\"T_16eb0_row5_col10\" class=\"data row5 col10\" >2075</td>\n",
       "      <td id=\"T_16eb0_row5_col11\" class=\"data row5 col11\" >2495</td>\n",
       "      <td id=\"T_16eb0_row5_col12\" class=\"data row5 col12\" >2871</td>\n",
       "      <td id=\"T_16eb0_row5_col13\" class=\"data row5 col13\" >2566</td>\n",
       "      <td id=\"T_16eb0_row5_col14\" class=\"data row5 col14\" >1967</td>\n",
       "      <td id=\"T_16eb0_row5_col15\" class=\"data row5 col15\" >1565</td>\n",
       "      <td id=\"T_16eb0_row5_col16\" class=\"data row5 col16\" >1552</td>\n",
       "      <td id=\"T_16eb0_row5_col17\" class=\"data row5 col17\" >1263</td>\n",
       "      <td id=\"T_16eb0_row5_col18\" class=\"data row5 col18\" >1021</td>\n",
       "      <td id=\"T_16eb0_row5_col19\" class=\"data row5 col19\" >1055</td>\n",
       "      <td id=\"T_16eb0_row5_col20\" class=\"data row5 col20\" >1276</td>\n",
       "      <td id=\"T_16eb0_row5_col21\" class=\"data row5 col21\" >1818</td>\n",
       "      <td id=\"T_16eb0_row5_col22\" class=\"data row5 col22\" >1685</td>\n",
       "      <td id=\"T_16eb0_row5_col23\" class=\"data row5 col23\" >1800</td>\n",
       "      <td id=\"T_16eb0_row5_col24\" class=\"data row5 col24\" >1788</td>\n",
       "      <td id=\"T_16eb0_row5_col25\" class=\"data row5 col25\" >1585</td>\n",
       "      <td id=\"T_16eb0_row5_col26\" class=\"data row5 col26\" >1473</td>\n",
       "      <td id=\"T_16eb0_row5_col27\" class=\"data row5 col27\" >1693</td>\n",
       "      <td id=\"T_16eb0_row5_col28\" class=\"data row5 col28\" >1834</td>\n",
       "      <td id=\"T_16eb0_row5_col29\" class=\"data row5 col29\" >1860</td>\n",
       "      <td id=\"T_16eb0_row5_col30\" class=\"data row5 col30\" >1834</td>\n",
       "      <td id=\"T_16eb0_row5_col31\" class=\"data row5 col31\" >1548</td>\n",
       "      <td id=\"T_16eb0_row5_col32\" class=\"data row5 col32\" >1679</td>\n",
       "      <td id=\"T_16eb0_row5_col33\" class=\"data row5 col33\" >1775</td>\n",
       "    </tr>\n",
       "  </tbody>\n",
       "</table>\n"
      ],
      "text/plain": [
       "<pandas.io.formats.style.Styler at 0x229d7530910>"
      ]
     },
     "execution_count": 22,
     "metadata": {},
     "output_type": "execute_result"
    }
   ],
   "source": [
    "continent_df.style.bar(color='hotpink')"
   ]
  },
  {
   "cell_type": "code",
   "execution_count": 23,
   "metadata": {},
   "outputs": [
    {
     "data": {
      "text/html": [
       "<style type=\"text/css\">\n",
       "#T_59c76_row0_col0, #T_59c76_row0_col2, #T_59c76_row4_col10, #T_59c76_row4_col29 {\n",
       "  color: #6629fe;\n",
       "}\n",
       "#T_59c76_row0_col1, #T_59c76_row4_col27, #T_59c76_row4_col28 {\n",
       "  color: #622ffe;\n",
       "}\n",
       "#T_59c76_row0_col3, #T_59c76_row0_col4 {\n",
       "  color: #5e35fe;\n",
       "}\n",
       "#T_59c76_row0_col5 {\n",
       "  color: #5a3bfd;\n",
       "}\n",
       "#T_59c76_row0_col6 {\n",
       "  color: #4c50fc;\n",
       "}\n",
       "#T_59c76_row0_col7, #T_59c76_row0_col16 {\n",
       "  color: #396bf9;\n",
       "}\n",
       "#T_59c76_row0_col8, #T_59c76_row3_col20 {\n",
       "  color: #445cfb;\n",
       "}\n",
       "#T_59c76_row0_col9, #T_59c76_row0_col18, #T_59c76_row0_col19, #T_59c76_row0_col20, #T_59c76_row3_col18, #T_59c76_row3_col23, #T_59c76_row4_col7 {\n",
       "  color: #386df9;\n",
       "}\n",
       "#T_59c76_row0_col10, #T_59c76_row0_col14, #T_59c76_row0_col17 {\n",
       "  color: #4062fa;\n",
       "}\n",
       "#T_59c76_row0_col11 {\n",
       "  color: #3c68f9;\n",
       "}\n",
       "#T_59c76_row0_col12, #T_59c76_row3_col27 {\n",
       "  color: #218cf4;\n",
       "}\n",
       "#T_59c76_row0_col13, #T_59c76_row3_col25 {\n",
       "  color: #3670f8;\n",
       "}\n",
       "#T_59c76_row0_col15, #T_59c76_row3_col17, #T_59c76_row3_col33 {\n",
       "  color: #3473f8;\n",
       "}\n",
       "#T_59c76_row0_col21, #T_59c76_row0_col22, #T_59c76_row3_col24 {\n",
       "  color: #3176f8;\n",
       "}\n",
       "#T_59c76_row0_col23, #T_59c76_row0_col25, #T_59c76_row3_col30 {\n",
       "  color: #2c7ef7;\n",
       "}\n",
       "#T_59c76_row0_col24, #T_59c76_row4_col0 {\n",
       "  color: #1c93f3;\n",
       "}\n",
       "#T_59c76_row0_col26, #T_59c76_row4_col1 {\n",
       "  color: #208ef4;\n",
       "}\n",
       "#T_59c76_row0_col27 {\n",
       "  color: #1996f3;\n",
       "}\n",
       "#T_59c76_row0_col28 {\n",
       "  color: #1898f2;\n",
       "}\n",
       "#T_59c76_row0_col29, #T_59c76_row0_col31 {\n",
       "  color: #09a9ee;\n",
       "}\n",
       "#T_59c76_row0_col30, #T_59c76_row0_col32, #T_59c76_row0_col33, #T_59c76_row2_col27 {\n",
       "  color: #06aeed;\n",
       "}\n",
       "#T_59c76_row1_col0 {\n",
       "  color: #ffa95b;\n",
       "}\n",
       "#T_59c76_row1_col1 {\n",
       "  color: #ffb05f;\n",
       "}\n",
       "#T_59c76_row1_col2 {\n",
       "  color: #e2d176;\n",
       "}\n",
       "#T_59c76_row1_col3, #T_59c76_row1_col4, #T_59c76_row1_col5, #T_59c76_row1_col6, #T_59c76_row1_col10, #T_59c76_row1_col11, #T_59c76_row1_col12, #T_59c76_row1_col13, #T_59c76_row1_col14, #T_59c76_row1_col15, #T_59c76_row1_col16, #T_59c76_row1_col17, #T_59c76_row1_col18, #T_59c76_row1_col19, #T_59c76_row1_col20, #T_59c76_row1_col21, #T_59c76_row1_col22, #T_59c76_row1_col23, #T_59c76_row1_col24, #T_59c76_row1_col25, #T_59c76_row1_col26, #T_59c76_row1_col27, #T_59c76_row1_col28, #T_59c76_row1_col29, #T_59c76_row1_col30, #T_59c76_row1_col31, #T_59c76_row1_col32, #T_59c76_row1_col33, #T_59c76_row2_col0, #T_59c76_row2_col1, #T_59c76_row2_col2, #T_59c76_row2_col3, #T_59c76_row2_col7, #T_59c76_row2_col8, #T_59c76_row2_col9 {\n",
       "  color: #ff0000;\n",
       "}\n",
       "#T_59c76_row1_col7 {\n",
       "  color: #ff3b1e;\n",
       "}\n",
       "#T_59c76_row1_col8 {\n",
       "  color: #ff6835;\n",
       "}\n",
       "#T_59c76_row1_col9 {\n",
       "  color: #ff0603;\n",
       "}\n",
       "#T_59c76_row2_col4 {\n",
       "  color: #ff8e4a;\n",
       "}\n",
       "#T_59c76_row2_col5 {\n",
       "  color: #ff6533;\n",
       "}\n",
       "#T_59c76_row2_col6 {\n",
       "  color: #ff793e;\n",
       "}\n",
       "#T_59c76_row2_col10 {\n",
       "  color: #ff3219;\n",
       "}\n",
       "#T_59c76_row2_col11 {\n",
       "  color: #c4e88a;\n",
       "}\n",
       "#T_59c76_row2_col12, #T_59c76_row2_col14 {\n",
       "  color: #e4cf74;\n",
       "}\n",
       "#T_59c76_row2_col13 {\n",
       "  color: #c0eb8d;\n",
       "}\n",
       "#T_59c76_row2_col15 {\n",
       "  color: #b9ef92;\n",
       "}\n",
       "#T_59c76_row2_col16 {\n",
       "  color: #90feab;\n",
       "}\n",
       "#T_59c76_row2_col17 {\n",
       "  color: #66fcc2;\n",
       "}\n",
       "#T_59c76_row2_col18, #T_59c76_row3_col9, #T_59c76_row3_col12 {\n",
       "  color: #4af2cf;\n",
       "}\n",
       "#T_59c76_row2_col19, #T_59c76_row3_col13 {\n",
       "  color: #27dade;\n",
       "}\n",
       "#T_59c76_row2_col20 {\n",
       "  color: #0dc2e8;\n",
       "}\n",
       "#T_59c76_row2_col21 {\n",
       "  color: #0fc4e7;\n",
       "}\n",
       "#T_59c76_row2_col22 {\n",
       "  color: #04b9ea;\n",
       "}\n",
       "#T_59c76_row2_col23 {\n",
       "  color: #00b5eb;\n",
       "}\n",
       "#T_59c76_row2_col24 {\n",
       "  color: #0ac0e8;\n",
       "}\n",
       "#T_59c76_row2_col25 {\n",
       "  color: #11a0f1;\n",
       "}\n",
       "#T_59c76_row2_col26 {\n",
       "  color: #149df1;\n",
       "}\n",
       "#T_59c76_row2_col28, #T_59c76_row2_col29 {\n",
       "  color: #08acee;\n",
       "}\n",
       "#T_59c76_row2_col30 {\n",
       "  color: #1e91f3;\n",
       "}\n",
       "#T_59c76_row2_col31, #T_59c76_row2_col33 {\n",
       "  color: #2884f6;\n",
       "}\n",
       "#T_59c76_row2_col32, #T_59c76_row3_col31, #T_59c76_row4_col2 {\n",
       "  color: #2489f5;\n",
       "}\n",
       "#T_59c76_row3_col0 {\n",
       "  color: #17cbe4;\n",
       "}\n",
       "#T_59c76_row3_col1 {\n",
       "  color: #1fd3e1;\n",
       "}\n",
       "#T_59c76_row3_col2 {\n",
       "  color: #3dead5;\n",
       "}\n",
       "#T_59c76_row3_col3 {\n",
       "  color: #b6f193;\n",
       "}\n",
       "#T_59c76_row3_col4 {\n",
       "  color: #78ffb8;\n",
       "}\n",
       "#T_59c76_row3_col5 {\n",
       "  color: #beec8e;\n",
       "}\n",
       "#T_59c76_row3_col6 {\n",
       "  color: #f4c069;\n",
       "}\n",
       "#T_59c76_row3_col7 {\n",
       "  color: #b2f396;\n",
       "}\n",
       "#T_59c76_row3_col8 {\n",
       "  color: #46efd1;\n",
       "}\n",
       "#T_59c76_row3_col10 {\n",
       "  color: #3ae8d6;\n",
       "}\n",
       "#T_59c76_row3_col11 {\n",
       "  color: #48f1d0;\n",
       "}\n",
       "#T_59c76_row3_col14 {\n",
       "  color: #0ea5ef;\n",
       "}\n",
       "#T_59c76_row3_col15 {\n",
       "  color: #169bf2;\n",
       "}\n",
       "#T_59c76_row3_col16, #T_59c76_row3_col32 {\n",
       "  color: #2981f6;\n",
       "}\n",
       "#T_59c76_row3_col19, #T_59c76_row3_col22 {\n",
       "  color: #3e65fa;\n",
       "}\n",
       "#T_59c76_row3_col21 {\n",
       "  color: #425ffa;\n",
       "}\n",
       "#T_59c76_row3_col26 {\n",
       "  color: #3079f7;\n",
       "}\n",
       "#T_59c76_row3_col28, #T_59c76_row3_col29 {\n",
       "  color: #2686f5;\n",
       "}\n",
       "#T_59c76_row4_col3 {\n",
       "  color: #02b7eb;\n",
       "}\n",
       "#T_59c76_row4_col4, #T_59c76_row4_col6 {\n",
       "  color: #10a2f0;\n",
       "}\n",
       "#T_59c76_row4_col5 {\n",
       "  color: #04b0ed;\n",
       "}\n",
       "#T_59c76_row4_col8 {\n",
       "  color: #4e4dfc;\n",
       "}\n",
       "#T_59c76_row4_col9 {\n",
       "  color: #5444fd;\n",
       "}\n",
       "#T_59c76_row4_col11, #T_59c76_row4_col16, #T_59c76_row4_col19, #T_59c76_row4_col24, #T_59c76_row4_col31, #T_59c76_row4_col32 {\n",
       "  color: #6c1fff;\n",
       "}\n",
       "#T_59c76_row4_col12, #T_59c76_row4_col14, #T_59c76_row4_col25, #T_59c76_row4_col33 {\n",
       "  color: #6a22fe;\n",
       "}\n",
       "#T_59c76_row4_col13 {\n",
       "  color: #6826fe;\n",
       "}\n",
       "#T_59c76_row4_col15, #T_59c76_row4_col18, #T_59c76_row4_col30 {\n",
       "  color: #6e1cff;\n",
       "}\n",
       "#T_59c76_row4_col17 {\n",
       "  color: #7019ff;\n",
       "}\n",
       "#T_59c76_row4_col20, #T_59c76_row4_col23 {\n",
       "  color: #7216ff;\n",
       "}\n",
       "#T_59c76_row4_col21, #T_59c76_row4_col22 {\n",
       "  color: #7413ff;\n",
       "}\n",
       "#T_59c76_row4_col26 {\n",
       "  color: #642cfe;\n",
       "}\n",
       "#T_59c76_row5_col0, #T_59c76_row5_col1, #T_59c76_row5_col2, #T_59c76_row5_col3, #T_59c76_row5_col4, #T_59c76_row5_col5, #T_59c76_row5_col6, #T_59c76_row5_col7, #T_59c76_row5_col8, #T_59c76_row5_col9, #T_59c76_row5_col10, #T_59c76_row5_col11, #T_59c76_row5_col12, #T_59c76_row5_col13, #T_59c76_row5_col14, #T_59c76_row5_col15, #T_59c76_row5_col16, #T_59c76_row5_col17, #T_59c76_row5_col18, #T_59c76_row5_col19, #T_59c76_row5_col20, #T_59c76_row5_col21, #T_59c76_row5_col22, #T_59c76_row5_col23, #T_59c76_row5_col24, #T_59c76_row5_col25, #T_59c76_row5_col26, #T_59c76_row5_col27, #T_59c76_row5_col28, #T_59c76_row5_col29, #T_59c76_row5_col30, #T_59c76_row5_col31, #T_59c76_row5_col32, #T_59c76_row5_col33 {\n",
       "  color: #8000ff;\n",
       "}\n",
       "</style>\n",
       "<table id=\"T_59c76\">\n",
       "  <thead>\n",
       "    <tr>\n",
       "      <th class=\"blank level0\" >&nbsp;</th>\n",
       "      <th id=\"T_59c76_level0_col0\" class=\"col_heading level0 col0\" >1980</th>\n",
       "      <th id=\"T_59c76_level0_col1\" class=\"col_heading level0 col1\" >1981</th>\n",
       "      <th id=\"T_59c76_level0_col2\" class=\"col_heading level0 col2\" >1982</th>\n",
       "      <th id=\"T_59c76_level0_col3\" class=\"col_heading level0 col3\" >1983</th>\n",
       "      <th id=\"T_59c76_level0_col4\" class=\"col_heading level0 col4\" >1984</th>\n",
       "      <th id=\"T_59c76_level0_col5\" class=\"col_heading level0 col5\" >1985</th>\n",
       "      <th id=\"T_59c76_level0_col6\" class=\"col_heading level0 col6\" >1986</th>\n",
       "      <th id=\"T_59c76_level0_col7\" class=\"col_heading level0 col7\" >1987</th>\n",
       "      <th id=\"T_59c76_level0_col8\" class=\"col_heading level0 col8\" >1988</th>\n",
       "      <th id=\"T_59c76_level0_col9\" class=\"col_heading level0 col9\" >1989</th>\n",
       "      <th id=\"T_59c76_level0_col10\" class=\"col_heading level0 col10\" >1990</th>\n",
       "      <th id=\"T_59c76_level0_col11\" class=\"col_heading level0 col11\" >1991</th>\n",
       "      <th id=\"T_59c76_level0_col12\" class=\"col_heading level0 col12\" >1992</th>\n",
       "      <th id=\"T_59c76_level0_col13\" class=\"col_heading level0 col13\" >1993</th>\n",
       "      <th id=\"T_59c76_level0_col14\" class=\"col_heading level0 col14\" >1994</th>\n",
       "      <th id=\"T_59c76_level0_col15\" class=\"col_heading level0 col15\" >1995</th>\n",
       "      <th id=\"T_59c76_level0_col16\" class=\"col_heading level0 col16\" >1996</th>\n",
       "      <th id=\"T_59c76_level0_col17\" class=\"col_heading level0 col17\" >1997</th>\n",
       "      <th id=\"T_59c76_level0_col18\" class=\"col_heading level0 col18\" >1998</th>\n",
       "      <th id=\"T_59c76_level0_col19\" class=\"col_heading level0 col19\" >1999</th>\n",
       "      <th id=\"T_59c76_level0_col20\" class=\"col_heading level0 col20\" >2000</th>\n",
       "      <th id=\"T_59c76_level0_col21\" class=\"col_heading level0 col21\" >2001</th>\n",
       "      <th id=\"T_59c76_level0_col22\" class=\"col_heading level0 col22\" >2002</th>\n",
       "      <th id=\"T_59c76_level0_col23\" class=\"col_heading level0 col23\" >2003</th>\n",
       "      <th id=\"T_59c76_level0_col24\" class=\"col_heading level0 col24\" >2004</th>\n",
       "      <th id=\"T_59c76_level0_col25\" class=\"col_heading level0 col25\" >2005</th>\n",
       "      <th id=\"T_59c76_level0_col26\" class=\"col_heading level0 col26\" >2006</th>\n",
       "      <th id=\"T_59c76_level0_col27\" class=\"col_heading level0 col27\" >2007</th>\n",
       "      <th id=\"T_59c76_level0_col28\" class=\"col_heading level0 col28\" >2008</th>\n",
       "      <th id=\"T_59c76_level0_col29\" class=\"col_heading level0 col29\" >2009</th>\n",
       "      <th id=\"T_59c76_level0_col30\" class=\"col_heading level0 col30\" >2010</th>\n",
       "      <th id=\"T_59c76_level0_col31\" class=\"col_heading level0 col31\" >2011</th>\n",
       "      <th id=\"T_59c76_level0_col32\" class=\"col_heading level0 col32\" >2012</th>\n",
       "      <th id=\"T_59c76_level0_col33\" class=\"col_heading level0 col33\" >2013</th>\n",
       "    </tr>\n",
       "    <tr>\n",
       "      <th class=\"index_name level0\" >continent</th>\n",
       "      <th class=\"blank col0\" >&nbsp;</th>\n",
       "      <th class=\"blank col1\" >&nbsp;</th>\n",
       "      <th class=\"blank col2\" >&nbsp;</th>\n",
       "      <th class=\"blank col3\" >&nbsp;</th>\n",
       "      <th class=\"blank col4\" >&nbsp;</th>\n",
       "      <th class=\"blank col5\" >&nbsp;</th>\n",
       "      <th class=\"blank col6\" >&nbsp;</th>\n",
       "      <th class=\"blank col7\" >&nbsp;</th>\n",
       "      <th class=\"blank col8\" >&nbsp;</th>\n",
       "      <th class=\"blank col9\" >&nbsp;</th>\n",
       "      <th class=\"blank col10\" >&nbsp;</th>\n",
       "      <th class=\"blank col11\" >&nbsp;</th>\n",
       "      <th class=\"blank col12\" >&nbsp;</th>\n",
       "      <th class=\"blank col13\" >&nbsp;</th>\n",
       "      <th class=\"blank col14\" >&nbsp;</th>\n",
       "      <th class=\"blank col15\" >&nbsp;</th>\n",
       "      <th class=\"blank col16\" >&nbsp;</th>\n",
       "      <th class=\"blank col17\" >&nbsp;</th>\n",
       "      <th class=\"blank col18\" >&nbsp;</th>\n",
       "      <th class=\"blank col19\" >&nbsp;</th>\n",
       "      <th class=\"blank col20\" >&nbsp;</th>\n",
       "      <th class=\"blank col21\" >&nbsp;</th>\n",
       "      <th class=\"blank col22\" >&nbsp;</th>\n",
       "      <th class=\"blank col23\" >&nbsp;</th>\n",
       "      <th class=\"blank col24\" >&nbsp;</th>\n",
       "      <th class=\"blank col25\" >&nbsp;</th>\n",
       "      <th class=\"blank col26\" >&nbsp;</th>\n",
       "      <th class=\"blank col27\" >&nbsp;</th>\n",
       "      <th class=\"blank col28\" >&nbsp;</th>\n",
       "      <th class=\"blank col29\" >&nbsp;</th>\n",
       "      <th class=\"blank col30\" >&nbsp;</th>\n",
       "      <th class=\"blank col31\" >&nbsp;</th>\n",
       "      <th class=\"blank col32\" >&nbsp;</th>\n",
       "      <th class=\"blank col33\" >&nbsp;</th>\n",
       "    </tr>\n",
       "  </thead>\n",
       "  <tbody>\n",
       "    <tr>\n",
       "      <th id=\"T_59c76_level0_row0\" class=\"row_heading level0 row0\" >Africa</th>\n",
       "      <td id=\"T_59c76_row0_col0\" class=\"data row0 col0\" >3951</td>\n",
       "      <td id=\"T_59c76_row0_col1\" class=\"data row0 col1\" >4363</td>\n",
       "      <td id=\"T_59c76_row0_col2\" class=\"data row0 col2\" >3819</td>\n",
       "      <td id=\"T_59c76_row0_col3\" class=\"data row0 col3\" >2671</td>\n",
       "      <td id=\"T_59c76_row0_col4\" class=\"data row0 col4\" >2639</td>\n",
       "      <td id=\"T_59c76_row0_col5\" class=\"data row0 col5\" >2650</td>\n",
       "      <td id=\"T_59c76_row0_col6\" class=\"data row0 col6\" >3782</td>\n",
       "      <td id=\"T_59c76_row0_col7\" class=\"data row0 col7\" >7494</td>\n",
       "      <td id=\"T_59c76_row0_col8\" class=\"data row0 col8\" >7552</td>\n",
       "      <td id=\"T_59c76_row0_col9\" class=\"data row0 col9\" >9894</td>\n",
       "      <td id=\"T_59c76_row0_col10\" class=\"data row0 col10\" >11012</td>\n",
       "      <td id=\"T_59c76_row0_col11\" class=\"data row0 col11\" >14228</td>\n",
       "      <td id=\"T_59c76_row0_col12\" class=\"data row0 col12\" >19242</td>\n",
       "      <td id=\"T_59c76_row0_col13\" class=\"data row0 col13\" >16531</td>\n",
       "      <td id=\"T_59c76_row0_col14\" class=\"data row0 col14\" >13072</td>\n",
       "      <td id=\"T_59c76_row0_col15\" class=\"data row0 col15\" >14806</td>\n",
       "      <td id=\"T_59c76_row0_col16\" class=\"data row0 col16\" >15700</td>\n",
       "      <td id=\"T_59c76_row0_col17\" class=\"data row0 col17\" >14471</td>\n",
       "      <td id=\"T_59c76_row0_col18\" class=\"data row0 col18\" >13791</td>\n",
       "      <td id=\"T_59c76_row0_col19\" class=\"data row0 col19\" >15996</td>\n",
       "      <td id=\"T_59c76_row0_col20\" class=\"data row0 col20\" >20346</td>\n",
       "      <td id=\"T_59c76_row0_col21\" class=\"data row0 col21\" >24292</td>\n",
       "      <td id=\"T_59c76_row0_col22\" class=\"data row0 col22\" >22710</td>\n",
       "      <td id=\"T_59c76_row0_col23\" class=\"data row0 col23\" >23366</td>\n",
       "      <td id=\"T_59c76_row0_col24\" class=\"data row0 col24\" >28192</td>\n",
       "      <td id=\"T_59c76_row0_col25\" class=\"data row0 col25\" >27523</td>\n",
       "      <td id=\"T_59c76_row0_col26\" class=\"data row0 col26\" >29188</td>\n",
       "      <td id=\"T_59c76_row0_col27\" class=\"data row0 col27\" >28284</td>\n",
       "      <td id=\"T_59c76_row0_col28\" class=\"data row0 col28\" >29890</td>\n",
       "      <td id=\"T_59c76_row0_col29\" class=\"data row0 col29\" >34534</td>\n",
       "      <td id=\"T_59c76_row0_col30\" class=\"data row0 col30\" >40892</td>\n",
       "      <td id=\"T_59c76_row0_col31\" class=\"data row0 col31\" >35441</td>\n",
       "      <td id=\"T_59c76_row0_col32\" class=\"data row0 col32\" >38083</td>\n",
       "      <td id=\"T_59c76_row0_col33\" class=\"data row0 col33\" >38543</td>\n",
       "    </tr>\n",
       "    <tr>\n",
       "      <th id=\"T_59c76_level0_row1\" class=\"row_heading level0 row1\" >Asia</th>\n",
       "      <td id=\"T_59c76_row1_col0\" class=\"data row1 col0\" >31025</td>\n",
       "      <td id=\"T_59c76_row1_col1\" class=\"data row1 col1\" >34314</td>\n",
       "      <td id=\"T_59c76_row1_col2\" class=\"data row1 col2\" >30214</td>\n",
       "      <td id=\"T_59c76_row1_col3\" class=\"data row1 col3\" >24696</td>\n",
       "      <td id=\"T_59c76_row1_col4\" class=\"data row1 col4\" >27274</td>\n",
       "      <td id=\"T_59c76_row1_col5\" class=\"data row1 col5\" >23850</td>\n",
       "      <td id=\"T_59c76_row1_col6\" class=\"data row1 col6\" >28739</td>\n",
       "      <td id=\"T_59c76_row1_col7\" class=\"data row1 col7\" >43203</td>\n",
       "      <td id=\"T_59c76_row1_col8\" class=\"data row1 col8\" >47454</td>\n",
       "      <td id=\"T_59c76_row1_col9\" class=\"data row1 col9\" >60256</td>\n",
       "      <td id=\"T_59c76_row1_col10\" class=\"data row1 col10\" >72829</td>\n",
       "      <td id=\"T_59c76_row1_col11\" class=\"data row1 col11\" >89964</td>\n",
       "      <td id=\"T_59c76_row1_col12\" class=\"data row1 col12\" >90752</td>\n",
       "      <td id=\"T_59c76_row1_col13\" class=\"data row1 col13\" >98737</td>\n",
       "      <td id=\"T_59c76_row1_col14\" class=\"data row1 col14\" >88852</td>\n",
       "      <td id=\"T_59c76_row1_col15\" class=\"data row1 col15\" >90424</td>\n",
       "      <td id=\"T_59c76_row1_col16\" class=\"data row1 col16\" >103030</td>\n",
       "      <td id=\"T_59c76_row1_col17\" class=\"data row1 col17\" >106383</td>\n",
       "      <td id=\"T_59c76_row1_col18\" class=\"data row1 col18\" >90929</td>\n",
       "      <td id=\"T_59c76_row1_col19\" class=\"data row1 col19\" >106844</td>\n",
       "      <td id=\"T_59c76_row1_col20\" class=\"data row1 col20\" >134544</td>\n",
       "      <td id=\"T_59c76_row1_col21\" class=\"data row1 col21\" >148083</td>\n",
       "      <td id=\"T_59c76_row1_col22\" class=\"data row1 col22\" >137653</td>\n",
       "      <td id=\"T_59c76_row1_col23\" class=\"data row1 col23\" >131769</td>\n",
       "      <td id=\"T_59c76_row1_col24\" class=\"data row1 col24\" >134850</td>\n",
       "      <td id=\"T_59c76_row1_col25\" class=\"data row1 col25\" >159253</td>\n",
       "      <td id=\"T_59c76_row1_col26\" class=\"data row1 col26\" >149054</td>\n",
       "      <td id=\"T_59c76_row1_col27\" class=\"data row1 col27\" >133459</td>\n",
       "      <td id=\"T_59c76_row1_col28\" class=\"data row1 col28\" >139894</td>\n",
       "      <td id=\"T_59c76_row1_col29\" class=\"data row1 col29\" >141434</td>\n",
       "      <td id=\"T_59c76_row1_col30\" class=\"data row1 col30\" >163845</td>\n",
       "      <td id=\"T_59c76_row1_col31\" class=\"data row1 col31\" >146894</td>\n",
       "      <td id=\"T_59c76_row1_col32\" class=\"data row1 col32\" >152218</td>\n",
       "      <td id=\"T_59c76_row1_col33\" class=\"data row1 col33\" >155075</td>\n",
       "    </tr>\n",
       "    <tr>\n",
       "      <th id=\"T_59c76_level0_row2\" class=\"row_heading level0 row2\" >Europe</th>\n",
       "      <td id=\"T_59c76_row2_col0\" class=\"data row2 col0\" >39760</td>\n",
       "      <td id=\"T_59c76_row2_col1\" class=\"data row2 col1\" >44802</td>\n",
       "      <td id=\"T_59c76_row2_col2\" class=\"data row2 col2\" >42720</td>\n",
       "      <td id=\"T_59c76_row2_col3\" class=\"data row2 col3\" >24638</td>\n",
       "      <td id=\"T_59c76_row2_col4\" class=\"data row2 col4\" >22287</td>\n",
       "      <td id=\"T_59c76_row2_col5\" class=\"data row2 col5\" >20844</td>\n",
       "      <td id=\"T_59c76_row2_col6\" class=\"data row2 col6\" >24370</td>\n",
       "      <td id=\"T_59c76_row2_col7\" class=\"data row2 col7\" >46698</td>\n",
       "      <td id=\"T_59c76_row2_col8\" class=\"data row2 col8\" >54726</td>\n",
       "      <td id=\"T_59c76_row2_col9\" class=\"data row2 col9\" >60893</td>\n",
       "      <td id=\"T_59c76_row2_col10\" class=\"data row2 col10\" >68301</td>\n",
       "      <td id=\"T_59c76_row2_col11\" class=\"data row2 col11\" >57938</td>\n",
       "      <td id=\"T_59c76_row2_col12\" class=\"data row2 col12\" >64123</td>\n",
       "      <td id=\"T_59c76_row2_col13\" class=\"data row2 col13\" >62937</td>\n",
       "      <td id=\"T_59c76_row2_col14\" class=\"data row2 col14\" >62531</td>\n",
       "      <td id=\"T_59c76_row2_col15\" class=\"data row2 col15\" >55764</td>\n",
       "      <td id=\"T_59c76_row2_col16\" class=\"data row2 col16\" >55642</td>\n",
       "      <td id=\"T_59c76_row2_col17\" class=\"data row2 col17\" >48841</td>\n",
       "      <td id=\"T_59c76_row2_col18\" class=\"data row2 col18\" >36719</td>\n",
       "      <td id=\"T_59c76_row2_col19\" class=\"data row2 col19\" >35639</td>\n",
       "      <td id=\"T_59c76_row2_col20\" class=\"data row2 col20\" >38215</td>\n",
       "      <td id=\"T_59c76_row2_col21\" class=\"data row2 col21\" >42779</td>\n",
       "      <td id=\"T_59c76_row2_col22\" class=\"data row2 col22\" >36798</td>\n",
       "      <td id=\"T_59c76_row2_col23\" class=\"data row2 col23\" >34556</td>\n",
       "      <td id=\"T_59c76_row2_col24\" class=\"data row2 col24\" >38082</td>\n",
       "      <td id=\"T_59c76_row2_col25\" class=\"data row2 col25\" >35955</td>\n",
       "      <td id=\"T_59c76_row2_col26\" class=\"data row2 col26\" >33053</td>\n",
       "      <td id=\"T_59c76_row2_col27\" class=\"data row2 col27\" >33495</td>\n",
       "      <td id=\"T_59c76_row2_col28\" class=\"data row2 col28\" >34692</td>\n",
       "      <td id=\"T_59c76_row2_col29\" class=\"data row2 col29\" >35078</td>\n",
       "      <td id=\"T_59c76_row2_col30\" class=\"data row2 col30\" >33425</td>\n",
       "      <td id=\"T_59c76_row2_col31\" class=\"data row2 col31\" >26778</td>\n",
       "      <td id=\"T_59c76_row2_col32\" class=\"data row2 col32\" >29177</td>\n",
       "      <td id=\"T_59c76_row2_col33\" class=\"data row2 col33\" >28691</td>\n",
       "    </tr>\n",
       "    <tr>\n",
       "      <th id=\"T_59c76_level0_row3\" class=\"row_heading level0 row3\" >Latin America and the Caribbean</th>\n",
       "      <td id=\"T_59c76_row3_col0\" class=\"data row3 col0\" >13081</td>\n",
       "      <td id=\"T_59c76_row3_col1\" class=\"data row3 col1\" >15215</td>\n",
       "      <td id=\"T_59c76_row3_col2\" class=\"data row3 col2\" >16769</td>\n",
       "      <td id=\"T_59c76_row3_col3\" class=\"data row3 col3\" >15427</td>\n",
       "      <td id=\"T_59c76_row3_col4\" class=\"data row3 col4\" >13678</td>\n",
       "      <td id=\"T_59c76_row3_col5\" class=\"data row3 col5\" >15171</td>\n",
       "      <td id=\"T_59c76_row3_col6\" class=\"data row3 col6\" >21179</td>\n",
       "      <td id=\"T_59c76_row3_col7\" class=\"data row3 col7\" >28471</td>\n",
       "      <td id=\"T_59c76_row3_col8\" class=\"data row3 col8\" >21924</td>\n",
       "      <td id=\"T_59c76_row3_col9\" class=\"data row3 col9\" >25060</td>\n",
       "      <td id=\"T_59c76_row3_col10\" class=\"data row3 col10\" >27942</td>\n",
       "      <td id=\"T_59c76_row3_col11\" class=\"data row3 col11\" >36827</td>\n",
       "      <td id=\"T_59c76_row3_col12\" class=\"data row3 col12\" >37853</td>\n",
       "      <td id=\"T_59c76_row3_col13\" class=\"data row3 col13\" >33840</td>\n",
       "      <td id=\"T_59c76_row3_col14\" class=\"data row3 col14\" >21341</td>\n",
       "      <td id=\"T_59c76_row3_col15\" class=\"data row3 col15\" >20262</td>\n",
       "      <td id=\"T_59c76_row3_col16\" class=\"data row3 col16\" >18645</td>\n",
       "      <td id=\"T_59c76_row3_col17\" class=\"data row3 col17\" >17174</td>\n",
       "      <td id=\"T_59c76_row3_col18\" class=\"data row3 col18\" >13830</td>\n",
       "      <td id=\"T_59c76_row3_col19\" class=\"data row3 col19\" >15088</td>\n",
       "      <td id=\"T_59c76_row3_col20\" class=\"data row3 col20\" >16898</td>\n",
       "      <td id=\"T_59c76_row3_col21\" class=\"data row3 col21\" >20067</td>\n",
       "      <td id=\"T_59c76_row3_col22\" class=\"data row3 col22\" >19317</td>\n",
       "      <td id=\"T_59c76_row3_col23\" class=\"data row3 col23\" >20263</td>\n",
       "      <td id=\"T_59c76_row3_col24\" class=\"data row3 col24\" >22181</td>\n",
       "      <td id=\"T_59c76_row3_col25\" class=\"data row3 col25\" >24747</td>\n",
       "      <td id=\"T_59c76_row3_col26\" class=\"data row3 col26\" >24676</td>\n",
       "      <td id=\"T_59c76_row3_col27\" class=\"data row3 col27\" >26011</td>\n",
       "      <td id=\"T_59c76_row3_col28\" class=\"data row3 col28\" >26547</td>\n",
       "      <td id=\"T_59c76_row3_col29\" class=\"data row3 col29\" >26867</td>\n",
       "      <td id=\"T_59c76_row3_col30\" class=\"data row3 col30\" >28818</td>\n",
       "      <td id=\"T_59c76_row3_col31\" class=\"data row3 col31\" >27856</td>\n",
       "      <td id=\"T_59c76_row3_col32\" class=\"data row3 col32\" >27173</td>\n",
       "      <td id=\"T_59c76_row3_col33\" class=\"data row3 col33\" >24950</td>\n",
       "    </tr>\n",
       "    <tr>\n",
       "      <th id=\"T_59c76_level0_row4\" class=\"row_heading level0 row4\" >Northern America</th>\n",
       "      <td id=\"T_59c76_row4_col0\" class=\"data row4 col0\" >9378</td>\n",
       "      <td id=\"T_59c76_row4_col1\" class=\"data row4 col1\" >10030</td>\n",
       "      <td id=\"T_59c76_row4_col2\" class=\"data row4 col2\" >9074</td>\n",
       "      <td id=\"T_59c76_row4_col3\" class=\"data row4 col3\" >7100</td>\n",
       "      <td id=\"T_59c76_row4_col4\" class=\"data row4 col4\" >6661</td>\n",
       "      <td id=\"T_59c76_row4_col5\" class=\"data row4 col5\" >6543</td>\n",
       "      <td id=\"T_59c76_row4_col6\" class=\"data row4 col6\" >7074</td>\n",
       "      <td id=\"T_59c76_row4_col7\" class=\"data row4 col7\" >7705</td>\n",
       "      <td id=\"T_59c76_row4_col8\" class=\"data row4 col8\" >6469</td>\n",
       "      <td id=\"T_59c76_row4_col9\" class=\"data row4 col9\" >6790</td>\n",
       "      <td id=\"T_59c76_row4_col10\" class=\"data row4 col10\" >5895</td>\n",
       "      <td id=\"T_59c76_row4_col11\" class=\"data row4 col11\" >6057</td>\n",
       "      <td id=\"T_59c76_row4_col12\" class=\"data row4 col12\" >6846</td>\n",
       "      <td id=\"T_59c76_row4_col13\" class=\"data row4 col13\" >7438</td>\n",
       "      <td id=\"T_59c76_row4_col14\" class=\"data row4 col14\" >5902</td>\n",
       "      <td id=\"T_59c76_row4_col15\" class=\"data row4 col15\" >4891</td>\n",
       "      <td id=\"T_59c76_row4_col16\" class=\"data row4 col16\" >5516</td>\n",
       "      <td id=\"T_59c76_row4_col17\" class=\"data row4 col17\" >4753</td>\n",
       "      <td id=\"T_59c76_row4_col18\" class=\"data row4 col18\" >4437</td>\n",
       "      <td id=\"T_59c76_row4_col19\" class=\"data row4 col19\" >5196</td>\n",
       "      <td id=\"T_59c76_row4_col20\" class=\"data row4 col20\" >5433</td>\n",
       "      <td id=\"T_59c76_row4_col21\" class=\"data row4 col21\" >5604</td>\n",
       "      <td id=\"T_59c76_row4_col22\" class=\"data row4 col22\" >4948</td>\n",
       "      <td id=\"T_59c76_row4_col23\" class=\"data row4 col23\" >5543</td>\n",
       "      <td id=\"T_59c76_row4_col24\" class=\"data row4 col24\" >6990</td>\n",
       "      <td id=\"T_59c76_row4_col25\" class=\"data row4 col25\" >8394</td>\n",
       "      <td id=\"T_59c76_row4_col26\" class=\"data row4 col26\" >9613</td>\n",
       "      <td id=\"T_59c76_row4_col27\" class=\"data row4 col27\" >9463</td>\n",
       "      <td id=\"T_59c76_row4_col28\" class=\"data row4 col28\" >10190</td>\n",
       "      <td id=\"T_59c76_row4_col29\" class=\"data row4 col29\" >8995</td>\n",
       "      <td id=\"T_59c76_row4_col30\" class=\"data row4 col30\" >8142</td>\n",
       "      <td id=\"T_59c76_row4_col31\" class=\"data row4 col31\" >7677</td>\n",
       "      <td id=\"T_59c76_row4_col32\" class=\"data row4 col32\" >7892</td>\n",
       "      <td id=\"T_59c76_row4_col33\" class=\"data row4 col33\" >8503</td>\n",
       "    </tr>\n",
       "    <tr>\n",
       "      <th id=\"T_59c76_level0_row5\" class=\"row_heading level0 row5\" >Oceania</th>\n",
       "      <td id=\"T_59c76_row5_col0\" class=\"data row5 col0\" >1942</td>\n",
       "      <td id=\"T_59c76_row5_col1\" class=\"data row5 col1\" >1839</td>\n",
       "      <td id=\"T_59c76_row5_col2\" class=\"data row5 col2\" >1675</td>\n",
       "      <td id=\"T_59c76_row5_col3\" class=\"data row5 col3\" >1018</td>\n",
       "      <td id=\"T_59c76_row5_col4\" class=\"data row5 col4\" >878</td>\n",
       "      <td id=\"T_59c76_row5_col5\" class=\"data row5 col5\" >920</td>\n",
       "      <td id=\"T_59c76_row5_col6\" class=\"data row5 col6\" >904</td>\n",
       "      <td id=\"T_59c76_row5_col7\" class=\"data row5 col7\" >1200</td>\n",
       "      <td id=\"T_59c76_row5_col8\" class=\"data row5 col8\" >1181</td>\n",
       "      <td id=\"T_59c76_row5_col9\" class=\"data row5 col9\" >1539</td>\n",
       "      <td id=\"T_59c76_row5_col10\" class=\"data row5 col10\" >2075</td>\n",
       "      <td id=\"T_59c76_row5_col11\" class=\"data row5 col11\" >2495</td>\n",
       "      <td id=\"T_59c76_row5_col12\" class=\"data row5 col12\" >2871</td>\n",
       "      <td id=\"T_59c76_row5_col13\" class=\"data row5 col13\" >2566</td>\n",
       "      <td id=\"T_59c76_row5_col14\" class=\"data row5 col14\" >1967</td>\n",
       "      <td id=\"T_59c76_row5_col15\" class=\"data row5 col15\" >1565</td>\n",
       "      <td id=\"T_59c76_row5_col16\" class=\"data row5 col16\" >1552</td>\n",
       "      <td id=\"T_59c76_row5_col17\" class=\"data row5 col17\" >1263</td>\n",
       "      <td id=\"T_59c76_row5_col18\" class=\"data row5 col18\" >1021</td>\n",
       "      <td id=\"T_59c76_row5_col19\" class=\"data row5 col19\" >1055</td>\n",
       "      <td id=\"T_59c76_row5_col20\" class=\"data row5 col20\" >1276</td>\n",
       "      <td id=\"T_59c76_row5_col21\" class=\"data row5 col21\" >1818</td>\n",
       "      <td id=\"T_59c76_row5_col22\" class=\"data row5 col22\" >1685</td>\n",
       "      <td id=\"T_59c76_row5_col23\" class=\"data row5 col23\" >1800</td>\n",
       "      <td id=\"T_59c76_row5_col24\" class=\"data row5 col24\" >1788</td>\n",
       "      <td id=\"T_59c76_row5_col25\" class=\"data row5 col25\" >1585</td>\n",
       "      <td id=\"T_59c76_row5_col26\" class=\"data row5 col26\" >1473</td>\n",
       "      <td id=\"T_59c76_row5_col27\" class=\"data row5 col27\" >1693</td>\n",
       "      <td id=\"T_59c76_row5_col28\" class=\"data row5 col28\" >1834</td>\n",
       "      <td id=\"T_59c76_row5_col29\" class=\"data row5 col29\" >1860</td>\n",
       "      <td id=\"T_59c76_row5_col30\" class=\"data row5 col30\" >1834</td>\n",
       "      <td id=\"T_59c76_row5_col31\" class=\"data row5 col31\" >1548</td>\n",
       "      <td id=\"T_59c76_row5_col32\" class=\"data row5 col32\" >1679</td>\n",
       "      <td id=\"T_59c76_row5_col33\" class=\"data row5 col33\" >1775</td>\n",
       "    </tr>\n",
       "  </tbody>\n",
       "</table>\n"
      ],
      "text/plain": [
       "<pandas.io.formats.style.Styler at 0x229d2da76d0>"
      ]
     },
     "execution_count": 23,
     "metadata": {},
     "output_type": "execute_result"
    }
   ],
   "source": [
    "continent_df.style.text_gradient(cmap='rainbow')"
   ]
  },
  {
   "cell_type": "markdown",
   "metadata": {},
   "source": [
    "# Visualization on map\n",
    "- matplotlib\n",
    "- plotly"
   ]
  },
  {
   "cell_type": "code",
   "execution_count": 24,
   "metadata": {},
   "outputs": [],
   "source": [
    "import matplotlib.pyplot as plt\n",
    "import seaborn as sns\n",
    "import plotly.express as px"
   ]
  },
  {
   "cell_type": "markdown",
   "metadata": {},
   "source": [
    "## Basic Graphs - Matplotlib\n",
    "1. Line Plot\n",
    "2. Bar Plot\n",
    "3. Pie Chart\n",
    "4. Box\n",
    "5. Scatter\n",
    "6. Histogram\n",
    "7. Area\n",
    "## Advanced Graphs - Seaborn\n",
    "1. Cat Plot\n",
    "2. Join Plot\n",
    "3. Pair Chart\n",
    "4. Heat Box\n",
    "5. Voilin Plot\n",
    "6. Coubt Plot\n",
    "## Inteactive graphs - Plotly\n",
    "1. graphs similar to matplotlib\n",
    "\n"
   ]
  },
  {
   "cell_type": "code",
   "execution_count": 25,
   "metadata": {},
   "outputs": [
    {
     "ename": "SyntaxError",
     "evalue": "positional argument follows keyword argument (2415901311.py, line 1)",
     "output_type": "error",
     "traceback": [
      "\u001b[1;36m  Input \u001b[1;32mIn [25]\u001b[1;36m\u001b[0m\n\u001b[1;33m    df.loc['China',years].plot(kind='Line',figsize(20,6),linewidth = 5, linestyle =':'color = 'orange')\u001b[0m\n\u001b[1;37m                                                                                      ^\u001b[0m\n\u001b[1;31mSyntaxError\u001b[0m\u001b[1;31m:\u001b[0m positional argument follows keyword argument\n"
     ]
    }
   ],
   "source": [
    "df.loc['China',years].plot(kind='Line',figsize(20,6),linewidth = 5, linestyle =':'color = 'orange')"
   ]
  },
  {
   "cell_type": "code",
   "execution_count": null,
   "metadata": {},
   "outputs": [
    {
     "data": {
      "text/plain": [
       "<AxesSubplot: >"
      ]
     },
     "execution_count": 33,
     "metadata": {},
     "output_type": "execute_result"
    },
    {
     "data": {
      "image/png": "[encoded data removed]",
      "text/plain": [
       "<Figure size 1440x432 with 1 Axes>"
      ]
     },
     "metadata": {
      "needs_background": "light"
     },
     "output_type": "display_data"
    }
   ],
   "source": [
    "country_list = ['China','Japan','Malaysia','Philippines','Thailand']\n",
    "df.loc[country_list,years].T.plot(figsize=(20,6))"
   ]
  },
  {
   "cell_type": "code",
   "execution_count": null,
   "metadata": {},
   "outputs": [
    {
     "data": {
      "text/plain": [
       "<AxesSubplot: >"
      ]
     },
     "execution_count": 37,
     "metadata": {},
     "output_type": "execute_result"
    },
    {
     "data": {
      "image/png": "[encoded data removed]",
      "text/plain": [
       "<Figure size 1440x432 with 1 Axes>"
      ]
     },
     "metadata": {
      "needs_background": "light"
     },
     "output_type": "display_data"
    }
   ],
   "source": [
    "df.loc[country_list,years].T.plot(kind='area',figsize=(20,6),stacked = False, alpha =0.3)"
   ]
  },
  {
   "cell_type": "markdown",
   "metadata": {},
   "source": [
    "# If we plot 6 fields they will overlap\n",
    "- using subplots & layout "
   ]
  },
  {
   "cell_type": "code",
   "execution_count": null,
   "metadata": {},
   "outputs": [
    {
     "data": {
      "image/png": "[encoded data removed]",
      "text/plain": [
       "<Figure size 1440x432 with 12 Axes>"
      ]
     },
     "metadata": {
      "needs_background": "light"
     },
     "output_type": "display_data"
    }
   ],
   "source": [
    "from matplotlib.pyplot import subplot, subplots\n",
    "\n",
    "\n",
    "_= df.loc[country_list,years].T.plot(kind='area',figsize=(20,6),stacked = False, alpha =0.3,subplots = True, layout=(2,6),sharex = False)\n",
    "\n",
    "# _ is used for removing the <axis=><axis=> this statements that appear in output\n"
   ]
  },
  {
   "cell_type": "code",
   "execution_count": null,
   "metadata": {},
   "outputs": [
    {
     "data": {
      "text/plain": [
       "<AxesSubplot: ylabel='Frequency'>"
      ]
     },
     "execution_count": 46,
     "metadata": {},
     "output_type": "execute_result"
    },
    {
     "data": {
      "image/png": "[encoded data removed]",
      "text/plain": [
       "<Figure size 1440x432 with 2 Axes>"
      ]
     },
     "metadata": {
      "needs_background": "light"
     },
     "output_type": "display_data"
    }
   ],
   "source": [
    "fig, ax = plt.subplots(figsize = (20,6),nrows = 1,ncols = 2)\n",
    "df.loc['India',years].plot(ax=ax[0])                # 1st graph \n",
    "df.loc['India',years].plot(ax=ax[1],kind='hist')    # 2nd Graph"
   ]
  },
  {
   "cell_type": "markdown",
   "metadata": {},
   "source": [
    "## Set Title of grpahs"
   ]
  },
  {
   "cell_type": "code",
   "execution_count": null,
   "metadata": {},
   "outputs": [
    {
     "data": {
      "text/plain": [
       "Text(0.5, 1.0, \"Inida's frequency of to Canada\")"
      ]
     },
     "execution_count": 47,
     "metadata": {},
     "output_type": "execute_result"
    },
    {
     "data": {
      "image/png": "[encoded data removed]",
      "text/plain": [
       "<Figure size 1440x432 with 2 Axes>"
      ]
     },
     "metadata": {
      "needs_background": "light"
     },
     "output_type": "display_data"
    }
   ],
   "source": [
    "\n",
    "\n",
    "fig, ax = plt.subplots(figsize = (20,6),nrows = 1,ncols = 2)\n",
    "df.loc['India',years].plot(ax=ax[0])                # 1st graph \n",
    "df.loc['India',years].plot(ax=ax[1],kind='hist')    # 2nd Graph\n",
    "ax[0].set_title(\"Inida's immegration to Canada\",fontsize = 20)\n",
    "ax[1].set_title(\"Inida's frequency of to Canada\",fontsize = 20)\n"
   ]
  },
  {
   "cell_type": "code",
   "execution_count": null,
   "metadata": {},
   "outputs": [
    {
     "ename": "IndexError",
     "evalue": "too many indices for array: array is 1-dimensional, but 2 were indexed",
     "output_type": "error",
     "traceback": [
      "\u001b[1;31m---------------------------------------------------------------------------\u001b[0m",
      "\u001b[1;31mIndexError\u001b[0m                                Traceback (most recent call last)",
      "\u001b[1;32mc:\\Users\\mcups\\Desktop\\Code & Git\\Python with DS - Digipodium\\Data Science\\data_analytics4.ipynb Cell 44\u001b[0m in \u001b[0;36m<cell line: 2>\u001b[1;34m()\u001b[0m\n\u001b[0;32m      <a href='vscode-notebook-cell:/c%3A/Users/mcups/Desktop/Code%20%26%20Git/Python%20with%20DS%20-%20Digipodium/Data%20Science/data_analytics4.ipynb#X60sZmlsZQ%3D%3D?line=0'>1</a>\u001b[0m fig, ax \u001b[39m=\u001b[39m plt\u001b[39m.\u001b[39msubplots(figsize \u001b[39m=\u001b[39m (\u001b[39m15\u001b[39m,\u001b[39m6\u001b[39m),nrows \u001b[39m=\u001b[39m \u001b[39m1\u001b[39m,ncols \u001b[39m=\u001b[39m \u001b[39m2\u001b[39m)\n\u001b[1;32m----> <a href='vscode-notebook-cell:/c%3A/Users/mcups/Desktop/Code%20%26%20Git/Python%20with%20DS%20-%20Digipodium/Data%20Science/data_analytics4.ipynb#X60sZmlsZQ%3D%3D?line=1'>2</a>\u001b[0m df\u001b[39m.\u001b[39mloc[\u001b[39m'\u001b[39m\u001b[39mIndia\u001b[39m\u001b[39m'\u001b[39m,years]\u001b[39m.\u001b[39mplot(ax\u001b[39m=\u001b[39max[\u001b[39m0\u001b[39;49m,\u001b[39m0\u001b[39;49m])                \u001b[39m# 1st graph \u001b[39;00m\n\u001b[0;32m      <a href='vscode-notebook-cell:/c%3A/Users/mcups/Desktop/Code%20%26%20Git/Python%20with%20DS%20-%20Digipodium/Data%20Science/data_analytics4.ipynb#X60sZmlsZQ%3D%3D?line=2'>3</a>\u001b[0m df\u001b[39m.\u001b[39mloc[\u001b[39m'\u001b[39m\u001b[39mIndia\u001b[39m\u001b[39m'\u001b[39m,years]\u001b[39m.\u001b[39mplot(ax\u001b[39m=\u001b[39max[\u001b[39m0\u001b[39m,\u001b[39m1\u001b[39m],kind\u001b[39m=\u001b[39m\u001b[39m'\u001b[39m\u001b[39mhist\u001b[39m\u001b[39m'\u001b[39m)    \u001b[39m# 2nd Graph\u001b[39;00m\n\u001b[0;32m      <a href='vscode-notebook-cell:/c%3A/Users/mcups/Desktop/Code%20%26%20Git/Python%20with%20DS%20-%20Digipodium/Data%20Science/data_analytics4.ipynb#X60sZmlsZQ%3D%3D?line=3'>4</a>\u001b[0m df\u001b[39m.\u001b[39mloc[\u001b[39m'\u001b[39m\u001b[39mChina\u001b[39m\u001b[39m'\u001b[39m,years]\u001b[39m.\u001b[39mplot(ax\u001b[39m=\u001b[39max[\u001b[39m1\u001b[39m,\u001b[39m0\u001b[39m])                \u001b[39m# 1st graph \u001b[39;00m\n",
      "\u001b[1;31mIndexError\u001b[0m: too many indices for array: array is 1-dimensional, but 2 were indexed"
     ]
    },
    {
     "data": {
      "image/png": "[encoded data removed]",
      "text/plain": [
       "<Figure size 1080x432 with 2 Axes>"
      ]
     },
     "metadata": {
      "needs_background": "light"
     },
     "output_type": "display_data"
    }
   ],
   "source": [
    "fig, ax = plt.subplots(figsize = (15,6),nrows = 1,ncols = 2)\n",
    "df.loc['India',years].plot(ax=ax[0,0])                # 1st graph \n",
    "df.loc['India',years].plot(ax=ax[0,1],kind='hist')    # 2nd Graph\n",
    "df.loc['China',years].plot(ax=ax[1,0])                # 1st graph \n",
    "df.loc['China',years].plot(ax=ax[1,1],kind='hist')    # 2nd Graph\n",
    "\n",
    "ax[0,0].set_title(\"Inida's immegration to Canada\",fontsize = 20)\n",
    "ax[0,1].set_title(\"Inida's frequency of to Canada\",fontsize = 20)\n",
    "ax[1,0].set_title(\"China's frequency of to Canada\",fontsize = 20)\n",
    "ax[1,1].set_title(\"China's frequency of to Canada\",fontsize = 20)\n",
    "\n",
    "plt.show()\n"
   ]
  },
  {
   "cell_type": "code",
   "execution_count": null,
   "metadata": {},
   "outputs": [
    {
     "data": {
      "text/plain": [
       "<AxesSubplot: >"
      ]
     },
     "execution_count": 51,
     "metadata": {},
     "output_type": "execute_result"
    },
    {
     "data": {
      "image/png": "[encoded data removed]",
      "text/plain": [
       "<Figure size 1440x432 with 1 Axes>"
      ]
     },
     "metadata": {
      "needs_background": "light"
     },
     "output_type": "display_data"
    }
   ],
   "source": [
    "df.loc[country_list,years].T.plot(kind='bar',figsize=(20,6),stacked= False)"
   ]
  },
  {
   "cell_type": "code",
   "execution_count": null,
   "metadata": {},
   "outputs": [
    {
     "data": {
      "text/html": [
       "<div>\n",
       "<style scoped>\n",
       "    .dataframe tbody tr th:only-of-type {\n",
       "        vertical-align: middle;\n",
       "    }\n",
       "\n",
       "    .dataframe tbody tr th {\n",
       "        vertical-align: top;\n",
       "    }\n",
       "\n",
       "    .dataframe thead th {\n",
       "        text-align: right;\n",
       "    }\n",
       "</style>\n",
       "<table border=\"1\" class=\"dataframe\">\n",
       "  <thead>\n",
       "    <tr style=\"text-align: right;\">\n",
       "      <th></th>\n",
       "      <th>1980</th>\n",
       "      <th>1981</th>\n",
       "      <th>1982</th>\n",
       "      <th>1983</th>\n",
       "      <th>1984</th>\n",
       "      <th>1985</th>\n",
       "      <th>1986</th>\n",
       "      <th>1987</th>\n",
       "      <th>1988</th>\n",
       "      <th>1989</th>\n",
       "      <th>...</th>\n",
       "      <th>2004</th>\n",
       "      <th>2005</th>\n",
       "      <th>2006</th>\n",
       "      <th>2007</th>\n",
       "      <th>2008</th>\n",
       "      <th>2009</th>\n",
       "      <th>2010</th>\n",
       "      <th>2011</th>\n",
       "      <th>2012</th>\n",
       "      <th>2013</th>\n",
       "    </tr>\n",
       "    <tr>\n",
       "      <th>continent</th>\n",
       "      <th></th>\n",
       "      <th></th>\n",
       "      <th></th>\n",
       "      <th></th>\n",
       "      <th></th>\n",
       "      <th></th>\n",
       "      <th></th>\n",
       "      <th></th>\n",
       "      <th></th>\n",
       "      <th></th>\n",
       "      <th></th>\n",
       "      <th></th>\n",
       "      <th></th>\n",
       "      <th></th>\n",
       "      <th></th>\n",
       "      <th></th>\n",
       "      <th></th>\n",
       "      <th></th>\n",
       "      <th></th>\n",
       "      <th></th>\n",
       "      <th></th>\n",
       "    </tr>\n",
       "  </thead>\n",
       "  <tbody>\n",
       "    <tr>\n",
       "      <th>Africa</th>\n",
       "      <td>3951</td>\n",
       "      <td>4363</td>\n",
       "      <td>3819</td>\n",
       "      <td>2671</td>\n",
       "      <td>2639</td>\n",
       "      <td>2650</td>\n",
       "      <td>3782</td>\n",
       "      <td>7494</td>\n",
       "      <td>7552</td>\n",
       "      <td>9894</td>\n",
       "      <td>...</td>\n",
       "      <td>28192</td>\n",
       "      <td>27523</td>\n",
       "      <td>29188</td>\n",
       "      <td>28284</td>\n",
       "      <td>29890</td>\n",
       "      <td>34534</td>\n",
       "      <td>40892</td>\n",
       "      <td>35441</td>\n",
       "      <td>38083</td>\n",
       "      <td>38543</td>\n",
       "    </tr>\n",
       "    <tr>\n",
       "      <th>Asia</th>\n",
       "      <td>31025</td>\n",
       "      <td>34314</td>\n",
       "      <td>30214</td>\n",
       "      <td>24696</td>\n",
       "      <td>27274</td>\n",
       "      <td>23850</td>\n",
       "      <td>28739</td>\n",
       "      <td>43203</td>\n",
       "      <td>47454</td>\n",
       "      <td>60256</td>\n",
       "      <td>...</td>\n",
       "      <td>134850</td>\n",
       "      <td>159253</td>\n",
       "      <td>149054</td>\n",
       "      <td>133459</td>\n",
       "      <td>139894</td>\n",
       "      <td>141434</td>\n",
       "      <td>163845</td>\n",
       "      <td>146894</td>\n",
       "      <td>152218</td>\n",
       "      <td>155075</td>\n",
       "    </tr>\n",
       "    <tr>\n",
       "      <th>Europe</th>\n",
       "      <td>39760</td>\n",
       "      <td>44802</td>\n",
       "      <td>42720</td>\n",
       "      <td>24638</td>\n",
       "      <td>22287</td>\n",
       "      <td>20844</td>\n",
       "      <td>24370</td>\n",
       "      <td>46698</td>\n",
       "      <td>54726</td>\n",
       "      <td>60893</td>\n",
       "      <td>...</td>\n",
       "      <td>38082</td>\n",
       "      <td>35955</td>\n",
       "      <td>33053</td>\n",
       "      <td>33495</td>\n",
       "      <td>34692</td>\n",
       "      <td>35078</td>\n",
       "      <td>33425</td>\n",
       "      <td>26778</td>\n",
       "      <td>29177</td>\n",
       "      <td>28691</td>\n",
       "    </tr>\n",
       "    <tr>\n",
       "      <th>Latin America and the Caribbean</th>\n",
       "      <td>13081</td>\n",
       "      <td>15215</td>\n",
       "      <td>16769</td>\n",
       "      <td>15427</td>\n",
       "      <td>13678</td>\n",
       "      <td>15171</td>\n",
       "      <td>21179</td>\n",
       "      <td>28471</td>\n",
       "      <td>21924</td>\n",
       "      <td>25060</td>\n",
       "      <td>...</td>\n",
       "      <td>22181</td>\n",
       "      <td>24747</td>\n",
       "      <td>24676</td>\n",
       "      <td>26011</td>\n",
       "      <td>26547</td>\n",
       "      <td>26867</td>\n",
       "      <td>28818</td>\n",
       "      <td>27856</td>\n",
       "      <td>27173</td>\n",
       "      <td>24950</td>\n",
       "    </tr>\n",
       "    <tr>\n",
       "      <th>Northern America</th>\n",
       "      <td>9378</td>\n",
       "      <td>10030</td>\n",
       "      <td>9074</td>\n",
       "      <td>7100</td>\n",
       "      <td>6661</td>\n",
       "      <td>6543</td>\n",
       "      <td>7074</td>\n",
       "      <td>7705</td>\n",
       "      <td>6469</td>\n",
       "      <td>6790</td>\n",
       "      <td>...</td>\n",
       "      <td>6990</td>\n",
       "      <td>8394</td>\n",
       "      <td>9613</td>\n",
       "      <td>9463</td>\n",
       "      <td>10190</td>\n",
       "      <td>8995</td>\n",
       "      <td>8142</td>\n",
       "      <td>7677</td>\n",
       "      <td>7892</td>\n",
       "      <td>8503</td>\n",
       "    </tr>\n",
       "    <tr>\n",
       "      <th>Oceania</th>\n",
       "      <td>1942</td>\n",
       "      <td>1839</td>\n",
       "      <td>1675</td>\n",
       "      <td>1018</td>\n",
       "      <td>878</td>\n",
       "      <td>920</td>\n",
       "      <td>904</td>\n",
       "      <td>1200</td>\n",
       "      <td>1181</td>\n",
       "      <td>1539</td>\n",
       "      <td>...</td>\n",
       "      <td>1788</td>\n",
       "      <td>1585</td>\n",
       "      <td>1473</td>\n",
       "      <td>1693</td>\n",
       "      <td>1834</td>\n",
       "      <td>1860</td>\n",
       "      <td>1834</td>\n",
       "      <td>1548</td>\n",
       "      <td>1679</td>\n",
       "      <td>1775</td>\n",
       "    </tr>\n",
       "  </tbody>\n",
       "</table>\n",
       "<p>6 rows × 34 columns</p>\n",
       "</div>"
      ],
      "text/plain": [
       "                                  1980   1981   1982   1983   1984   1985  \\\n",
       "continent                                                                   \n",
       "Africa                            3951   4363   3819   2671   2639   2650   \n",
       "Asia                             31025  34314  30214  24696  27274  23850   \n",
       "Europe                           39760  44802  42720  24638  22287  20844   \n",
       "Latin America and the Caribbean  13081  15215  16769  15427  13678  15171   \n",
       "Northern America                  9378  10030   9074   7100   6661   6543   \n",
       "Oceania                           1942   1839   1675   1018    878    920   \n",
       "\n",
       "                                  1986   1987   1988   1989  ...    2004  \\\n",
       "continent                                                    ...           \n",
       "Africa                            3782   7494   7552   9894  ...   28192   \n",
       "Asia                             28739  43203  47454  60256  ...  134850   \n",
       "Europe                           24370  46698  54726  60893  ...   38082   \n",
       "Latin America and the Caribbean  21179  28471  21924  25060  ...   22181   \n",
       "Northern America                  7074   7705   6469   6790  ...    6990   \n",
       "Oceania                            904   1200   1181   1539  ...    1788   \n",
       "\n",
       "                                   2005    2006    2007    2008    2009  \\\n",
       "continent                                                                 \n",
       "Africa                            27523   29188   28284   29890   34534   \n",
       "Asia                             159253  149054  133459  139894  141434   \n",
       "Europe                            35955   33053   33495   34692   35078   \n",
       "Latin America and the Caribbean   24747   24676   26011   26547   26867   \n",
       "Northern America                   8394    9613    9463   10190    8995   \n",
       "Oceania                            1585    1473    1693    1834    1860   \n",
       "\n",
       "                                   2010    2011    2012    2013  \n",
       "continent                                                        \n",
       "Africa                            40892   35441   38083   38543  \n",
       "Asia                             163845  146894  152218  155075  \n",
       "Europe                            33425   26778   29177   28691  \n",
       "Latin America and the Caribbean   28818   27856   27173   24950  \n",
       "Northern America                   8142    7677    7892    8503  \n",
       "Oceania                            1834    1548    1679    1775  \n",
       "\n",
       "[6 rows x 34 columns]"
      ]
     },
     "execution_count": 52,
     "metadata": {},
     "output_type": "execute_result"
    }
   ],
   "source": [
    "continent_df"
   ]
  },
  {
   "cell_type": "code",
   "execution_count": null,
   "metadata": {},
   "outputs": [
    {
     "data": {
      "text/plain": [
       "<AxesSubplot: >"
      ]
     },
     "execution_count": 55,
     "metadata": {},
     "output_type": "execute_result"
    },
    {
     "data": {
      "image/png": "[encoded data removed]",
      "text/plain": [
       "<Figure size 432x288 with 1 Axes>"
      ]
     },
     "metadata": {
      "needs_background": "light"
     },
     "output_type": "display_data"
    }
   ],
   "source": [
    "df.loc[country_list,years].T.plot(kind = 'bar')"
   ]
  },
  {
   "cell_type": "code",
   "execution_count": null,
   "metadata": {},
   "outputs": [
    {
     "data": {
      "text/plain": [
       "Text(0, 0.5, '')"
      ]
     },
     "execution_count": 89,
     "metadata": {},
     "output_type": "execute_result"
    },
    {
     "data": {
      "image/png": "[encoded data removed]",
      "text/plain": [
       "<Figure size 1440x432 with 1 Axes>"
      ]
     },
     "metadata": {},
     "output_type": "display_data"
    }
   ],
   "source": [
    "plt.figure(facecolor ='white')\n",
    "continent_df['total'] = continent_df.sum(axis=1)\n",
    "continent_df['total'].plot(kind ='pie',figsize=(20,6),autopct='%1.1f%%',radius =1.5,fontsize=12,wedgeprops={'width':0.75})\n",
    "plt.ylabel('')\n"
   ]
  },
  {
   "cell_type": "markdown",
   "metadata": {},
   "source": [
    "## Save graph"
   ]
  },
  {
   "cell_type": "code",
   "execution_count": null,
   "metadata": {},
   "outputs": [
    {
     "data": {
      "text/plain": [
       "<Figure size 432x288 with 0 Axes>"
      ]
     },
     "metadata": {},
     "output_type": "display_data"
    }
   ],
   "source": [
    "plt.savefig('continent_wise.png',dpi=300,bbox_inches='tight')"
   ]
  },
  {
   "cell_type": "code",
   "execution_count": null,
   "metadata": {},
   "outputs": [
    {
     "ename": "AttributeError",
     "evalue": "module 'matplotlib.pyplot' has no attribute 'loc'",
     "output_type": "error",
     "traceback": [
      "\u001b[1;31m---------------------------------------------------------------------------\u001b[0m",
      "\u001b[1;31mAttributeError\u001b[0m                            Traceback (most recent call last)",
      "\u001b[1;32mc:\\Users\\mcups\\Desktop\\Code & Git\\Python with DS - Digipodium\\Data Science\\data_analytics4.ipynb Cell 51\u001b[0m in \u001b[0;36m<cell line: 1>\u001b[1;34m()\u001b[0m\n\u001b[1;32m----> <a href='vscode-notebook-cell:/c%3A/Users/mcups/Desktop/Code%20%26%20Git/Python%20with%20DS%20-%20Digipodium/Data%20Science/data_analytics4.ipynb#Y102sZmlsZQ%3D%3D?line=0'>1</a>\u001b[0m plt\u001b[39m.\u001b[39;49mloc[country_list,years]\u001b[39m.\u001b[39mT\u001b[39m.\u001b[39mplot(kind\u001b[39m=\u001b[39m\u001b[39m'\u001b[39m\u001b[39mbox\u001b[39m\u001b[39m'\u001b[39m,figsize\u001b[39m=\u001b[39m(\u001b[39m20\u001b[39m,\u001b[39m10\u001b[39m))\n",
      "\u001b[1;31mAttributeError\u001b[0m: module 'matplotlib.pyplot' has no attribute 'loc'"
     ]
    }
   ],
   "source": [
    "plt.loc[country_list,years].T.plot(kind='box',figsize=(20,10))"
   ]
  },
  {
   "cell_type": "markdown",
   "metadata": {},
   "source": [
    "# PLotly\n",
    "- if youre getting a graph and a long error then\n",
    "- pip install nbformat\n",
    "- then restart the notebook"
   ]
  },
  {
   "cell_type": "code",
   "execution_count": 27,
   "metadata": {},
   "outputs": [
    {
     "data": {
      "application/vnd.plotly.v1+json": {
       "config": {
        "plotlyServerURL": "https://plot.ly"
       },
       "data": [
        {
         "hovertemplate": "index=%{x}<br>y=%{y}<extra></extra>",
         "legendgroup": "",
         "line": {
          "color": "#636efa",
          "dash": "solid"
         },
         "marker": {
          "symbol": "circle"
         },
         "mode": "markers+lines",
         "name": "",
         "orientation": "v",
         "showlegend": false,
         "type": "scatter",
         "x": [
          1980,
          1981,
          1982,
          1983,
          1984,
          1985,
          1986,
          1987,
          1988,
          1989,
          1990,
          1991,
          1992,
          1993,
          1994,
          1995,
          1996,
          1997,
          1998,
          1999,
          2000,
          2001,
          2002,
          2003,
          2004,
          2005,
          2006,
          2007,
          2008,
          2009,
          2010,
          2011,
          2012,
          2013
         ],
         "xaxis": "x",
         "y": [
          8880,
          8670,
          8147,
          7338,
          5704,
          4211,
          7150,
          10189,
          11522,
          10343,
          12041,
          13734,
          13673,
          21496,
          18620,
          18489,
          23859,
          22268,
          17241,
          18974,
          28572,
          31223,
          31889,
          27155,
          28235,
          36210,
          33848,
          28742,
          28261,
          29456,
          34235,
          27509,
          30933,
          33087
         ],
         "yaxis": "y"
        }
       ],
       "layout": {
        "legend": {
         "tracegroupgap": 0
        },
        "margin": {
         "t": 60
        },
        "template": {
         "data": {
          "bar": [
           {
            "error_x": {
             "color": "#2a3f5f"
            },
            "error_y": {
             "color": "#2a3f5f"
            },
            "marker": {
             "line": {
              "color": "#E5ECF6",
              "width": 0.5
             },
             "pattern": {
              "fillmode": "overlay",
              "size": 10,
              "solidity": 0.2
             }
            },
            "type": "bar"
           }
          ],
          "barpolar": [
           {
            "marker": {
             "line": {
              "color": "#E5ECF6",
              "width": 0.5
             },
             "pattern": {
              "fillmode": "overlay",
              "size": 10,
              "solidity": 0.2
             }
            },
            "type": "barpolar"
           }
          ],
          "carpet": [
           {
            "aaxis": {
             "endlinecolor": "#2a3f5f",
             "gridcolor": "white",
             "linecolor": "white",
             "minorgridcolor": "white",
             "startlinecolor": "#2a3f5f"
            },
            "baxis": {
             "endlinecolor": "#2a3f5f",
             "gridcolor": "white",
             "linecolor": "white",
             "minorgridcolor": "white",
             "startlinecolor": "#2a3f5f"
            },
            "type": "carpet"
           }
          ],
          "choropleth": [
           {
            "colorbar": {
             "outlinewidth": 0,
             "ticks": ""
            },
            "type": "choropleth"
           }
          ],
          "contour": [
           {
            "colorbar": {
             "outlinewidth": 0,
             "ticks": ""
            },
            "colorscale": [
             [
              0,
              "#0d0887"
             ],
             [
              0.1111111111111111,
              "#46039f"
             ],
             [
              0.2222222222222222,
              "#7201a8"
             ],
             [
              0.3333333333333333,
              "#9c179e"
             ],
             [
              0.4444444444444444,
              "#bd3786"
             ],
             [
              0.5555555555555556,
              "#d8576b"
             ],
             [
              0.6666666666666666,
              "#ed7953"
             ],
             [
              0.7777777777777778,
              "#fb9f3a"
             ],
             [
              0.8888888888888888,
              "#fdca26"
             ],
             [
              1,
              "#f0f921"
             ]
            ],
            "type": "contour"
           }
          ],
          "contourcarpet": [
           {
            "colorbar": {
             "outlinewidth": 0,
             "ticks": ""
            },
            "type": "contourcarpet"
           }
          ],
          "heatmap": [
           {
            "colorbar": {
             "outlinewidth": 0,
             "ticks": ""
            },
            "colorscale": [
             [
              0,
              "#0d0887"
             ],
             [
              0.1111111111111111,
              "#46039f"
             ],
             [
              0.2222222222222222,
              "#7201a8"
             ],
             [
              0.3333333333333333,
              "#9c179e"
             ],
             [
              0.4444444444444444,
              "#bd3786"
             ],
             [
              0.5555555555555556,
              "#d8576b"
             ],
             [
              0.6666666666666666,
              "#ed7953"
             ],
             [
              0.7777777777777778,
              "#fb9f3a"
             ],
             [
              0.8888888888888888,
              "#fdca26"
             ],
             [
              1,
              "#f0f921"
             ]
            ],
            "type": "heatmap"
           }
          ],
          "heatmapgl": [
           {
            "colorbar": {
             "outlinewidth": 0,
             "ticks": ""
            },
            "colorscale": [
             [
              0,
              "#0d0887"
             ],
             [
              0.1111111111111111,
              "#46039f"
             ],
             [
              0.2222222222222222,
              "#7201a8"
             ],
             [
              0.3333333333333333,
              "#9c179e"
             ],
             [
              0.4444444444444444,
              "#bd3786"
             ],
             [
              0.5555555555555556,
              "#d8576b"
             ],
             [
              0.6666666666666666,
              "#ed7953"
             ],
             [
              0.7777777777777778,
              "#fb9f3a"
             ],
             [
              0.8888888888888888,
              "#fdca26"
             ],
             [
              1,
              "#f0f921"
             ]
            ],
            "type": "heatmapgl"
           }
          ],
          "histogram": [
           {
            "marker": {
             "pattern": {
              "fillmode": "overlay",
              "size": 10,
              "solidity": 0.2
             }
            },
            "type": "histogram"
           }
          ],
          "histogram2d": [
           {
            "colorbar": {
             "outlinewidth": 0,
             "ticks": ""
            },
            "colorscale": [
             [
              0,
              "#0d0887"
             ],
             [
              0.1111111111111111,
              "#46039f"
             ],
             [
              0.2222222222222222,
              "#7201a8"
             ],
             [
              0.3333333333333333,
              "#9c179e"
             ],
             [
              0.4444444444444444,
              "#bd3786"
             ],
             [
              0.5555555555555556,
              "#d8576b"
             ],
             [
              0.6666666666666666,
              "#ed7953"
             ],
             [
              0.7777777777777778,
              "#fb9f3a"
             ],
             [
              0.8888888888888888,
              "#fdca26"
             ],
             [
              1,
              "#f0f921"
             ]
            ],
            "type": "histogram2d"
           }
          ],
          "histogram2dcontour": [
           {
            "colorbar": {
             "outlinewidth": 0,
             "ticks": ""
            },
            "colorscale": [
             [
              0,
              "#0d0887"
             ],
             [
              0.1111111111111111,
              "#46039f"
             ],
             [
              0.2222222222222222,
              "#7201a8"
             ],
             [
              0.3333333333333333,
              "#9c179e"
             ],
             [
              0.4444444444444444,
              "#bd3786"
             ],
             [
              0.5555555555555556,
              "#d8576b"
             ],
             [
              0.6666666666666666,
              "#ed7953"
             ],
             [
              0.7777777777777778,
              "#fb9f3a"
             ],
             [
              0.8888888888888888,
              "#fdca26"
             ],
             [
              1,
              "#f0f921"
             ]
            ],
            "type": "histogram2dcontour"
           }
          ],
          "mesh3d": [
           {
            "colorbar": {
             "outlinewidth": 0,
             "ticks": ""
            },
            "type": "mesh3d"
           }
          ],
          "parcoords": [
           {
            "line": {
             "colorbar": {
              "outlinewidth": 0,
              "ticks": ""
             }
            },
            "type": "parcoords"
           }
          ],
          "pie": [
           {
            "automargin": true,
            "type": "pie"
           }
          ],
          "scatter": [
           {
            "fillpattern": {
             "fillmode": "overlay",
             "size": 10,
             "solidity": 0.2
            },
            "type": "scatter"
           }
          ],
          "scatter3d": [
           {
            "line": {
             "colorbar": {
              "outlinewidth": 0,
              "ticks": ""
             }
            },
            "marker": {
             "colorbar": {
              "outlinewidth": 0,
              "ticks": ""
             }
            },
            "type": "scatter3d"
           }
          ],
          "scattercarpet": [
           {
            "marker": {
             "colorbar": {
              "outlinewidth": 0,
              "ticks": ""
             }
            },
            "type": "scattercarpet"
           }
          ],
          "scattergeo": [
           {
            "marker": {
             "colorbar": {
              "outlinewidth": 0,
              "ticks": ""
             }
            },
            "type": "scattergeo"
           }
          ],
          "scattergl": [
           {
            "marker": {
             "colorbar": {
              "outlinewidth": 0,
              "ticks": ""
             }
            },
            "type": "scattergl"
           }
          ],
          "scattermapbox": [
           {
            "marker": {
             "colorbar": {
              "outlinewidth": 0,
              "ticks": ""
             }
            },
            "type": "scattermapbox"
           }
          ],
          "scatterpolar": [
           {
            "marker": {
             "colorbar": {
              "outlinewidth": 0,
              "ticks": ""
             }
            },
            "type": "scatterpolar"
           }
          ],
          "scatterpolargl": [
           {
            "marker": {
             "colorbar": {
              "outlinewidth": 0,
              "ticks": ""
             }
            },
            "type": "scatterpolargl"
           }
          ],
          "scatterternary": [
           {
            "marker": {
             "colorbar": {
              "outlinewidth": 0,
              "ticks": ""
             }
            },
            "type": "scatterternary"
           }
          ],
          "surface": [
           {
            "colorbar": {
             "outlinewidth": 0,
             "ticks": ""
            },
            "colorscale": [
             [
              0,
              "#0d0887"
             ],
             [
              0.1111111111111111,
              "#46039f"
             ],
             [
              0.2222222222222222,
              "#7201a8"
             ],
             [
              0.3333333333333333,
              "#9c179e"
             ],
             [
              0.4444444444444444,
              "#bd3786"
             ],
             [
              0.5555555555555556,
              "#d8576b"
             ],
             [
              0.6666666666666666,
              "#ed7953"
             ],
             [
              0.7777777777777778,
              "#fb9f3a"
             ],
             [
              0.8888888888888888,
              "#fdca26"
             ],
             [
              1,
              "#f0f921"
             ]
            ],
            "type": "surface"
           }
          ],
          "table": [
           {
            "cells": {
             "fill": {
              "color": "#EBF0F8"
             },
             "line": {
              "color": "white"
             }
            },
            "header": {
             "fill": {
              "color": "#C8D4E3"
             },
             "line": {
              "color": "white"
             }
            },
            "type": "table"
           }
          ]
         },
         "layout": {
          "annotationdefaults": {
           "arrowcolor": "#2a3f5f",
           "arrowhead": 0,
           "arrowwidth": 1
          },
          "autotypenumbers": "strict",
          "coloraxis": {
           "colorbar": {
            "outlinewidth": 0,
            "ticks": ""
           }
          },
          "colorscale": {
           "diverging": [
            [
             0,
             "#8e0152"
            ],
            [
             0.1,
             "#c51b7d"
            ],
            [
             0.2,
             "#de77ae"
            ],
            [
             0.3,
             "#f1b6da"
            ],
            [
             0.4,
             "#fde0ef"
            ],
            [
             0.5,
             "#f7f7f7"
            ],
            [
             0.6,
             "#e6f5d0"
            ],
            [
             0.7,
             "#b8e186"
            ],
            [
             0.8,
             "#7fbc41"
            ],
            [
             0.9,
             "#4d9221"
            ],
            [
             1,
             "#276419"
            ]
           ],
           "sequential": [
            [
             0,
             "#0d0887"
            ],
            [
             0.1111111111111111,
             "#46039f"
            ],
            [
             0.2222222222222222,
             "#7201a8"
            ],
            [
             0.3333333333333333,
             "#9c179e"
            ],
            [
             0.4444444444444444,
             "#bd3786"
            ],
            [
             0.5555555555555556,
             "#d8576b"
            ],
            [
             0.6666666666666666,
             "#ed7953"
            ],
            [
             0.7777777777777778,
             "#fb9f3a"
            ],
            [
             0.8888888888888888,
             "#fdca26"
            ],
            [
             1,
             "#f0f921"
            ]
           ],
           "sequentialminus": [
            [
             0,
             "#0d0887"
            ],
            [
             0.1111111111111111,
             "#46039f"
            ],
            [
             0.2222222222222222,
             "#7201a8"
            ],
            [
             0.3333333333333333,
             "#9c179e"
            ],
            [
             0.4444444444444444,
             "#bd3786"
            ],
            [
             0.5555555555555556,
             "#d8576b"
            ],
            [
             0.6666666666666666,
             "#ed7953"
            ],
            [
             0.7777777777777778,
             "#fb9f3a"
            ],
            [
             0.8888888888888888,
             "#fdca26"
            ],
            [
             1,
             "#f0f921"
            ]
           ]
          },
          "colorway": [
           "#636efa",
           "#EF553B",
           "#00cc96",
           "#ab63fa",
           "#FFA15A",
           "#19d3f3",
           "#FF6692",
           "#B6E880",
           "#FF97FF",
           "#FECB52"
          ],
          "font": {
           "color": "#2a3f5f"
          },
          "geo": {
           "bgcolor": "white",
           "lakecolor": "white",
           "landcolor": "#E5ECF6",
           "showlakes": true,
           "showland": true,
           "subunitcolor": "white"
          },
          "hoverlabel": {
           "align": "left"
          },
          "hovermode": "closest",
          "mapbox": {
           "style": "light"
          },
          "paper_bgcolor": "white",
          "plot_bgcolor": "#E5ECF6",
          "polar": {
           "angularaxis": {
            "gridcolor": "white",
            "linecolor": "white",
            "ticks": ""
           },
           "bgcolor": "#E5ECF6",
           "radialaxis": {
            "gridcolor": "white",
            "linecolor": "white",
            "ticks": ""
           }
          },
          "scene": {
           "xaxis": {
            "backgroundcolor": "#E5ECF6",
            "gridcolor": "white",
            "gridwidth": 2,
            "linecolor": "white",
            "showbackground": true,
            "ticks": "",
            "zerolinecolor": "white"
           },
           "yaxis": {
            "backgroundcolor": "#E5ECF6",
            "gridcolor": "white",
            "gridwidth": 2,
            "linecolor": "white",
            "showbackground": true,
            "ticks": "",
            "zerolinecolor": "white"
           },
           "zaxis": {
            "backgroundcolor": "#E5ECF6",
            "gridcolor": "white",
            "gridwidth": 2,
            "linecolor": "white",
            "showbackground": true,
            "ticks": "",
            "zerolinecolor": "white"
           }
          },
          "shapedefaults": {
           "line": {
            "color": "#2a3f5f"
           }
          },
          "ternary": {
           "aaxis": {
            "gridcolor": "white",
            "linecolor": "white",
            "ticks": ""
           },
           "baxis": {
            "gridcolor": "white",
            "linecolor": "white",
            "ticks": ""
           },
           "bgcolor": "#E5ECF6",
           "caxis": {
            "gridcolor": "white",
            "linecolor": "white",
            "ticks": ""
           }
          },
          "title": {
           "x": 0.05
          },
          "xaxis": {
           "automargin": true,
           "gridcolor": "white",
           "linecolor": "white",
           "ticks": "",
           "title": {
            "standoff": 15
           },
           "zerolinecolor": "white",
           "zerolinewidth": 2
          },
          "yaxis": {
           "automargin": true,
           "gridcolor": "white",
           "linecolor": "white",
           "ticks": "",
           "title": {
            "standoff": 15
           },
           "zerolinecolor": "white",
           "zerolinewidth": 2
          }
         }
        },
        "xaxis": {
         "anchor": "y",
         "domain": [
          0,
          1
         ],
         "title": {
          "text": "index"
         }
        },
        "yaxis": {
         "anchor": "x",
         "domain": [
          0,
          1
         ],
         "title": {
          "text": "y"
         }
        }
       }
      }
     },
     "metadata": {},
     "output_type": "display_data"
    }
   ],
   "source": [
    "years = list(range(1980,2014))\n",
    "india_data=df.loc['India',years]\n",
    "px.line(india_data,x=india_data.index,y=india_data.values,markers=True)"
   ]
  },
  {
   "cell_type": "markdown",
   "metadata": {},
   "source": [
    "## Note \n",
    "- pichli library me df. karke use karte they\n",
    "- is library me dataframe ko as an object pass karte hai\n"
   ]
  },
  {
   "cell_type": "code",
   "execution_count": 28,
   "metadata": {},
   "outputs": [
    {
     "ename": "NameError",
     "evalue": "name 'country_list' is not defined",
     "output_type": "error",
     "traceback": [
      "\u001b[1;31m---------------------------------------------------------------------------\u001b[0m",
      "\u001b[1;31mNameError\u001b[0m                                 Traceback (most recent call last)",
      "\u001b[1;32mc:\\Users\\mcups\\Desktop\\Code & Git\\Python with DS - Digipodium\\Data Science\\data_analytics4.ipynb Cell 54\u001b[0m in \u001b[0;36m<cell line: 1>\u001b[1;34m()\u001b[0m\n\u001b[1;32m----> <a href='vscode-notebook-cell:/c%3A/Users/mcups/Desktop/Code%20%26%20Git/Python%20with%20DS%20-%20Digipodium/Data%20Science/data_analytics4.ipynb#Y106sZmlsZQ%3D%3D?line=0'>1</a>\u001b[0m countrydf \u001b[39m=\u001b[39m df\u001b[39m.\u001b[39mloc[country_list,years]\n\u001b[0;32m      <a href='vscode-notebook-cell:/c%3A/Users/mcups/Desktop/Code%20%26%20Git/Python%20with%20DS%20-%20Digipodium/Data%20Science/data_analytics4.ipynb#Y106sZmlsZQ%3D%3D?line=1'>2</a>\u001b[0m px\u001b[39m.\u001b[39mbar(countrydf,x\u001b[39m=\u001b[39mcountry\u001b[39m.\u001b[39mindex , y\u001b[39m=\u001b[39mcountrydf\u001b[39m.\u001b[39mcolumns,barmode \u001b[39m=\u001b[39m \u001b[39m'\u001b[39m\u001b[39mgroup\u001b[39m\u001b[39m'\u001b[39m,log_y\u001b[39m=\u001b[39m\u001b[39mTrue\u001b[39;00m)\n",
      "\u001b[1;31mNameError\u001b[0m: name 'country_list' is not defined"
     ]
    }
   ],
   "source": [
    "countrydf = df.loc[country_list,years]\n",
    "px.bar(countrydf,x=country.index , y=countrydf.columns,barmode = 'group',log_y=True)"
   ]
  },
  {
   "cell_type": "code",
   "execution_count": 31,
   "metadata": {},
   "outputs": [
    {
     "data": {
      "application/vnd.plotly.v1+json": {
       "config": {
        "plotlyServerURL": "https://plot.ly"
       },
       "data": [
        {
         "coloraxis": "coloraxis",
         "geo": "geo",
         "hovertemplate": "country=%{location}<br>1980=%{z}<extra></extra>",
         "locationmode": "country names",
         "locations": [
          "India",
          "China",
          "United Kingdom of Great Britain and Northern Ireland",
          "Philippines",
          "Pakistan",
          "United States of America",
          "Iran (Islamic Republic of)",
          "Sri Lanka",
          "Republic of Korea",
          "Poland",
          "Lebanon",
          "France",
          "Jamaica",
          "Viet Nam",
          "Romania",
          "Haiti",
          "Guyana",
          "Portugal",
          "Egypt",
          "Morocco",
          "Colombia",
          "Iraq",
          "Algeria",
          "Israel",
          "Bangladesh",
          "Germany",
          "Russian Federation",
          "Mexico",
          "Afghanistan",
          "El Salvador",
          "Ukraine",
          "Trinidad and Tobago",
          "Somalia",
          "South Africa",
          "Nigeria",
          "Jordan",
          "Ethiopia",
          "Peru",
          "Turkey",
          "Syrian Arab Republic",
          "Brazil",
          "Japan",
          "Netherlands",
          "Ghana",
          "Democratic Republic of the Congo",
          "Malaysia",
          "Australia",
          "Bulgaria",
          "Italy",
          "Bosnia and Herzegovina",
          "Chile",
          "Venezuela (Bolivarian Republic of)",
          "Fiji",
          "Cuba",
          "Argentina",
          "Guatemala",
          "Sudan",
          "Tunisia",
          "Kenya",
          "Ireland",
          "Hungary",
          "Cameroon",
          "Albania",
          "Mauritius",
          "Switzerland",
          "Republic of Moldova",
          "Singapore",
          "Indonesia",
          "United Republic of Tanzania",
          "Greece",
          "Ecuador",
          "Nicaragua",
          "Dominican Republic",
          "Belgium",
          "Eritrea",
          "New Zealand",
          "Nepal",
          "Saint Vincent and the Grenadines",
          "China, Hong Kong Special Administrative Region",
          "Myanmar",
          "Thailand",
          "Grenada",
          "Zimbabwe",
          "Kazakhstan",
          "Côte d'Ivoire",
          "Burundi",
          "Croatia",
          "Belarus",
          "Honduras",
          "Senegal",
          "Barbados",
          "Rwanda",
          "Cambodia",
          "State of Palestine",
          "Slovakia",
          "Bhutan",
          "Sweden",
          "Spain",
          "Austria",
          "Libya",
          "Guinea",
          "Saint Lucia",
          "Uruguay",
          "The former Yugoslav Republic of Macedonia",
          "Costa Rica",
          "Czech Republic",
          "Denmark",
          "Togo",
          "Uganda",
          "Saudi Arabia",
          "Uzbekistan",
          "Sierra Leone",
          "Armenia",
          "Bolivia (Plurinational State of)",
          "Panama",
          "Yemen",
          "Benin",
          "Finland",
          "Liberia",
          "Azerbaijan",
          "Dominica",
          "Lithuania",
          "Kyrgyzstan",
          "Norway",
          "Latvia",
          "Madagascar",
          "Mali",
          "Angola",
          "Georgia",
          "Burkina Faso",
          "Kuwait",
          "Paraguay",
          "Serbia",
          "Congo",
          "Zambia",
          "Chad",
          "Djibouti",
          "Malta",
          "Seychelles",
          "Cyprus",
          "Lao People's Democratic Republic",
          "Belize",
          "Mauritania",
          "Antigua and Barbuda",
          "Niger",
          "Mongolia",
          "Gabon",
          "Estonia",
          "United Arab Emirates",
          "Bahamas",
          "Suriname",
          "Saint Kitts and Nevis",
          "Gambia",
          "Brunei Darussalam",
          "Iceland",
          "Central African Republic",
          "Slovenia",
          "Tajikistan",
          "Bahrain",
          "Botswana",
          "Democratic People's Republic of Korea",
          "Namibia",
          "Turkmenistan",
          "Malawi",
          "China, Macao Special Administrative Region",
          "Oman",
          "Luxembourg",
          "Cabo Verde",
          "Comoros",
          "Swaziland",
          "Mozambique",
          "Qatar",
          "Tonga",
          "Lesotho",
          "Montenegro",
          "Guinea-Bissau",
          "Samoa",
          "Papua New Guinea",
          "Equatorial Guinea",
          "Liechtenstein",
          "Maldives",
          "Monaco",
          "Canada",
          "Nauru",
          "Andorra",
          "Kiribati",
          "Vanuatu",
          "Sao Tome and Principe",
          "Tuvalu",
          "American Samoa",
          "San Marino",
          "New Caledonia",
          "Marshall Islands",
          "Western Sahara",
          "Palau"
         ],
         "name": "",
         "type": "choropleth",
         "z": [
          8880,
          5123,
          22045,
          6051,
          978,
          9378,
          1172,
          185,
          1011,
          863,
          1409,
          1729,
          3198,
          1191,
          375,
          1666,
          2334,
          4473,
          612,
          325,
          266,
          262,
          80,
          1403,
          83,
          1626,
          0,
          409,
          16,
          110,
          0,
          958,
          7,
          1026,
          81,
          177,
          98,
          317,
          481,
          315,
          211,
          701,
          1889,
          172,
          15,
          786,
          702,
          24,
          1820,
          0,
          1233,
          103,
          632,
          306,
          368,
          114,
          20,
          58,
          291,
          781,
          205,
          9,
          1,
          306,
          806,
          0,
          241,
          186,
          635,
          1065,
          238,
          18,
          40,
          511,
          0,
          602,
          1,
          147,
          0,
          80,
          56,
          154,
          72,
          0,
          14,
          0,
          0,
          0,
          26,
          13,
          372,
          6,
          12,
          0,
          0,
          0,
          281,
          211,
          234,
          5,
          0,
          69,
          128,
          0,
          28,
          0,
          272,
          5,
          13,
          0,
          0,
          6,
          0,
          44,
          13,
          1,
          2,
          208,
          1,
          0,
          104,
          1,
          0,
          116,
          0,
          22,
          4,
          1,
          0,
          2,
          1,
          45,
          0,
          2,
          11,
          0,
          0,
          191,
          5,
          132,
          11,
          16,
          5,
          0,
          0,
          0,
          2,
          0,
          0,
          26,
          15,
          5,
          0,
          79,
          17,
          4,
          0,
          0,
          0,
          10,
          1,
          0,
          0,
          5,
          0,
          0,
          14,
          1,
          0,
          4,
          0,
          0,
          2,
          1,
          0,
          0,
          3,
          0,
          0,
          1,
          0,
          0,
          0,
          1,
          0,
          0,
          0,
          0,
          0,
          0,
          1,
          0,
          0,
          0,
          0
         ]
        }
       ],
       "layout": {
        "coloraxis": {
         "colorbar": {
          "title": {
           "text": "1980"
          }
         },
         "colorscale": [
          [
           0,
           "#0d0887"
          ],
          [
           0.1111111111111111,
           "#46039f"
          ],
          [
           0.2222222222222222,
           "#7201a8"
          ],
          [
           0.3333333333333333,
           "#9c179e"
          ],
          [
           0.4444444444444444,
           "#bd3786"
          ],
          [
           0.5555555555555556,
           "#d8576b"
          ],
          [
           0.6666666666666666,
           "#ed7953"
          ],
          [
           0.7777777777777778,
           "#fb9f3a"
          ],
          [
           0.8888888888888888,
           "#fdca26"
          ],
          [
           1,
           "#f0f921"
          ]
         ]
        },
        "geo": {
         "center": {},
         "domain": {
          "x": [
           0,
           1
          ],
          "y": [
           0,
           1
          ]
         }
        },
        "legend": {
         "tracegroupgap": 0
        },
        "margin": {
         "t": 60
        },
        "template": {
         "data": {
          "bar": [
           {
            "error_x": {
             "color": "#2a3f5f"
            },
            "error_y": {
             "color": "#2a3f5f"
            },
            "marker": {
             "line": {
              "color": "#E5ECF6",
              "width": 0.5
             },
             "pattern": {
              "fillmode": "overlay",
              "size": 10,
              "solidity": 0.2
             }
            },
            "type": "bar"
           }
          ],
          "barpolar": [
           {
            "marker": {
             "line": {
              "color": "#E5ECF6",
              "width": 0.5
             },
             "pattern": {
              "fillmode": "overlay",
              "size": 10,
              "solidity": 0.2
             }
            },
            "type": "barpolar"
           }
          ],
          "carpet": [
           {
            "aaxis": {
             "endlinecolor": "#2a3f5f",
             "gridcolor": "white",
             "linecolor": "white",
             "minorgridcolor": "white",
             "startlinecolor": "#2a3f5f"
            },
            "baxis": {
             "endlinecolor": "#2a3f5f",
             "gridcolor": "white",
             "linecolor": "white",
             "minorgridcolor": "white",
             "startlinecolor": "#2a3f5f"
            },
            "type": "carpet"
           }
          ],
          "choropleth": [
           {
            "colorbar": {
             "outlinewidth": 0,
             "ticks": ""
            },
            "type": "choropleth"
           }
          ],
          "contour": [
           {
            "colorbar": {
             "outlinewidth": 0,
             "ticks": ""
            },
            "colorscale": [
             [
              0,
              "#0d0887"
             ],
             [
              0.1111111111111111,
              "#46039f"
             ],
             [
              0.2222222222222222,
              "#7201a8"
             ],
             [
              0.3333333333333333,
              "#9c179e"
             ],
             [
              0.4444444444444444,
              "#bd3786"
             ],
             [
              0.5555555555555556,
              "#d8576b"
             ],
             [
              0.6666666666666666,
              "#ed7953"
             ],
             [
              0.7777777777777778,
              "#fb9f3a"
             ],
             [
              0.8888888888888888,
              "#fdca26"
             ],
             [
              1,
              "#f0f921"
             ]
            ],
            "type": "contour"
           }
          ],
          "contourcarpet": [
           {
            "colorbar": {
             "outlinewidth": 0,
             "ticks": ""
            },
            "type": "contourcarpet"
           }
          ],
          "heatmap": [
           {
            "colorbar": {
             "outlinewidth": 0,
             "ticks": ""
            },
            "colorscale": [
             [
              0,
              "#0d0887"
             ],
             [
              0.1111111111111111,
              "#46039f"
             ],
             [
              0.2222222222222222,
              "#7201a8"
             ],
             [
              0.3333333333333333,
              "#9c179e"
             ],
             [
              0.4444444444444444,
              "#bd3786"
             ],
             [
              0.5555555555555556,
              "#d8576b"
             ],
             [
              0.6666666666666666,
              "#ed7953"
             ],
             [
              0.7777777777777778,
              "#fb9f3a"
             ],
             [
              0.8888888888888888,
              "#fdca26"
             ],
             [
              1,
              "#f0f921"
             ]
            ],
            "type": "heatmap"
           }
          ],
          "heatmapgl": [
           {
            "colorbar": {
             "outlinewidth": 0,
             "ticks": ""
            },
            "colorscale": [
             [
              0,
              "#0d0887"
             ],
             [
              0.1111111111111111,
              "#46039f"
             ],
             [
              0.2222222222222222,
              "#7201a8"
             ],
             [
              0.3333333333333333,
              "#9c179e"
             ],
             [
              0.4444444444444444,
              "#bd3786"
             ],
             [
              0.5555555555555556,
              "#d8576b"
             ],
             [
              0.6666666666666666,
              "#ed7953"
             ],
             [
              0.7777777777777778,
              "#fb9f3a"
             ],
             [
              0.8888888888888888,
              "#fdca26"
             ],
             [
              1,
              "#f0f921"
             ]
            ],
            "type": "heatmapgl"
           }
          ],
          "histogram": [
           {
            "marker": {
             "pattern": {
              "fillmode": "overlay",
              "size": 10,
              "solidity": 0.2
             }
            },
            "type": "histogram"
           }
          ],
          "histogram2d": [
           {
            "colorbar": {
             "outlinewidth": 0,
             "ticks": ""
            },
            "colorscale": [
             [
              0,
              "#0d0887"
             ],
             [
              0.1111111111111111,
              "#46039f"
             ],
             [
              0.2222222222222222,
              "#7201a8"
             ],
             [
              0.3333333333333333,
              "#9c179e"
             ],
             [
              0.4444444444444444,
              "#bd3786"
             ],
             [
              0.5555555555555556,
              "#d8576b"
             ],
             [
              0.6666666666666666,
              "#ed7953"
             ],
             [
              0.7777777777777778,
              "#fb9f3a"
             ],
             [
              0.8888888888888888,
              "#fdca26"
             ],
             [
              1,
              "#f0f921"
             ]
            ],
            "type": "histogram2d"
           }
          ],
          "histogram2dcontour": [
           {
            "colorbar": {
             "outlinewidth": 0,
             "ticks": ""
            },
            "colorscale": [
             [
              0,
              "#0d0887"
             ],
             [
              0.1111111111111111,
              "#46039f"
             ],
             [
              0.2222222222222222,
              "#7201a8"
             ],
             [
              0.3333333333333333,
              "#9c179e"
             ],
             [
              0.4444444444444444,
              "#bd3786"
             ],
             [
              0.5555555555555556,
              "#d8576b"
             ],
             [
              0.6666666666666666,
              "#ed7953"
             ],
             [
              0.7777777777777778,
              "#fb9f3a"
             ],
             [
              0.8888888888888888,
              "#fdca26"
             ],
             [
              1,
              "#f0f921"
             ]
            ],
            "type": "histogram2dcontour"
           }
          ],
          "mesh3d": [
           {
            "colorbar": {
             "outlinewidth": 0,
             "ticks": ""
            },
            "type": "mesh3d"
           }
          ],
          "parcoords": [
           {
            "line": {
             "colorbar": {
              "outlinewidth": 0,
              "ticks": ""
             }
            },
            "type": "parcoords"
           }
          ],
          "pie": [
           {
            "automargin": true,
            "type": "pie"
           }
          ],
          "scatter": [
           {
            "fillpattern": {
             "fillmode": "overlay",
             "size": 10,
             "solidity": 0.2
            },
            "type": "scatter"
           }
          ],
          "scatter3d": [
           {
            "line": {
             "colorbar": {
              "outlinewidth": 0,
              "ticks": ""
             }
            },
            "marker": {
             "colorbar": {
              "outlinewidth": 0,
              "ticks": ""
             }
            },
            "type": "scatter3d"
           }
          ],
          "scattercarpet": [
           {
            "marker": {
             "colorbar": {
              "outlinewidth": 0,
              "ticks": ""
             }
            },
            "type": "scattercarpet"
           }
          ],
          "scattergeo": [
           {
            "marker": {
             "colorbar": {
              "outlinewidth": 0,
              "ticks": ""
             }
            },
            "type": "scattergeo"
           }
          ],
          "scattergl": [
           {
            "marker": {
             "colorbar": {
              "outlinewidth": 0,
              "ticks": ""
             }
            },
            "type": "scattergl"
           }
          ],
          "scattermapbox": [
           {
            "marker": {
             "colorbar": {
              "outlinewidth": 0,
              "ticks": ""
             }
            },
            "type": "scattermapbox"
           }
          ],
          "scatterpolar": [
           {
            "marker": {
             "colorbar": {
              "outlinewidth": 0,
              "ticks": ""
             }
            },
            "type": "scatterpolar"
           }
          ],
          "scatterpolargl": [
           {
            "marker": {
             "colorbar": {
              "outlinewidth": 0,
              "ticks": ""
             }
            },
            "type": "scatterpolargl"
           }
          ],
          "scatterternary": [
           {
            "marker": {
             "colorbar": {
              "outlinewidth": 0,
              "ticks": ""
             }
            },
            "type": "scatterternary"
           }
          ],
          "surface": [
           {
            "colorbar": {
             "outlinewidth": 0,
             "ticks": ""
            },
            "colorscale": [
             [
              0,
              "#0d0887"
             ],
             [
              0.1111111111111111,
              "#46039f"
             ],
             [
              0.2222222222222222,
              "#7201a8"
             ],
             [
              0.3333333333333333,
              "#9c179e"
             ],
             [
              0.4444444444444444,
              "#bd3786"
             ],
             [
              0.5555555555555556,
              "#d8576b"
             ],
             [
              0.6666666666666666,
              "#ed7953"
             ],
             [
              0.7777777777777778,
              "#fb9f3a"
             ],
             [
              0.8888888888888888,
              "#fdca26"
             ],
             [
              1,
              "#f0f921"
             ]
            ],
            "type": "surface"
           }
          ],
          "table": [
           {
            "cells": {
             "fill": {
              "color": "#EBF0F8"
             },
             "line": {
              "color": "white"
             }
            },
            "header": {
             "fill": {
              "color": "#C8D4E3"
             },
             "line": {
              "color": "white"
             }
            },
            "type": "table"
           }
          ]
         },
         "layout": {
          "annotationdefaults": {
           "arrowcolor": "#2a3f5f",
           "arrowhead": 0,
           "arrowwidth": 1
          },
          "autotypenumbers": "strict",
          "coloraxis": {
           "colorbar": {
            "outlinewidth": 0,
            "ticks": ""
           }
          },
          "colorscale": {
           "diverging": [
            [
             0,
             "#8e0152"
            ],
            [
             0.1,
             "#c51b7d"
            ],
            [
             0.2,
             "#de77ae"
            ],
            [
             0.3,
             "#f1b6da"
            ],
            [
             0.4,
             "#fde0ef"
            ],
            [
             0.5,
             "#f7f7f7"
            ],
            [
             0.6,
             "#e6f5d0"
            ],
            [
             0.7,
             "#b8e186"
            ],
            [
             0.8,
             "#7fbc41"
            ],
            [
             0.9,
             "#4d9221"
            ],
            [
             1,
             "#276419"
            ]
           ],
           "sequential": [
            [
             0,
             "#0d0887"
            ],
            [
             0.1111111111111111,
             "#46039f"
            ],
            [
             0.2222222222222222,
             "#7201a8"
            ],
            [
             0.3333333333333333,
             "#9c179e"
            ],
            [
             0.4444444444444444,
             "#bd3786"
            ],
            [
             0.5555555555555556,
             "#d8576b"
            ],
            [
             0.6666666666666666,
             "#ed7953"
            ],
            [
             0.7777777777777778,
             "#fb9f3a"
            ],
            [
             0.8888888888888888,
             "#fdca26"
            ],
            [
             1,
             "#f0f921"
            ]
           ],
           "sequentialminus": [
            [
             0,
             "#0d0887"
            ],
            [
             0.1111111111111111,
             "#46039f"
            ],
            [
             0.2222222222222222,
             "#7201a8"
            ],
            [
             0.3333333333333333,
             "#9c179e"
            ],
            [
             0.4444444444444444,
             "#bd3786"
            ],
            [
             0.5555555555555556,
             "#d8576b"
            ],
            [
             0.6666666666666666,
             "#ed7953"
            ],
            [
             0.7777777777777778,
             "#fb9f3a"
            ],
            [
             0.8888888888888888,
             "#fdca26"
            ],
            [
             1,
             "#f0f921"
            ]
           ]
          },
          "colorway": [
           "#636efa",
           "#EF553B",
           "#00cc96",
           "#ab63fa",
           "#FFA15A",
           "#19d3f3",
           "#FF6692",
           "#B6E880",
           "#FF97FF",
           "#FECB52"
          ],
          "font": {
           "color": "#2a3f5f"
          },
          "geo": {
           "bgcolor": "white",
           "lakecolor": "white",
           "landcolor": "#E5ECF6",
           "showlakes": true,
           "showland": true,
           "subunitcolor": "white"
          },
          "hoverlabel": {
           "align": "left"
          },
          "hovermode": "closest",
          "mapbox": {
           "style": "light"
          },
          "paper_bgcolor": "white",
          "plot_bgcolor": "#E5ECF6",
          "polar": {
           "angularaxis": {
            "gridcolor": "white",
            "linecolor": "white",
            "ticks": ""
           },
           "bgcolor": "#E5ECF6",
           "radialaxis": {
            "gridcolor": "white",
            "linecolor": "white",
            "ticks": ""
           }
          },
          "scene": {
           "xaxis": {
            "backgroundcolor": "#E5ECF6",
            "gridcolor": "white",
            "gridwidth": 2,
            "linecolor": "white",
            "showbackground": true,
            "ticks": "",
            "zerolinecolor": "white"
           },
           "yaxis": {
            "backgroundcolor": "#E5ECF6",
            "gridcolor": "white",
            "gridwidth": 2,
            "linecolor": "white",
            "showbackground": true,
            "ticks": "",
            "zerolinecolor": "white"
           },
           "zaxis": {
            "backgroundcolor": "#E5ECF6",
            "gridcolor": "white",
            "gridwidth": 2,
            "linecolor": "white",
            "showbackground": true,
            "ticks": "",
            "zerolinecolor": "white"
           }
          },
          "shapedefaults": {
           "line": {
            "color": "#2a3f5f"
           }
          },
          "ternary": {
           "aaxis": {
            "gridcolor": "white",
            "linecolor": "white",
            "ticks": ""
           },
           "baxis": {
            "gridcolor": "white",
            "linecolor": "white",
            "ticks": ""
           },
           "bgcolor": "#E5ECF6",
           "caxis": {
            "gridcolor": "white",
            "linecolor": "white",
            "ticks": ""
           }
          },
          "title": {
           "x": 0.05
          },
          "xaxis": {
           "automargin": true,
           "gridcolor": "white",
           "linecolor": "white",
           "ticks": "",
           "title": {
            "standoff": 15
           },
           "zerolinecolor": "white",
           "zerolinewidth": 2
          },
          "yaxis": {
           "automargin": true,
           "gridcolor": "white",
           "linecolor": "white",
           "ticks": "",
           "title": {
            "standoff": 15
           },
           "zerolinecolor": "white",
           "zerolinewidth": 2
          }
         }
        }
       }
      }
     },
     "metadata": {},
     "output_type": "display_data"
    }
   ],
   "source": [
    "px.choropleth(df , locations=df.index,locationmode='country names', color = 1980)"
   ]
  },
  {
   "cell_type": "markdown",
   "metadata": {},
   "source": [
    "# Folium"
   ]
  },
  {
   "cell_type": "code",
   "execution_count": 36,
   "metadata": {},
   "outputs": [],
   "source": [
    "import folium"
   ]
  },
  {
   "cell_type": "code",
   "execution_count": 39,
   "metadata": {},
   "outputs": [
    {
     "data": {
      "text/html": [
       "<div style=\"width:100%;\"><div style=\"position:relative;width:100%;height:0;padding-bottom:60%;\"><span style=\"color:#565656\">Make this Notebook Trusted to load map: File -> Trust Notebook</span><iframe srcdoc=\"&lt;!DOCTYPE html&gt;\n",
       "&lt;head&gt;    \n",
       "    &lt;meta http-equiv=&quot;content-type&quot; content=&quot;text/html; charset=UTF-8&quot; /&gt;\n",
       "    \n",
       "        &lt;script&gt;\n",
       "            L_NO_TOUCH = false;\n",
       "            L_DISABLE_3D = false;\n",
       "        &lt;/script&gt;\n",
       "    \n",
       "    &lt;style&gt;html, body {width: 100%;height: 100%;margin: 0;padding: 0;}&lt;/style&gt;\n",
       "    &lt;style&gt;#map {position:absolute;top:0;bottom:0;right:0;left:0;}&lt;/style&gt;\n",
       "    &lt;script src=&quot;https://cdn.jsdelivr.net/npm/leaflet@1.6.0/dist/leaflet.js&quot;&gt;&lt;/script&gt;\n",
       "    &lt;script src=&quot;https://code.jquery.com/jquery-1.12.4.min.js&quot;&gt;&lt;/script&gt;\n",
       "    &lt;script src=&quot;https://maxcdn.bootstrapcdn.com/bootstrap/3.2.0/js/bootstrap.min.js&quot;&gt;&lt;/script&gt;\n",
       "    &lt;script src=&quot;https://cdnjs.cloudflare.com/ajax/libs/Leaflet.awesome-markers/2.0.2/leaflet.awesome-markers.js&quot;&gt;&lt;/script&gt;\n",
       "    &lt;link rel=&quot;stylesheet&quot; href=&quot;https://cdn.jsdelivr.net/npm/leaflet@1.6.0/dist/leaflet.css&quot;/&gt;\n",
       "    &lt;link rel=&quot;stylesheet&quot; href=&quot;https://maxcdn.bootstrapcdn.com/bootstrap/3.2.0/css/bootstrap.min.css&quot;/&gt;\n",
       "    &lt;link rel=&quot;stylesheet&quot; href=&quot;https://maxcdn.bootstrapcdn.com/bootstrap/3.2.0/css/bootstrap-theme.min.css&quot;/&gt;\n",
       "    &lt;link rel=&quot;stylesheet&quot; href=&quot;https://maxcdn.bootstrapcdn.com/font-awesome/4.6.3/css/font-awesome.min.css&quot;/&gt;\n",
       "    &lt;link rel=&quot;stylesheet&quot; href=&quot;https://cdnjs.cloudflare.com/ajax/libs/Leaflet.awesome-markers/2.0.2/leaflet.awesome-markers.css&quot;/&gt;\n",
       "    &lt;link rel=&quot;stylesheet&quot; href=&quot;https://cdn.jsdelivr.net/gh/python-visualization/folium/folium/templates/leaflet.awesome.rotate.min.css&quot;/&gt;\n",
       "    \n",
       "            &lt;meta name=&quot;viewport&quot; content=&quot;width=device-width,\n",
       "                initial-scale=1.0, maximum-scale=1.0, user-scalable=no&quot; /&gt;\n",
       "            &lt;style&gt;\n",
       "                #map_6ac325365122eaa61e84a04cea326369 {\n",
       "                    position: relative;\n",
       "                    width: 100.0%;\n",
       "                    height: 400.0px;\n",
       "                    left: 0.0%;\n",
       "                    top: 0.0%;\n",
       "                }\n",
       "            &lt;/style&gt;\n",
       "        \n",
       "&lt;/head&gt;\n",
       "&lt;body&gt;    \n",
       "    \n",
       "            &lt;div class=&quot;folium-map&quot; id=&quot;map_6ac325365122eaa61e84a04cea326369&quot; &gt;&lt;/div&gt;\n",
       "        \n",
       "&lt;/body&gt;\n",
       "&lt;script&gt;    \n",
       "    \n",
       "            var map_6ac325365122eaa61e84a04cea326369 = L.map(\n",
       "                &quot;map_6ac325365122eaa61e84a04cea326369&quot;,\n",
       "                {\n",
       "                    center: [26.8467, 80.9462],\n",
       "                    crs: L.CRS.EPSG3857,\n",
       "                    zoom: 14,\n",
       "                    zoomControl: true,\n",
       "                    preferCanvas: false,\n",
       "                }\n",
       "            );\n",
       "\n",
       "            \n",
       "\n",
       "        \n",
       "    \n",
       "            var tile_layer_1b1c473dc91cd8023af0cea7e3fc43e0 = L.tileLayer(\n",
       "                &quot;https://{s}.tile.openstreetmap.org/{z}/{x}/{y}.png&quot;,\n",
       "                {&quot;attribution&quot;: &quot;Data by \\u0026copy; \\u003ca href=\\&quot;http://openstreetmap.org\\&quot;\\u003eOpenStreetMap\\u003c/a\\u003e, under \\u003ca href=\\&quot;http://www.openstreetmap.org/copyright\\&quot;\\u003eODbL\\u003c/a\\u003e.&quot;, &quot;detectRetina&quot;: false, &quot;maxNativeZoom&quot;: 18, &quot;maxZoom&quot;: 18, &quot;minZoom&quot;: 0, &quot;noWrap&quot;: false, &quot;opacity&quot;: 1, &quot;subdomains&quot;: &quot;abc&quot;, &quot;tms&quot;: false}\n",
       "            ).addTo(map_6ac325365122eaa61e84a04cea326369);\n",
       "        \n",
       "&lt;/script&gt;\" style=\"position:absolute;width:100%;height:100%;left:0;top:0;border:none !important;\" allowfullscreen webkitallowfullscreen mozallowfullscreen></iframe></div></div>"
      ],
      "text/plain": [
       "<folium.folium.Map at 0x229e2964c40>"
      ]
     },
     "execution_count": 39,
     "metadata": {},
     "output_type": "execute_result"
    }
   ],
   "source": [
    "folium.Map(location=[26.8467,80.9462],zoom_start =14,height = 400)"
   ]
  },
  {
   "cell_type": "code",
   "execution_count": 40,
   "metadata": {},
   "outputs": [
    {
     "data": {
      "text/html": [
       "<div style=\"width:100%;\"><div style=\"position:relative;width:100%;height:0;padding-bottom:60%;\"><span style=\"color:#565656\">Make this Notebook Trusted to load map: File -> Trust Notebook</span><iframe srcdoc=\"&lt;!DOCTYPE html&gt;\n",
       "&lt;head&gt;    \n",
       "    &lt;meta http-equiv=&quot;content-type&quot; content=&quot;text/html; charset=UTF-8&quot; /&gt;\n",
       "    \n",
       "        &lt;script&gt;\n",
       "            L_NO_TOUCH = false;\n",
       "            L_DISABLE_3D = false;\n",
       "        &lt;/script&gt;\n",
       "    \n",
       "    &lt;style&gt;html, body {width: 100%;height: 100%;margin: 0;padding: 0;}&lt;/style&gt;\n",
       "    &lt;style&gt;#map {position:absolute;top:0;bottom:0;right:0;left:0;}&lt;/style&gt;\n",
       "    &lt;script src=&quot;https://cdn.jsdelivr.net/npm/leaflet@1.6.0/dist/leaflet.js&quot;&gt;&lt;/script&gt;\n",
       "    &lt;script src=&quot;https://code.jquery.com/jquery-1.12.4.min.js&quot;&gt;&lt;/script&gt;\n",
       "    &lt;script src=&quot;https://maxcdn.bootstrapcdn.com/bootstrap/3.2.0/js/bootstrap.min.js&quot;&gt;&lt;/script&gt;\n",
       "    &lt;script src=&quot;https://cdnjs.cloudflare.com/ajax/libs/Leaflet.awesome-markers/2.0.2/leaflet.awesome-markers.js&quot;&gt;&lt;/script&gt;\n",
       "    &lt;link rel=&quot;stylesheet&quot; href=&quot;https://cdn.jsdelivr.net/npm/leaflet@1.6.0/dist/leaflet.css&quot;/&gt;\n",
       "    &lt;link rel=&quot;stylesheet&quot; href=&quot;https://maxcdn.bootstrapcdn.com/bootstrap/3.2.0/css/bootstrap.min.css&quot;/&gt;\n",
       "    &lt;link rel=&quot;stylesheet&quot; href=&quot;https://maxcdn.bootstrapcdn.com/bootstrap/3.2.0/css/bootstrap-theme.min.css&quot;/&gt;\n",
       "    &lt;link rel=&quot;stylesheet&quot; href=&quot;https://maxcdn.bootstrapcdn.com/font-awesome/4.6.3/css/font-awesome.min.css&quot;/&gt;\n",
       "    &lt;link rel=&quot;stylesheet&quot; href=&quot;https://cdnjs.cloudflare.com/ajax/libs/Leaflet.awesome-markers/2.0.2/leaflet.awesome-markers.css&quot;/&gt;\n",
       "    &lt;link rel=&quot;stylesheet&quot; href=&quot;https://cdn.jsdelivr.net/gh/python-visualization/folium/folium/templates/leaflet.awesome.rotate.min.css&quot;/&gt;\n",
       "    \n",
       "            &lt;meta name=&quot;viewport&quot; content=&quot;width=device-width,\n",
       "                initial-scale=1.0, maximum-scale=1.0, user-scalable=no&quot; /&gt;\n",
       "            &lt;style&gt;\n",
       "                #map_2316dcddead33e480bd8b734de661e61 {\n",
       "                    position: relative;\n",
       "                    width: 100.0%;\n",
       "                    height: 400.0px;\n",
       "                    left: 0.0%;\n",
       "                    top: 0.0%;\n",
       "                }\n",
       "            &lt;/style&gt;\n",
       "        \n",
       "&lt;/head&gt;\n",
       "&lt;body&gt;    \n",
       "    \n",
       "            &lt;div class=&quot;folium-map&quot; id=&quot;map_2316dcddead33e480bd8b734de661e61&quot; &gt;&lt;/div&gt;\n",
       "        \n",
       "&lt;/body&gt;\n",
       "&lt;script&gt;    \n",
       "    \n",
       "            var map_2316dcddead33e480bd8b734de661e61 = L.map(\n",
       "                &quot;map_2316dcddead33e480bd8b734de661e61&quot;,\n",
       "                {\n",
       "                    center: [26.8467, 80.9462],\n",
       "                    crs: L.CRS.EPSG3857,\n",
       "                    zoom: 14,\n",
       "                    zoomControl: true,\n",
       "                    preferCanvas: false,\n",
       "                }\n",
       "            );\n",
       "\n",
       "            \n",
       "\n",
       "        \n",
       "    \n",
       "            var tile_layer_2023cadb43c70515d3476b5d32ef24fd = L.tileLayer(\n",
       "                &quot;https://stamen-tiles-{s}.a.ssl.fastly.net/toner/{z}/{x}/{y}.png&quot;,\n",
       "                {&quot;attribution&quot;: &quot;Map tiles by \\u003ca href=\\&quot;http://stamen.com\\&quot;\\u003eStamen Design\\u003c/a\\u003e, under \\u003ca href=\\&quot;http://creativecommons.org/licenses/by/3.0\\&quot;\\u003eCC BY 3.0\\u003c/a\\u003e. Data by \\u0026copy; \\u003ca href=\\&quot;http://openstreetmap.org\\&quot;\\u003eOpenStreetMap\\u003c/a\\u003e, under \\u003ca href=\\&quot;http://www.openstreetmap.org/copyright\\&quot;\\u003eODbL\\u003c/a\\u003e.&quot;, &quot;detectRetina&quot;: false, &quot;maxNativeZoom&quot;: 18, &quot;maxZoom&quot;: 18, &quot;minZoom&quot;: 0, &quot;noWrap&quot;: false, &quot;opacity&quot;: 1, &quot;subdomains&quot;: &quot;abc&quot;, &quot;tms&quot;: false}\n",
       "            ).addTo(map_2316dcddead33e480bd8b734de661e61);\n",
       "        \n",
       "&lt;/script&gt;\" style=\"position:absolute;width:100%;height:100%;left:0;top:0;border:none !important;\" allowfullscreen webkitallowfullscreen mozallowfullscreen></iframe></div></div>"
      ],
      "text/plain": [
       "<folium.folium.Map at 0x229e296f1c0>"
      ]
     },
     "execution_count": 40,
     "metadata": {},
     "output_type": "execute_result"
    }
   ],
   "source": [
    "folium.Map(location=[26.8467,80.9462],zoom_start =14,height = 400,tiles = 'Stamen Toner')"
   ]
  },
  {
   "cell_type": "code",
   "execution_count": 41,
   "metadata": {},
   "outputs": [
    {
     "data": {
      "text/html": [
       "<div style=\"width:100%;\"><div style=\"position:relative;width:100%;height:0;padding-bottom:60%;\"><span style=\"color:#565656\">Make this Notebook Trusted to load map: File -> Trust Notebook</span><iframe srcdoc=\"&lt;!DOCTYPE html&gt;\n",
       "&lt;head&gt;    \n",
       "    &lt;meta http-equiv=&quot;content-type&quot; content=&quot;text/html; charset=UTF-8&quot; /&gt;\n",
       "    \n",
       "        &lt;script&gt;\n",
       "            L_NO_TOUCH = false;\n",
       "            L_DISABLE_3D = false;\n",
       "        &lt;/script&gt;\n",
       "    \n",
       "    &lt;style&gt;html, body {width: 100%;height: 100%;margin: 0;padding: 0;}&lt;/style&gt;\n",
       "    &lt;style&gt;#map {position:absolute;top:0;bottom:0;right:0;left:0;}&lt;/style&gt;\n",
       "    &lt;script src=&quot;https://cdn.jsdelivr.net/npm/leaflet@1.6.0/dist/leaflet.js&quot;&gt;&lt;/script&gt;\n",
       "    &lt;script src=&quot;https://code.jquery.com/jquery-1.12.4.min.js&quot;&gt;&lt;/script&gt;\n",
       "    &lt;script src=&quot;https://maxcdn.bootstrapcdn.com/bootstrap/3.2.0/js/bootstrap.min.js&quot;&gt;&lt;/script&gt;\n",
       "    &lt;script src=&quot;https://cdnjs.cloudflare.com/ajax/libs/Leaflet.awesome-markers/2.0.2/leaflet.awesome-markers.js&quot;&gt;&lt;/script&gt;\n",
       "    &lt;link rel=&quot;stylesheet&quot; href=&quot;https://cdn.jsdelivr.net/npm/leaflet@1.6.0/dist/leaflet.css&quot;/&gt;\n",
       "    &lt;link rel=&quot;stylesheet&quot; href=&quot;https://maxcdn.bootstrapcdn.com/bootstrap/3.2.0/css/bootstrap.min.css&quot;/&gt;\n",
       "    &lt;link rel=&quot;stylesheet&quot; href=&quot;https://maxcdn.bootstrapcdn.com/bootstrap/3.2.0/css/bootstrap-theme.min.css&quot;/&gt;\n",
       "    &lt;link rel=&quot;stylesheet&quot; href=&quot;https://maxcdn.bootstrapcdn.com/font-awesome/4.6.3/css/font-awesome.min.css&quot;/&gt;\n",
       "    &lt;link rel=&quot;stylesheet&quot; href=&quot;https://cdnjs.cloudflare.com/ajax/libs/Leaflet.awesome-markers/2.0.2/leaflet.awesome-markers.css&quot;/&gt;\n",
       "    &lt;link rel=&quot;stylesheet&quot; href=&quot;https://cdn.jsdelivr.net/gh/python-visualization/folium/folium/templates/leaflet.awesome.rotate.min.css&quot;/&gt;\n",
       "    \n",
       "            &lt;meta name=&quot;viewport&quot; content=&quot;width=device-width,\n",
       "                initial-scale=1.0, maximum-scale=1.0, user-scalable=no&quot; /&gt;\n",
       "            &lt;style&gt;\n",
       "                #map_65ccc7d723abd3e7e1c184ebca9b6bf9 {\n",
       "                    position: relative;\n",
       "                    width: 100.0%;\n",
       "                    height: 400.0px;\n",
       "                    left: 0.0%;\n",
       "                    top: 0.0%;\n",
       "                }\n",
       "            &lt;/style&gt;\n",
       "        \n",
       "&lt;/head&gt;\n",
       "&lt;body&gt;    \n",
       "    \n",
       "            &lt;div class=&quot;folium-map&quot; id=&quot;map_65ccc7d723abd3e7e1c184ebca9b6bf9&quot; &gt;&lt;/div&gt;\n",
       "        \n",
       "&lt;/body&gt;\n",
       "&lt;script&gt;    \n",
       "    \n",
       "            var map_65ccc7d723abd3e7e1c184ebca9b6bf9 = L.map(\n",
       "                &quot;map_65ccc7d723abd3e7e1c184ebca9b6bf9&quot;,\n",
       "                {\n",
       "                    center: [26.8467, 80.9462],\n",
       "                    crs: L.CRS.EPSG3857,\n",
       "                    zoom: 14,\n",
       "                    zoomControl: true,\n",
       "                    preferCanvas: false,\n",
       "                }\n",
       "            );\n",
       "\n",
       "            \n",
       "\n",
       "        \n",
       "    \n",
       "            var tile_layer_e26b6f202a58e024a50c35fb33cd1f61 = L.tileLayer(\n",
       "                &quot;https://stamen-tiles-{s}.a.ssl.fastly.net/watercolor/{z}/{x}/{y}.jpg&quot;,\n",
       "                {&quot;attribution&quot;: &quot;Map tiles by \\u003ca href=\\&quot;http://stamen.com\\&quot;\\u003eStamen Design\\u003c/a\\u003e, under \\u003ca href=\\&quot;http://creativecommons.org/licenses/by/3.0\\&quot;\\u003eCC BY 3.0\\u003c/a\\u003e. Data by \\u0026copy; \\u003ca href=\\&quot;http://openstreetmap.org\\&quot;\\u003eOpenStreetMap\\u003c/a\\u003e, under \\u003ca href=\\&quot;http://creativecommons.org/licenses/by-sa/3.0\\&quot;\\u003eCC BY SA\\u003c/a\\u003e.&quot;, &quot;detectRetina&quot;: false, &quot;maxNativeZoom&quot;: 18, &quot;maxZoom&quot;: 18, &quot;minZoom&quot;: 0, &quot;noWrap&quot;: false, &quot;opacity&quot;: 1, &quot;subdomains&quot;: &quot;abc&quot;, &quot;tms&quot;: false}\n",
       "            ).addTo(map_65ccc7d723abd3e7e1c184ebca9b6bf9);\n",
       "        \n",
       "&lt;/script&gt;\" style=\"position:absolute;width:100%;height:100%;left:0;top:0;border:none !important;\" allowfullscreen webkitallowfullscreen mozallowfullscreen></iframe></div></div>"
      ],
      "text/plain": [
       "<folium.folium.Map at 0x229e296fbe0>"
      ]
     },
     "execution_count": 41,
     "metadata": {},
     "output_type": "execute_result"
    }
   ],
   "source": [
    "folium.Map(location=[26.8467,80.9462],zoom_start =14,height = 400, tiles = 'Stamen watercolor')"
   ]
  },
  {
   "cell_type": "code",
   "execution_count": 42,
   "metadata": {},
   "outputs": [
    {
     "data": {
      "text/html": [
       "<div style=\"width:100%;\"><div style=\"position:relative;width:100%;height:0;padding-bottom:60%;\"><span style=\"color:#565656\">Make this Notebook Trusted to load map: File -> Trust Notebook</span><iframe srcdoc=\"&lt;!DOCTYPE html&gt;\n",
       "&lt;head&gt;    \n",
       "    &lt;meta http-equiv=&quot;content-type&quot; content=&quot;text/html; charset=UTF-8&quot; /&gt;\n",
       "    \n",
       "        &lt;script&gt;\n",
       "            L_NO_TOUCH = false;\n",
       "            L_DISABLE_3D = false;\n",
       "        &lt;/script&gt;\n",
       "    \n",
       "    &lt;style&gt;html, body {width: 100%;height: 100%;margin: 0;padding: 0;}&lt;/style&gt;\n",
       "    &lt;style&gt;#map {position:absolute;top:0;bottom:0;right:0;left:0;}&lt;/style&gt;\n",
       "    &lt;script src=&quot;https://cdn.jsdelivr.net/npm/leaflet@1.6.0/dist/leaflet.js&quot;&gt;&lt;/script&gt;\n",
       "    &lt;script src=&quot;https://code.jquery.com/jquery-1.12.4.min.js&quot;&gt;&lt;/script&gt;\n",
       "    &lt;script src=&quot;https://maxcdn.bootstrapcdn.com/bootstrap/3.2.0/js/bootstrap.min.js&quot;&gt;&lt;/script&gt;\n",
       "    &lt;script src=&quot;https://cdnjs.cloudflare.com/ajax/libs/Leaflet.awesome-markers/2.0.2/leaflet.awesome-markers.js&quot;&gt;&lt;/script&gt;\n",
       "    &lt;link rel=&quot;stylesheet&quot; href=&quot;https://cdn.jsdelivr.net/npm/leaflet@1.6.0/dist/leaflet.css&quot;/&gt;\n",
       "    &lt;link rel=&quot;stylesheet&quot; href=&quot;https://maxcdn.bootstrapcdn.com/bootstrap/3.2.0/css/bootstrap.min.css&quot;/&gt;\n",
       "    &lt;link rel=&quot;stylesheet&quot; href=&quot;https://maxcdn.bootstrapcdn.com/bootstrap/3.2.0/css/bootstrap-theme.min.css&quot;/&gt;\n",
       "    &lt;link rel=&quot;stylesheet&quot; href=&quot;https://maxcdn.bootstrapcdn.com/font-awesome/4.6.3/css/font-awesome.min.css&quot;/&gt;\n",
       "    &lt;link rel=&quot;stylesheet&quot; href=&quot;https://cdnjs.cloudflare.com/ajax/libs/Leaflet.awesome-markers/2.0.2/leaflet.awesome-markers.css&quot;/&gt;\n",
       "    &lt;link rel=&quot;stylesheet&quot; href=&quot;https://cdn.jsdelivr.net/gh/python-visualization/folium/folium/templates/leaflet.awesome.rotate.min.css&quot;/&gt;\n",
       "    \n",
       "            &lt;meta name=&quot;viewport&quot; content=&quot;width=device-width,\n",
       "                initial-scale=1.0, maximum-scale=1.0, user-scalable=no&quot; /&gt;\n",
       "            &lt;style&gt;\n",
       "                #map_492202d5aeecdf26602138969a46c17b {\n",
       "                    position: relative;\n",
       "                    width: 100.0%;\n",
       "                    height: 400.0px;\n",
       "                    left: 0.0%;\n",
       "                    top: 0.0%;\n",
       "                }\n",
       "            &lt;/style&gt;\n",
       "        \n",
       "&lt;/head&gt;\n",
       "&lt;body&gt;    \n",
       "    \n",
       "            &lt;div class=&quot;folium-map&quot; id=&quot;map_492202d5aeecdf26602138969a46c17b&quot; &gt;&lt;/div&gt;\n",
       "        \n",
       "&lt;/body&gt;\n",
       "&lt;script&gt;    \n",
       "    \n",
       "            var map_492202d5aeecdf26602138969a46c17b = L.map(\n",
       "                &quot;map_492202d5aeecdf26602138969a46c17b&quot;,\n",
       "                {\n",
       "                    center: [26.8467, 80.9462],\n",
       "                    crs: L.CRS.EPSG3857,\n",
       "                    zoom: 14,\n",
       "                    zoomControl: true,\n",
       "                    preferCanvas: false,\n",
       "                }\n",
       "            );\n",
       "\n",
       "            \n",
       "\n",
       "        \n",
       "    \n",
       "            var tile_layer_af38cf60c234c0f634e831b062d28360 = L.tileLayer(\n",
       "                &quot;https://{s}.tile.openstreetmap.org/{z}/{x}/{y}.png&quot;,\n",
       "                {&quot;attribution&quot;: &quot;Data by \\u0026copy; \\u003ca href=\\&quot;http://openstreetmap.org\\&quot;\\u003eOpenStreetMap\\u003c/a\\u003e, under \\u003ca href=\\&quot;http://www.openstreetmap.org/copyright\\&quot;\\u003eODbL\\u003c/a\\u003e.&quot;, &quot;detectRetina&quot;: false, &quot;maxNativeZoom&quot;: 18, &quot;maxZoom&quot;: 18, &quot;minZoom&quot;: 0, &quot;noWrap&quot;: false, &quot;opacity&quot;: 1, &quot;subdomains&quot;: &quot;abc&quot;, &quot;tms&quot;: false}\n",
       "            ).addTo(map_492202d5aeecdf26602138969a46c17b);\n",
       "        \n",
       "    \n",
       "            var marker_6f5f6c0f428731dad77fc34d4b152ec9 = L.marker(\n",
       "                [26.8467, 80.9462],\n",
       "                {}\n",
       "            ).addTo(map_492202d5aeecdf26602138969a46c17b);\n",
       "        \n",
       "    \n",
       "        var popup_af73f1ddd7e5a77826964c01fb7658ea = L.popup({&quot;maxWidth&quot;: &quot;100%&quot;});\n",
       "\n",
       "        \n",
       "            \n",
       "                var html_4eaa7b63bf8aec19ef3183281499195c = $(`&lt;div id=&quot;html_4eaa7b63bf8aec19ef3183281499195c&quot; style=&quot;width: 100.0%; height: 100.0%;&quot;&gt;Lucknow Center&lt;/div&gt;`)[0];\n",
       "                popup_af73f1ddd7e5a77826964c01fb7658ea.setContent(html_4eaa7b63bf8aec19ef3183281499195c);\n",
       "            \n",
       "        \n",
       "\n",
       "        marker_6f5f6c0f428731dad77fc34d4b152ec9.bindPopup(popup_af73f1ddd7e5a77826964c01fb7658ea)\n",
       "        ;\n",
       "\n",
       "        \n",
       "    \n",
       "    \n",
       "            marker_6f5f6c0f428731dad77fc34d4b152ec9.bindTooltip(\n",
       "                `&lt;div&gt;\n",
       "                     Click to see\n",
       "                 &lt;/div&gt;`,\n",
       "                {&quot;sticky&quot;: true}\n",
       "            );\n",
       "        \n",
       "&lt;/script&gt;\" style=\"position:absolute;width:100%;height:100%;left:0;top:0;border:none !important;\" allowfullscreen webkitallowfullscreen mozallowfullscreen></iframe></div></div>"
      ],
      "text/plain": [
       "<folium.folium.Map at 0x229e295d760>"
      ]
     },
     "execution_count": 42,
     "metadata": {},
     "output_type": "execute_result"
    }
   ],
   "source": [
    "lko = folium.Map(location=[26.8467, 80.9462],zoom_start = 14 , height =400)\n",
    "m1 = folium.Marker([26.8467, 80.9462],popup = 'Lucknow Center',tooltip = 'Click to see')\n",
    "m1.add_to(lko)\n",
    "lko"
   ]
  },
  {
   "cell_type": "code",
   "execution_count": 43,
   "metadata": {},
   "outputs": [
    {
     "ename": "TypeError",
     "evalue": "get_name() missing 1 required positional argument: 'self'",
     "output_type": "error",
     "traceback": [
      "\u001b[1;31m---------------------------------------------------------------------------\u001b[0m",
      "\u001b[1;31mTypeError\u001b[0m                                 Traceback (most recent call last)",
      "\u001b[1;32mc:\\Users\\mcups\\Desktop\\Code & Git\\Python with DS - Digipodium\\Data Science\\data_analytics4.ipynb Cell 63\u001b[0m in \u001b[0;36m<cell line: 1>\u001b[1;34m()\u001b[0m\n\u001b[1;32m----> <a href='vscode-notebook-cell:/c%3A/Users/mcups/Desktop/Code%20%26%20Git/Python%20with%20DS%20-%20Digipodium/Data%20Science/data_analytics4.ipynb#Y123sZmlsZQ%3D%3D?line=0'>1</a>\u001b[0m lko\u001b[39m.\u001b[39;49madd_child(folium\u001b[39m.\u001b[39;49mClickForMarker)\n",
      "File \u001b[1;32mc:\\Users\\mcups\\miniconda3\\lib\\site-packages\\branca\\element.py:108\u001b[0m, in \u001b[0;36mElement.add_child\u001b[1;34m(self, child, name, index)\u001b[0m\n\u001b[0;32m    106\u001b[0m \u001b[39m\"\"\"Add a child.\"\"\"\u001b[39;00m\n\u001b[0;32m    107\u001b[0m \u001b[39mif\u001b[39;00m name \u001b[39mis\u001b[39;00m \u001b[39mNone\u001b[39;00m:\n\u001b[1;32m--> 108\u001b[0m     name \u001b[39m=\u001b[39m child\u001b[39m.\u001b[39;49mget_name()\n\u001b[0;32m    109\u001b[0m \u001b[39mif\u001b[39;00m index \u001b[39mis\u001b[39;00m \u001b[39mNone\u001b[39;00m:\n\u001b[0;32m    110\u001b[0m     \u001b[39mself\u001b[39m\u001b[39m.\u001b[39m_children[name] \u001b[39m=\u001b[39m child\n",
      "\u001b[1;31mTypeError\u001b[0m: get_name() missing 1 required positional argument: 'self'"
     ]
    }
   ],
   "source": [
    "lko.add_child(folium.ClickForMarker)"
   ]
  },
  {
   "cell_type": "code",
   "execution_count": null,
   "metadata": {},
   "outputs": [],
   "source": []
  }
 ],
 "metadata": {
  "kernelspec": {
   "display_name": "Python 3.9.12 ('base')",
   "language": "python",
   "name": "python3"
  },
  "language_info": {
   "codemirror_mode": {
    "name": "ipython",
    "version": 3
   },
   "file_extension": ".py",
   "mimetype": "text/x-python",
   "name": "python",
   "nbconvert_exporter": "python",
   "pygments_lexer": "ipython3",
   "version": "3.9.12"
  },
  "orig_nbformat": 4,
  "vscode": {
   "interpreter": {
    "hash": "10bd505096551c50069a3dbdaed0ac86691ac343b612943e6011bfc2aef8ecb4"
   }
  }
 },
 "nbformat": 4,
 "nbformat_minor": 2
}
