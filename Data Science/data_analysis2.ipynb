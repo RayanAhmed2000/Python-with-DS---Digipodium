{
 "cells": [
  {
   "cell_type": "code",
   "execution_count": 1,
   "metadata": {},
   "outputs": [],
   "source": [
    "import pandas as pd\n",
    "import numpy as np\n",
    "import matplotlib.pyplot as plt\n",
    "import os"
   ]
  },
  {
   "cell_type": "code",
   "execution_count": 7,
   "metadata": {},
   "outputs": [
    {
     "name": "stdout",
     "output_type": "stream",
     "text": [
      "<class 'pandas.core.frame.DataFrame'>\n",
      "Int64Index: 192 entries, 0 to 191\n",
      "Data columns (total 3 columns):\n",
      " #   Column  Non-Null Count  Dtype \n",
      "---  ------  --------------  ----- \n",
      " 0   title   192 non-null    object\n",
      " 1   price   192 non-null    object\n",
      " 2   link    192 non-null    object\n",
      "dtypes: object(3)\n",
      "memory usage: 6.0+ KB\n",
      "None\n"
     ]
    }
   ],
   "source": [
    "filepath = 'laptop_data.csv'\n",
    "if not os.path.exists(filepath):\n",
    "    print('file not found')\n",
    "else:\n",
    "    df = pd.read_csv(filepath, index_col=0) # telling that 0th column is index \n",
    "    print(df.info())"
   ]
  },
  {
   "cell_type": "markdown",
   "metadata": {},
   "source": [
    "## unnamed : 0 means auto indexing means indexing already done"
   ]
  },
  {
   "cell_type": "code",
   "execution_count": 6,
   "metadata": {},
   "outputs": [
    {
     "data": {
      "text/html": [
       "<div>\n",
       "<style scoped>\n",
       "    .dataframe tbody tr th:only-of-type {\n",
       "        vertical-align: middle;\n",
       "    }\n",
       "\n",
       "    .dataframe tbody tr th {\n",
       "        vertical-align: top;\n",
       "    }\n",
       "\n",
       "    .dataframe thead th {\n",
       "        text-align: right;\n",
       "    }\n",
       "</style>\n",
       "<table border=\"1\" class=\"dataframe\">\n",
       "  <thead>\n",
       "    <tr style=\"text-align: right;\">\n",
       "      <th></th>\n",
       "      <th>title</th>\n",
       "      <th>price</th>\n",
       "      <th>link</th>\n",
       "    </tr>\n",
       "  </thead>\n",
       "  <tbody>\n",
       "    <tr>\n",
       "      <th>0</th>\n",
       "      <td>Lenovo IdeaPad 3 Core i3 11th Gen - (8 GB/512 ...</td>\n",
       "      <td>₹33,990</td>\n",
       "      <td>/lenovo-ideapad-3-core-i3-11th-gen-8-gb-512-gb...</td>\n",
       "    </tr>\n",
       "    <tr>\n",
       "      <th>1</th>\n",
       "      <td>Lenovo IdeaPad Gaming Core i5 11th Gen - (8 GB...</td>\n",
       "      <td>₹46,990</td>\n",
       "      <td>/lenovo-ideapad-gaming-core-i5-11th-gen-8-gb-5...</td>\n",
       "    </tr>\n",
       "    <tr>\n",
       "      <th>2</th>\n",
       "      <td>ASUS VivoBook K15 OLED Ryzen 7 Octa Core AMD R...</td>\n",
       "      <td>₹56,890</td>\n",
       "      <td>/asus-vivobook-k15-oled-ryzen-7-octa-core-amd-...</td>\n",
       "    </tr>\n",
       "    <tr>\n",
       "      <th>3</th>\n",
       "      <td>ASUS Vivobook 15 Ryzen 3 Dual Core AMD R3-3250...</td>\n",
       "      <td>₹26,890</td>\n",
       "      <td>/asus-vivobook-15-ryzen-3-dual-core-amd-r3-325...</td>\n",
       "    </tr>\n",
       "    <tr>\n",
       "      <th>4</th>\n",
       "      <td>HP Core i5 12th Gen - (16 GB/512 GB SSD/Window...</td>\n",
       "      <td>₹57,890</td>\n",
       "      <td>/hp-core-i5-12th-gen-16-gb-512-gb-ssd-windows-...</td>\n",
       "    </tr>\n",
       "    <tr>\n",
       "      <th>...</th>\n",
       "      <td>...</td>\n",
       "      <td>...</td>\n",
       "      <td>...</td>\n",
       "    </tr>\n",
       "    <tr>\n",
       "      <th>187</th>\n",
       "      <td>Lenovo IdeaPad Gaming 3 Core i5 11th Gen - (8 ...</td>\n",
       "      <td>₹58,990</td>\n",
       "      <td>/lenovo-ideapad-gaming-3-core-i5-11th-gen-8-gb...</td>\n",
       "    </tr>\n",
       "    <tr>\n",
       "      <th>188</th>\n",
       "      <td>DELL Inspiron Core i3 11th Gen - (8 GB/256 GB ...</td>\n",
       "      <td>₹50,990</td>\n",
       "      <td>/dell-inspiron-core-i3-11th-gen-8-gb-256-gb-ss...</td>\n",
       "    </tr>\n",
       "    <tr>\n",
       "      <th>189</th>\n",
       "      <td>ASUS VivoBook K15 OLED (2022) Core i5 11th Gen...</td>\n",
       "      <td>₹64,890</td>\n",
       "      <td>/asus-vivobook-k15-oled-2022-core-i5-11th-gen-...</td>\n",
       "    </tr>\n",
       "    <tr>\n",
       "      <th>190</th>\n",
       "      <td>Lenovo Ideapad Slim 5 Ryzen 7 Octa Core 4700U ...</td>\n",
       "      <td>₹49,890</td>\n",
       "      <td>/lenovo-ideapad-slim-5-ryzen-7-octa-core-4700u...</td>\n",
       "    </tr>\n",
       "    <tr>\n",
       "      <th>191</th>\n",
       "      <td>Lenovo IdeaPad 3 Core i5 12th Gen - (16 GB/512...</td>\n",
       "      <td>₹56,990</td>\n",
       "      <td>/lenovo-ideapad-3-core-i5-12th-gen-16-gb-512-g...</td>\n",
       "    </tr>\n",
       "  </tbody>\n",
       "</table>\n",
       "<p>192 rows × 3 columns</p>\n",
       "</div>"
      ],
      "text/plain": [
       "                                                 title    price  \\\n",
       "0    Lenovo IdeaPad 3 Core i3 11th Gen - (8 GB/512 ...  ₹33,990   \n",
       "1    Lenovo IdeaPad Gaming Core i5 11th Gen - (8 GB...  ₹46,990   \n",
       "2    ASUS VivoBook K15 OLED Ryzen 7 Octa Core AMD R...  ₹56,890   \n",
       "3    ASUS Vivobook 15 Ryzen 3 Dual Core AMD R3-3250...  ₹26,890   \n",
       "4    HP Core i5 12th Gen - (16 GB/512 GB SSD/Window...  ₹57,890   \n",
       "..                                                 ...      ...   \n",
       "187  Lenovo IdeaPad Gaming 3 Core i5 11th Gen - (8 ...  ₹58,990   \n",
       "188  DELL Inspiron Core i3 11th Gen - (8 GB/256 GB ...  ₹50,990   \n",
       "189  ASUS VivoBook K15 OLED (2022) Core i5 11th Gen...  ₹64,890   \n",
       "190  Lenovo Ideapad Slim 5 Ryzen 7 Octa Core 4700U ...  ₹49,890   \n",
       "191  Lenovo IdeaPad 3 Core i5 12th Gen - (16 GB/512...  ₹56,990   \n",
       "\n",
       "                                                  link  \n",
       "0    /lenovo-ideapad-3-core-i3-11th-gen-8-gb-512-gb...  \n",
       "1    /lenovo-ideapad-gaming-core-i5-11th-gen-8-gb-5...  \n",
       "2    /asus-vivobook-k15-oled-ryzen-7-octa-core-amd-...  \n",
       "3    /asus-vivobook-15-ryzen-3-dual-core-amd-r3-325...  \n",
       "4    /hp-core-i5-12th-gen-16-gb-512-gb-ssd-windows-...  \n",
       "..                                                 ...  \n",
       "187  /lenovo-ideapad-gaming-3-core-i5-11th-gen-8-gb...  \n",
       "188  /dell-inspiron-core-i3-11th-gen-8-gb-256-gb-ss...  \n",
       "189  /asus-vivobook-k15-oled-2022-core-i5-11th-gen-...  \n",
       "190  /lenovo-ideapad-slim-5-ryzen-7-octa-core-4700u...  \n",
       "191  /lenovo-ideapad-3-core-i5-12th-gen-16-gb-512-g...  \n",
       "\n",
       "[192 rows x 3 columns]"
      ]
     },
     "execution_count": 6,
     "metadata": {},
     "output_type": "execute_result"
    }
   ],
   "source": [
    "df"
   ]
  },
  {
   "cell_type": "code",
   "execution_count": 10,
   "metadata": {},
   "outputs": [
    {
     "data": {
      "text/plain": [
       "0"
      ]
     },
     "execution_count": 10,
     "metadata": {},
     "output_type": "execute_result"
    }
   ],
   "source": [
    "df.duplicated().sum()   # no of duplicate entries"
   ]
  },
  {
   "cell_type": "code",
   "execution_count": 12,
   "metadata": {},
   "outputs": [
    {
     "data": {
      "text/plain": [
       "47"
      ]
     },
     "execution_count": 12,
     "metadata": {},
     "output_type": "execute_result"
    }
   ],
   "source": [
    "df['title'].duplicated().sum()   # no of duplicate titles"
   ]
  },
  {
   "cell_type": "markdown",
   "metadata": {},
   "source": [
    "# we need to clean the price and make it numeric"
   ]
  },
  {
   "cell_type": "markdown",
   "metadata": {},
   "source": [
    "### First let us understand what is a lambda fucntion\n",
    "\n",
    "\n",
    "**In maths**\n",
    "\n",
    "`f(x) = x*2`\n",
    "`f(5) = 10`\n",
    "`f(0.5) = 1`\n",
    "`f(10) = 20`\n",
    "\n",
    "**In Python**\n",
    "\n",
    "`f= lambda x:x*2`\n",
    "`f(5)`\n",
    "`f(20)`\n",
    "\n",
    "\n",
    "\n",
    "\n"
   ]
  },
  {
   "cell_type": "code",
   "execution_count": 13,
   "metadata": {},
   "outputs": [
    {
     "name": "stdout",
     "output_type": "stream",
     "text": [
      "16\n",
      "11\n"
     ]
    }
   ],
   "source": [
    "f = lambda i:i*4\n",
    "print(f(4))\n",
    "g= lambda x,y : x+y ** 2\n",
    "print(g(2,3))"
   ]
  },
  {
   "cell_type": "markdown",
   "metadata": {},
   "source": [
    "## apply()- applies function on series(columns)\n",
    "## applymap() - function on a dataframe"
   ]
  },
  {
   "cell_type": "code",
   "execution_count": 22,
   "metadata": {},
   "outputs": [
    {
     "data": {
      "text/plain": [
       "0      ₹33,990\n",
       "1      ₹46,990\n",
       "2      ₹56,890\n",
       "3      ₹26,890\n",
       "4      ₹57,890\n",
       "        ...   \n",
       "187    ₹58,990\n",
       "188    ₹50,990\n",
       "189    ₹64,890\n",
       "190    ₹49,890\n",
       "191    ₹56,990\n",
       "Name: price, Length: 192, dtype: object"
      ]
     },
     "execution_count": 22,
     "metadata": {},
     "output_type": "execute_result"
    }
   ],
   "source": [
    "df['price'].apply(lambda val:val)"
   ]
  },
  {
   "cell_type": "markdown",
   "metadata": {},
   "source": [
    "### Converting price from dtype = object to dtype = int64 by removing commas and rupees symbol"
   ]
  },
  {
   "cell_type": "code",
   "execution_count": 32,
   "metadata": {},
   "outputs": [
    {
     "data": {
      "text/plain": [
       "'33,990'"
      ]
     },
     "execution_count": 32,
     "metadata": {},
     "output_type": "execute_result"
    }
   ],
   "source": [
    "'₹33,990' [1:]  # how we can remove rupees symbol"
   ]
  },
  {
   "cell_type": "code",
   "execution_count": 33,
   "metadata": {},
   "outputs": [
    {
     "data": {
      "text/plain": [
       "'33990'"
      ]
     },
     "execution_count": 33,
     "metadata": {},
     "output_type": "execute_result"
    }
   ],
   "source": [
    "'₹33,990' [1:].replace(',','')      # how we can remove commas"
   ]
  },
  {
   "cell_type": "code",
   "execution_count": 34,
   "metadata": {},
   "outputs": [
    {
     "data": {
      "text/plain": [
       "181    309890\n",
       "23     149890\n",
       "166    149890\n",
       "142    129890\n",
       "173    129890\n",
       "        ...  \n",
       "86      24890\n",
       "101     24890\n",
       "141     22990\n",
       "130     22990\n",
       "138     17990\n",
       "Name: price, Length: 192, dtype: int64"
      ]
     },
     "execution_count": 34,
     "metadata": {},
     "output_type": "execute_result"
    }
   ],
   "source": [
    "df['price'].apply(lambda val: int(val[1:].replace(',','')))     # removing"
   ]
  },
  {
   "cell_type": "markdown",
   "metadata": {},
   "source": [
    "# Saving results in new column "
   ]
  },
  {
   "cell_type": "code",
   "execution_count": 25,
   "metadata": {},
   "outputs": [],
   "source": [
    "df['price_clean'] = df['price'].apply(lambda val: int(val[1:].replace(',','')))"
   ]
  },
  {
   "cell_type": "code",
   "execution_count": 35,
   "metadata": {},
   "outputs": [
    {
     "data": {
      "text/plain": [
       "181    309890\n",
       "23     149890\n",
       "166    149890\n",
       "142    129890\n",
       "173    129890\n",
       "        ...  \n",
       "86      24890\n",
       "101     24890\n",
       "141     22990\n",
       "130     22990\n",
       "138     17990\n",
       "Name: price_clean, Length: 192, dtype: int64"
      ]
     },
     "execution_count": 35,
     "metadata": {},
     "output_type": "execute_result"
    }
   ],
   "source": [
    "df['price_clean'] # Viewing price_clean column"
   ]
  },
  {
   "cell_type": "code",
   "execution_count": 36,
   "metadata": {},
   "outputs": [
    {
     "data": {
      "text/html": [
       "<div>\n",
       "<style scoped>\n",
       "    .dataframe tbody tr th:only-of-type {\n",
       "        vertical-align: middle;\n",
       "    }\n",
       "\n",
       "    .dataframe tbody tr th {\n",
       "        vertical-align: top;\n",
       "    }\n",
       "\n",
       "    .dataframe thead th {\n",
       "        text-align: right;\n",
       "    }\n",
       "</style>\n",
       "<table border=\"1\" class=\"dataframe\">\n",
       "  <thead>\n",
       "    <tr style=\"text-align: right;\">\n",
       "      <th></th>\n",
       "      <th>title</th>\n",
       "      <th>price</th>\n",
       "      <th>link</th>\n",
       "      <th>price_clean</th>\n",
       "    </tr>\n",
       "  </thead>\n",
       "  <tbody>\n",
       "    <tr>\n",
       "      <th>181</th>\n",
       "      <td>APPLE 2021 Macbook Pro M1 Max - (32 GB/1 TB SS...</td>\n",
       "      <td>₹3,09,890</td>\n",
       "      <td>/apple-2021-macbook-pro-m1-max-32-gb-1-tb-ssd-...</td>\n",
       "      <td>309890</td>\n",
       "    </tr>\n",
       "    <tr>\n",
       "      <th>23</th>\n",
       "      <td>ASUS ROG Strix G15 Advantage Edition with 90Wh...</td>\n",
       "      <td>₹1,49,890</td>\n",
       "      <td>/asus-rog-strix-g15-advantage-90whr-battery-ry...</td>\n",
       "      <td>149890</td>\n",
       "    </tr>\n",
       "    <tr>\n",
       "      <th>166</th>\n",
       "      <td>APPLE MacBook Pro M1 - (8 GB/1 TB SSD/Mac OS B...</td>\n",
       "      <td>₹1,49,890</td>\n",
       "      <td>/apple-macbook-pro-m1-8-gb-1-tb-ssd-mac-os-big...</td>\n",
       "      <td>149890</td>\n",
       "    </tr>\n",
       "    <tr>\n",
       "      <th>142</th>\n",
       "      <td>MSI Core i9 12th Gen - (16 GB/1 TB SSD/Windows...</td>\n",
       "      <td>₹1,29,890</td>\n",
       "      <td>/msi-core-i9-12th-gen-16-gb-1-tb-ssd-windows-1...</td>\n",
       "      <td>129890</td>\n",
       "    </tr>\n",
       "    <tr>\n",
       "      <th>173</th>\n",
       "      <td>MSI GP66 Leopard Core i7 11th Gen - (16 GB/1 T...</td>\n",
       "      <td>₹1,29,890</td>\n",
       "      <td>/msi-gp66-leopard-core-i7-11th-gen-16-gb-1-tb-...</td>\n",
       "      <td>129890</td>\n",
       "    </tr>\n",
       "    <tr>\n",
       "      <th>...</th>\n",
       "      <td>...</td>\n",
       "      <td>...</td>\n",
       "      <td>...</td>\n",
       "      <td>...</td>\n",
       "    </tr>\n",
       "    <tr>\n",
       "      <th>86</th>\n",
       "      <td>ASUS VivoBook 14 (2022) Ryzen 3 Dual Core AMD ...</td>\n",
       "      <td>₹24,890</td>\n",
       "      <td>/asus-vivobook-14-2022-ryzen-3-dual-core-amd-r...</td>\n",
       "      <td>24890</td>\n",
       "    </tr>\n",
       "    <tr>\n",
       "      <th>101</th>\n",
       "      <td>Lenovo Celeron Dual Core - (8 GB/256 GB SSD/Wi...</td>\n",
       "      <td>₹24,890</td>\n",
       "      <td>/lenovo-celeron-dual-core-8-gb-256-gb-ssd-wind...</td>\n",
       "      <td>24890</td>\n",
       "    </tr>\n",
       "    <tr>\n",
       "      <th>141</th>\n",
       "      <td>Lenovo IdeaPad 3 Celeron Dual Core 4th Gen - (...</td>\n",
       "      <td>₹22,990</td>\n",
       "      <td>/lenovo-ideapad-3-celeron-dual-core-4th-gen-4-...</td>\n",
       "      <td>22990</td>\n",
       "    </tr>\n",
       "    <tr>\n",
       "      <th>130</th>\n",
       "      <td>ASUS VivoBook 14 (2021) Celeron Dual Core - (4...</td>\n",
       "      <td>₹22,990</td>\n",
       "      <td>/asus-vivobook-14-2021-celeron-dual-core-4-gb-...</td>\n",
       "      <td>22990</td>\n",
       "    </tr>\n",
       "    <tr>\n",
       "      <th>138</th>\n",
       "      <td>ASUS (2022) Celeron Dual Core - (4 GB/128 GB S...</td>\n",
       "      <td>₹17,990</td>\n",
       "      <td>/asus-2022-celeron-dual-core-4-gb-128-gb-ssd-w...</td>\n",
       "      <td>17990</td>\n",
       "    </tr>\n",
       "  </tbody>\n",
       "</table>\n",
       "<p>192 rows × 4 columns</p>\n",
       "</div>"
      ],
      "text/plain": [
       "                                                 title      price  \\\n",
       "181  APPLE 2021 Macbook Pro M1 Max - (32 GB/1 TB SS...  ₹3,09,890   \n",
       "23   ASUS ROG Strix G15 Advantage Edition with 90Wh...  ₹1,49,890   \n",
       "166  APPLE MacBook Pro M1 - (8 GB/1 TB SSD/Mac OS B...  ₹1,49,890   \n",
       "142  MSI Core i9 12th Gen - (16 GB/1 TB SSD/Windows...  ₹1,29,890   \n",
       "173  MSI GP66 Leopard Core i7 11th Gen - (16 GB/1 T...  ₹1,29,890   \n",
       "..                                                 ...        ...   \n",
       "86   ASUS VivoBook 14 (2022) Ryzen 3 Dual Core AMD ...    ₹24,890   \n",
       "101  Lenovo Celeron Dual Core - (8 GB/256 GB SSD/Wi...    ₹24,890   \n",
       "141  Lenovo IdeaPad 3 Celeron Dual Core 4th Gen - (...    ₹22,990   \n",
       "130  ASUS VivoBook 14 (2021) Celeron Dual Core - (4...    ₹22,990   \n",
       "138  ASUS (2022) Celeron Dual Core - (4 GB/128 GB S...    ₹17,990   \n",
       "\n",
       "                                                  link  price_clean  \n",
       "181  /apple-2021-macbook-pro-m1-max-32-gb-1-tb-ssd-...       309890  \n",
       "23   /asus-rog-strix-g15-advantage-90whr-battery-ry...       149890  \n",
       "166  /apple-macbook-pro-m1-8-gb-1-tb-ssd-mac-os-big...       149890  \n",
       "142  /msi-core-i9-12th-gen-16-gb-1-tb-ssd-windows-1...       129890  \n",
       "173  /msi-gp66-leopard-core-i7-11th-gen-16-gb-1-tb-...       129890  \n",
       "..                                                 ...          ...  \n",
       "86   /asus-vivobook-14-2022-ryzen-3-dual-core-amd-r...        24890  \n",
       "101  /lenovo-celeron-dual-core-8-gb-256-gb-ssd-wind...        24890  \n",
       "141  /lenovo-ideapad-3-celeron-dual-core-4th-gen-4-...        22990  \n",
       "130  /asus-vivobook-14-2021-celeron-dual-core-4-gb-...        22990  \n",
       "138  /asus-2022-celeron-dual-core-4-gb-128-gb-ssd-w...        17990  \n",
       "\n",
       "[192 rows x 4 columns]"
      ]
     },
     "execution_count": 36,
     "metadata": {},
     "output_type": "execute_result"
    }
   ],
   "source": [
    "df  # Viewing full dataframe"
   ]
  },
  {
   "cell_type": "markdown",
   "metadata": {},
   "source": [
    "# Sorting in Descending order"
   ]
  },
  {
   "cell_type": "code",
   "execution_count": 28,
   "metadata": {},
   "outputs": [],
   "source": [
    "df.sort_values(by = 'price_clean', ascending=False, inplace = True)"
   ]
  },
  {
   "cell_type": "markdown",
   "metadata": {},
   "source": [
    "# Viewing cheapest items"
   ]
  },
  {
   "cell_type": "code",
   "execution_count": 29,
   "metadata": {},
   "outputs": [
    {
     "data": {
      "text/html": [
       "<div>\n",
       "<style scoped>\n",
       "    .dataframe tbody tr th:only-of-type {\n",
       "        vertical-align: middle;\n",
       "    }\n",
       "\n",
       "    .dataframe tbody tr th {\n",
       "        vertical-align: top;\n",
       "    }\n",
       "\n",
       "    .dataframe thead th {\n",
       "        text-align: right;\n",
       "    }\n",
       "</style>\n",
       "<table border=\"1\" class=\"dataframe\">\n",
       "  <thead>\n",
       "    <tr style=\"text-align: right;\">\n",
       "      <th></th>\n",
       "      <th>title</th>\n",
       "      <th>price</th>\n",
       "      <th>link</th>\n",
       "      <th>price_clean</th>\n",
       "    </tr>\n",
       "  </thead>\n",
       "  <tbody>\n",
       "    <tr>\n",
       "      <th>86</th>\n",
       "      <td>ASUS VivoBook 14 (2022) Ryzen 3 Dual Core AMD ...</td>\n",
       "      <td>₹24,890</td>\n",
       "      <td>/asus-vivobook-14-2022-ryzen-3-dual-core-amd-r...</td>\n",
       "      <td>24890</td>\n",
       "    </tr>\n",
       "    <tr>\n",
       "      <th>101</th>\n",
       "      <td>Lenovo Celeron Dual Core - (8 GB/256 GB SSD/Wi...</td>\n",
       "      <td>₹24,890</td>\n",
       "      <td>/lenovo-celeron-dual-core-8-gb-256-gb-ssd-wind...</td>\n",
       "      <td>24890</td>\n",
       "    </tr>\n",
       "    <tr>\n",
       "      <th>141</th>\n",
       "      <td>Lenovo IdeaPad 3 Celeron Dual Core 4th Gen - (...</td>\n",
       "      <td>₹22,990</td>\n",
       "      <td>/lenovo-ideapad-3-celeron-dual-core-4th-gen-4-...</td>\n",
       "      <td>22990</td>\n",
       "    </tr>\n",
       "    <tr>\n",
       "      <th>130</th>\n",
       "      <td>ASUS VivoBook 14 (2021) Celeron Dual Core - (4...</td>\n",
       "      <td>₹22,990</td>\n",
       "      <td>/asus-vivobook-14-2021-celeron-dual-core-4-gb-...</td>\n",
       "      <td>22990</td>\n",
       "    </tr>\n",
       "    <tr>\n",
       "      <th>138</th>\n",
       "      <td>ASUS (2022) Celeron Dual Core - (4 GB/128 GB S...</td>\n",
       "      <td>₹17,990</td>\n",
       "      <td>/asus-2022-celeron-dual-core-4-gb-128-gb-ssd-w...</td>\n",
       "      <td>17990</td>\n",
       "    </tr>\n",
       "  </tbody>\n",
       "</table>\n",
       "</div>"
      ],
      "text/plain": [
       "                                                 title    price  \\\n",
       "86   ASUS VivoBook 14 (2022) Ryzen 3 Dual Core AMD ...  ₹24,890   \n",
       "101  Lenovo Celeron Dual Core - (8 GB/256 GB SSD/Wi...  ₹24,890   \n",
       "141  Lenovo IdeaPad 3 Celeron Dual Core 4th Gen - (...  ₹22,990   \n",
       "130  ASUS VivoBook 14 (2021) Celeron Dual Core - (4...  ₹22,990   \n",
       "138  ASUS (2022) Celeron Dual Core - (4 GB/128 GB S...  ₹17,990   \n",
       "\n",
       "                                                  link  price_clean  \n",
       "86   /asus-vivobook-14-2022-ryzen-3-dual-core-amd-r...        24890  \n",
       "101  /lenovo-celeron-dual-core-8-gb-256-gb-ssd-wind...        24890  \n",
       "141  /lenovo-ideapad-3-celeron-dual-core-4th-gen-4-...        22990  \n",
       "130  /asus-vivobook-14-2021-celeron-dual-core-4-gb-...        22990  \n",
       "138  /asus-2022-celeron-dual-core-4-gb-128-gb-ssd-w...        17990  "
      ]
     },
     "execution_count": 29,
     "metadata": {},
     "output_type": "execute_result"
    }
   ],
   "source": [
    "df.tail()"
   ]
  },
  {
   "cell_type": "markdown",
   "metadata": {},
   "source": [
    "## Using Function inside apply"
   ]
  },
  {
   "cell_type": "code",
   "execution_count": 38,
   "metadata": {},
   "outputs": [
    {
     "data": {
      "text/plain": [
       "181    None\n",
       "23     None\n",
       "166    None\n",
       "142    None\n",
       "173    None\n",
       "       ... \n",
       "86     None\n",
       "101    None\n",
       "141    None\n",
       "130    None\n",
       "138    None\n",
       "Name: title, Length: 192, dtype: object"
      ]
     },
     "execution_count": 38,
     "metadata": {},
     "output_type": "execute_result"
    }
   ],
   "source": [
    "def clean_title(title):\n",
    "    pass\n",
    "\n",
    "df['title'].apply(clean_title)\n",
    "\n",
    "# Output is none because function is not doing anything"
   ]
  },
  {
   "cell_type": "code",
   "execution_count": 40,
   "metadata": {},
   "outputs": [
    {
     "data": {
      "text/plain": [
       "181    APPLE 2021 Macbook Pro M1 Max - (32 GB/1 TB SS...\n",
       "23     ASUS ROG Strix G15 Advantage Edition with 90Wh...\n",
       "166    APPLE MacBook Pro M1 - (8 GB/1 TB SSD/Mac OS B...\n",
       "142    MSI Core i9 12th Gen - (16 GB/1 TB SSD/Windows...\n",
       "173    MSI GP66 Leopard Core i7 11th Gen - (16 GB/1 T...\n",
       "                             ...                        \n",
       "86     ASUS VivoBook 14 (2022) Ryzen 3 Dual Core AMD ...\n",
       "101    Lenovo Celeron Dual Core - (8 GB/256 GB SSD/Wi...\n",
       "141    Lenovo IdeaPad 3 Celeron Dual Core 4th Gen - (...\n",
       "130    ASUS VivoBook 14 (2021) Celeron Dual Core - (4...\n",
       "138    ASUS (2022) Celeron Dual Core - (4 GB/128 GB S...\n",
       "Name: title, Length: 192, dtype: object"
      ]
     },
     "execution_count": 40,
     "metadata": {},
     "output_type": "execute_result"
    }
   ],
   "source": [
    "def clean_title(title):\n",
    "    return title\n",
    "\n",
    "df['title'].apply(clean_title)\n",
    "\n",
    "# Output is returning titles"
   ]
  },
  {
   "cell_type": "code",
   "execution_count": 45,
   "metadata": {},
   "outputs": [
    {
     "data": {
      "text/plain": [
       "181                        APPLE 2021 Macbook Pro M1 Max\n",
       "23     ASUS ROG Strix G15 Advantage Edition with 90Wh...\n",
       "166                                 APPLE MacBook Pro M1\n",
       "142                                 MSI Core i9 12th Gen\n",
       "173                    MSI GP66 Leopard Core i7 11th Gen\n",
       "                             ...                        \n",
       "86      ASUS VivoBook 14 (2022) Ryzen 3 Dual Core AMD R3\n",
       "101                             Lenovo Celeron Dual Core\n",
       "141           Lenovo IdeaPad 3 Celeron Dual Core 4th Gen\n",
       "130            ASUS VivoBook 14 (2021) Celeron Dual Core\n",
       "138                        ASUS (2022) Celeron Dual Core\n",
       "Name: title, Length: 192, dtype: object"
      ]
     },
     "execution_count": 45,
     "metadata": {},
     "output_type": "execute_result"
    }
   ],
   "source": [
    "def clean_title(title):\n",
    "    return title.split('-')[0].strip()\n",
    "\n",
    "df['title'].apply(clean_title)\n",
    "\n",
    "# Output is returning titles"
   ]
  },
  {
   "cell_type": "code",
   "execution_count": null,
   "metadata": {},
   "outputs": [],
   "source": [
    "def clean_title(title):\n",
    "    return title.split('-')[0].strip() , title,split('-')[1].strip()\n",
    "\n",
    "\n",
    "df[['name','configuration']]= df['title'].apply(clean_title).apply(pd.Series)\n",
    "\n",
    "# Output is returning titles"
   ]
  },
  {
   "cell_type": "code",
   "execution_count": null,
   "metadata": {},
   "outputs": [],
   "source": [
    "def get_brand (name):\n",
    "    return name.split()[0]\n",
    "\n",
    "\n",
    "df['brand'] =  "
   ]
  }
 ],
 "metadata": {
  "kernelspec": {
   "display_name": "Python 3.9.12 ('base')",
   "language": "python",
   "name": "python3"
  },
  "language_info": {
   "codemirror_mode": {
    "name": "ipython",
    "version": 3
   },
   "file_extension": ".py",
   "mimetype": "text/x-python",
   "name": "python",
   "nbconvert_exporter": "python",
   "pygments_lexer": "ipython3",
   "version": "3.9.12"
  },
  "orig_nbformat": 4,
  "vscode": {
   "interpreter": {
    "hash": "10bd505096551c50069a3dbdaed0ac86691ac343b612943e6011bfc2aef8ecb4"
   }
  }
 },
 "nbformat": 4,
 "nbformat_minor": 2
}
