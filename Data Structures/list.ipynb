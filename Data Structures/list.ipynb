{
 "cells": [
  {
   "cell_type": "markdown",
   "metadata": {},
   "source": [
    "# Defining List in Python"
   ]
  },
  {
   "cell_type": "code",
   "execution_count": 51,
   "metadata": {},
   "outputs": [],
   "source": [
    "# List of strings\n",
    "list1 = [\"rayan\",\"usman\",\"aun\",\"arshil\"]\n",
    "\n",
    "\n",
    "#List of numbers\n",
    "list2 = [1,2,3,4,5,6,7,8,9,10]\n",
    "\n",
    "#Mixed data List\n",
    "list3 = [\"rayan\",10,20,30,True,5.77]\n",
    "\n",
    "#Nested List\n",
    "list4 = [[1,2,3],[4,5,6],[7,8,9]]"
   ]
  },
  {
   "cell_type": "markdown",
   "metadata": {},
   "source": [
    "# Accessing List Items in Python"
   ]
  },
  {
   "cell_type": "code",
   "execution_count": 52,
   "metadata": {},
   "outputs": [
    {
     "name": "stdout",
     "output_type": "stream",
     "text": [
      "list1 =  [2, 4, 6, 'A', 10, 'B', 16, 'C', 20]\n",
      "list[0]= 2\n",
      "list[2]= 6\n",
      "list[-1]= 20\n",
      "list[-3]= 16\n"
     ]
    }
   ],
   "source": [
    "list1 = [2,4,6,'A',10,'B',16,'C',20]\n",
    "print('list1 = ',list1)\n",
    "\n",
    "print('list[0]=',list1[0])   #first item\n",
    "\n",
    "print('list[2]=',list1[2])   #Third item\n",
    "\n",
    "print('list[-1]=',list1[-1])   #Last item\n",
    "\n",
    "print('list[-3]=',list1[-3])   #Last item\n",
    "\n"
   ]
  },
  {
   "cell_type": "markdown",
   "metadata": {},
   "source": [
    "# Getting a Slice"
   ]
  },
  {
   "cell_type": "code",
   "execution_count": 53,
   "metadata": {},
   "outputs": [
    {
     "name": "stdout",
     "output_type": "stream",
     "text": [
      "[40, 50, 60, 70, 80]\n"
     ]
    }
   ],
   "source": [
    "l = [10,20,30,40,50,60,70,80,90,100]\n",
    "Slice1 = l[3:-2]                # Slice from index 3 to -3\n",
    "print(Slice1)"
   ]
  },
  {
   "cell_type": "code",
   "execution_count": 54,
   "metadata": {},
   "outputs": [],
   "source": [
    "sports = [\n",
    "    'cricket',\n",
    "    'badminton',\n",
    "    'Volleyball',\n",
    "    'Hockey',\n",
    "    'Chess',\n",
    "    'Carrom',\n",
    "    'Ludo'\n",
    "]"
   ]
  },
  {
   "cell_type": "code",
   "execution_count": 55,
   "metadata": {},
   "outputs": [
    {
     "data": {
      "text/plain": [
       "['cricket', 'badminton', 'Volleyball']"
      ]
     },
     "execution_count": 55,
     "metadata": {},
     "output_type": "execute_result"
    }
   ],
   "source": [
    "sports[:3]              # first three sports"
   ]
  },
  {
   "cell_type": "code",
   "execution_count": 56,
   "metadata": {},
   "outputs": [
    {
     "data": {
      "text/plain": [
       "['Chess', 'Carrom', 'Ludo']"
      ]
     },
     "execution_count": 56,
     "metadata": {},
     "output_type": "execute_result"
    }
   ],
   "source": [
    "sports[-3:]             # last three sports"
   ]
  },
  {
   "cell_type": "code",
   "execution_count": 57,
   "metadata": {},
   "outputs": [
    {
     "data": {
      "text/plain": [
       "['Hockey']"
      ]
     },
     "execution_count": 57,
     "metadata": {},
     "output_type": "execute_result"
    }
   ],
   "source": [
    "sports[3:-3]            # every element except first three and last three"
   ]
  },
  {
   "cell_type": "markdown",
   "metadata": {},
   "source": [
    "# List has total 11 Functions"
   ]
  },
  {
   "cell_type": "markdown",
   "metadata": {},
   "source": [
    "## 1 Append Function\n",
    "always adds object in the end of the list"
   ]
  },
  {
   "cell_type": "code",
   "execution_count": 58,
   "metadata": {},
   "outputs": [
    {
     "data": {
      "text/plain": [
       "['apple',\n",
       " 'banana',\n",
       " 'Cherry',\n",
       " 'Guava',\n",
       " 'Mango',\n",
       " 'Avocado',\n",
       " 'Berry',\n",
       " 'Pomogranete']"
      ]
     },
     "execution_count": 58,
     "metadata": {},
     "output_type": "execute_result"
    }
   ],
   "source": [
    "fruits = []             # empty list\n",
    "fruits.append(\"apple\")\n",
    "fruits.append(\"banana\")\n",
    "fruits.append(\"Cherry\")\n",
    "fruits.append(\"Guava\")\n",
    "fruits.append(\"Mango\")\n",
    "fruits.append(\"Avocado\")\n",
    "fruits.append(\"Berry\")\n",
    "fruits.append(\"Pomogranete\")\n",
    "\n",
    "fruits"
   ]
  },
  {
   "cell_type": "markdown",
   "metadata": {},
   "source": [
    "# 2 Insert Function\n",
    "adds object at a specified position"
   ]
  },
  {
   "cell_type": "code",
   "execution_count": 59,
   "metadata": {},
   "outputs": [
    {
     "data": {
      "text/plain": [
       "['Start',\n",
       " 'apple',\n",
       " 'banana',\n",
       " 'Cherry',\n",
       " 'Guava',\n",
       " 'Mango',\n",
       " 'Avocado',\n",
       " 'Berry',\n",
       " 'Pomogranete']"
      ]
     },
     "execution_count": 59,
     "metadata": {},
     "output_type": "execute_result"
    }
   ],
   "source": [
    "fruits.insert(0,\"Start\")\n",
    "fruits"
   ]
  },
  {
   "cell_type": "code",
   "execution_count": 60,
   "metadata": {},
   "outputs": [
    {
     "data": {
      "text/plain": [
       "['Start',\n",
       " 'apple',\n",
       " 'banana',\n",
       " 'Cherry',\n",
       " 'Guava',\n",
       " 'Mango',\n",
       " 'Avocado',\n",
       " 'Berry',\n",
       " 'Pomogranete',\n",
       " 'end']"
      ]
     },
     "execution_count": 60,
     "metadata": {},
     "output_type": "execute_result"
    }
   ],
   "source": [
    "fruits.insert(100,\"end\")          # giving ufeasible index results in insert working like append\n",
    "fruits"
   ]
  },
  {
   "cell_type": "markdown",
   "metadata": {},
   "source": [
    "# 3 Extend Function\n",
    "merges one list into another"
   ]
  },
  {
   "cell_type": "code",
   "execution_count": 61,
   "metadata": {},
   "outputs": [
    {
     "data": {
      "text/plain": [
       "['Start',\n",
       " 'apple',\n",
       " 'banana',\n",
       " 'Cherry',\n",
       " 'Guava',\n",
       " 'Mango',\n",
       " 'Avocado',\n",
       " 'Berry',\n",
       " 'Pomogranete',\n",
       " 'end',\n",
       " 'Almond',\n",
       " 'Cashew',\n",
       " 'Walnut']"
      ]
     },
     "execution_count": 61,
     "metadata": {},
     "output_type": "execute_result"
    }
   ],
   "source": [
    "dryfruits = ['Almond', 'Cashew', 'Walnut']\n",
    "fruits.extend(dryfruits)\n",
    "fruits"
   ]
  },
  {
   "cell_type": "markdown",
   "metadata": {},
   "source": [
    "# 4 Sort Function"
   ]
  },
  {
   "cell_type": "code",
   "execution_count": 62,
   "metadata": {},
   "outputs": [
    {
     "data": {
      "text/plain": [
       "['Apple', 'Banana', 'Cherry', 'Guava']"
      ]
     },
     "execution_count": 62,
     "metadata": {},
     "output_type": "execute_result"
    }
   ],
   "source": [
    "fruit2 =  ['Cherry', 'Guava', 'Apple', 'Banana']\n",
    "fruit2.sort()\n",
    "fruit2"
   ]
  },
  {
   "cell_type": "code",
   "execution_count": 63,
   "metadata": {},
   "outputs": [
    {
     "data": {
      "text/plain": [
       "['Guava', 'Cherry', 'Banana', 'Apple']"
      ]
     },
     "execution_count": 63,
     "metadata": {},
     "output_type": "execute_result"
    }
   ],
   "source": [
    "fruit2.sort(reverse=True)\n",
    "fruit2"
   ]
  },
  {
   "cell_type": "markdown",
   "metadata": {},
   "source": [
    "# 5 Reverse Function"
   ]
  },
  {
   "cell_type": "code",
   "execution_count": 64,
   "metadata": {},
   "outputs": [
    {
     "data": {
      "text/plain": [
       "['Apple', 'Banana', 'Cherry', 'Guava']"
      ]
     },
     "execution_count": 64,
     "metadata": {},
     "output_type": "execute_result"
    }
   ],
   "source": [
    "fruit2.reverse()\n",
    "fruit2"
   ]
  },
  {
   "cell_type": "markdown",
   "metadata": {},
   "source": [
    "# 6 Remove Function"
   ]
  },
  {
   "cell_type": "code",
   "execution_count": 65,
   "metadata": {},
   "outputs": [
    {
     "data": {
      "text/plain": [
       "['Apple', 'Banana', 'Cherry']"
      ]
     },
     "execution_count": 65,
     "metadata": {},
     "output_type": "execute_result"
    }
   ],
   "source": [
    "fruit2.remove('Guava')\n",
    "fruit2"
   ]
  },
  {
   "cell_type": "code",
   "execution_count": 66,
   "metadata": {},
   "outputs": [
    {
     "data": {
      "text/plain": [
       "[1, 2, 3, 3, 3, 3, 5]"
      ]
     },
     "execution_count": 66,
     "metadata": {},
     "output_type": "execute_result"
    }
   ],
   "source": [
    "x = [1,2,3,3,3,3,4,5]\n",
    "x.sort()\n",
    "x.remove(4) if 4 in x else print(\"Not Found\")\n",
    "x\n"
   ]
  },
  {
   "cell_type": "markdown",
   "metadata": {},
   "source": [
    "# 7 Count Function"
   ]
  },
  {
   "cell_type": "code",
   "execution_count": 67,
   "metadata": {},
   "outputs": [
    {
     "data": {
      "text/plain": [
       "[1, 2, 3, 3, 3, 3, 5]"
      ]
     },
     "execution_count": 67,
     "metadata": {},
     "output_type": "execute_result"
    }
   ],
   "source": [
    "x"
   ]
  },
  {
   "cell_type": "code",
   "execution_count": 68,
   "metadata": {},
   "outputs": [
    {
     "data": {
      "text/plain": [
       "4"
      ]
     },
     "execution_count": 68,
     "metadata": {},
     "output_type": "execute_result"
    }
   ],
   "source": [
    "x.count(3)"
   ]
  },
  {
   "cell_type": "markdown",
   "metadata": {},
   "source": [
    "# 8 Index Function\n",
    "gives the index of object"
   ]
  },
  {
   "cell_type": "code",
   "execution_count": 69,
   "metadata": {},
   "outputs": [],
   "source": [
    "movies = [\n",
    "    'Ghostbusters : Afterlife',\n",
    "    'Spiderman : No way home',\n",
    "    'Shang-Chi',\n",
    "    'The last duel',\n",
    "    'Venom : Let there be Carnage'\n",
    "]"
   ]
  },
  {
   "cell_type": "code",
   "execution_count": 70,
   "metadata": {},
   "outputs": [
    {
     "data": {
      "text/plain": [
       "1"
      ]
     },
     "execution_count": 70,
     "metadata": {},
     "output_type": "execute_result"
    }
   ],
   "source": [
    "movies.index('Spiderman : No way home')"
   ]
  },
  {
   "cell_type": "code",
   "execution_count": 71,
   "metadata": {},
   "outputs": [
    {
     "data": {
      "text/plain": [
       "['Spiderman : No way home',\n",
       " 'Shang-Chi',\n",
       " 'The last duel',\n",
       " 'Venom : Let there be Carnage']"
      ]
     },
     "execution_count": 71,
     "metadata": {},
     "output_type": "execute_result"
    }
   ],
   "source": [
    "movies[movies.index('Spiderman : No way home'):]"
   ]
  },
  {
   "cell_type": "markdown",
   "metadata": {},
   "source": [
    "# 9 Copy Function"
   ]
  },
  {
   "cell_type": "code",
   "execution_count": 72,
   "metadata": {},
   "outputs": [
    {
     "data": {
      "text/plain": [
       "['Apple', 'Banana', 'Cherry']"
      ]
     },
     "execution_count": 72,
     "metadata": {},
     "output_type": "execute_result"
    }
   ],
   "source": [
    "fruit2"
   ]
  },
  {
   "cell_type": "code",
   "execution_count": 73,
   "metadata": {},
   "outputs": [
    {
     "name": "stdout",
     "output_type": "stream",
     "text": [
      "['Apple', 'Banana', 'Cherry']\n"
     ]
    }
   ],
   "source": [
    "dup_fruit2 = fruit2.copy()\n",
    "print(dup_fruit2)"
   ]
  },
  {
   "cell_type": "markdown",
   "metadata": {},
   "source": [
    "# 10 Clear Function"
   ]
  },
  {
   "cell_type": "code",
   "execution_count": 74,
   "metadata": {},
   "outputs": [
    {
     "data": {
      "text/plain": [
       "['Start',\n",
       " 'apple',\n",
       " 'banana',\n",
       " 'Cherry',\n",
       " 'Guava',\n",
       " 'Mango',\n",
       " 'Avocado',\n",
       " 'Berry',\n",
       " 'Pomogranete',\n",
       " 'end',\n",
       " 'Almond',\n",
       " 'Cashew',\n",
       " 'Walnut']"
      ]
     },
     "execution_count": 74,
     "metadata": {},
     "output_type": "execute_result"
    }
   ],
   "source": [
    "fruits"
   ]
  },
  {
   "cell_type": "code",
   "execution_count": 75,
   "metadata": {},
   "outputs": [],
   "source": [
    "fruits.clear()"
   ]
  },
  {
   "cell_type": "code",
   "execution_count": 76,
   "metadata": {},
   "outputs": [
    {
     "data": {
      "text/plain": [
       "[]"
      ]
     },
     "execution_count": 76,
     "metadata": {},
     "output_type": "execute_result"
    }
   ],
   "source": [
    "fruits"
   ]
  },
  {
   "cell_type": "markdown",
   "metadata": {},
   "source": [
    "# 11 Pop Function"
   ]
  },
  {
   "cell_type": "code",
   "execution_count": 77,
   "metadata": {},
   "outputs": [
    {
     "data": {
      "text/plain": [
       "['cricket', 'badminton', 'Volleyball', 'Hockey', 'Chess', 'Carrom', 'Ludo']"
      ]
     },
     "execution_count": 77,
     "metadata": {},
     "output_type": "execute_result"
    }
   ],
   "source": [
    "sports"
   ]
  },
  {
   "cell_type": "code",
   "execution_count": 78,
   "metadata": {},
   "outputs": [
    {
     "data": {
      "text/plain": [
       "['cricket', 'badminton', 'Volleyball', 'Hockey', 'Chess', 'Carrom']"
      ]
     },
     "execution_count": 78,
     "metadata": {},
     "output_type": "execute_result"
    }
   ],
   "source": [
    "sports.pop()                # by default it pops last element\n",
    "sports"
   ]
  },
  {
   "cell_type": "code",
   "execution_count": 79,
   "metadata": {},
   "outputs": [
    {
     "data": {
      "text/plain": [
       "['cricket', 'badminton', 'Hockey', 'Chess', 'Carrom']"
      ]
     },
     "execution_count": 79,
     "metadata": {},
     "output_type": "execute_result"
    }
   ],
   "source": [
    "sports.pop(2)              # Pop 3rd element\n",
    "sports"
   ]
  },
  {
   "cell_type": "markdown",
   "metadata": {},
   "source": [
    "# Questions"
   ]
  },
  {
   "cell_type": "markdown",
   "metadata": {},
   "source": [
    "WAP to create a list of 5 values given by user"
   ]
  },
  {
   "cell_type": "code",
   "execution_count": 80,
   "metadata": {},
   "outputs": [
    {
     "name": "stdout",
     "output_type": "stream",
     "text": [
      "['d', 'd', 'd', '', '']\n"
     ]
    }
   ],
   "source": [
    "ex = []\n",
    "for i in range(5):\n",
    "    val = input (f'enter value {i+1}: ')\n",
    "    ex.append(val)\n",
    "print(ex)"
   ]
  },
  {
   "cell_type": "markdown",
   "metadata": {},
   "source": [
    "WAP to display sum of a list"
   ]
  },
  {
   "cell_type": "code",
   "execution_count": 81,
   "metadata": {},
   "outputs": [
    {
     "name": "stdout",
     "output_type": "stream",
     "text": [
      "342\n"
     ]
    }
   ],
   "source": [
    "data = [23,44,67,88,97,23]\n",
    "total = 0\n",
    "for i in data:\n",
    "    total+=i\n",
    "print(total)"
   ]
  },
  {
   "cell_type": "markdown",
   "metadata": {},
   "source": [
    "WAP to calculate Mean,Median,Mode,std"
   ]
  },
  {
   "cell_type": "code",
   "execution_count": 82,
   "metadata": {},
   "outputs": [
    {
     "name": "stdout",
     "output_type": "stream",
     "text": [
      "4.222222222222222\n",
      "4\n",
      "1\n",
      "8\n"
     ]
    }
   ],
   "source": [
    "from statistics import median\n",
    "L = [1,6,4,6,7,2,8,3,1]\n",
    "#mean\n",
    "mean= sum(L)/len(L)\n",
    "print(mean)\n",
    "#median\n",
    "\n",
    "L.sort()\n",
    "if len(L)%2==0:\n",
    "    median = (L[len(L)//2]+L[len(L)//2-1])/2\n",
    "else:\n",
    "    median = L[len(L)//2]\n",
    "print(median)\n",
    "\n",
    "\n",
    "#min\n",
    "print(min(L))\n",
    "#max\n",
    "print(max(L))\n"
   ]
  },
  {
   "cell_type": "markdown",
   "metadata": {},
   "source": [
    "##  Question\n",
    "Add contents of two list"
   ]
  },
  {
   "cell_type": "code",
   "execution_count": 83,
   "metadata": {},
   "outputs": [
    {
     "name": "stdout",
     "output_type": "stream",
     "text": [
      "[5, 7, 9]\n"
     ]
    }
   ],
   "source": [
    "a1 = [1,2,3]\n",
    "b1 = [4,5,6]\n",
    "n1= []\n",
    "for i in range(len(a1)):\n",
    "    n1.append(a1[i]+b1[i])\n",
    "print(n1)\n"
   ]
  },
  {
   "cell_type": "code",
   "execution_count": 84,
   "metadata": {},
   "outputs": [
    {
     "name": "stdout",
     "output_type": "stream",
     "text": [
      "[4, 16, 36, 64, 100]\n"
     ]
    }
   ],
   "source": [
    "from math import sqrt\n",
    "X1 = [2,4,6,8,10]\n",
    "X2 =[]\n",
    "for i in X1:\n",
    "    X2.append(i**2)\n",
    "print(X2)\n"
   ]
  },
  {
   "cell_type": "code",
   "execution_count": 85,
   "metadata": {},
   "outputs": [
    {
     "name": "stdout",
     "output_type": "stream",
     "text": [
      "[1, 9, 49, 25, 81]\n"
     ]
    }
   ],
   "source": [
    "X3 = [1,3,4,7,8,5,9]\n",
    "X4 = []\n",
    "for i in X3:\n",
    "    if i%2!=0:\n",
    "        X4.append(i**2)\n",
    "print(X4)"
   ]
  },
  {
   "cell_type": "code",
   "execution_count": 50,
   "metadata": {},
   "outputs": [
    {
     "name": "stdout",
     "output_type": "stream",
     "text": [
      "['uS', 'pm', 'se', 'da', 'sse', 'sda', 'ds', 'de']\n"
     ]
    }
   ],
   "source": [
    "words = ['united States','project manager','software engineer','data analyst','senior software engineer',\n",
    "'senior data analyst','data scientist','data engineer']\n",
    "a=[]\n",
    "for item in words:\n",
    "    items = item.split()\n",
    "    s=''\n",
    "    for i in items:\n",
    "        s+=i[0]\n",
    "    a.append(s)\n",
    "print(a)"
   ]
  },
  {
   "cell_type": "markdown",
   "metadata": {},
   "source": [
    "#take a list from user in one line of input and then remove all the non numeric values from the list \n",
    "#then display  the cubes of number from that list"
   ]
  },
  {
   "cell_type": "code",
   "execution_count": 103,
   "metadata": {},
   "outputs": [
    {
     "name": "stdout",
     "output_type": "stream",
     "text": [
      "[1, 2, 3]\n",
      "[1, 8, 27]\n"
     ]
    }
   ],
   "source": [
    "from string import *\n",
    "\n",
    "entries = input ('enter data separated by spaces :')\n",
    "numeric_entries = []\n",
    "for values in entries.split():\n",
    "    if values.isnumeric():\n",
    "        numeric_entries.append(int(values))\n",
    "print(numeric_entries)\n",
    "cube_value = []                     # We will do this step using List Comprehension\n",
    "for i in numeric_entries:\n",
    "    cube_value.append(i**3)\n",
    "print(cube_value)"
   ]
  },
  {
   "cell_type": "markdown",
   "metadata": {},
   "source": [
    "# List Comprehension"
   ]
  },
  {
   "cell_type": "code",
   "execution_count": 104,
   "metadata": {},
   "outputs": [
    {
     "name": "stdout",
     "output_type": "stream",
     "text": [
      "[1, 8, 27]\n"
     ]
    }
   ],
   "source": [
    "cube_value2 = [i**3 for i in  numeric_entries]\n",
    "print(cube_value2)"
   ]
  },
  {
   "cell_type": "code",
   "execution_count": 105,
   "metadata": {},
   "outputs": [
    {
     "name": "stdout",
     "output_type": "stream",
     "text": [
      "[1, 9, 49, 25, 81]\n"
     ]
    }
   ],
   "source": [
    "Y3 = [1,3,4,7,8,5,9]        # Lets do this with List Comprehension\n",
    "Y4 = []\n",
    "for i in Y3:\n",
    "    if i%2!=0:\n",
    "        Y4.append(i**2)\n",
    "print(Y4)"
   ]
  },
  {
   "cell_type": "code",
   "execution_count": 106,
   "metadata": {},
   "outputs": [
    {
     "name": "stdout",
     "output_type": "stream",
     "text": [
      "[1, 9, 49, 25, 81]\n"
     ]
    }
   ],
   "source": [
    "Y5 = [i**2 for i in Y3 if i%2!=0]\n",
    "print(Y5)"
   ]
  },
  {
   "cell_type": "code",
   "execution_count": 2,
   "metadata": {},
   "outputs": [
    {
     "name": "stdout",
     "output_type": "stream",
     "text": [
      "\u001b[1;31mSignature:\u001b[0m \u001b[0mlist\u001b[0m\u001b[1;33m.\u001b[0m\u001b[0mappend\u001b[0m\u001b[1;33m(\u001b[0m\u001b[0mself\u001b[0m\u001b[1;33m,\u001b[0m \u001b[0mobject\u001b[0m\u001b[1;33m,\u001b[0m \u001b[1;33m/\u001b[0m\u001b[1;33m)\u001b[0m\u001b[1;33m\u001b[0m\u001b[1;33m\u001b[0m\u001b[0m\n",
      "\u001b[1;31mDocstring:\u001b[0m Append object to the end of the list.\n",
      "\u001b[1;31mType:\u001b[0m      method_descriptor\n"
     ]
    }
   ],
   "source": [
    "list.append?"
   ]
  }
 ],
 "metadata": {
  "kernelspec": {
   "display_name": "Python 3.9.12 ('base')",
   "language": "python",
   "name": "python3"
  },
  "language_info": {
   "codemirror_mode": {
    "name": "ipython",
    "version": 3
   },
   "file_extension": ".py",
   "mimetype": "text/x-python",
   "name": "python",
   "nbconvert_exporter": "python",
   "pygments_lexer": "ipython3",
   "version": "3.9.12"
  },
  "orig_nbformat": 4,
  "vscode": {
   "interpreter": {
    "hash": "10bd505096551c50069a3dbdaed0ac86691ac343b612943e6011bfc2aef8ecb4"
   }
  }
 },
 "nbformat": 4,
 "nbformat_minor": 2
}
